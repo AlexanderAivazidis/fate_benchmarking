{
 "cells": [
  {
   "cell_type": "code",
   "execution_count": 1,
   "id": "1c21952a",
   "metadata": {},
   "outputs": [],
   "source": [
    "import scanpy as sc\n",
    "import scvelo as sv\n",
    "import numpy as np\n",
    "import pandas as pd\n",
    "import matplotlib.pyplot as plt\n",
    "\n",
    "sc.settings.set_figure_params(frameon=False, dpi=100)\n",
    "\n",
    "import matplotlib\n",
    "matplotlib.rcParams['pdf.fonttype'] = 42\n",
    "matplotlib.rcParams['ps.fonttype'] = 42"
   ]
  },
  {
   "cell_type": "code",
   "execution_count": 2,
   "id": "c8f8813f",
   "metadata": {},
   "outputs": [],
   "source": [
    "import warnings\n",
    "warnings.simplefilter(\"ignore\", category=UserWarning)"
   ]
  },
  {
   "cell_type": "code",
   "execution_count": 3,
   "id": "913ac9fb",
   "metadata": {},
   "outputs": [],
   "source": [
    "summary_tab = pd.DataFrame(columns = ('Method', 'Dataset', 'Celltype', 'Mean Probability'))"
   ]
  },
  {
   "cell_type": "code",
   "execution_count": 4,
   "id": "209062e1",
   "metadata": {},
   "outputs": [],
   "source": [
    "datasets = ['Pancreas_with_cc', 'DentateGyrus' , 'MouseBoneMarrow', 'MouseErythroid', 'HumanBoneMarrow']"
   ]
  },
  {
   "cell_type": "code",
   "execution_count": 5,
   "id": "ef71b083",
   "metadata": {},
   "outputs": [],
   "source": [
    "ground_truth = {\n",
    "'HumanBoneMarrow' : [(\"HSC_1\", \"Ery_1\"), (\"HSC_1\", \"HSC_2\"), (\"Ery_1\", \"Ery_2\")],\n",
    "'DentateGyrus'  : [('nIPC', 'Neuroblast'), ('Neuroblast', 'Granule immature'), ('Granule immature', 'Granule mature'),\n",
    "                 (\"Radial Glia-like\", \"Astrocytes\"), (\"OPC\", \"OL\")],\n",
    "'Pancreas_with_cc' : [(\"Ngn3 high EP\", \"Pre-endocrine\"), (\"Pre-endocrine\", \"Alpha\"), (\"Pre-endocrine\", \"Beta\"), (\"Pre-endocrine\", \"Delta\"), (\"Pre-endocrine\", \"Epsilon\")],\n",
    "'MouseBoneMarrow' : [('dividing', 'progenitors'), ('progenitors', 'activating')],\n",
    "'MouseErythroid' : [(\"Blood progenitors 1\", \"Blood progenitors 2\"), (\"Blood progenitors 2\", \"Erythroid1\"),\n",
    "                  (\"Erythroid1\", \"Erythroid2\"), (\"Erythroid2\", \"Erythroid3\")]\n",
    "}"
   ]
  },
  {
   "cell_type": "code",
   "execution_count": 6,
   "id": "f9554b08",
   "metadata": {},
   "outputs": [
    {
     "name": "stdout",
     "output_type": "stream",
     "text": [
      "0\n",
      "1\n",
      "2\n",
      "3\n",
      "4\n"
     ]
    }
   ],
   "source": [
    "tab = pd.DataFrame(columns = ('Dataset', 'Transition', 'Time Difference'))\n",
    "for j in range(len(datasets)):\n",
    "    print(j)\n",
    "    adata = sc.read_h5ad('/nfs/team283/aa16/data/fate_benchmarking/CellRank/' + 'cell2fate' + datasets[j] + 'AnnDataForCellRank.h5ad')\n",
    "    for i in range(len(ground_truth[datasets[j]])):\n",
    "        tab_temp = pd.DataFrame(columns = ('Dataset', 'Transition', 'Time Difference'), index = [str(i) + str(j)])\n",
    "        tab_temp.loc[str(i) + str(j), 'Dataset'] = datasets[j]\n",
    "        tab_temp.loc[str(i) + str(j), 'Transition'] = str(ground_truth[datasets[j]][i])\n",
    "        tab_temp.loc[ str(i) + str(j), 'Time Difference'] = np.median(adata.obs['Time (hours)'][adata.obs['clusters'] == ground_truth[datasets[j]][i][1]]) - np.median(adata.obs['Time (hours)'][adata.obs['clusters'] == ground_truth[datasets[j]][i][0]])\n",
    "        tab = pd.concat([tab, tab_temp], axis = 0)"
   ]
  },
  {
   "cell_type": "code",
   "execution_count": 8,
   "id": "36b4aca7",
   "metadata": {},
   "outputs": [],
   "source": [
    "tab.to_csv('/nfs/team283/aa16/data/fate_benchmarking/TimeDifferences.csv')"
   ]
  },
  {
   "cell_type": "code",
   "execution_count": 2,
   "id": "a0008902",
   "metadata": {},
   "outputs": [
    {
     "ename": "TypeError",
     "evalue": "'WriteEffect' object is not an iterator",
     "output_type": "error",
     "traceback": [
      "\u001b[0;31m---------------------------------------------------------------------------\u001b[0m",
      "\u001b[0;31mTypeError\u001b[0m                                 Traceback (most recent call last)",
      "Cell \u001b[0;32mIn[2], line 42\u001b[0m\n\u001b[1;32m     39\u001b[0m                 generator \u001b[38;5;241m=\u001b[39m handle_write(effect, generator)\n\u001b[1;32m     41\u001b[0m \u001b[38;5;66;03m# Run the program\u001b[39;00m\n\u001b[0;32m---> 42\u001b[0m \u001b[43mrun\u001b[49m\u001b[43m(\u001b[49m\u001b[43mgreet\u001b[49m\u001b[43m)\u001b[49m\n",
      "Cell \u001b[0;32mIn[2], line 34\u001b[0m, in \u001b[0;36mrun\u001b[0;34m(program)\u001b[0m\n\u001b[1;32m     32\u001b[0m generator \u001b[38;5;241m=\u001b[39m program()\n\u001b[1;32m     33\u001b[0m \u001b[38;5;28;01mwhile\u001b[39;00m generator:\n\u001b[0;32m---> 34\u001b[0m     effect, generator \u001b[38;5;241m=\u001b[39m \u001b[43mstep\u001b[49m\u001b[43m(\u001b[49m\u001b[43mgenerator\u001b[49m\u001b[43m)\u001b[49m\n\u001b[1;32m     35\u001b[0m     \u001b[38;5;28;01mif\u001b[39;00m effect:\n\u001b[1;32m     36\u001b[0m         \u001b[38;5;28;01mif\u001b[39;00m \u001b[38;5;28misinstance\u001b[39m(effect, ReadEffect):\n",
      "Cell \u001b[0;32mIn[2], line 27\u001b[0m, in \u001b[0;36mrun.<locals>.step\u001b[0;34m(generator)\u001b[0m\n\u001b[1;32m     25\u001b[0m \u001b[38;5;28;01mdef\u001b[39;00m \u001b[38;5;21mstep\u001b[39m(generator):\n\u001b[1;32m     26\u001b[0m     \u001b[38;5;28;01mtry\u001b[39;00m:\n\u001b[0;32m---> 27\u001b[0m         effect \u001b[38;5;241m=\u001b[39m \u001b[38;5;28;43mnext\u001b[39;49m\u001b[43m(\u001b[49m\u001b[43mgenerator\u001b[49m\u001b[43m)\u001b[49m\n\u001b[1;32m     28\u001b[0m         \u001b[38;5;28;01mreturn\u001b[39;00m effect, generator\n\u001b[1;32m     29\u001b[0m     \u001b[38;5;28;01mexcept\u001b[39;00m \u001b[38;5;167;01mStopIteration\u001b[39;00m:\n",
      "\u001b[0;31mTypeError\u001b[0m: 'WriteEffect' object is not an iterator"
     ]
    }
   ],
   "source": [
    "# Define custom effects\n",
    "class ReadEffect:\n",
    "    def __init__(self):\n",
    "        pass\n",
    "\n",
    "class WriteEffect:\n",
    "    def __init__(self, value):\n",
    "        self.value = value\n",
    "\n",
    "# Define effect handlers\n",
    "def handle_read(effect, continuation):\n",
    "    return continuation.send(\"Hello\")\n",
    "\n",
    "def handle_write(effect, continuation):\n",
    "    print(effect.value)\n",
    "    return continuation\n",
    "\n",
    "# Use effectful operations\n",
    "def greet():\n",
    "    x = yield ReadEffect()\n",
    "    yield WriteEffect(\"Received: \" + x)\n",
    "\n",
    "# Run the program with effect handlers\n",
    "def run(program):\n",
    "    generator = program()\n",
    "    try:\n",
    "        effect = next(generator)\n",
    "        while True:\n",
    "            if isinstance(effect, ReadEffect):\n",
    "                effect = generator.send(\"Hello\")\n",
    "            elif isinstance(effect, WriteEffect):\n",
    "                effect = generator.send(\"World\")\n",
    "            else:\n",
    "                raise TypeError(f\"Unsupported effect: {effect}\")\n",
    "    except StopIteration:\n",
    "        pass\n",
    "\n",
    "# Run the program\n",
    "run(greet)\n"
   ]
  },
  {
   "cell_type": "code",
   "execution_count": null,
   "id": "8daf2176",
   "metadata": {},
   "outputs": [],
   "source": []
  }
 ],
 "metadata": {
  "kernelspec": {
   "display_name": "Python [conda env:cell2fate_env]",
   "language": "python",
   "name": "conda-env-cell2fate_env-py"
  },
  "language_info": {
   "codemirror_mode": {
    "name": "ipython",
    "version": 3
   },
   "file_extension": ".py",
   "mimetype": "text/x-python",
   "name": "python",
   "nbconvert_exporter": "python",
   "pygments_lexer": "ipython3",
   "version": "3.9.18"
  }
 },
 "nbformat": 4,
 "nbformat_minor": 5
}
