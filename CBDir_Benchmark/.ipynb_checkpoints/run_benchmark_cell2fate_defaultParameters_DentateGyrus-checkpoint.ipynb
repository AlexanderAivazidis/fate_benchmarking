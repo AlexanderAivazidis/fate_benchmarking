{
 "cells": [
  {
   "cell_type": "code",
   "execution_count": 1,
   "id": "fd5023c1",
   "metadata": {},
   "outputs": [
    {
     "name": "stderr",
     "output_type": "stream",
     "text": [
      "Global seed set to 0\n"
     ]
    },
    {
     "name": "stdout",
     "output_type": "stream",
     "text": [
      "(Running UniTVelo 0.2.5.2)\n",
      "2024-02-07 13:35:16\n"
     ]
    },
    {
     "name": "stderr",
     "output_type": "stream",
     "text": [
      "2024-02-07 13:35:17.281309: E external/local_xla/xla/stream_executor/cuda/cuda_dnn.cc:9261] Unable to register cuDNN factory: Attempting to register factory for plugin cuDNN when one has already been registered\n",
      "2024-02-07 13:35:17.286442: E external/local_xla/xla/stream_executor/cuda/cuda_fft.cc:607] Unable to register cuFFT factory: Attempting to register factory for plugin cuFFT when one has already been registered\n",
      "2024-02-07 13:35:17.287668: E external/local_xla/xla/stream_executor/cuda/cuda_blas.cc:1515] Unable to register cuBLAS factory: Attempting to register factory for plugin cuBLAS when one has already been registered\n"
     ]
    },
    {
     "name": "stdout",
     "output_type": "stream",
     "text": [
      "Keeping at most 100000 cells per cluster\n",
      "Filtered out 20801 genes that are detected 20 counts (shared).\n"
     ]
    },
    {
     "name": "stderr",
     "output_type": "stream",
     "text": [
      "No GPU/TPU found, falling back to CPU. (Set TF_CPP_MIN_LOG_LEVEL=0 and rerun for more info.)\n"
     ]
    },
    {
     "name": "stdout",
     "output_type": "stream",
     "text": [
      "Extracted 3000 highly variable genes.\n",
      "Leiden clustering ...\n",
      "Number of Leiden Clusters: 13\n",
      "Maximal Number of Modules: 14\n"
     ]
    },
    {
     "name": "stderr",
     "output_type": "stream",
     "text": [
      "GPU available: True, used: True\n",
      "TPU available: False, using: 0 TPU cores\n",
      "IPU available: False, using: 0 IPUs\n",
      "LOCAL_RANK: 0 - CUDA_VISIBLE_DEVICES: [0]\n"
     ]
    },
    {
     "name": "stdout",
     "output_type": "stream",
     "text": [
      "Epoch 500/500: 100%|██████████████████████████████████████████████████████████████████████████| 500/500 [09:35<00:00,  1.15s/it, v_num=1, elbo_train=1.13e+7]\n",
      "Sampling local variables, batch:   3%|███                                                                                     | 1/29 [00:04<01:52,  4.02s/it]\n"
     ]
    },
    {
     "ename": "ValueError",
     "evalue": "zero-dimensional arrays cannot be concatenated",
     "output_type": "error",
     "traceback": [
      "\u001b[0;31m---------------------------------------------------------------------------\u001b[0m",
      "\u001b[0;31mValueError\u001b[0m                                Traceback (most recent call last)",
      "Cell \u001b[0;32mIn[1], line 40\u001b[0m\n\u001b[1;32m     37\u001b[0m     mod \u001b[38;5;241m=\u001b[39m c2f\u001b[38;5;241m.\u001b[39mCell2fate_DynamicalModel(adata, n_modules \u001b[38;5;241m=\u001b[39m n_modules,\n\u001b[1;32m     38\u001b[0m                                        Tmax_prior\u001b[38;5;241m=\u001b[39m{\u001b[38;5;124m\"\u001b[39m\u001b[38;5;124mmean\u001b[39m\u001b[38;5;124m\"\u001b[39m: Tmax_prior_mean[i], \u001b[38;5;124m\"\u001b[39m\u001b[38;5;124msd\u001b[39m\u001b[38;5;124m\"\u001b[39m: Tmax_prior_sd[i]})\n\u001b[1;32m     39\u001b[0m     mod\u001b[38;5;241m.\u001b[39mtrain()\n\u001b[0;32m---> 40\u001b[0m     adata \u001b[38;5;241m=\u001b[39m \u001b[43mmod\u001b[49m\u001b[38;5;241;43m.\u001b[39;49m\u001b[43mexport_posterior\u001b[49m\u001b[43m(\u001b[49m\u001b[43madata\u001b[49m\u001b[43m)\u001b[49m\n\u001b[1;32m     41\u001b[0m     end \u001b[38;5;241m=\u001b[39m time\u001b[38;5;241m.\u001b[39mtime()\n\u001b[1;32m     42\u001b[0m \u001b[38;5;66;03m#     fig, ax = plt.subplots(1,2, figsize = (15, 5))\u001b[39;00m\n\u001b[1;32m     43\u001b[0m \u001b[38;5;66;03m#     sc.pl.umap(adata, color = ['Time (hours)'], legend_loc = 'right margin',\u001b[39;00m\n\u001b[1;32m     44\u001b[0m \u001b[38;5;66;03m#                     size = 200, color_map = 'inferno', ncols = 2, show = False, ax = ax[0])\u001b[39;00m\n\u001b[1;32m     45\u001b[0m \u001b[38;5;66;03m#     sc.pl.umap(adata, color = ['Time Uncertainty (sd)'], legend_loc = 'right margin',\u001b[39;00m\n\u001b[1;32m     46\u001b[0m \u001b[38;5;66;03m#                     size = 200, color_map = 'inferno', ncols = 2, show = False, ax = ax[1])\u001b[39;00m\n\u001b[1;32m     47\u001b[0m \u001b[38;5;66;03m#     plt.savefig(save_dir + 'c2f_plots/' + dataset + '_UMAP_Time.svg')\u001b[39;00m\n",
      "File \u001b[0;32m/nfs/team283/aa16/new_cell2fate_repos/cell2fate-22917f7502fe5fb57e87a72cff704f12eee893fa/cell2fate/_cell2fate_DynamicalModel.py:287\u001b[0m, in \u001b[0;36mCell2fate_DynamicalModel.export_posterior\u001b[0;34m(self, adata, sample_kwargs, export_slot, full_velocity_posterior, normalize)\u001b[0m\n\u001b[1;32m    247\u001b[0m \u001b[38;5;250m        \u001b[39m\u001b[38;5;124;03m\"\"\"\u001b[39;00m\n\u001b[1;32m    248\u001b[0m \u001b[38;5;124;03m        Summarises posterior distribution and exports results to anndata object. \u001b[39;00m\n\u001b[1;32m    249\u001b[0m \u001b[38;5;124;03m        Also computes RNAvelocity (based on posterior of rates)\u001b[39;00m\n\u001b[0;32m   (...)\u001b[0m\n\u001b[1;32m    277\u001b[0m \u001b[38;5;124;03m        adata with posterior added in adata.obs, adata.var and adata.uns\u001b[39;00m\n\u001b[1;32m    278\u001b[0m \u001b[38;5;124;03m        \"\"\"\u001b[39;00m\n\u001b[1;32m    280\u001b[0m \u001b[38;5;66;03m#         if sample_kwargs['batch_size'] == None:\u001b[39;00m\n\u001b[1;32m    281\u001b[0m \u001b[38;5;66;03m#         sample_kwargs['batch_size'] = adata.n_obs\u001b[39;00m\n\u001b[1;32m    282\u001b[0m \u001b[38;5;66;03m#         print(\"sample_kwargs['batch_size']\", sample_kwargs['batch_size'])\u001b[39;00m\n\u001b[0;32m   (...)\u001b[0m\n\u001b[1;32m    285\u001b[0m         \u001b[38;5;66;03m# generate samples from posterior distributions for all parameters\u001b[39;00m\n\u001b[1;32m    286\u001b[0m         \u001b[38;5;66;03m# and compute mean, 5%/95% quantiles and standard deviation\u001b[39;00m\n\u001b[0;32m--> 287\u001b[0m         \u001b[38;5;28mself\u001b[39m\u001b[38;5;241m.\u001b[39msamples \u001b[38;5;241m=\u001b[39m \u001b[38;5;28;43mself\u001b[39;49m\u001b[38;5;241;43m.\u001b[39;49m\u001b[43msample_posterior\u001b[49m\u001b[43m(\u001b[49m\u001b[38;5;241;43m*\u001b[39;49m\u001b[38;5;241;43m*\u001b[39;49m\u001b[43msample_kwargs\u001b[49m\u001b[43m)\u001b[49m\n\u001b[1;32m    289\u001b[0m         \u001b[38;5;66;03m# export posterior distribution summary for all parameters and\u001b[39;00m\n\u001b[1;32m    290\u001b[0m         \u001b[38;5;66;03m# annotation (model, date, var, obs and cell type names) to anndata object\u001b[39;00m\n\u001b[1;32m    291\u001b[0m         adata\u001b[38;5;241m.\u001b[39muns[export_slot] \u001b[38;5;241m=\u001b[39m \u001b[38;5;28mself\u001b[39m\u001b[38;5;241m.\u001b[39m_export2adata(\u001b[38;5;28mself\u001b[39m\u001b[38;5;241m.\u001b[39msamples)\n",
      "File \u001b[0;32m/nfs/team283/aa16/software/miniconda3/envs/cell2fate_env1/lib/python3.9/site-packages/scvi/model/base/_pyromixin.py:483\u001b[0m, in \u001b[0;36mPyroSampleMixin.sample_posterior\u001b[0;34m(self, num_samples, return_sites, use_gpu, batch_size, return_observed, return_samples, summary_fun)\u001b[0m\n\u001b[1;32m    436\u001b[0m \u001b[38;5;250m\u001b[39m\u001b[38;5;124;03m\"\"\"\u001b[39;00m\n\u001b[1;32m    437\u001b[0m \u001b[38;5;124;03mSummarise posterior distribution.\u001b[39;00m\n\u001b[1;32m    438\u001b[0m \n\u001b[0;32m   (...)\u001b[0m\n\u001b[1;32m    480\u001b[0m \u001b[38;5;124;03mto keep all model-specific variables in one place.\u001b[39;00m\n\u001b[1;32m    481\u001b[0m \u001b[38;5;124;03m\"\"\"\u001b[39;00m\n\u001b[1;32m    482\u001b[0m \u001b[38;5;66;03m# sample using minibatches (if full data, data is moved to GPU only once anyway)\u001b[39;00m\n\u001b[0;32m--> 483\u001b[0m samples \u001b[38;5;241m=\u001b[39m \u001b[38;5;28;43mself\u001b[39;49m\u001b[38;5;241;43m.\u001b[39;49m\u001b[43m_posterior_samples_minibatch\u001b[49m\u001b[43m(\u001b[49m\n\u001b[1;32m    484\u001b[0m \u001b[43m    \u001b[49m\u001b[43muse_gpu\u001b[49m\u001b[38;5;241;43m=\u001b[39;49m\u001b[43muse_gpu\u001b[49m\u001b[43m,\u001b[49m\n\u001b[1;32m    485\u001b[0m \u001b[43m    \u001b[49m\u001b[43mbatch_size\u001b[49m\u001b[38;5;241;43m=\u001b[39;49m\u001b[43mbatch_size\u001b[49m\u001b[43m,\u001b[49m\n\u001b[1;32m    486\u001b[0m \u001b[43m    \u001b[49m\u001b[43mnum_samples\u001b[49m\u001b[38;5;241;43m=\u001b[39;49m\u001b[43mnum_samples\u001b[49m\u001b[43m,\u001b[49m\n\u001b[1;32m    487\u001b[0m \u001b[43m    \u001b[49m\u001b[43mreturn_sites\u001b[49m\u001b[38;5;241;43m=\u001b[39;49m\u001b[43mreturn_sites\u001b[49m\u001b[43m,\u001b[49m\n\u001b[1;32m    488\u001b[0m \u001b[43m    \u001b[49m\u001b[43mreturn_observed\u001b[49m\u001b[38;5;241;43m=\u001b[39;49m\u001b[43mreturn_observed\u001b[49m\u001b[43m,\u001b[49m\n\u001b[1;32m    489\u001b[0m \u001b[43m\u001b[49m\u001b[43m)\u001b[49m\n\u001b[1;32m    491\u001b[0m param_names \u001b[38;5;241m=\u001b[39m \u001b[38;5;28mlist\u001b[39m(samples\u001b[38;5;241m.\u001b[39mkeys())\n\u001b[1;32m    492\u001b[0m results \u001b[38;5;241m=\u001b[39m \u001b[38;5;28mdict\u001b[39m()\n",
      "File \u001b[0;32m/nfs/team283/aa16/software/miniconda3/envs/cell2fate_env1/lib/python3.9/site-packages/scvi/model/base/_pyromixin.py:395\u001b[0m, in \u001b[0;36mPyroSampleMixin._posterior_samples_minibatch\u001b[0;34m(self, use_gpu, batch_size, **sample_kwargs)\u001b[0m\n\u001b[1;32m    390\u001b[0m     \u001b[38;5;28;01melse\u001b[39;00m:\n\u001b[1;32m    391\u001b[0m         samples_ \u001b[38;5;241m=\u001b[39m \u001b[38;5;28mself\u001b[39m\u001b[38;5;241m.\u001b[39m_get_posterior_samples(\n\u001b[1;32m    392\u001b[0m             args, kwargs, \u001b[38;5;241m*\u001b[39m\u001b[38;5;241m*\u001b[39msample_kwargs_obs_plate\n\u001b[1;32m    393\u001b[0m         )\n\u001b[0;32m--> 395\u001b[0m         samples \u001b[38;5;241m=\u001b[39m {\n\u001b[1;32m    396\u001b[0m             k: np\u001b[38;5;241m.\u001b[39marray(\n\u001b[1;32m    397\u001b[0m                 [\n\u001b[1;32m    398\u001b[0m                     np\u001b[38;5;241m.\u001b[39mconcatenate(\n\u001b[1;32m    399\u001b[0m                         [samples[k][j], samples_[k][j]],\n\u001b[1;32m    400\u001b[0m                         axis\u001b[38;5;241m=\u001b[39mobs_plate_dim,\n\u001b[1;32m    401\u001b[0m                     )\n\u001b[1;32m    402\u001b[0m                     \u001b[38;5;28;01mfor\u001b[39;00m j \u001b[38;5;129;01min\u001b[39;00m \u001b[38;5;28mrange\u001b[39m(\n\u001b[1;32m    403\u001b[0m                         \u001b[38;5;28mlen\u001b[39m(samples[k])\n\u001b[1;32m    404\u001b[0m                     )  \u001b[38;5;66;03m# for each sample (in 0 dimension\u001b[39;00m\n\u001b[1;32m    405\u001b[0m                 ]\n\u001b[1;32m    406\u001b[0m             )\n\u001b[1;32m    407\u001b[0m             \u001b[38;5;28;01mfor\u001b[39;00m k \u001b[38;5;129;01min\u001b[39;00m samples\u001b[38;5;241m.\u001b[39mkeys()  \u001b[38;5;66;03m# for each variable\u001b[39;00m\n\u001b[1;32m    408\u001b[0m         }\n\u001b[1;32m    409\u001b[0m     i \u001b[38;5;241m+\u001b[39m\u001b[38;5;241m=\u001b[39m \u001b[38;5;241m1\u001b[39m\n\u001b[1;32m    411\u001b[0m \u001b[38;5;66;03m# sample global parameters\u001b[39;00m\n",
      "File \u001b[0;32m/nfs/team283/aa16/software/miniconda3/envs/cell2fate_env1/lib/python3.9/site-packages/scvi/model/base/_pyromixin.py:397\u001b[0m, in \u001b[0;36m<dictcomp>\u001b[0;34m(.0)\u001b[0m\n\u001b[1;32m    390\u001b[0m     \u001b[38;5;28;01melse\u001b[39;00m:\n\u001b[1;32m    391\u001b[0m         samples_ \u001b[38;5;241m=\u001b[39m \u001b[38;5;28mself\u001b[39m\u001b[38;5;241m.\u001b[39m_get_posterior_samples(\n\u001b[1;32m    392\u001b[0m             args, kwargs, \u001b[38;5;241m*\u001b[39m\u001b[38;5;241m*\u001b[39msample_kwargs_obs_plate\n\u001b[1;32m    393\u001b[0m         )\n\u001b[1;32m    395\u001b[0m         samples \u001b[38;5;241m=\u001b[39m {\n\u001b[1;32m    396\u001b[0m             k: np\u001b[38;5;241m.\u001b[39marray(\n\u001b[0;32m--> 397\u001b[0m                 [\n\u001b[1;32m    398\u001b[0m                     np\u001b[38;5;241m.\u001b[39mconcatenate(\n\u001b[1;32m    399\u001b[0m                         [samples[k][j], samples_[k][j]],\n\u001b[1;32m    400\u001b[0m                         axis\u001b[38;5;241m=\u001b[39mobs_plate_dim,\n\u001b[1;32m    401\u001b[0m                     )\n\u001b[1;32m    402\u001b[0m                     \u001b[38;5;28;01mfor\u001b[39;00m j \u001b[38;5;129;01min\u001b[39;00m \u001b[38;5;28mrange\u001b[39m(\n\u001b[1;32m    403\u001b[0m                         \u001b[38;5;28mlen\u001b[39m(samples[k])\n\u001b[1;32m    404\u001b[0m                     )  \u001b[38;5;66;03m# for each sample (in 0 dimension\u001b[39;00m\n\u001b[1;32m    405\u001b[0m                 ]\n\u001b[1;32m    406\u001b[0m             )\n\u001b[1;32m    407\u001b[0m             \u001b[38;5;28;01mfor\u001b[39;00m k \u001b[38;5;129;01min\u001b[39;00m samples\u001b[38;5;241m.\u001b[39mkeys()  \u001b[38;5;66;03m# for each variable\u001b[39;00m\n\u001b[1;32m    408\u001b[0m         }\n\u001b[1;32m    409\u001b[0m     i \u001b[38;5;241m+\u001b[39m\u001b[38;5;241m=\u001b[39m \u001b[38;5;241m1\u001b[39m\n\u001b[1;32m    411\u001b[0m \u001b[38;5;66;03m# sample global parameters\u001b[39;00m\n",
      "File \u001b[0;32m/nfs/team283/aa16/software/miniconda3/envs/cell2fate_env1/lib/python3.9/site-packages/scvi/model/base/_pyromixin.py:398\u001b[0m, in \u001b[0;36m<listcomp>\u001b[0;34m(.0)\u001b[0m\n\u001b[1;32m    390\u001b[0m     \u001b[38;5;28;01melse\u001b[39;00m:\n\u001b[1;32m    391\u001b[0m         samples_ \u001b[38;5;241m=\u001b[39m \u001b[38;5;28mself\u001b[39m\u001b[38;5;241m.\u001b[39m_get_posterior_samples(\n\u001b[1;32m    392\u001b[0m             args, kwargs, \u001b[38;5;241m*\u001b[39m\u001b[38;5;241m*\u001b[39msample_kwargs_obs_plate\n\u001b[1;32m    393\u001b[0m         )\n\u001b[1;32m    395\u001b[0m         samples \u001b[38;5;241m=\u001b[39m {\n\u001b[1;32m    396\u001b[0m             k: np\u001b[38;5;241m.\u001b[39marray(\n\u001b[1;32m    397\u001b[0m                 [\n\u001b[0;32m--> 398\u001b[0m                     \u001b[43mnp\u001b[49m\u001b[38;5;241;43m.\u001b[39;49m\u001b[43mconcatenate\u001b[49m\u001b[43m(\u001b[49m\n\u001b[1;32m    399\u001b[0m \u001b[43m                        \u001b[49m\u001b[43m[\u001b[49m\u001b[43msamples\u001b[49m\u001b[43m[\u001b[49m\u001b[43mk\u001b[49m\u001b[43m]\u001b[49m\u001b[43m[\u001b[49m\u001b[43mj\u001b[49m\u001b[43m]\u001b[49m\u001b[43m,\u001b[49m\u001b[43m \u001b[49m\u001b[43msamples_\u001b[49m\u001b[43m[\u001b[49m\u001b[43mk\u001b[49m\u001b[43m]\u001b[49m\u001b[43m[\u001b[49m\u001b[43mj\u001b[49m\u001b[43m]\u001b[49m\u001b[43m]\u001b[49m\u001b[43m,\u001b[49m\n\u001b[1;32m    400\u001b[0m \u001b[43m                        \u001b[49m\u001b[43maxis\u001b[49m\u001b[38;5;241;43m=\u001b[39;49m\u001b[43mobs_plate_dim\u001b[49m\u001b[43m,\u001b[49m\n\u001b[1;32m    401\u001b[0m \u001b[43m                    \u001b[49m\u001b[43m)\u001b[49m\n\u001b[1;32m    402\u001b[0m                     \u001b[38;5;28;01mfor\u001b[39;00m j \u001b[38;5;129;01min\u001b[39;00m \u001b[38;5;28mrange\u001b[39m(\n\u001b[1;32m    403\u001b[0m                         \u001b[38;5;28mlen\u001b[39m(samples[k])\n\u001b[1;32m    404\u001b[0m                     )  \u001b[38;5;66;03m# for each sample (in 0 dimension\u001b[39;00m\n\u001b[1;32m    405\u001b[0m                 ]\n\u001b[1;32m    406\u001b[0m             )\n\u001b[1;32m    407\u001b[0m             \u001b[38;5;28;01mfor\u001b[39;00m k \u001b[38;5;129;01min\u001b[39;00m samples\u001b[38;5;241m.\u001b[39mkeys()  \u001b[38;5;66;03m# for each variable\u001b[39;00m\n\u001b[1;32m    408\u001b[0m         }\n\u001b[1;32m    409\u001b[0m     i \u001b[38;5;241m+\u001b[39m\u001b[38;5;241m=\u001b[39m \u001b[38;5;241m1\u001b[39m\n\u001b[1;32m    411\u001b[0m \u001b[38;5;66;03m# sample global parameters\u001b[39;00m\n",
      "\u001b[0;31mValueError\u001b[0m: zero-dimensional arrays cannot be concatenated"
     ]
    }
   ],
   "source": [
    "import os\n",
    "os.chdir('..')\n",
    "import scvelo as scv\n",
    "import scanpy as sc\n",
    "import cell2fate as c2f\n",
    "import pickle as pickle\n",
    "from eval_utils import cross_boundary_correctness\n",
    "from datetime import datetime\n",
    "import pandas as pd\n",
    "import numpy as np\n",
    "from os.path import exists\n",
    "import matplotlib.pyplot as plt\n",
    "import torch\n",
    "import unitvelo as utv\n",
    "import time\n",
    "\n",
    "method = 'cell2fate'\n",
    "datasets = datasets = ['Pancreas_with_cc', 'DentateGyrus' , 'MouseErythroid', 'MouseBoneMarrow', 'HumanBoneMarrow', 'HumanDevelopingBrain']\n",
    "batch_id = [None, None, 'sequencing.batch', None, None, 'Sanger_sample_ID']\n",
    "Tmax_prior_mean = [50., 50., 50., 50., 500., 50.]\n",
    "Tmax_prior_sd = [50., 50., 50., 50., 100., 50.]\n",
    "data_dir = '/nfs/team283/aa16/data/fate_benchmarking/benchmarking_datasets/'\n",
    "save_dir = '/nfs/team283/aa16/data/fate_benchmarking/benchmarking_results_revision/'\n",
    "\n",
    "i = 1\n",
    "dataset = datasets[i]\n",
    "adata = sc.read_h5ad(data_dir + dataset + '/' + dataset + '_anndata.h5ad')\n",
    "start = time.time()\n",
    "adata = c2f.utils.get_training_data(adata, cells_per_cluster = 10**5, cluster_column = 'clusters',\n",
    "                                remove_clusters = [], min_shared_counts = 20, n_var_genes= 3000)\n",
    "if batch_id[i]:\n",
    "    c2f.Cell2fate_DynamicalModel.setup_anndata(adata, spliced_label='spliced', unspliced_label='unspliced',\n",
    "                                          batch_key = batch_id[i])\n",
    "else:\n",
    "    c2f.Cell2fate_DynamicalModel.setup_anndata(adata, spliced_label='spliced', unspliced_label='unspliced')    \n",
    "n_modules = c2f.utils.get_max_modules(adata)\n",
    "mod = c2f.Cell2fate_DynamicalModel(adata, n_modules = n_modules,\n",
    "                                   Tmax_prior={\"mean\": Tmax_prior_mean[i], \"sd\": Tmax_prior_sd[i]})\n",
    "mod.train()\n",
    "adata = mod.export_posterior(adata)\n",
    "end = time.time()\n",
    "mod.compute_and_plot_total_velocity(adata, save = False, delete = False)\n",
    "# Calculate performance metrics:\n",
    "file = open(data_dir + dataset + '/' + dataset + '_groundTruth.pickle' ,'rb')\n",
    "ground_truth = pickle.load(file)\n",
    "metrics = utv.evaluate(adata, ground_truth, 'clusters', 'Velocity')\n",
    "if exists(save_dir + dataset + '_CBDC_scores.csv'):\n",
    "    tab = pd.read_csv(save_dir + dataset + '_CBDC_scores.csv', index_col = 0)\n",
    "else:\n",
    "    tab = pd.DataFrame(columns = list(metrics['Cross-Boundary Direction Correctness (A->B)'].keys()) + ['Mean', 'Time'],\n",
    "             index = [method])\n",
    "cb_score = [np.mean(metrics['Cross-Boundary Direction Correctness (A->B)'][x])\n",
    "            for x in metrics['Cross-Boundary Direction Correctness (A->B)'].keys()]\n",
    "tab.loc[method,:] = cb_score + [np.mean(cb_score), end-start]\n",
    "tab.to_csv(save_dir + dataset + '_CBDC_scores.csv')\n",
    "fix, ax = plt.subplots(1, 1, figsize = (8, 6))\n",
    "scv.pl.velocity_embedding_stream(adata, basis='umap', save = False, vkey='Velocity',\n",
    "                                 show = False, ax = ax)\n",
    "plt.savefig(save_dir + 'UMAPs/' + dataset + '_UMAP_' + method + '.svg')\n",
    "adata.layers['velocity'] = np.array(adata.layers['Velocity'])\n",
    "del adata.layers['Velocity']\n",
    "adata.layers['Ms'] = mod.samples['post_sample_means']['mu_expression'][...,0]\n",
    "adata.layers['Mu'] = mod.samples['post_sample_means']['mu_expression'][...,1]\n",
    "adata.write_h5ad('/nfs/team283/aa16/data/fate_benchmarking/' + method + dataset + 'AnnDataForCellRank.h5ad')"
   ]
  }
 ],
 "metadata": {
  "kernelspec": {
   "display_name": "Python [conda env:cell2fate_env]",
   "language": "python",
   "name": "conda-env-cell2fate_env-py"
  },
  "language_info": {
   "codemirror_mode": {
    "name": "ipython",
    "version": 3
   },
   "file_extension": ".py",
   "mimetype": "text/x-python",
   "name": "python",
   "nbconvert_exporter": "python",
   "pygments_lexer": "ipython3",
   "version": "3.9.18"
  }
 },
 "nbformat": 4,
 "nbformat_minor": 5
}
