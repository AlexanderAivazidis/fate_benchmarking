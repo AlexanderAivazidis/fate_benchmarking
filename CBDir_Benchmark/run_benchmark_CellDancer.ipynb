{
 "cells": [
  {
   "cell_type": "code",
   "execution_count": 1,
   "id": "1f069efb",
   "metadata": {},
   "outputs": [
    {
     "name": "stdout",
     "output_type": "stream",
     "text": [
      "(Running UniTVelo 0.2.5.2)\n",
      "2024-02-27 14:57:05\n"
     ]
    }
   ],
   "source": [
    "import anndata\n",
    "import numpy as np\n",
    "import scvelo as scv\n",
    "import scanpy as sc\n",
    "import sys\n",
    "import torch\n",
    "import os.path\n",
    "import celldancer as cd\n",
    "import pickle5 as pickle\n",
    "import matplotlib.pyplot as plt\n",
    "import pandas as pd\n",
    "import unitvelo as utv\n",
    "from os.path import exists\n",
    "import celldancer.cdplt as cdplt\n",
    "from celldancer.cdplt import colormap\n",
    "method = 'CellDancer'\n",
    "import time\n",
    "from celldancer.utilities import export_velocity_to_dynamo\n",
    "import celldancer.utilities as cdutil"
   ]
  },
  {
   "cell_type": "code",
   "execution_count": 2,
   "id": "bc431cb9",
   "metadata": {},
   "outputs": [],
   "source": [
    "datasets = ['MouseErythroid', 'Pancreas_with_cc', 'DentateGyrus' , 'MouseBoneMarrow', 'HumanBoneMarrow', 'HumanDevelopingBrain']\n",
    "data_dir = '/nfs/team283/aa16/data/fate_benchmarking/benchmarking_datasets/'\n",
    "save_dir = '/nfs/team283/aa16/data/fate_benchmarking/benchmarking_results_revision/'"
   ]
  },
  {
   "cell_type": "code",
   "execution_count": null,
   "id": "585f0d32",
   "metadata": {},
   "outputs": [
    {
     "name": "stdout",
     "output_type": "stream",
     "text": [
      "MouseErythroid\n",
      "Filtered out 47456 genes that are detected 20 counts (shared).\n",
      "Normalized count data: X, spliced, unspliced.\n",
      "Extracted 3000 highly variable genes.\n",
      "Logarithmized X.\n",
      "computing neighbors\n"
     ]
    }
   ],
   "source": [
    "for i in range(0, len(datasets)):\n",
    "    # for dataset in datasets:\n",
    "    dataset = datasets[i]\n",
    "    print(dataset)\n",
    "    adata = sc.read_h5ad(data_dir + dataset + '/' + dataset + '_anndata.h5ad')\n",
    "    start = time.time()\n",
    "    scv.pp.filter_and_normalize(adata, min_shared_counts=20, n_top_genes=3000)\n",
    "    scv.pp.moments(adata, n_pcs=30, n_neighbors=30)\n",
    "    input_data = cdutil.adata_to_df_with_embed(adata,\n",
    "                                  us_para=['Mu','Ms'],\n",
    "                                  cell_type_para='clusters',\n",
    "                                  embed_para='X_umap',\n",
    "                                  save_path='cell_type_u_s.csv')\n",
    "    loss_df, cellDancer_df=cd.velocity(input_data,\n",
    "                                       gene_list= np.array(input_data['gene_name']),\n",
    "                                       permutation_ratio=0.125,\n",
    "                                       n_jobs=1)\n",
    "    # compute cell velocity\n",
    "    cellDancer_df=cd.compute_cell_velocity(cellDancer_df=cellDancer_df, projection_neighbor_choice='gene', \n",
    "                                           expression_scale='power10', projection_neighbor_size=10, speed_up=(100,100))\n",
    "    adata = export_velocity_to_dynamo(cellDancer_df,adata)\n",
    "    end = time.time()\n",
    "    adata.layers['velocity'] = np.array(adata.layers['velocity_S'].todense())\n",
    "    del adata.layers['velocity_S']\n",
    "    scv.pp.neighbors(adata)\n",
    "    scv.tl.velocity_graph(adata, vkey = 'velocity')\n",
    "    scv.tl.velocity_embedding(adata, vkey = 'velocity')\n",
    "    fix, ax = plt.subplots(1, 1, figsize = (8, 6))\n",
    "    scv.pl.velocity_embedding_stream(adata, basis='umap', save = False, vkey='velocity',\n",
    "                                     show = False, ax = ax)\n",
    "    plt.savefig(save_dir + 'UMAPs/' + dataset + '_UMAP_CellDancer.svg')\n",
    "    # Calculate performance metrics:\n",
    "    file = open(data_dir + dataset + '/' + dataset + '_groundTruth.pickle' ,'rb')\n",
    "    ground_truth = pickle.load(file)\n",
    "    metrics = utv.evaluate(adata, ground_truth, 'clusters', 'velocity')\n",
    "    if exists(save_dir + dataset + '_CBDC_scores.csv'):\n",
    "        tab = pd.read_csv(save_dir + dataset + '_CBDC_scores.csv', index_col = 0)\n",
    "    else:\n",
    "        tab = pd.DataFrame(columns = list(metrics['Cross-Boundary Direction Correctness (A->B)'].keys()) + ['Mean', 'Time'],\n",
    "                 index = [method])\n",
    "    cb_score = [np.mean(metrics['Cross-Boundary Direction Correctness (A->B)'][x])\n",
    "                for x in metrics['Cross-Boundary Direction Correctness (A->B)'].keys()]\n",
    "    tab.loc[method,:] = cb_score + [np.mean(cb_score), end-start]\n",
    "    tab.to_csv(save_dir + dataset + '_CBDC_scores.csv')\n",
    "    fix, ax = plt.subplots(1, 1, figsize = (8, 6))\n",
    "    scv.pl.velocity_embedding_stream(adata, basis='umap', save = False, vkey='velocity',\n",
    "                                     show = False, ax = ax)\n",
    "    plt.savefig(save_dir + 'UMAPs/' + dataset + '_UMAP_' + method + '.svg')\n",
    "    adata.write_h5ad('/nfs/team283/aa16/data/fate_benchmarking/' + method + dataset + 'AnnDataForCellRank.h5ad')"
   ]
  }
 ],
 "metadata": {
  "kernelspec": {
   "display_name": "Environment (cellDancer)",
   "language": "python",
   "name": "celldancer"
  },
  "language_info": {
   "codemirror_mode": {
    "name": "ipython",
    "version": 3
   },
   "file_extension": ".py",
   "mimetype": "text/x-python",
   "name": "python",
   "nbconvert_exporter": "python",
   "pygments_lexer": "ipython3",
   "version": "3.7.6"
  }
 },
 "nbformat": 4,
 "nbformat_minor": 5
}
