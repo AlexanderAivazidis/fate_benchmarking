{
 "cells": [
  {
   "cell_type": "code",
   "execution_count": 1,
   "id": "5d158aef",
   "metadata": {},
   "outputs": [
    {
     "name": "stdout",
     "output_type": "stream",
     "text": [
      "(Running UniTVelo 0.2.5.2)\n",
      "2024-03-08 11:21:22\n"
     ]
    },
    {
     "name": "stderr",
     "output_type": "stream",
     "text": [
      "2024-03-08 11:21:26.659767: E external/local_xla/xla/stream_executor/cuda/cuda_dnn.cc:9261] Unable to register cuDNN factory: Attempting to register factory for plugin cuDNN when one has already been registered\n",
      "2024-03-08 11:21:26.659907: E external/local_xla/xla/stream_executor/cuda/cuda_fft.cc:607] Unable to register cuFFT factory: Attempting to register factory for plugin cuFFT when one has already been registered\n",
      "2024-03-08 11:21:26.820022: E external/local_xla/xla/stream_executor/cuda/cuda_blas.cc:1515] Unable to register cuBLAS factory: Attempting to register factory for plugin cuBLAS when one has already been registered\n"
     ]
    }
   ],
   "source": [
    "import scvelo as scv\n",
    "import scanpy as sc\n",
    "import pickle as pickle\n",
    "from eval_utils import cross_boundary_correctness, inner_cluster_coh\n",
    "import pandas as pd\n",
    "import numpy as np\n",
    "from os.path import exists\n",
    "import matplotlib.pyplot as plt\n",
    "import time\n",
    "import unitvelo as utv\n",
    "method = 'UniTVelo_independent'"
   ]
  },
  {
   "cell_type": "code",
   "execution_count": 2,
   "id": "59c35c07",
   "metadata": {},
   "outputs": [],
   "source": [
    "datasets = ['HumanDevelopingBrain', 'Pancreas_with_cc', 'DentateGyrus', 'MouseBoneMarrow', 'HumanBoneMarrow', 'MouseErythroid']\n",
    "data_dir = '/nfs/team283/aa16/data/fate_benchmarking/benchmarking_datasets/'\n",
    "save_dir = '/nfs/team283/aa16/data/fate_benchmarking/benchmarking_results_revision/'"
   ]
  },
  {
   "cell_type": "code",
   "execution_count": null,
   "id": "fd5023c1",
   "metadata": {},
   "outputs": [
    {
     "name": "stdout",
     "output_type": "stream",
     "text": [
      "HumanDevelopingBrain\n",
      "Filtered out 17336 genes that are detected 20 counts (shared).\n",
      "Normalized count data: X, spliced, unspliced.\n",
      "Extracted 3000 highly variable genes.\n",
      "WARNING: Did not modify X as it looks preprocessed already.\n",
      "computing neighbors\n",
      "    finished (0:00:33) --> added \n",
      "    'distances' and 'connectivities', weighted adjacency matrices (adata.obsp)\n",
      "computing moments based on connectivities\n",
      "    finished (0:00:03) --> added \n",
      "    'Ms' and 'Mu', moments of un/spliced abundances (adata.layers)\n",
      "computing neighbors\n",
      "    finished (0:00:02) --> added \n",
      "    'distances' and 'connectivities', weighted adjacency matrices (adata.obsp)\n",
      "------> Manully Specified Parameters <------\n",
      "N_TOP_GENES:\t3000\n",
      "FIT_OPTION:\t2\n",
      "DENSITY:\tRaw\n",
      "REORDER_CELL:\tHard\n",
      "AGGREGATE_T:\tFalse\n",
      "GPU:\t1\n",
      "------> Model Configuration Settings <------\n",
      "LEARNING_RATE:\t0.01\n",
      "R2_ADJUST:\tTrue\n",
      "GENE_PRIOR:\tNone\n",
      "VGENES:\tbasic\n",
      "IROOT:\tNone\n",
      "--------------------------------------------\n",
      "\n",
      "Current working dir is /nfs/team283/aa16/fate_benchmarking.\n",
      "Results will be stored in res folder\n",
      "Filtered out 127 genes that are detected 20 counts (shared).\n",
      "WARNING: Did not normalize X as it looks processed already. To enforce normalization, set `enforce=True`.\n",
      "WARNING: Did not normalize spliced as it looks processed already. To enforce normalization, set `enforce=True`.\n",
      "WARNING: Did not normalize unspliced as it looks processed already. To enforce normalization, set `enforce=True`.\n",
      "Skip filtering by dispersion since number of variables are less than `n_top_genes`.\n",
      "WARNING: Did not modify X as it looks preprocessed already.\n",
      "Extracted 2873 highly variable genes.\n",
      "Computing moments for 2873 genes with n_neighbors: 30 and n_pcs: 30\n",
      "computing moments based on connectivities\n",
      "    finished (0:00:02) --> added \n",
      "    'Ms' and 'Mu', moments of un/spliced abundances (adata.layers)\n",
      "\n",
      "# of velocity genes 533 (Criterion: positive regression coefficient between un/spliced counts)\n",
      "# of velocity genes 401 (Criterion: std of un/spliced reads should be moderate, w/o extreme values)\n",
      "# of velocity genes 401 (Criterion: genes have reads in more than 5% of total cells)\n"
     ]
    },
    {
     "name": "stderr",
     "output_type": "stream",
     "text": [
      "2024-03-08 11:22:57.946853: E external/local_xla/xla/stream_executor/cuda/cuda_driver.cc:274] failed call to cuInit: CUDA_ERROR_NO_DEVICE: no CUDA-capable device is detected\n"
     ]
    },
    {
     "name": "stdout",
     "output_type": "stream",
     "text": [
      "No GPU device has been detected. Switch to CPU mode.\n"
     ]
    },
    {
     "name": "stderr",
     "output_type": "stream",
     "text": [
      "Loss (Total): 66.539, (Spliced): 40.697, (Unspliced): 25.842:  66%|████████████████████████████████▍                | 7958/12000 [6:08:40<3:13:41,  2.88s/it]"
     ]
    }
   ],
   "source": [
    "for dataset in datasets:\n",
    "    print(dataset)\n",
    "    # Load and setup data:\n",
    "    adata = sc.read_h5ad(data_dir + dataset + '/' + dataset + '_anndata.h5ad')\n",
    "    start = time.time()\n",
    "    adata.var['highly_variable'] = True\n",
    "    scv.pp.filter_and_normalize(adata, min_shared_counts=20, n_top_genes=3000)\n",
    "    scv.pp.moments(adata, n_pcs=30, n_neighbors=30)\n",
    "    velo = utv.config.Configuration()\n",
    "    velo.N_TOP_GENES = 3000\n",
    "    velo.R2_ADJUST = True\n",
    "    velo.IROOT = None\n",
    "    velo.FIT_OPTION = '2'\n",
    "    velo.GPU = 1\n",
    "    velo.vgenes = 'offset'\n",
    "    scv.pp.neighbors(adata)\n",
    "    adata = utv.run_model(adata, 'clusters', config_file=velo)\n",
    "    end = time.time()\n",
    "    scv.tl.velocity_graph(adata, vkey='velocity')\n",
    "    scv.tl.velocity_embedding(adata, vkey='velocity')\n",
    "    fix, ax = plt.subplots(1, 1, figsize = (8, 6))\n",
    "    scv.pl.velocity_embedding_stream(adata, basis='umap', save = False, vkey='velocity',\n",
    "                                     show = False, ax = ax, legend_fontsize = 13)\n",
    "    plt.savefig(save_dir + 'UMAPs/' + dataset + '_UMAP_UniTVelo_independent.svg')\n",
    "    # Calculate performance metrics:\n",
    "    adata.layers['velocity'][pd.isna(adata.layers['velocity'])] = 0\n",
    "    file = open(data_dir + dataset + '/' + dataset + '_groundTruth.pickle' ,'rb')\n",
    "    ground_truth = pickle.load(file)\n",
    "    metrics = utv.evaluate(adata, ground_truth, 'clusters', 'velocity')\n",
    "    if exists(save_dir + dataset + '_CBDC_scores.csv'):\n",
    "        tab = pd.read_csv(save_dir + dataset + '_CBDC_scores.csv', index_col = 0)\n",
    "    else:\n",
    "        tab = pd.DataFrame(columns = list(metrics['Cross-Boundary Direction Correctness (A->B)'].keys()) + ['Mean', 'Time'],\n",
    "                 index = [method])\n",
    "    cb_score = [np.mean(metrics['Cross-Boundary Direction Correctness (A->B)'][x])\n",
    "                for x in metrics['Cross-Boundary Direction Correctness (A->B)'].keys()]\n",
    "    tab.loc[method,:] = cb_score + [np.mean(cb_score), end - start]\n",
    "    tab.to_csv(save_dir + dataset + '_CBDC_scores.csv')\n",
    "    fix, ax = plt.subplots(1, 1, figsize = (8, 6))\n",
    "    scv.pl.velocity_embedding_stream(adata, basis='umap', save = False, vkey='velocity',\n",
    "                                     show = False, ax = ax)\n",
    "    plt.savefig(save_dir + 'UMAPs/' + dataset + '_UMAP_' + method + '.svg')\n",
    "    adata.write_h5ad('/nfs/team283/aa16/data/fate_benchmarking/' + method + dataset + 'AnnDataForCellRank.h5ad')"
   ]
  },
  {
   "cell_type": "code",
   "execution_count": null,
   "id": "1bbe303c",
   "metadata": {},
   "outputs": [],
   "source": []
  }
 ],
 "metadata": {
  "kernelspec": {
   "display_name": "Python [conda env:cell2fate_env]",
   "language": "python",
   "name": "conda-env-cell2fate_env-py"
  },
  "language_info": {
   "codemirror_mode": {
    "name": "ipython",
    "version": 3
   },
   "file_extension": ".py",
   "mimetype": "text/x-python",
   "name": "python",
   "nbconvert_exporter": "python",
   "pygments_lexer": "ipython3",
   "version": "3.9.18"
  }
 },
 "nbformat": 4,
 "nbformat_minor": 5
}
