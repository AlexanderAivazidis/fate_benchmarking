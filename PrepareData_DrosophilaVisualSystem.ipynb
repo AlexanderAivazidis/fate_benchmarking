{
 "cells": [
  {
   "cell_type": "code",
   "execution_count": 1,
   "id": "8cf258a9",
   "metadata": {},
   "outputs": [],
   "source": [
    "import sys,os\n",
    "import scanpy as sc\n",
    "import numpy as np\n",
    "import pandas as pd"
   ]
  },
  {
   "cell_type": "code",
   "execution_count": 2,
   "id": "546326e9",
   "metadata": {},
   "outputs": [],
   "source": [
    "samples = os.listdir('/nfs/team283/brainData/drosophila_larvae/Konstantinides2022/tic-1501/')"
   ]
  },
  {
   "cell_type": "code",
   "execution_count": 3,
   "id": "159b859c",
   "metadata": {},
   "outputs": [
    {
     "name": "stdout",
     "output_type": "stream",
     "text": [
      "GSM5100584\n",
      "GSM5100585\n",
      "GSM5100589\n",
      "GSM5100590\n",
      "GSM5100592\n",
      "GSM5100583\n",
      "GSM5100586\n",
      "GSM5100588\n",
      "GSM5100587\n",
      "GSM5100591\n"
     ]
    }
   ],
   "source": [
    "adata = []\n",
    "count = 0\n",
    "for i in range(len(samples)):\n",
    "    print(samples[i])\n",
    "    # Read each sample\n",
    "    a = sc.read_10x_mtx('/nfs/team283/brainData/drosophila_larvae/Konstantinides2022/tic-1501/'\n",
    "                        + samples[i] + '/output/Gene/filtered/',  # the directory with the `.mtx` file\n",
    "        var_names='gene_symbols',                # use gene symbols for the variable names (variables-axis index)\n",
    "        cache=True)   \n",
    "    # Add spliced, unspliced, ambiguous reads to anndata object:\n",
    "    barcodes_velocyto = np.array(pd.read_table('/nfs/team283/brainData/drosophila_larvae/Konstantinides2022/tic-1501/' +\n",
    "                                               samples[i] + '/output/Velocyto/raw/barcodes.tsv.gz', header = None))\n",
    "    barcodes_geneCounts = np.array(pd.read_table('/nfs/team283/brainData/drosophila_larvae/Konstantinides2022/tic-1501/'  +\n",
    "                                                 samples[i] + '/output/Gene/filtered/barcodes.tsv.gz', header = None))\n",
    "    subset = [v in barcodes_geneCounts for v in barcodes_velocyto]\n",
    "    spliced = sc.read_mtx(filename = '/nfs/team283/brainData/drosophila_larvae/Konstantinides2022/tic-1501/'  \n",
    "                          + samples[i] + '/output/Velocyto/raw/spliced.mtx.gz')\n",
    "    spliced = spliced[:,subset]\n",
    "    unspliced = sc.read_mtx(filename = '/nfs/team283/brainData/drosophila_larvae/Konstantinides2022/tic-1501/'  \n",
    "                            + samples[i] + '/output/Velocyto/raw/unspliced.mtx.gz')\n",
    "    unspliced = unspliced[:,subset]\n",
    "    ambiguous = sc.read_mtx(filename = '/nfs/team283/brainData/drosophila_larvae/Konstantinides2022/tic-1501/'  \n",
    "                            + samples[i] + '/output/Velocyto/raw/ambiguous.mtx.gz')\n",
    "    ambiguous = ambiguous[:,subset]\n",
    "    a.layers['spliced'] = spliced.X.T\n",
    "    a.layers['unspliced'] = unspliced.X.T\n",
    "    a.layers['ambiguous'] = ambiguous.X.T"
   ]
  },
  {
   "cell_type": "code",
   "execution_count": 4,
   "id": "6b2cc5fe",
   "metadata": {},
   "outputs": [],
   "source": [
    "a.var.index = [str(x) for x in a.var.index]"
   ]
  },
  {
   "cell_type": "code",
   "execution_count": 5,
   "id": "71ea8e03",
   "metadata": {},
   "outputs": [],
   "source": [
    "a.write_h5ad('/nfs/team283/brainData/drosophila_larvae/Konstantinides2022/Konstantinides2022_adata.h5ad')"
   ]
  },
  {
   "cell_type": "code",
   "execution_count": 6,
   "id": "e07caddc",
   "metadata": {},
   "outputs": [
    {
     "ename": "PyreadrError",
     "evalue": "File b'/' does not exist!",
     "output_type": "error",
     "traceback": [
      "\u001b[0;31m---------------------------------------------------------------------------\u001b[0m",
      "\u001b[0;31mPyreadrError\u001b[0m                              Traceback (most recent call last)",
      "Input \u001b[0;32mIn [6]\u001b[0m, in \u001b[0;36m<cell line: 3>\u001b[0;34m()\u001b[0m\n\u001b[1;32m      1\u001b[0m \u001b[38;5;28;01mimport\u001b[39;00m \u001b[38;5;21;01mpyreadr\u001b[39;00m\n\u001b[0;32m----> 3\u001b[0m result \u001b[38;5;241m=\u001b[39m \u001b[43mpyreadr\u001b[49m\u001b[38;5;241;43m.\u001b[39;49m\u001b[43mread_r\u001b[49m\u001b[43m(\u001b[49m\u001b[38;5;124;43m'\u001b[39;49m\u001b[38;5;124;43m/\u001b[39;49m\u001b[38;5;124;43m'\u001b[39;49m\u001b[43m)\u001b[49m\n",
      "File \u001b[0;32m/nfs/team283/aa16/software/miniconda3/envs/scvi-env/lib/python3.9/site-packages/pyreadr/pyreadr.py:65\u001b[0m, in \u001b[0;36mread_r\u001b[0;34m(path, use_objects, timezone)\u001b[0m\n\u001b[1;32m     63\u001b[0m filename_bytes \u001b[38;5;241m=\u001b[39m os\u001b[38;5;241m.\u001b[39mpath\u001b[38;5;241m.\u001b[39mexpanduser(filename_bytes)\n\u001b[1;32m     64\u001b[0m \u001b[38;5;28;01mif\u001b[39;00m \u001b[38;5;129;01mnot\u001b[39;00m os\u001b[38;5;241m.\u001b[39mpath\u001b[38;5;241m.\u001b[39misfile(filename_bytes):\n\u001b[0;32m---> 65\u001b[0m     \u001b[38;5;28;01mraise\u001b[39;00m PyreadrError(\u001b[38;5;124m\"\u001b[39m\u001b[38;5;124mFile \u001b[39m\u001b[38;5;132;01m{0}\u001b[39;00m\u001b[38;5;124m does not exist!\u001b[39m\u001b[38;5;124m\"\u001b[39m\u001b[38;5;241m.\u001b[39mformat(filename_bytes))\n\u001b[1;32m     66\u001b[0m parser\u001b[38;5;241m.\u001b[39mparse(filename_bytes)\n\u001b[1;32m     68\u001b[0m result \u001b[38;5;241m=\u001b[39m OrderedDict()\n",
      "\u001b[0;31mPyreadrError\u001b[0m: File b'/' does not exist!"
     ]
    }
   ],
   "source": [
    "import pyreadr\n",
    "\n",
    "result = pyreadr.read_r('/') # also works for RData"
   ]
  }
 ],
 "metadata": {
  "kernelspec": {
   "display_name": "Python [conda env:scvi-env]",
   "language": "python",
   "name": "conda-env-scvi-env-py"
  },
  "language_info": {
   "codemirror_mode": {
    "name": "ipython",
    "version": 3
   },
   "file_extension": ".py",
   "mimetype": "text/x-python",
   "name": "python",
   "nbconvert_exporter": "python",
   "pygments_lexer": "ipython3",
   "version": "3.9.12"
  }
 },
 "nbformat": 4,
 "nbformat_minor": 5
}
