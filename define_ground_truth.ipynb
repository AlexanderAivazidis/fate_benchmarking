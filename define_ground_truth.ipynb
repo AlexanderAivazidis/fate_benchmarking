{
 "cells": [
  {
   "cell_type": "code",
   "execution_count": 11,
   "id": "31df2906",
   "metadata": {},
   "outputs": [],
   "source": [
    "import pandas as pd\n",
    "import scanpy as sc\n",
    "import pickle as pickle"
   ]
  },
  {
   "cell_type": "markdown",
   "id": "b7db63d4",
   "metadata": {},
   "source": [
    "Define ground truth for clusters transitions"
   ]
  },
  {
   "cell_type": "code",
   "execution_count": 9,
   "id": "5ced8852",
   "metadata": {},
   "outputs": [],
   "source": [
    "HumanErythroid = [(\"MEMP\", \"Early Erythroid\"), (\"Early Erythroid\", \"Mid  Erythroid\"), (\"Mid  Erythroid\", \"Late Erythroid\")]\n",
    "HumanBoneMarrow = [(\"HSC_1\", \"Ery_1\"), (\"HSC_1\", \"HSC_2\"), (\"Ery_1\", \"Ery_2\")]\n",
    "IntestinalOrganoids = [(\"Stem cells\", \"TA cells\"), (\"Stem cells\", \"Globet Cells\")]\n",
    "scNT_seq = [(\"0\", \"15\"), (\"15\", \"30\"), (\"30\", \"60\"), (\"60\", \"120\")]\n",
    "Hindbrain_pons = [(\"COPs\", \"NFOLs\"), (\"NFOLs\", \"MFOLs\")]\n",
    "DentateGyrus  = [(\"OPC\", \"OL\")]\n",
    "RetinaDevelopment = [(\"Neuroblast\", \"PR\"), (\"Neuroblast\", \"AC/HC\"), (\"Neuroblast\", \"RGC\")]\n",
    "Pancreas_with_cc = [(\"Ngn3 high EP\", \"Pre-endocrine\"), (\"Pre-endocrine\", \"Alpha\"), (\"Pre-endocrine\", \"Beta\"), (\"Pre-endocrine\", \"Delta\"), (\"Pre-endocrine\", \"Epsilon\")]\n",
    "Pancreas_without_cc = [(\"Fev+\", \"Alpha\"), (\"Fev+\", \"Beta\"), (\"Fev+\", \"Delta\"), (\"Fev+\", \"Epsilon\")]\n",
    "MouseBoneMarrow = []\n",
    "MouseErythroid = []"
   ]
  },
  {
   "cell_type": "code",
   "execution_count": 10,
   "id": "25953e44",
   "metadata": {},
   "outputs": [],
   "source": [
    "save_dir = '/nfs/team283/aa16/data/fate_benchmarking/'\n",
    "with open(save_dir + '/IntestinalOrganoids/IntestinalOrganoids_groundTruth.pickle', 'wb') as handle:\n",
    "    pickle.dump(IntestinalOrganoids, handle, protocol=pickle.HIGHEST_PROTOCOL)\n",
    "with open(save_dir + '/scNT_seq/scNT_seq_groundTruth.pickle', 'wb') as handle:\n",
    "    pickle.dump(scNT_seq, handle, protocol=pickle.HIGHEST_PROTOCOL)\n",
    "with open(save_dir + '/Hindbrain_pons/Hindbrain_pons_groundTruth.pickle', 'wb') as handle:\n",
    "    pickle.dump(Hindbrain_pons, handle, protocol=pickle.HIGHEST_PROTOCOL)\n",
    "with open(save_dir + '/HumanErythroid/HumanErythroid_groundTruth.pickle', 'wb') as handle:\n",
    "    pickle.dump(HumanErythroid, handle, protocol=pickle.HIGHEST_PROTOCOL)\n",
    "with open(save_dir + '/HumanBoneMarrow/HumanBoneMarrow_groundTruth.pickle', 'wb') as handle:\n",
    "    pickle.dump(HumanBoneMarrow, handle, protocol=pickle.HIGHEST_PROTOCOL)\n",
    "with open(save_dir + '/DentateGyrus/DentateGyrus_groundTruth.pickle', 'wb') as handle:\n",
    "    pickle.dump(DentateGyrus, handle, protocol=pickle.HIGHEST_PROTOCOL)\n",
    "with open(save_dir + '/RetinaDevelopment/RetinaDevelopment_groundTruth.pickle', 'wb') as handle:\n",
    "    pickle.dump(RetinaDevelopment, handle, protocol=pickle.HIGHEST_PROTOCOL)\n",
    "with open(save_dir + '/RetinaDevelopment/RetinaDevelopment_groundTruth.pickle', 'wb') as handle:\n",
    "    pickle.dump(RetinaDevelopment, handle, protocol=pickle.HIGHEST_PROTOCOL)\n",
    "with open(save_dir + '/Pancreas_with_cc/Pancreas_with_cc_groundTruth.pickle', 'wb') as handle:\n",
    "    pickle.dump(Pancreas_with_cc, handle, protocol=pickle.HIGHEST_PROTOCOL)\n",
    "with open(save_dir + '/Pancreas_without_cc/Pancreas_without_cc_groundTruth.pickle', 'wb') as handle:\n",
    "    pickle.dump(Pancreas_without_cc, handle, protocol=pickle.HIGHEST_PROTOCOL)"
   ]
  },
  {
   "cell_type": "code",
   "execution_count": null,
   "id": "336c4945",
   "metadata": {},
   "outputs": [],
   "source": []
  }
 ],
 "metadata": {
  "kernelspec": {
   "display_name": "Python [conda env:cell2fate_env]",
   "language": "python",
   "name": "conda-env-cell2fate_env-py"
  },
  "language_info": {
   "codemirror_mode": {
    "name": "ipython",
    "version": 3
   },
   "file_extension": ".py",
   "mimetype": "text/x-python",
   "name": "python",
   "nbconvert_exporter": "python",
   "pygments_lexer": "ipython3",
   "version": "3.9.12"
  }
 },
 "nbformat": 4,
 "nbformat_minor": 5
}
