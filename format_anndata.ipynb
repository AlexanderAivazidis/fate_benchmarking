{
 "cells": [
  {
   "cell_type": "code",
   "execution_count": 2,
   "id": "31df2906",
   "metadata": {},
   "outputs": [],
   "source": [
    "import pandas as pd\n",
    "import scanpy as sc"
   ]
  },
  {
   "cell_type": "code",
   "execution_count": 23,
   "id": "336c4945",
   "metadata": {},
   "outputs": [],
   "source": [
    "adata = sc.read_h5ad('/nfs/team283/aa16/data/fate_benchmarking/benchmarking_datasets/IntestinalOrganoids/IntestinalOrganoids_anndata.h5ad')"
   ]
  },
  {
   "cell_type": "code",
   "execution_count": 5,
   "id": "2a1cbe2e",
   "metadata": {},
   "outputs": [],
   "source": [
    "adata.obs['clusters'] = adata.obs['cell_type']"
   ]
  },
  {
   "cell_type": "code",
   "execution_count": 6,
   "id": "7f4e10bf",
   "metadata": {},
   "outputs": [],
   "source": [
    "adata.write_h5ad('/nfs/team283/aa16/data/fate_benchmarking/benchmarking_datasets/IntestinalOrganoids/IntestinalOrganoids_anndata.h5ad')"
   ]
  },
  {
   "cell_type": "code",
   "execution_count": 25,
   "id": "27abee0d",
   "metadata": {},
   "outputs": [],
   "source": [
    "adata = sc.read_h5ad('/nfs/team283/aa16/data/fate_benchmarking/benchmarking_datasets/RetinaDevelopment/RetinaDevelopment_anndata.h5ad')"
   ]
  },
  {
   "cell_type": "code",
   "execution_count": 13,
   "id": "acc5c42e",
   "metadata": {},
   "outputs": [],
   "source": [
    "adata.obs['clusters'] = adata.obs['Annotation']"
   ]
  },
  {
   "cell_type": "code",
   "execution_count": 14,
   "id": "c3dccbe0",
   "metadata": {},
   "outputs": [],
   "source": [
    "adata.write_h5ad('/nfs/team283/aa16/data/fate_benchmarking/benchmarking_datasets/RetinaDevelopment/RetinaDevelopment_anndata.h5ad')"
   ]
  },
  {
   "cell_type": "code",
   "execution_count": 27,
   "id": "d9423f27",
   "metadata": {},
   "outputs": [],
   "source": [
    "adata = sc.read_h5ad('/nfs/team283/aa16/data/fate_benchmarking/benchmarking_datasets/Hindbrain_pons/Hindbrain_pons_anndata.h5ad')"
   ]
  },
  {
   "cell_type": "code",
   "execution_count": 20,
   "id": "7720c975",
   "metadata": {},
   "outputs": [],
   "source": [
    "adata.obs['clusters'] = adata.obs['celltype']"
   ]
  },
  {
   "cell_type": "code",
   "execution_count": 21,
   "id": "65bd5b50",
   "metadata": {},
   "outputs": [],
   "source": [
    "adata.write_h5ad('/nfs/team283/aa16/data/fate_benchmarking/benchmarking_datasets/Hindbrain_pons/Hindbrain_pons_anndata.h5ad')"
   ]
  },
  {
   "cell_type": "code",
   "execution_count": 85,
   "id": "ae001890",
   "metadata": {},
   "outputs": [],
   "source": [
    "adata = sc.read_h5ad('/nfs/team283/aa16/data/fate_benchmarking/benchmarking_datasets/HumanBoneMarrow/HumanBoneMarrow_anndata.h5ad')"
   ]
  },
  {
   "cell_type": "code",
   "execution_count": 76,
   "id": "9e73b703",
   "metadata": {},
   "outputs": [],
   "source": [
    "adata.obsm['X_umap'] = adata.obsm['X_tsne']"
   ]
  },
  {
   "cell_type": "code",
   "execution_count": 77,
   "id": "cdc08e26",
   "metadata": {},
   "outputs": [],
   "source": [
    "adata.write_h5ad('/nfs/team283/aa16/data/fate_benchmarking/benchmarking_datasets/HumanBoneMarrow/HumanBoneMarrow_anndata.h5ad')"
   ]
  },
  {
   "cell_type": "code",
   "execution_count": 88,
   "id": "d92e544f",
   "metadata": {},
   "outputs": [
    {
     "name": "stdout",
     "output_type": "stream",
     "text": [
      "Filtered out 7837 genes that are detected 20 counts (shared).\n",
      "Normalized count data: X, spliced, unspliced.\n",
      "Extracted 2000 highly variable genes.\n",
      "Logarithmized X.\n",
      "computing neighbors\n",
      "    finished (0:00:00) --> added \n",
      "    'distances' and 'connectivities', weighted adjacency matrices (adata.obsp)\n",
      "computing moments based on connectivities\n",
      "    finished (0:00:00) --> added \n",
      "    'Ms' and 'Mu', moments of un/spliced abundances (adata.layers)\n"
     ]
    }
   ],
   "source": [
    "scv.pp.filter_and_normalize(adata,\n",
    "min_shared_counts=20, n_top_genes=2000)\n",
    "scv.pp.moments(adata, n_pcs=30, n_neighbors=30)"
   ]
  },
  {
   "cell_type": "code",
   "execution_count": 82,
   "id": "49219541",
   "metadata": {},
   "outputs": [
    {
     "data": {
      "text/plain": [
       "AnnData object with n_obs × n_vars = 5780 × 2000\n",
       "    obs: 'clusters', 'palantir_pseudotime', 'initial_size_spliced', 'initial_size_unspliced', 'initial_size', 'n_counts'\n",
       "    var: 'gene_count_corr', 'means', 'dispersions', 'dispersions_norm', 'highly_variable'\n",
       "    uns: 'clusters_colors', 'pca', 'neighbors'\n",
       "    obsm: 'X_tsne', 'X_umap', 'X_pca'\n",
       "    varm: 'PCs'\n",
       "    layers: 'spliced', 'unspliced', 'Ms', 'Mu'\n",
       "    obsp: 'distances', 'connectivities'"
      ]
     },
     "execution_count": 82,
     "metadata": {},
     "output_type": "execute_result"
    }
   ],
   "source": [
    "adata"
   ]
  },
  {
   "cell_type": "code",
   "execution_count": 86,
   "id": "bb5dd73c",
   "metadata": {},
   "outputs": [
    {
     "data": {
      "text/plain": [
       "array([[0, 0, 0, ..., 0, 0, 0],\n",
       "       [0, 0, 0, ..., 0, 1, 0],\n",
       "       [0, 0, 0, ..., 0, 1, 0],\n",
       "       ...,\n",
       "       [0, 0, 0, ..., 0, 2, 0],\n",
       "       [0, 0, 0, ..., 0, 2, 0],\n",
       "       [0, 0, 0, ..., 0, 0, 0]], dtype=uint32)"
      ]
     },
     "execution_count": 86,
     "metadata": {},
     "output_type": "execute_result"
    }
   ],
   "source": [
    "adata.layers['spliced'].toarray()"
   ]
  },
  {
   "cell_type": "code",
   "execution_count": null,
   "id": "ae3799cf",
   "metadata": {},
   "outputs": [],
   "source": []
  }
 ],
 "metadata": {
  "kernelspec": {
   "display_name": "Python [conda env:cell2fate_env]",
   "language": "python",
   "name": "conda-env-cell2fate_env-py"
  },
  "language_info": {
   "codemirror_mode": {
    "name": "ipython",
    "version": 3
   },
   "file_extension": ".py",
   "mimetype": "text/x-python",
   "name": "python",
   "nbconvert_exporter": "python",
   "pygments_lexer": "ipython3",
   "version": "3.9.12"
  }
 },
 "nbformat": 4,
 "nbformat_minor": 5
}
