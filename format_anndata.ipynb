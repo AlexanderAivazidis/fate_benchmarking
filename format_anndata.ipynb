{
 "cells": [
  {
   "cell_type": "code",
   "execution_count": 1,
   "id": "31df2906",
   "metadata": {},
   "outputs": [],
   "source": [
    "import pandas as pd\n",
    "import scanpy as sc\n",
    "import numpy as np"
   ]
  },
  {
   "cell_type": "code",
   "execution_count": 12,
   "id": "44211295",
   "metadata": {},
   "outputs": [],
   "source": [
    "adata = sc.read_h5ad('/nfs/team283/aa16/data/fate_benchmarking/benchmarking_datasets/PBMC/pbmc68k.h5ad')"
   ]
  },
  {
   "cell_type": "code",
   "execution_count": 13,
   "id": "2cbb6f4d",
   "metadata": {},
   "outputs": [],
   "source": [
    "adata.obs['clusters'] = adata.obs['celltype']"
   ]
  },
  {
   "cell_type": "code",
   "execution_count": 14,
   "id": "7769b383",
   "metadata": {},
   "outputs": [],
   "source": [
    "adata.obsm['X_umap'] = adata.obsm['X_tsne']"
   ]
  },
  {
   "cell_type": "code",
   "execution_count": 15,
   "id": "e6e09edf",
   "metadata": {},
   "outputs": [],
   "source": [
    "adata.write_h5ad('/nfs/team283/aa16/data/fate_benchmarking/benchmarking_datasets/PBMC/pbmc68k.h5ad')"
   ]
  },
  {
   "cell_type": "code",
   "execution_count": 23,
   "id": "336c4945",
   "metadata": {},
   "outputs": [],
   "source": [
    "adata = sc.read_h5ad('/nfs/team283/aa16/data/fate_benchmarking/benchmarking_datasets/IntestinalOrganoids/IntestinalOrganoids_anndata.h5ad')"
   ]
  },
  {
   "cell_type": "code",
   "execution_count": 5,
   "id": "2a1cbe2e",
   "metadata": {},
   "outputs": [],
   "source": [
    "adata.obs['clusters'] = adata.obs['cell_type']"
   ]
  },
  {
   "cell_type": "code",
   "execution_count": 6,
   "id": "7f4e10bf",
   "metadata": {},
   "outputs": [],
   "source": [
    "adata.write_h5ad('/nfs/team283/aa16/data/fate_benchmarking/benchmarking_datasets/IntestinalOrganoids/IntestinalOrganoids_anndata.h5ad')"
   ]
  },
  {
   "cell_type": "code",
   "execution_count": 16,
   "id": "bd7dd79c",
   "metadata": {},
   "outputs": [],
   "source": [
    "adata = sc.read_h5ad('/nfs/team283/aa16/data/fate_benchmarking/benchmarking_datasets/RetinaDevelopment/retina.h5ad')"
   ]
  },
  {
   "cell_type": "code",
   "execution_count": 17,
   "id": "acc5c42e",
   "metadata": {},
   "outputs": [],
   "source": [
    "adata.obs['clusters'] = adata.obs['Annotation']"
   ]
  },
  {
   "cell_type": "code",
   "execution_count": 18,
   "id": "c3dccbe0",
   "metadata": {},
   "outputs": [],
   "source": [
    "adata.write_h5ad('/nfs/team283/aa16/data/fate_benchmarking/benchmarking_datasets/RetinaDevelopment/RetinaDevelopment_anndata.h5ad')"
   ]
  },
  {
   "cell_type": "code",
   "execution_count": 27,
   "id": "d9423f27",
   "metadata": {},
   "outputs": [],
   "source": [
    "adata = sc.read_h5ad('/nfs/team283/aa16/data/fate_benchmarking/benchmarking_datasets/Hindbrain_pons/Hindbrain_pons_anndata.h5ad')"
   ]
  },
  {
   "cell_type": "code",
   "execution_count": 20,
   "id": "7720c975",
   "metadata": {},
   "outputs": [],
   "source": [
    "adata.obs['clusters'] = adata.obs['celltype']"
   ]
  },
  {
   "cell_type": "code",
   "execution_count": 21,
   "id": "65bd5b50",
   "metadata": {},
   "outputs": [],
   "source": [
    "adata.write_h5ad('/nfs/team283/aa16/data/fate_benchmarking/benchmarking_datasets/Hindbrain_pons/Hindbrain_pons_anndata.h5ad')"
   ]
  },
  {
   "cell_type": "code",
   "execution_count": 85,
   "id": "ae001890",
   "metadata": {},
   "outputs": [],
   "source": [
    "adata = sc.read_h5ad('/nfs/team283/aa16/data/fate_benchmarking/benchmarking_datasets/HumanBoneMarrow/HumanBoneMarrow_anndata.h5ad')"
   ]
  },
  {
   "cell_type": "code",
   "execution_count": 76,
   "id": "9e73b703",
   "metadata": {},
   "outputs": [],
   "source": [
    "adata.obsm['X_umap'] = adata.obsm['X_tsne']"
   ]
  },
  {
   "cell_type": "code",
   "execution_count": 77,
   "id": "cdc08e26",
   "metadata": {},
   "outputs": [],
   "source": [
    "adata.write_h5ad('/nfs/team283/aa16/data/fate_benchmarking/benchmarking_datasets/HumanBoneMarrow/HumanBoneMarrow_anndata.h5ad')"
   ]
  },
  {
   "cell_type": "code",
   "execution_count": 88,
   "id": "d92e544f",
   "metadata": {},
   "outputs": [
    {
     "name": "stdout",
     "output_type": "stream",
     "text": [
      "Filtered out 7837 genes that are detected 20 counts (shared).\n",
      "Normalized count data: X, spliced, unspliced.\n",
      "Extracted 2000 highly variable genes.\n",
      "Logarithmized X.\n",
      "computing neighbors\n",
      "    finished (0:00:00) --> added \n",
      "    'distances' and 'connectivities', weighted adjacency matrices (adata.obsp)\n",
      "computing moments based on connectivities\n",
      "    finished (0:00:00) --> added \n",
      "    'Ms' and 'Mu', moments of un/spliced abundances (adata.layers)\n"
     ]
    }
   ],
   "source": [
    "scv.pp.filter_and_normalize(adata,\n",
    "min_shared_counts=20, n_top_genes=2000)\n",
    "scv.pp.moments(adata, n_pcs=30, n_neighbors=30)"
   ]
  },
  {
   "cell_type": "code",
   "execution_count": 27,
   "id": "ae3799cf",
   "metadata": {},
   "outputs": [],
   "source": [
    "adata = sc.read_h5ad('/nfs/team283/aa16/data/fate_benchmarking/benchmarking_datasets/MouseErythroid/erythroid_lineage.h5ad')"
   ]
  },
  {
   "cell_type": "code",
   "execution_count": 30,
   "id": "3b9a6e93",
   "metadata": {},
   "outputs": [
    {
     "name": "stdout",
     "output_type": "stream",
     "text": [
      "spliced_UMI_mean 12956.784\n",
      "unspliced_UMI_mean 650.39825\n"
     ]
    }
   ],
   "source": [
    "print('spliced_UMI_mean', np.mean(np.sum(adata.layers['spliced'], axis = 1)))\n",
    "print('unspliced_UMI_mean', np.mean(np.sum(adata.layers['unspliced'], axis = 1)))"
   ]
  },
  {
   "cell_type": "code",
   "execution_count": 6,
   "id": "a8d87d02",
   "metadata": {},
   "outputs": [],
   "source": [
    "adata.obs['clusters'] = adata.obs['celltype']"
   ]
  },
  {
   "cell_type": "code",
   "execution_count": 13,
   "id": "67d61c5b",
   "metadata": {},
   "outputs": [],
   "source": [
    "adata.write_h5ad('/nfs/team283/aa16/data/fate_benchmarking/benchmarking_datasets/MouseErythroid/MouseErythroid_anndata.h5ad')"
   ]
  },
  {
   "cell_type": "code",
   "execution_count": 3,
   "id": "0f10f7f8",
   "metadata": {},
   "outputs": [],
   "source": [
    "adata = sc.read_h5ad('/nfs/team283/aa16/data/fate_benchmarking/benchmarking_datasets/HumanErythroid/adata_human_def (1).h5')"
   ]
  },
  {
   "cell_type": "code",
   "execution_count": 8,
   "id": "1d526d6c",
   "metadata": {},
   "outputs": [],
   "source": [
    "adata.obs['clusters'] = adata.obs['type']"
   ]
  },
  {
   "cell_type": "code",
   "execution_count": 9,
   "id": "99931366",
   "metadata": {},
   "outputs": [],
   "source": [
    "adata.write_h5ad('/nfs/team283/aa16/data/fate_benchmarking/benchmarking_datasets/MouseErythroid/HumanErythroid_anndata.h5ad')"
   ]
  },
  {
   "cell_type": "code",
   "execution_count": 34,
   "id": "261ac2f4",
   "metadata": {},
   "outputs": [],
   "source": [
    "adata = sc.read_h5ad('/nfs/team283/aa16/data/fate_benchmarking/benchmarking_datasets/MouseBoneMarrow/mouse_bonemarrow.h5ad')"
   ]
  },
  {
   "cell_type": "code",
   "execution_count": 35,
   "id": "a6ded097",
   "metadata": {},
   "outputs": [],
   "source": [
    "adata.obs['clusters'] = adata.obs['cell_type']"
   ]
  },
  {
   "cell_type": "code",
   "execution_count": 36,
   "id": "3579e0b6",
   "metadata": {},
   "outputs": [],
   "source": [
    "adata.write_h5ad('/nfs/team283/aa16/data/fate_benchmarking/benchmarking_datasets/MouseBoneMarrow/MouseBoneMarrow_anndata.h5ad')"
   ]
  },
  {
   "cell_type": "code",
   "execution_count": 38,
   "id": "d4674a14",
   "metadata": {},
   "outputs": [
    {
     "name": "stdout",
     "output_type": "stream",
     "text": [
      "spliced_UMI_mean 1736.2946153846153\n",
      "unspliced_UMI_mean 169.94923076923078\n"
     ]
    }
   ],
   "source": [
    "print('spliced_UMI_mean', np.mean(np.sum(adata.layers['spliced'], axis = 1)))\n",
    "print('unspliced_UMI_mean', np.mean(np.sum(adata.layers['unspliced'], axis = 1)))"
   ]
  },
  {
   "cell_type": "code",
   "execution_count": 2,
   "id": "0094fb00",
   "metadata": {},
   "outputs": [],
   "source": [
    "adata = sc.read_h5ad('/nfs/team283/aa16/data/fate_benchmarking/benchmarking_datasets/scNT_seq/neuron_splicing_lite.h5ad')"
   ]
  },
  {
   "cell_type": "code",
   "execution_count": 3,
   "id": "fa1b2d32",
   "metadata": {},
   "outputs": [],
   "source": [
    "adata.obs['clusters'] = [str(x) for x in adata.obs['time']]"
   ]
  },
  {
   "cell_type": "code",
   "execution_count": 4,
   "id": "7745df6c",
   "metadata": {},
   "outputs": [],
   "source": [
    "adata.write_h5ad('/nfs/team283/aa16/data/fate_benchmarking/benchmarking_datasets/scNT_seq/scNT_seq_anndata.h5ad')"
   ]
  },
  {
   "cell_type": "code",
   "execution_count": null,
   "id": "9c45863d",
   "metadata": {},
   "outputs": [],
   "source": []
  }
 ],
 "metadata": {
  "kernelspec": {
   "display_name": "Python [conda env:cell2fate_env]",
   "language": "python",
   "name": "conda-env-cell2fate_env-py"
  },
  "language_info": {
   "codemirror_mode": {
    "name": "ipython",
    "version": 3
   },
   "file_extension": ".py",
   "mimetype": "text/x-python",
   "name": "python",
   "nbconvert_exporter": "python",
   "pygments_lexer": "ipython3",
   "version": "3.9.12"
  }
 },
 "nbformat": 4,
 "nbformat_minor": 5
}
