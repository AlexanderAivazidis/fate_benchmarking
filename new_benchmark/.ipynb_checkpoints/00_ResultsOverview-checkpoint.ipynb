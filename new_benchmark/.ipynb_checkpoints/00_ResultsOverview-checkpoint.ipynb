{
 "cells": [
  {
   "cell_type": "code",
   "execution_count": 1,
   "id": "fd5023c1",
   "metadata": {},
   "outputs": [],
   "source": [
    "import pandas as pd"
   ]
  },
  {
   "cell_type": "code",
   "execution_count": 5,
   "id": "b293f899",
   "metadata": {},
   "outputs": [],
   "source": [
    "model_list = ('Cell2fateDynamicalModel_400epochs', 'Cell2fateDynamicalModel_750epochs',\n",
    "             'Cell2fateDynamicalModel', 'Cell2fateDynamicalModel_batchSize10000epochs1000',\n",
    "              'Cell2fateDynamicalModel_batchSize128', 'Cell2fateDynamicalModel_batchSize128epochs250',\n",
    "             'Cell2fateDynamicalModel_batchSize128epochs250', 'Cell2fateDynamicalModel_lr0005epochs1000')"
   ]
  },
  {
   "cell_type": "code",
   "execution_count": 11,
   "id": "0353b4d8",
   "metadata": {},
   "outputs": [],
   "source": [
    "res_list = []\n",
    "for i in range(len(model_list)):\n",
    "    res= pd.read_csv('/nfs/team283/aa16/data/fate_benchmarking/benchmarking_results/' +\n",
    "                model_list[i]\n",
    "                + '__CBDC_fullBenchmark.csv', index_col=0)\n",
    "    res_list += [res]\n",
    "    tab = pd.concat(res_list, axis = 1)\n",
    "tab.columns = [m[22:] for m in model_list]\n",
    "tab"
   ]
  },
  {
   "cell_type": "code",
   "execution_count": null,
   "id": "18419d49",
   "metadata": {},
   "outputs": [],
   "source": []
  }
 ],
 "metadata": {
  "kernelspec": {
   "display_name": "Python [conda env:cell2fate_env]",
   "language": "python",
   "name": "conda-env-cell2fate_env-py"
  },
  "language_info": {
   "codemirror_mode": {
    "name": "ipython",
    "version": 3
   },
   "file_extension": ".py",
   "mimetype": "text/x-python",
   "name": "python",
   "nbconvert_exporter": "python",
   "pygments_lexer": "ipython3",
   "version": "3.9.12"
  }
 },
 "nbformat": 4,
 "nbformat_minor": 5
}
