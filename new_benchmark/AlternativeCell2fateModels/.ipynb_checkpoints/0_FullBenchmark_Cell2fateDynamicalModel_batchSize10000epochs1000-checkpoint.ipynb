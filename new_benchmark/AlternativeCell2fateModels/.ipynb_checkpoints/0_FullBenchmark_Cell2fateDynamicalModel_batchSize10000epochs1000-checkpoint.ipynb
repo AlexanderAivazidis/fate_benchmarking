{
 "cells": [
  {
   "cell_type": "code",
   "execution_count": null,
   "id": "fd5023c1",
   "metadata": {},
   "outputs": [
    {
     "name": "stderr",
     "output_type": "stream",
     "text": [
      "Global seed set to 0\n"
     ]
    },
    {
     "name": "stdout",
     "output_type": "stream",
     "text": [
      "(Running UniTVelo 0.2.5)\n",
      "2023-10-22 10:55:04\n",
      "1\n",
      "0\n",
      "3\n",
      "MouseErythroid\n",
      "Keeping at most 1000000 cells per cluster\n",
      "Filtered out 46616 genes that are detected 10 counts (shared).\n",
      "Extracted 3000 highly variable genes.\n",
      "Leiden clustering ...\n",
      "Number of Leiden Clusters: 9\n",
      "Maximal Number of Modules: 10\n"
     ]
    },
    {
     "name": "stderr",
     "output_type": "stream",
     "text": [
      "GPU available: True, used: True\n",
      "TPU available: False, using: 0 TPU cores\n",
      "IPU available: False, using: 0 IPUs\n",
      "LOCAL_RANK: 0 - CUDA_VISIBLE_DEVICES: [0]\n"
     ]
    },
    {
     "name": "stdout",
     "output_type": "stream",
     "text": [
      "Epoch 500/500: 100%|██████████████████████████████████████████████████████████████████████████████████████████████████████████████████████████████████████████████████████████| 500/500 [05:34<00:00,  1.50it/s, v_num=1, elbo_train=3.33e+7]\n",
      "Sampling local variables, batch: 100%|█████████████████████████████████████████████████████████████████████████████████████████████████████████████████████████████████████████████████████████████████████████| 1/1 [00:01<00:00,  1.91s/it]\n",
      "Sampling global variables, sample: 100%|███████████████████████████████████████████████████████████████████████████████████████████████████████████████████████████████████████████████████████████████████████| 2/2 [00:00<00:00,  2.51it/s]\n",
      "Computing total RNAvelocity ...\n"
     ]
    },
    {
     "data": {
      "application/vnd.jupyter.widget-view+json": {
       "model_id": "898ac80654b6435f83ecd85ee87ad48b",
       "version_major": 2,
       "version_minor": 0
      },
      "text/plain": [
       "  0%|          | 0/9815 [00:00<?, ?cells/s]"
      ]
     },
     "metadata": {},
     "output_type": "display_data"
    },
    {
     "name": "stdout",
     "output_type": "stream",
     "text": [
      "# Cross-Boundary Direction Correctness (A->B)\n",
      "{('Blood progenitors 1', 'Blood progenitors 2'): -0.12043489654365461, ('Blood progenitors 2', 'Erythroid1'): -0.14656465956531084, ('Erythroid1', 'Erythroid2'): 0.253945445543715, ('Erythroid2', 'Erythroid3'): 0.37836677711775407}\n",
      "Total Mean: 0.09132816663812592\n",
      "# In-cluster Coherence\n",
      "{'Blood progenitors 1': 0.9854339, 'Blood progenitors 2': 0.9861068, 'Erythroid1': 0.9861848, 'Erythroid2': 0.98669523, 'Erythroid3': 0.9867394}\n",
      "Total Mean: 0.9862319827079773\n",
      "1\n",
      "0\n",
      "0\n",
      "Pancreas_with_cc\n",
      "Keeping at most 1000000 cells per cluster\n",
      "Filtered out 19641 genes that are detected 10 counts (shared).\n",
      "Extracted 3000 highly variable genes.\n",
      "Leiden clustering ...\n"
     ]
    },
    {
     "name": "stderr",
     "output_type": "stream",
     "text": [
      "GPU available: True, used: True\n",
      "TPU available: False, using: 0 TPU cores\n",
      "IPU available: False, using: 0 IPUs\n",
      "LOCAL_RANK: 0 - CUDA_VISIBLE_DEVICES: [0]\n"
     ]
    },
    {
     "name": "stdout",
     "output_type": "stream",
     "text": [
      "Number of Leiden Clusters: 13\n",
      "Maximal Number of Modules: 14\n",
      "Epoch 500/500: 100%|██████████████████████████████████████████████████████████████████████████████████████████████████████████████████████████████████████████████████████████| 500/500 [03:23<00:00,  2.45it/s, v_num=1, elbo_train=1.14e+7]\n",
      "Sampling local variables, batch: 100%|█████████████████████████████████████████████████████████████████████████████████████████████████████████████████████████████████████████████████████████████████████████| 1/1 [00:00<00:00,  1.09it/s]\n",
      "Sampling global variables, sample: 100%|███████████████████████████████████████████████████████████████████████████████████████████████████████████████████████████████████████████████████████████████████████| 2/2 [00:00<00:00,  4.95it/s]\n",
      "Computing total RNAvelocity ...\n"
     ]
    },
    {
     "data": {
      "application/vnd.jupyter.widget-view+json": {
       "model_id": "4f669454c8c14149b9df6af6a51de591",
       "version_major": 2,
       "version_minor": 0
      },
      "text/plain": [
       "  0%|          | 0/3696 [00:00<?, ?cells/s]"
      ]
     },
     "metadata": {},
     "output_type": "display_data"
    },
    {
     "name": "stdout",
     "output_type": "stream",
     "text": [
      "# Cross-Boundary Direction Correctness (A->B)\n",
      "{('Ngn3 high EP', 'Pre-endocrine'): -0.3907178592675646, ('Pre-endocrine', 'Alpha'): 0.08749016757657206, ('Pre-endocrine', 'Beta'): 0.3268332332721564, ('Pre-endocrine', 'Delta'): -0.20362579514558113, ('Pre-endocrine', 'Epsilon'): 0.5023004184407202}\n",
      "Total Mean: 0.06445603297526059\n",
      "# In-cluster Coherence\n",
      "{'Alpha': 0.9916254, 'Beta': 0.9943602, 'Delta': 0.99521166, 'Ductal': 0.9938344, 'Epsilon': 0.99347764, 'Ngn3 high EP': 0.9929608, 'Ngn3 low EP': 0.9951593, 'Pre-endocrine': 0.99400723}\n",
      "Total Mean: 0.993829607963562\n",
      "1\n",
      "0\n",
      "1\n",
      "DentateGyrus\n",
      "Keeping at most 1000000 cells per cluster\n",
      "Filtered out 9174 genes that are detected 10 counts (shared).\n",
      "Extracted 3000 highly variable genes.\n",
      "Leiden clustering ...\n",
      "WARNING: You’re trying to run this on 524 dimensions of `.X`, if you really want this, set `use_rep='X'`.\n",
      "         Falling back to preprocessing with `sc.pp.pca` and default params.\n"
     ]
    },
    {
     "name": "stderr",
     "output_type": "stream",
     "text": [
      "GPU available: True, used: True\n",
      "TPU available: False, using: 0 TPU cores\n",
      "IPU available: False, using: 0 IPUs\n",
      "LOCAL_RANK: 0 - CUDA_VISIBLE_DEVICES: [0]\n"
     ]
    },
    {
     "name": "stdout",
     "output_type": "stream",
     "text": [
      "Number of Leiden Clusters: 13\n",
      "Maximal Number of Modules: 14\n",
      "Epoch 385/500:  77%|██████████████████████████████████████████████████████████████████████████████████████████████████████████████████████▎                                   | 384/500 [02:15<00:40,  2.88it/s, v_num=1, elbo_train=6.49e+6]"
     ]
    }
   ],
   "source": [
    "import scvelo as scv\n",
    "import scanpy as sc\n",
    "import cell2fate as c2f\n",
    "import pickle as pickle\n",
    "import os\n",
    "os.chdir('..')\n",
    "os.chdir('..')\n",
    "from eval_utils import cross_boundary_correctness\n",
    "from datetime import datetime\n",
    "import pandas as pd\n",
    "import numpy as np\n",
    "from os.path import exists\n",
    "import matplotlib.pyplot as plt\n",
    "import torch\n",
    "import unitvelo as utv\n",
    "method = 'Cell2fateDynamicalModel_batchSize10000epochs1000'\n",
    "data_dir = '/nfs/team283/aa16/data/fate_benchmarking/benchmarking_datasets/'\n",
    "save_dir = '/nfs/team283/aa16/data/fate_benchmarking/benchmarking_results/'\n",
    "datasets = ['Pancreas_with_cc',  'DentateGyrus' , 'MouseBoneMarrow', 'MouseErythroid', 'HumanBoneMarrow']\n",
    "n_genes_list = np.array((2000, 3000))\n",
    "n_counts_list = np.array((10, 20))\n",
    "\n",
    "for i in (1,0):\n",
    "    for j in range(len(n_counts_list)):\n",
    "        for k in (3,0,1,2,4):\n",
    "            print(i)\n",
    "            print(j)\n",
    "            print(k)\n",
    "            dataset = datasets[k]\n",
    "            print(dataset)\n",
    "            n_genes = n_genes_list[i]\n",
    "            min_counts = n_counts_list[j]\n",
    "            model_index = str(i) + '-' + str(j) + '-' + str(k)\n",
    "            save_name = method + '_'\n",
    "            if exists(save_dir + save_name + '_CBDC_fullBenchmark.csv'):\n",
    "                tab = pd.read_csv(save_dir + save_name + '_CBDC_fullBenchmark.csv', index_col = 0)\n",
    "                if model_index in tab.index:\n",
    "                    continue\n",
    "            adata = sc.read_h5ad(data_dir + dataset + '/' + dataset + '_anndata.h5ad')\n",
    "            adata = c2f.utils.get_training_data(adata, cells_per_cluster = 10**6, cluster_column = 'clusters',\n",
    "                                            remove_clusters = [], min_shared_counts = min_counts, n_var_genes= n_genes)\n",
    "            c2f.Cell2fate_DynamicalModel.setup_anndata(adata, spliced_label='spliced', unspliced_label='unspliced')    \n",
    "            n_modules = c2f.utils.get_max_modules(adata)\n",
    "            mod = c2f.Cell2fate_DynamicalModel(adata,\n",
    "                                               n_modules = n_modules)   \n",
    "            mod.train(batch_size = 10000, max_epochs = 1000)\n",
    "            sample_kwarg = {\"num_samples\": 3, \"batch_size\" : adata.n_obs,\n",
    "                 \"use_gpu\" : True, 'return_samples': False}\n",
    "            adata = mod.export_posterior(adata, sample_kwargs = sample_kwarg)\n",
    "            mod.compute_and_plot_total_velocity_scvelo(adata, save = False, delete = False)\n",
    "            # Calculate performance metrics:\n",
    "            file = open(data_dir + dataset + '/' + dataset + '_groundTruth.pickle' ,'rb')\n",
    "            ground_truth = pickle.load(file)\n",
    "            metrics = utv.evaluate(adata, ground_truth, 'clusters', 'velocity')\n",
    "            cb_score = [np.mean(metrics['Cross-Boundary Direction Correctness (A->B)'][x])\n",
    "                        for x in metrics['Cross-Boundary Direction Correctness (A->B)'].keys()]\n",
    "            if exists(save_dir + save_name + '_CBDC_fullBenchmark.csv'):\n",
    "                tab = pd.read_csv(save_dir + save_name + '_CBDC_fullBenchmark.csv', index_col = 0)\n",
    "            else:\n",
    "                c_names = ['CBDC']\n",
    "                tab = pd.DataFrame(columns = c_names)\n",
    "            tab.loc[model_index, 'CBDC'] = np.mean(cb_score)\n",
    "            tab.to_csv(save_dir + save_name + '_CBDC_fullBenchmark.csv')\n",
    "tab = pd.read_csv(save_dir + save_name + '_CBDC_fullBenchmark.csv', index_col = 0)\n",
    "tab.loc['AVERAGE', 'CBDC'] = np.mean(tab['CBDC'])\n",
    "tab.to_csv(save_dir + save_name + '_CBDC_fullBenchmark.csv')"
   ]
  },
  {
   "cell_type": "code",
   "execution_count": null,
   "id": "9cc55582",
   "metadata": {},
   "outputs": [],
   "source": []
  }
 ],
 "metadata": {
  "kernelspec": {
   "display_name": "Python [conda env:cell2fate_env]",
   "language": "python",
   "name": "conda-env-cell2fate_env-py"
  },
  "language_info": {
   "codemirror_mode": {
    "name": "ipython",
    "version": 3
   },
   "file_extension": ".py",
   "mimetype": "text/x-python",
   "name": "python",
   "nbconvert_exporter": "python",
   "pygments_lexer": "ipython3",
   "version": "3.9.12"
  }
 },
 "nbformat": 4,
 "nbformat_minor": 5
}
