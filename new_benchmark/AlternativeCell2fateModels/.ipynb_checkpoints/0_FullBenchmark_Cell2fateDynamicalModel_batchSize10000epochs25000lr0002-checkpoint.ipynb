{
 "cells": [
  {
   "cell_type": "code",
   "execution_count": null,
   "id": "fd5023c1",
   "metadata": {},
   "outputs": [
    {
     "name": "stderr",
     "output_type": "stream",
     "text": [
      "Global seed set to 0\n"
     ]
    },
    {
     "name": "stdout",
     "output_type": "stream",
     "text": [
      "(Running UniTVelo 0.2.5)\n",
      "2023-10-22 13:46:38\n",
      "1\n",
      "0\n",
      "3\n",
      "MouseErythroid\n",
      "Keeping at most 1000000 cells per cluster\n",
      "Filtered out 46616 genes that are detected 10 counts (shared).\n",
      "Extracted 3000 highly variable genes.\n",
      "Leiden clustering ...\n",
      "Number of Leiden Clusters: 9\n",
      "Maximal Number of Modules: 10\n"
     ]
    },
    {
     "name": "stderr",
     "output_type": "stream",
     "text": [
      "GPU available: True, used: True\n",
      "TPU available: False, using: 0 TPU cores\n",
      "IPU available: False, using: 0 IPUs\n",
      "LOCAL_RANK: 0 - CUDA_VISIBLE_DEVICES: [0]\n"
     ]
    },
    {
     "name": "stdout",
     "output_type": "stream",
     "text": [
      "Epoch 2000/2000: 100%|██████████████████████████████████████████████████████████████████████████████████████████████████████████████████████████████████████████████████████| 2000/2000 [22:07<00:00,  1.51it/s, v_num=1, elbo_train=3.27e+7]\n",
      "Sampling local variables, batch: 100%|█████████████████████████████████████████████████████████████████████████████████████████████████████████████████████████████████████████████████████████████████████████| 1/1 [00:01<00:00,  1.92s/it]\n",
      "Sampling global variables, sample: 100%|███████████████████████████████████████████████████████████████████████████████████████████████████████████████████████████████████████████████████████████████████████| 2/2 [00:00<00:00,  2.50it/s]\n",
      "Computing total RNAvelocity ...\n"
     ]
    },
    {
     "data": {
      "application/vnd.jupyter.widget-view+json": {
       "model_id": "ee6e69b605b44fb6a298cb3eb9c968af",
       "version_major": 2,
       "version_minor": 0
      },
      "text/plain": [
       "  0%|          | 0/9815 [00:00<?, ?cells/s]"
      ]
     },
     "metadata": {},
     "output_type": "display_data"
    },
    {
     "name": "stdout",
     "output_type": "stream",
     "text": [
      "# Cross-Boundary Direction Correctness (A->B)\n",
      "{('Blood progenitors 1', 'Blood progenitors 2'): -0.024516841573281406, ('Blood progenitors 2', 'Erythroid1'): -0.02208263322919853, ('Erythroid1', 'Erythroid2'): 0.46595604614823866, ('Erythroid2', 'Erythroid3'): -0.47053653695708336}\n",
      "Total Mean: -0.012794991402831163\n",
      "# In-cluster Coherence\n",
      "{'Blood progenitors 1': 0.9992374, 'Blood progenitors 2': 0.9994892, 'Erythroid1': 0.9994536, 'Erythroid2': 0.99960464, 'Erythroid3': 0.99909306}\n",
      "Total Mean: 0.9993755221366882\n",
      "1\n",
      "0\n",
      "0\n",
      "Pancreas_with_cc\n",
      "Keeping at most 1000000 cells per cluster\n",
      "Filtered out 19641 genes that are detected 10 counts (shared).\n",
      "Extracted 3000 highly variable genes.\n",
      "Leiden clustering ...\n"
     ]
    },
    {
     "name": "stderr",
     "output_type": "stream",
     "text": [
      "GPU available: True, used: True\n",
      "TPU available: False, using: 0 TPU cores\n",
      "IPU available: False, using: 0 IPUs\n",
      "LOCAL_RANK: 0 - CUDA_VISIBLE_DEVICES: [0]\n"
     ]
    },
    {
     "name": "stdout",
     "output_type": "stream",
     "text": [
      "Number of Leiden Clusters: 13\n",
      "Maximal Number of Modules: 14\n",
      "Epoch 2000/2000: 100%|██████████████████████████████████████████████████████████████████████████████████████████████████████████████████████████████████████████████████████| 2000/2000 [13:38<00:00,  2.44it/s, v_num=1, elbo_train=1.12e+7]\n",
      "Sampling local variables, batch: 100%|█████████████████████████████████████████████████████████████████████████████████████████████████████████████████████████████████████████████████████████████████████████| 1/1 [00:00<00:00,  1.08it/s]\n",
      "Sampling global variables, sample: 100%|███████████████████████████████████████████████████████████████████████████████████████████████████████████████████████████████████████████████████████████████████████| 2/2 [00:00<00:00,  5.03it/s]\n",
      "Computing total RNAvelocity ...\n"
     ]
    },
    {
     "data": {
      "application/vnd.jupyter.widget-view+json": {
       "model_id": "b79454ae5fc54a93847388bb6114e144",
       "version_major": 2,
       "version_minor": 0
      },
      "text/plain": [
       "  0%|          | 0/3696 [00:00<?, ?cells/s]"
      ]
     },
     "metadata": {},
     "output_type": "display_data"
    },
    {
     "name": "stdout",
     "output_type": "stream",
     "text": [
      "# Cross-Boundary Direction Correctness (A->B)\n",
      "{('Ngn3 high EP', 'Pre-endocrine'): -0.11570018833606792, ('Pre-endocrine', 'Alpha'): 0.04237748607171567, ('Pre-endocrine', 'Beta'): 0.3297991714400456, ('Pre-endocrine', 'Delta'): -0.2376331148609139, ('Pre-endocrine', 'Epsilon'): 0.09582570077374136}\n",
      "Total Mean: 0.02293381101770416\n",
      "# In-cluster Coherence\n",
      "{'Alpha': 0.996116, 'Beta': 0.99607104, 'Delta': 0.99590355, 'Ductal': 0.9963901, 'Epsilon': 0.9958464, 'Ngn3 high EP': 0.9965322, 'Ngn3 low EP': 0.9966775, 'Pre-endocrine': 0.9967004}\n",
      "Total Mean: 0.9962795972824097\n",
      "1\n",
      "0\n",
      "1\n",
      "DentateGyrus\n",
      "Keeping at most 1000000 cells per cluster\n",
      "Filtered out 9174 genes that are detected 10 counts (shared).\n",
      "Extracted 3000 highly variable genes.\n",
      "Leiden clustering ...\n",
      "WARNING: You’re trying to run this on 524 dimensions of `.X`, if you really want this, set `use_rep='X'`.\n",
      "         Falling back to preprocessing with `sc.pp.pca` and default params.\n"
     ]
    },
    {
     "name": "stderr",
     "output_type": "stream",
     "text": [
      "GPU available: True, used: True\n",
      "TPU available: False, using: 0 TPU cores\n",
      "IPU available: False, using: 0 IPUs\n",
      "LOCAL_RANK: 0 - CUDA_VISIBLE_DEVICES: [0]\n"
     ]
    },
    {
     "name": "stdout",
     "output_type": "stream",
     "text": [
      "Number of Leiden Clusters: 13\n",
      "Maximal Number of Modules: 14\n",
      "Epoch 2000/2000: 100%|██████████████████████████████████████████████████████████████████████████████████████████████████████████████████████████████████████████████████████| 2000/2000 [11:43<00:00,  2.84it/s, v_num=1, elbo_train=6.38e+6]\n",
      "Sampling local variables, batch: 100%|█████████████████████████████████████████████████████████████████████████████████████████████████████████████████████████████████████████████████████████████████████████| 1/1 [00:00<00:00,  1.31it/s]\n",
      "Sampling global variables, sample: 100%|███████████████████████████████████████████████████████████████████████████████████████████████████████████████████████████████████████████████████████████████████████| 2/2 [00:00<00:00,  6.04it/s]\n",
      "Computing total RNAvelocity ...\n"
     ]
    },
    {
     "data": {
      "application/vnd.jupyter.widget-view+json": {
       "model_id": "bfd1a1368b794321af193dd8822e1542",
       "version_major": 2,
       "version_minor": 0
      },
      "text/plain": [
       "  0%|          | 0/2930 [00:00<?, ?cells/s]"
      ]
     },
     "metadata": {},
     "output_type": "display_data"
    },
    {
     "name": "stdout",
     "output_type": "stream",
     "text": [
      "# Cross-Boundary Direction Correctness (A->B)\n",
      "{('nIPC', 'Neuroblast'): 0.06893853077472505, ('Neuroblast', 'Granule immature'): 0.11450089642528373, ('Granule immature', 'Granule mature'): 0.05450874835326917, ('Radial Glia-like', 'Astrocytes'): -0.4583870239717162, ('OPC', 'OL'): -0.7406335603416547}\n",
      "Total Mean: -0.1922144817520186\n",
      "# In-cluster Coherence\n",
      "{'Astrocytes': 0.98232573, 'Cajal Retzius': 0.9954477, 'Cck-Tox': 0.9936715, 'Endothelial': 0.9934491, 'GABA': 0.9934267, 'Granule immature': 0.98952013, 'Granule mature': 0.9889378, 'Microglia': 0.9884252, 'Mossy': 0.9867758, 'Neuroblast': 0.98791707, 'OL': 0.9861685, 'OPC': 0.99330395, 'Radial Glia-like': 0.98876566, 'nIPC': 0.9977371}\n",
      "Total Mean: 0.9904194474220276\n",
      "1\n",
      "0\n",
      "2\n",
      "MouseBoneMarrow\n",
      "Keeping at most 1000000 cells per cluster\n",
      "Filtered out 19601 genes that are detected 10 counts (shared).\n",
      "Skip filtering by dispersion since number of variables are less than `n_top_genes`.\n",
      "Leiden clustering ...\n"
     ]
    },
    {
     "name": "stderr",
     "output_type": "stream",
     "text": [
      "GPU available: True, used: True\n",
      "TPU available: False, using: 0 TPU cores\n",
      "IPU available: False, using: 0 IPUs\n",
      "LOCAL_RANK: 0 - CUDA_VISIBLE_DEVICES: [0]\n"
     ]
    },
    {
     "name": "stdout",
     "output_type": "stream",
     "text": [
      "Number of Leiden Clusters: 8\n",
      "Maximal Number of Modules: 9\n",
      "Epoch 2000/2000: 100%|██████████████████████████████████████████████████████████████████████████████████████████████████████████████████████████████████████████████████████| 2000/2000 [06:19<00:00,  5.26it/s, v_num=1, elbo_train=3.92e+6]\n",
      "Sampling local variables, batch: 100%|█████████████████████████████████████████████████████████████████████████████████████████████████████████████████████████████████████████████████████████████████████████| 1/1 [00:00<00:00,  2.65it/s]\n",
      "Sampling global variables, sample: 100%|███████████████████████████████████████████████████████████████████████████████████████████████████████████████████████████████████████████████████████████████████████| 2/2 [00:00<00:00, 11.41it/s]\n",
      "Computing total RNAvelocity ...\n"
     ]
    },
    {
     "data": {
      "application/vnd.jupyter.widget-view+json": {
       "model_id": "c4fc89682c4145fdb5e3332b6c459003",
       "version_major": 2,
       "version_minor": 0
      },
      "text/plain": [
       "  0%|          | 0/2600 [00:00<?, ?cells/s]"
      ]
     },
     "metadata": {},
     "output_type": "display_data"
    },
    {
     "name": "stdout",
     "output_type": "stream",
     "text": [
      "# Cross-Boundary Direction Correctness (A->B)\n",
      "{('dividing', 'progenitors'): -0.09135034258036152, ('progenitors', 'activating'): -0.16728168676389513}\n",
      "Total Mean: -0.12931601467212833\n",
      "# In-cluster Coherence\n",
      "{'B cell lineage': 0.9998982, 'activating': 0.9998568, 'dividing': 0.9999058, 'macrophages': 0.9996863, 'progenitors': 0.99987555}\n",
      "Total Mean: 0.9998445510864258\n",
      "1\n",
      "0\n",
      "4\n",
      "HumanBoneMarrow\n",
      "Keeping at most 1000000 cells per cluster\n",
      "Filtered out 6962 genes that are detected 10 counts (shared).\n",
      "Extracted 3000 highly variable genes.\n",
      "Leiden clustering ...\n",
      "WARNING: You’re trying to run this on 453 dimensions of `.X`, if you really want this, set `use_rep='X'`.\n",
      "         Falling back to preprocessing with `sc.pp.pca` and default params.\n"
     ]
    },
    {
     "name": "stderr",
     "output_type": "stream",
     "text": [
      "GPU available: True, used: True\n",
      "TPU available: False, using: 0 TPU cores\n",
      "IPU available: False, using: 0 IPUs\n",
      "LOCAL_RANK: 0 - CUDA_VISIBLE_DEVICES: [0]\n"
     ]
    },
    {
     "name": "stdout",
     "output_type": "stream",
     "text": [
      "Number of Leiden Clusters: 11\n",
      "Maximal Number of Modules: 12\n",
      "Epoch 2000/2000: 100%|██████████████████████████████████████████████████████████████████████████████████████████████████████████████████████████████████████████████████████| 2000/2000 [17:14<00:00,  1.93it/s, v_num=1, elbo_train=1.56e+7]\n",
      "Sampling local variables, batch: 100%|█████████████████████████████████████████████████████████████████████████████████████████████████████████████████████████████████████████████████████████████████████████| 1/1 [00:01<00:00,  1.29s/it]\n",
      "Sampling global variables, sample: 100%|███████████████████████████████████████████████████████████████████████████████████████████████████████████████████████████████████████████████████████████████████████| 2/2 [00:00<00:00,  3.64it/s]\n",
      "Computing total RNAvelocity ...\n"
     ]
    },
    {
     "data": {
      "application/vnd.jupyter.widget-view+json": {
       "model_id": "709795985f78447e9e60c5b7e2647893",
       "version_major": 2,
       "version_minor": 0
      },
      "text/plain": [
       "  0%|          | 0/5780 [00:00<?, ?cells/s]"
      ]
     },
     "metadata": {},
     "output_type": "display_data"
    },
    {
     "name": "stdout",
     "output_type": "stream",
     "text": [
      "# Cross-Boundary Direction Correctness (A->B)\n",
      "{('HSC_1', 'Ery_1'): -0.09683100696766565, ('HSC_1', 'HSC_2'): -0.06647897878179071, ('Ery_1', 'Ery_2'): 0.02457098356253599}\n",
      "Total Mean: -0.0462463340623068\n",
      "# In-cluster Coherence\n",
      "{'CLP': 0.7919109, 'DCs': 0.8104743, 'Ery_1': 0.7855722, 'Ery_2': 0.79720867, 'HSC_1': 0.7833564, 'HSC_2': 0.7964176, 'Mega': 0.76022476, 'Mono_1': 0.8023017, 'Mono_2': 0.7852189, 'Precursors': 0.76943743}\n",
      "Total Mean: 0.788212239742279\n",
      "1\n",
      "1\n",
      "3\n",
      "MouseErythroid\n",
      "Keeping at most 1000000 cells per cluster\n",
      "Filtered out 47456 genes that are detected 20 counts (shared).\n",
      "Extracted 3000 highly variable genes.\n",
      "Leiden clustering ...\n"
     ]
    },
    {
     "name": "stderr",
     "output_type": "stream",
     "text": [
      "GPU available: True, used: True\n",
      "TPU available: False, using: 0 TPU cores\n",
      "IPU available: False, using: 0 IPUs\n",
      "LOCAL_RANK: 0 - CUDA_VISIBLE_DEVICES: [0]\n"
     ]
    },
    {
     "name": "stdout",
     "output_type": "stream",
     "text": [
      "Number of Leiden Clusters: 9\n",
      "Maximal Number of Modules: 10\n",
      "Epoch 2000/2000: 100%|██████████████████████████████████████████████████████████████████████████████████████████████████████████████████████████████████████████████████████| 2000/2000 [21:47<00:00,  1.53it/s, v_num=1, elbo_train=3.48e+7]\n",
      "Sampling local variables, batch: 100%|█████████████████████████████████████████████████████████████████████████████████████████████████████████████████████████████████████████████████████████████████████████| 1/1 [00:01<00:00,  1.92s/it]\n",
      "Sampling global variables, sample: 100%|███████████████████████████████████████████████████████████████████████████████████████████████████████████████████████████████████████████████████████████████████████| 2/2 [00:00<00:00,  2.47it/s]\n",
      "Computing total RNAvelocity ...\n"
     ]
    },
    {
     "data": {
      "application/vnd.jupyter.widget-view+json": {
       "model_id": "96e848260c3d4c0ab5209094cf80b4ba",
       "version_major": 2,
       "version_minor": 0
      },
      "text/plain": [
       "  0%|          | 0/9815 [00:00<?, ?cells/s]"
      ]
     },
     "metadata": {},
     "output_type": "display_data"
    },
    {
     "name": "stdout",
     "output_type": "stream",
     "text": [
      "# Cross-Boundary Direction Correctness (A->B)\n",
      "{('Blood progenitors 1', 'Blood progenitors 2'): -0.12602284160790242, ('Blood progenitors 2', 'Erythroid1'): -0.23169793057697094, ('Erythroid1', 'Erythroid2'): 0.10490531821153654, ('Erythroid2', 'Erythroid3'): 0.24600628353327478}\n",
      "Total Mean: -0.0017022926100155114\n",
      "# In-cluster Coherence\n",
      "{'Blood progenitors 1': 0.99974746, 'Blood progenitors 2': 0.99978626, 'Erythroid1': 0.9997292, 'Erythroid2': 0.9997148, 'Erythroid3': 0.99975216}\n",
      "Total Mean: 0.9997459650039673\n",
      "1\n",
      "1\n",
      "0\n",
      "Pancreas_with_cc\n",
      "Keeping at most 1000000 cells per cluster\n",
      "Filtered out 20801 genes that are detected 20 counts (shared).\n",
      "Extracted 3000 highly variable genes.\n",
      "Leiden clustering ...\n"
     ]
    },
    {
     "name": "stderr",
     "output_type": "stream",
     "text": [
      "GPU available: True, used: True\n",
      "TPU available: False, using: 0 TPU cores\n",
      "IPU available: False, using: 0 IPUs\n",
      "LOCAL_RANK: 0 - CUDA_VISIBLE_DEVICES: [0]\n"
     ]
    },
    {
     "name": "stdout",
     "output_type": "stream",
     "text": [
      "Number of Leiden Clusters: 13\n",
      "Maximal Number of Modules: 14\n",
      "Epoch 2000/2000: 100%|██████████████████████████████████████████████████████████████████████████████████████████████████████████████████████████████████████████████████████| 2000/2000 [13:41<00:00,  2.43it/s, v_num=1, elbo_train=1.22e+7]\n",
      "Sampling local variables, batch: 100%|█████████████████████████████████████████████████████████████████████████████████████████████████████████████████████████████████████████████████████████████████████████| 1/1 [00:00<00:00,  1.08it/s]\n",
      "Sampling global variables, sample: 100%|███████████████████████████████████████████████████████████████████████████████████████████████████████████████████████████████████████████████████████████████████████| 2/2 [00:00<00:00,  4.92it/s]\n",
      "Computing total RNAvelocity ...\n"
     ]
    },
    {
     "data": {
      "application/vnd.jupyter.widget-view+json": {
       "model_id": "ce8d34f1b1914af79c62eeb83b3cd22e",
       "version_major": 2,
       "version_minor": 0
      },
      "text/plain": [
       "  0%|          | 0/3696 [00:00<?, ?cells/s]"
      ]
     },
     "metadata": {},
     "output_type": "display_data"
    },
    {
     "name": "stdout",
     "output_type": "stream",
     "text": [
      "# Cross-Boundary Direction Correctness (A->B)\n",
      "{('Ngn3 high EP', 'Pre-endocrine'): 0.2095254228075815, ('Pre-endocrine', 'Alpha'): -0.1427174522798165, ('Pre-endocrine', 'Beta'): -0.02912165378171563, ('Pre-endocrine', 'Delta'): -0.441951590530024, ('Pre-endocrine', 'Epsilon'): -0.07690463380545061}\n",
      "Total Mean: -0.09623398151788504\n",
      "# In-cluster Coherence\n",
      "{'Alpha': 0.9999092, 'Beta': 0.9999463, 'Delta': 0.99987304, 'Ductal': 0.9998925, 'Epsilon': 0.9999609, 'Ngn3 high EP': 0.99995846, 'Ngn3 low EP': 0.99992245, 'Pre-endocrine': 0.9999627}\n",
      "Total Mean: 0.9999281764030457\n",
      "1\n",
      "1\n",
      "1\n",
      "DentateGyrus\n",
      "Keeping at most 1000000 cells per cluster\n",
      "Filtered out 10340 genes that are detected 20 counts (shared).\n",
      "Extracted 3000 highly variable genes.\n",
      "Leiden clustering ...\n",
      "WARNING: You’re trying to run this on 507 dimensions of `.X`, if you really want this, set `use_rep='X'`.\n",
      "         Falling back to preprocessing with `sc.pp.pca` and default params.\n"
     ]
    },
    {
     "name": "stderr",
     "output_type": "stream",
     "text": [
      "GPU available: True, used: True\n",
      "TPU available: False, using: 0 TPU cores\n",
      "IPU available: False, using: 0 IPUs\n",
      "LOCAL_RANK: 0 - CUDA_VISIBLE_DEVICES: [0]\n"
     ]
    },
    {
     "name": "stdout",
     "output_type": "stream",
     "text": [
      "Number of Leiden Clusters: 14\n",
      "Maximal Number of Modules: 16\n",
      "Epoch 2000/2000: 100%|██████████████████████████████████████████████████████████████████████████████████████████████████████████████████████████████████████████████████████| 2000/2000 [12:26<00:00,  2.68it/s, v_num=1, elbo_train=7.32e+6]\n",
      "Sampling local variables, batch: 100%|█████████████████████████████████████████████████████████████████████████████████████████████████████████████████████████████████████████████████████████████████████████| 1/1 [00:00<00:00,  1.26it/s]\n",
      "Sampling global variables, sample: 100%|███████████████████████████████████████████████████████████████████████████████████████████████████████████████████████████████████████████████████████████████████████| 2/2 [00:00<00:00,  5.81it/s]\n",
      "Computing total RNAvelocity ...\n"
     ]
    },
    {
     "data": {
      "application/vnd.jupyter.widget-view+json": {
       "model_id": "088cd33089c64f3b8ea0464bcc7e2bcf",
       "version_major": 2,
       "version_minor": 0
      },
      "text/plain": [
       "  0%|          | 0/2930 [00:00<?, ?cells/s]"
      ]
     },
     "metadata": {},
     "output_type": "display_data"
    },
    {
     "name": "stdout",
     "output_type": "stream",
     "text": [
      "# Cross-Boundary Direction Correctness (A->B)\n",
      "{('nIPC', 'Neuroblast'): -0.291089910462318, ('Neuroblast', 'Granule immature'): -0.2590635191481949, ('Granule immature', 'Granule mature'): 0.026811348304065064, ('Radial Glia-like', 'Astrocytes'): -0.3578903361187991, ('OPC', 'OL'): -0.9683605648358955}\n",
      "Total Mean: -0.3699185964522285\n",
      "# In-cluster Coherence\n",
      "{'Astrocytes': 0.99833006, 'Cajal Retzius': 0.9987292, 'Cck-Tox': 0.996748, 'Endothelial': 0.99868387, 'GABA': 0.9949676, 'Granule immature': 0.99667764, 'Granule mature': 0.99703246, 'Microglia': 0.9975073, 'Mossy': 0.99665344, 'Neuroblast': 0.9954497, 'OL': 0.9986795, 'OPC': 0.9984501, 'Radial Glia-like': 0.9980061, 'nIPC': 0.9983852}\n",
      "Total Mean: 0.9974499940872192\n",
      "1\n",
      "1\n",
      "2\n",
      "MouseBoneMarrow\n",
      "Keeping at most 1000000 cells per cluster\n",
      "Filtered out 20300 genes that are detected 20 counts (shared).\n",
      "Skip filtering by dispersion since number of variables are less than `n_top_genes`.\n",
      "Leiden clustering ...\n"
     ]
    },
    {
     "name": "stderr",
     "output_type": "stream",
     "text": [
      "GPU available: True, used: True\n",
      "TPU available: False, using: 0 TPU cores\n",
      "IPU available: False, using: 0 IPUs\n",
      "LOCAL_RANK: 0 - CUDA_VISIBLE_DEVICES: [0]\n"
     ]
    },
    {
     "name": "stdout",
     "output_type": "stream",
     "text": [
      "Number of Leiden Clusters: 8\n",
      "Maximal Number of Modules: 9\n",
      "Epoch 2000/2000: 100%|██████████████████████████████████████████████████████████████████████████████████████████████████████████████████████████████████████████████████████| 2000/2000 [05:28<00:00,  6.10it/s, v_num=1, elbo_train=3.01e+6]\n",
      "Sampling local variables, batch: 100%|█████████████████████████████████████████████████████████████████████████████████████████████████████████████████████████████████████████████████████████████████████████| 1/1 [00:00<00:00,  3.49it/s]\n",
      "Sampling global variables, sample: 100%|███████████████████████████████████████████████████████████████████████████████████████████████████████████████████████████████████████████████████████████████████████| 2/2 [00:00<00:00, 16.06it/s]\n",
      "Computing total RNAvelocity ...\n"
     ]
    },
    {
     "data": {
      "application/vnd.jupyter.widget-view+json": {
       "model_id": "785e370b4fef4edc99ec0512614f3711",
       "version_major": 2,
       "version_minor": 0
      },
      "text/plain": [
       "  0%|          | 0/2600 [00:00<?, ?cells/s]"
      ]
     },
     "metadata": {},
     "output_type": "display_data"
    },
    {
     "name": "stdout",
     "output_type": "stream",
     "text": [
      "# Cross-Boundary Direction Correctness (A->B)\n",
      "{('dividing', 'progenitors'): 0.25981155846640824, ('progenitors', 'activating'): 0.0012503209050863829}\n",
      "Total Mean: 0.1305309396857473\n",
      "# In-cluster Coherence\n",
      "{'B cell lineage': 0.9989919, 'activating': 0.9985485, 'dividing': 0.99643576, 'macrophages': 0.9966865, 'progenitors': 0.99806964}\n",
      "Total Mean: 0.997746467590332\n",
      "1\n",
      "1\n",
      "4\n",
      "HumanBoneMarrow\n",
      "Keeping at most 1000000 cells per cluster\n",
      "Filtered out 7837 genes that are detected 20 counts (shared).\n",
      "Extracted 3000 highly variable genes.\n",
      "Leiden clustering ...\n",
      "WARNING: You’re trying to run this on 435 dimensions of `.X`, if you really want this, set `use_rep='X'`.\n",
      "         Falling back to preprocessing with `sc.pp.pca` and default params.\n"
     ]
    },
    {
     "name": "stderr",
     "output_type": "stream",
     "text": [
      "GPU available: True, used: True\n",
      "TPU available: False, using: 0 TPU cores\n",
      "IPU available: False, using: 0 IPUs\n",
      "LOCAL_RANK: 0 - CUDA_VISIBLE_DEVICES: [0]\n"
     ]
    },
    {
     "name": "stdout",
     "output_type": "stream",
     "text": [
      "Number of Leiden Clusters: 10\n",
      "Maximal Number of Modules: 11\n",
      "Epoch 1375/2000:  69%|███████████████████████████████████████████████████████████████████████████████████████████████████████                                               | 1374/2000 [11:09<05:02,  2.07it/s, v_num=1, elbo_train=1.71e+7]"
     ]
    }
   ],
   "source": [
    "import scvelo as scv\n",
    "import scanpy as sc\n",
    "import cell2fate as c2f\n",
    "import pickle as pickle\n",
    "import os\n",
    "os.chdir('..')\n",
    "os.chdir('..')\n",
    "from eval_utils import cross_boundary_correctness\n",
    "from datetime import datetime\n",
    "import pandas as pd\n",
    "import numpy as np\n",
    "from os.path import exists\n",
    "import matplotlib.pyplot as plt\n",
    "import torch\n",
    "import unitvelo as utv\n",
    "method = 'Cell2fateDynamicalModel_batchSize10000epochs25000lr0002'\n",
    "data_dir = '/nfs/team283/aa16/data/fate_benchmarking/benchmarking_datasets/'\n",
    "save_dir = '/nfs/team283/aa16/data/fate_benchmarking/benchmarking_results/'\n",
    "datasets = ['Pancreas_with_cc',  'DentateGyrus' , 'MouseBoneMarrow', 'MouseErythroid', 'HumanBoneMarrow']\n",
    "n_genes_list = np.array((2000, 3000))\n",
    "n_counts_list = np.array((10, 20))\n",
    "\n",
    "for i in (1,0):\n",
    "    for j in range(len(n_counts_list)):\n",
    "        for k in (3,0,1,2,4):\n",
    "            print(i)\n",
    "            print(j)\n",
    "            print(k)\n",
    "            dataset = datasets[k]\n",
    "            print(dataset)\n",
    "            n_genes = n_genes_list[i]\n",
    "            min_counts = n_counts_list[j]\n",
    "            model_index = str(i) + '-' + str(j) + '-' + str(k)\n",
    "            save_name = method + '_'\n",
    "            if exists(save_dir + save_name + '_CBDC_fullBenchmark.csv'):\n",
    "                tab = pd.read_csv(save_dir + save_name + '_CBDC_fullBenchmark.csv', index_col = 0)\n",
    "                if model_index in tab.index:\n",
    "                    continue\n",
    "            adata = sc.read_h5ad(data_dir + dataset + '/' + dataset + '_anndata.h5ad')\n",
    "            adata = c2f.utils.get_training_data(adata, cells_per_cluster = 10**6, cluster_column = 'clusters',\n",
    "                                            remove_clusters = [], min_shared_counts = min_counts, n_var_genes= n_genes)\n",
    "            c2f.Cell2fate_DynamicalModel.setup_anndata(adata, spliced_label='spliced', unspliced_label='unspliced')    \n",
    "            n_modules = c2f.utils.get_max_modules(adata)\n",
    "            mod = c2f.Cell2fate_DynamicalModel(adata,\n",
    "                                               n_modules = n_modules)   \n",
    "            mod.train(batch_size = 10000, max_epochs = 25000, lr=0.002)\n",
    "            sample_kwarg = {\"num_samples\": 3, \"batch_size\" : adata.n_obs,\n",
    "                 \"use_gpu\" : True, 'return_samples': False}\n",
    "            adata = mod.export_posterior(adata, sample_kwargs = sample_kwarg)\n",
    "            mod.compute_and_plot_total_velocity_scvelo(adata, save = False, delete = False)\n",
    "            # Calculate performance metrics:\n",
    "            file = open(data_dir + dataset + '/' + dataset + '_groundTruth.pickle' ,'rb')\n",
    "            ground_truth = pickle.load(file)\n",
    "            metrics = utv.evaluate(adata, ground_truth, 'clusters', 'velocity')\n",
    "            cb_score = [np.mean(metrics['Cross-Boundary Direction Correctness (A->B)'][x])\n",
    "                        for x in metrics['Cross-Boundary Direction Correctness (A->B)'].keys()]\n",
    "            if exists(save_dir + save_name + '_CBDC_fullBenchmark.csv'):\n",
    "                tab = pd.read_csv(save_dir + save_name + '_CBDC_fullBenchmark.csv', index_col = 0)\n",
    "            else:\n",
    "                c_names = ['CBDC']\n",
    "                tab = pd.DataFrame(columns = c_names)\n",
    "            tab.loc[model_index, 'CBDC'] = np.mean(cb_score)\n",
    "            tab.to_csv(save_dir + save_name + '_CBDC_fullBenchmark.csv')\n",
    "tab = pd.read_csv(save_dir + save_name + '_CBDC_fullBenchmark.csv', index_col = 0)\n",
    "tab.loc['AVERAGE', 'CBDC'] = np.mean(tab['CBDC'])\n",
    "tab.to_csv(save_dir + save_name + '_CBDC_fullBenchmark.csv')"
   ]
  },
  {
   "cell_type": "code",
   "execution_count": null,
   "id": "9cc55582",
   "metadata": {},
   "outputs": [],
   "source": []
  }
 ],
 "metadata": {
  "kernelspec": {
   "display_name": "Python [conda env:cell2fate_env]",
   "language": "python",
   "name": "conda-env-cell2fate_env-py"
  },
  "language_info": {
   "codemirror_mode": {
    "name": "ipython",
    "version": 3
   },
   "file_extension": ".py",
   "mimetype": "text/x-python",
   "name": "python",
   "nbconvert_exporter": "python",
   "pygments_lexer": "ipython3",
   "version": "3.9.12"
  }
 },
 "nbformat": 4,
 "nbformat_minor": 5
}
