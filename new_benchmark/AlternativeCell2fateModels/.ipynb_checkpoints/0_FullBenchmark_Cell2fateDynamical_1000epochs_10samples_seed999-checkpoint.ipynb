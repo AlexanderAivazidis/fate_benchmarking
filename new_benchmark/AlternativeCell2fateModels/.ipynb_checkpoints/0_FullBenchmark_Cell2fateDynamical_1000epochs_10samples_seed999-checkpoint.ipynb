{
 "cells": [
  {
   "cell_type": "code",
   "execution_count": null,
   "id": "fd5023c1",
   "metadata": {},
   "outputs": [
    {
     "name": "stderr",
     "output_type": "stream",
     "text": [
      "Global seed set to 0\n"
     ]
    },
    {
     "name": "stdout",
     "output_type": "stream",
     "text": [
      "(Running UniTVelo 0.2.5)\n",
      "2023-10-30 11:50:47\n",
      "0\n",
      "0\n",
      "3\n",
      "Keeping at most 1000000 cells per cluster\n",
      "Filtered out 46616 genes that are detected 10 counts (shared).\n"
     ]
    },
    {
     "name": "stderr",
     "output_type": "stream",
     "text": [
      "Global seed set to 999\n"
     ]
    },
    {
     "name": "stdout",
     "output_type": "stream",
     "text": [
      "Extracted 2000 highly variable genes.\n",
      "Leiden clustering ...\n"
     ]
    },
    {
     "name": "stderr",
     "output_type": "stream",
     "text": [
      "GPU available: True, used: True\n",
      "TPU available: False, using: 0 TPU cores\n",
      "IPU available: False, using: 0 IPUs\n",
      "LOCAL_RANK: 0 - CUDA_VISIBLE_DEVICES: [0]\n"
     ]
    },
    {
     "name": "stdout",
     "output_type": "stream",
     "text": [
      "Number of Leiden Clusters: 9\n",
      "Maximal Number of Modules: 10\n",
      "Epoch 400/400: 100%|██████████████████████████████████████████████████████████████████████████████████████████████████████████████████████████████████████████████████████████| 400/400 [23:55<00:00,  3.59s/it, v_num=1, elbo_train=2.19e+7]\n",
      "Sampling local variables, batch: 100%|█████████████████████████████████████████████████████████████████████████████████████████████████████████████████████████████████████████████████████████████████████████| 1/1 [00:03<00:00,  3.76s/it]\n",
      "Sampling global variables, sample: 100%|███████████████████████████████████████████████████████████████████████████████████████████████████████████████████████████████████████████████████████████████████████| 9/9 [00:02<00:00,  3.49it/s]\n",
      "Computing total RNAvelocity ...\n"
     ]
    },
    {
     "data": {
      "application/vnd.jupyter.widget-view+json": {
       "model_id": "e6843ac37f854f04922737b4b84e43d2",
       "version_major": 2,
       "version_minor": 0
      },
      "text/plain": [
       "  0%|          | 0/9815 [00:00<?, ?cells/s]"
      ]
     },
     "metadata": {},
     "output_type": "display_data"
    },
    {
     "name": "stdout",
     "output_type": "stream",
     "text": [
      "# Cross-Boundary Direction Correctness (A->B)\n",
      "{('Blood progenitors 1', 'Blood progenitors 2'): -0.8595527385941876, ('Blood progenitors 2', 'Erythroid1'): -0.657162386732199, ('Erythroid1', 'Erythroid2'): -0.7703188995886803, ('Erythroid2', 'Erythroid3'): -0.7823750552891525}\n",
      "Total Mean: -0.7673522700510548\n",
      "# In-cluster Coherence\n",
      "{'Blood progenitors 1': 0.96323526, 'Blood progenitors 2': 0.90260434, 'Erythroid1': 0.9107797, 'Erythroid2': 0.95538795, 'Erythroid3': 0.8921338}\n",
      "Total Mean: 0.9248282313346863\n",
      "0\n",
      "0\n",
      "1\n",
      "Keeping at most 1000000 cells per cluster\n"
     ]
    },
    {
     "name": "stderr",
     "output_type": "stream",
     "text": [
      "Global seed set to 999\n"
     ]
    },
    {
     "name": "stdout",
     "output_type": "stream",
     "text": [
      "Filtered out 9174 genes that are detected 10 counts (shared).\n",
      "Extracted 2000 highly variable genes.\n",
      "Leiden clustering ...\n",
      "WARNING: You’re trying to run this on 368 dimensions of `.X`, if you really want this, set `use_rep='X'`.\n",
      "         Falling back to preprocessing with `sc.pp.pca` and default params.\n"
     ]
    },
    {
     "name": "stderr",
     "output_type": "stream",
     "text": [
      "GPU available: True, used: True\n",
      "TPU available: False, using: 0 TPU cores\n",
      "IPU available: False, using: 0 IPUs\n",
      "LOCAL_RANK: 0 - CUDA_VISIBLE_DEVICES: [0]\n"
     ]
    },
    {
     "name": "stdout",
     "output_type": "stream",
     "text": [
      "Number of Leiden Clusters: 14\n",
      "Maximal Number of Modules: 16\n",
      "Epoch 400/400: 100%|██████████████████████████████████████████████████████████████████████████████████████████████████████████████████████████████████████████████████████████| 400/400 [08:25<00:00,  1.26s/it, v_num=1, elbo_train=3.87e+6]\n",
      "Sampling local variables, batch: 100%|█████████████████████████████████████████████████████████████████████████████████████████████████████████████████████████████████████████████████████████████████████████| 1/1 [00:02<00:00,  2.13s/it]\n",
      "Sampling global variables, sample: 100%|███████████████████████████████████████████████████████████████████████████████████████████████████████████████████████████████████████████████████████████████████████| 9/9 [00:01<00:00,  5.62it/s]\n",
      "Computing total RNAvelocity ...\n"
     ]
    },
    {
     "data": {
      "application/vnd.jupyter.widget-view+json": {
       "model_id": "b86f73c3e96b4e5db1f25e1bc7b0e363",
       "version_major": 2,
       "version_minor": 0
      },
      "text/plain": [
       "  0%|          | 0/2930 [00:00<?, ?cells/s]"
      ]
     },
     "metadata": {},
     "output_type": "display_data"
    },
    {
     "name": "stdout",
     "output_type": "stream",
     "text": [
      "# Cross-Boundary Direction Correctness (A->B)\n",
      "{('nIPC', 'Neuroblast'): 0.3621457054269066, ('Neuroblast', 'Granule immature'): 0.5951041219626075, ('Granule immature', 'Granule mature'): 0.37904607735041895, ('Radial Glia-like', 'Astrocytes'): 0.21480782064955753, ('OPC', 'OL'): 0.24817688815401884}\n",
      "Total Mean: 0.3598561227087019\n",
      "# In-cluster Coherence\n",
      "{'Astrocytes': 0.80445796, 'Cajal Retzius': 0.59934556, 'Cck-Tox': 0.95785517, 'Endothelial': 0.75522256, 'GABA': 0.9171195, 'Granule immature': 0.9179105, 'Granule mature': 0.96850973, 'Microglia': 0.8940362, 'Mossy': 0.9286519, 'Neuroblast': 0.8087368, 'OL': 0.5545682, 'OPC': 0.52715755, 'Radial Glia-like': 0.67717797, 'nIPC': 0.71937966}\n",
      "Total Mean: 0.7878664135932922\n",
      "0\n",
      "0\n",
      "2\n",
      "Keeping at most 1000000 cells per cluster\n"
     ]
    },
    {
     "name": "stderr",
     "output_type": "stream",
     "text": [
      "Global seed set to 999\n"
     ]
    },
    {
     "name": "stdout",
     "output_type": "stream",
     "text": [
      "Filtered out 19601 genes that are detected 10 counts (shared).\n",
      "Skip filtering by dispersion since number of variables are less than `n_top_genes`.\n",
      "Leiden clustering ...\n"
     ]
    },
    {
     "name": "stderr",
     "output_type": "stream",
     "text": [
      "GPU available: True, used: True\n",
      "TPU available: False, using: 0 TPU cores\n",
      "IPU available: False, using: 0 IPUs\n",
      "LOCAL_RANK: 0 - CUDA_VISIBLE_DEVICES: [0]\n"
     ]
    },
    {
     "name": "stdout",
     "output_type": "stream",
     "text": [
      "Number of Leiden Clusters: 8\n",
      "Maximal Number of Modules: 9\n",
      "Epoch 400/400: 100%|██████████████████████████████████████████████████████████████████████████████████████████████████████████████████████████████████████████████████████████| 400/400 [07:29<00:00,  1.12s/it, v_num=1, elbo_train=3.71e+6]\n",
      "Sampling local variables, batch: 100%|█████████████████████████████████████████████████████████████████████████████████████████████████████████████████████████████████████████████████████████████████████████| 1/1 [00:01<00:00,  1.76s/it]\n",
      "Sampling global variables, sample: 100%|███████████████████████████████████████████████████████████████████████████████████████████████████████████████████████████████████████████████████████████████████████| 9/9 [00:01<00:00,  6.81it/s]\n",
      "Computing total RNAvelocity ...\n"
     ]
    },
    {
     "data": {
      "application/vnd.jupyter.widget-view+json": {
       "model_id": "45862c03464f40c7a1a19734e077d80a",
       "version_major": 2,
       "version_minor": 0
      },
      "text/plain": [
       "  0%|          | 0/2600 [00:00<?, ?cells/s]"
      ]
     },
     "metadata": {},
     "output_type": "display_data"
    },
    {
     "name": "stdout",
     "output_type": "stream",
     "text": [
      "# Cross-Boundary Direction Correctness (A->B)\n",
      "{('dividing', 'progenitors'): -0.5364035274643797, ('progenitors', 'activating'): -0.7816675265436754}\n",
      "Total Mean: -0.6590355270040276\n",
      "# In-cluster Coherence\n",
      "{'B cell lineage': 0.8370423, 'activating': 0.83442223, 'dividing': 0.9249069, 'macrophages': 0.7992796, 'progenitors': 0.81440693}\n",
      "Total Mean: 0.842011570930481\n",
      "0\n",
      "0\n",
      "0\n",
      "Keeping at most 1000000 cells per cluster\n",
      "Filtered out 19641 genes that are detected 10 counts (shared).\n"
     ]
    },
    {
     "name": "stderr",
     "output_type": "stream",
     "text": [
      "Global seed set to 999\n"
     ]
    },
    {
     "name": "stdout",
     "output_type": "stream",
     "text": [
      "Extracted 2000 highly variable genes.\n",
      "Leiden clustering ...\n"
     ]
    },
    {
     "name": "stderr",
     "output_type": "stream",
     "text": [
      "GPU available: True, used: True\n",
      "TPU available: False, using: 0 TPU cores\n",
      "IPU available: False, using: 0 IPUs\n",
      "LOCAL_RANK: 0 - CUDA_VISIBLE_DEVICES: [0]\n"
     ]
    },
    {
     "name": "stdout",
     "output_type": "stream",
     "text": [
      "Number of Leiden Clusters: 13\n",
      "Maximal Number of Modules: 14\n",
      "Epoch 400/400: 100%|██████████████████████████████████████████████████████████████████████████████████████████████████████████████████████████████████████████████████████████| 400/400 [09:26<00:00,  1.42s/it, v_num=1, elbo_train=6.93e+6]\n",
      "Sampling local variables, batch: 100%|█████████████████████████████████████████████████████████████████████████████████████████████████████████████████████████████████████████████████████████████████████████| 1/1 [00:02<00:00,  2.94s/it]\n",
      "Sampling global variables, sample: 100%|███████████████████████████████████████████████████████████████████████████████████████████████████████████████████████████████████████████████████████████████████████| 9/9 [00:02<00:00,  4.43it/s]\n",
      "Computing total RNAvelocity ...\n"
     ]
    },
    {
     "data": {
      "application/vnd.jupyter.widget-view+json": {
       "model_id": "c439b133e7574774b05b70ee52b2d0bc",
       "version_major": 2,
       "version_minor": 0
      },
      "text/plain": [
       "  0%|          | 0/3696 [00:00<?, ?cells/s]"
      ]
     },
     "metadata": {},
     "output_type": "display_data"
    },
    {
     "name": "stdout",
     "output_type": "stream",
     "text": [
      "# Cross-Boundary Direction Correctness (A->B)\n",
      "{('Ngn3 high EP', 'Pre-endocrine'): -0.5162644292093684, ('Pre-endocrine', 'Alpha'): -0.6258791955737865, ('Pre-endocrine', 'Beta'): -0.6926317855207266, ('Pre-endocrine', 'Delta'): -0.283495221573465, ('Pre-endocrine', 'Epsilon'): -0.35891161985517867}\n",
      "Total Mean: -0.4954364503465051\n",
      "# In-cluster Coherence\n",
      "{'Alpha': 0.9261763, 'Beta': 0.86538225, 'Delta': 0.87262285, 'Ductal': 0.89602315, 'Epsilon': 0.9276092, 'Ngn3 high EP': 0.945026, 'Ngn3 low EP': 0.91157657, 'Pre-endocrine': 0.9146425}\n",
      "Total Mean: 0.9073823690414429\n",
      "0\n",
      "0\n",
      "4\n",
      "Keeping at most 1000000 cells per cluster\n",
      "Filtered out 6962 genes that are detected 10 counts (shared).\n"
     ]
    },
    {
     "name": "stderr",
     "output_type": "stream",
     "text": [
      "Global seed set to 999\n"
     ]
    },
    {
     "name": "stdout",
     "output_type": "stream",
     "text": [
      "Extracted 2000 highly variable genes.\n",
      "Leiden clustering ...\n",
      "WARNING: You’re trying to run this on 312 dimensions of `.X`, if you really want this, set `use_rep='X'`.\n",
      "         Falling back to preprocessing with `sc.pp.pca` and default params.\n"
     ]
    },
    {
     "name": "stderr",
     "output_type": "stream",
     "text": [
      "GPU available: True, used: True\n",
      "TPU available: False, using: 0 TPU cores\n",
      "IPU available: False, using: 0 IPUs\n",
      "LOCAL_RANK: 0 - CUDA_VISIBLE_DEVICES: [0]\n"
     ]
    },
    {
     "name": "stdout",
     "output_type": "stream",
     "text": [
      "Number of Leiden Clusters: 11\n",
      "Maximal Number of Modules: 12\n",
      "Epoch 400/400: 100%|██████████████████████████████████████████████████████████████████████████████████████████████████████████████████████████████████████████████████████████| 400/400 [16:25<00:00,  2.46s/it, v_num=1, elbo_train=9.79e+6]\n",
      "Sampling local variables, batch: 100%|█████████████████████████████████████████████████████████████████████████████████████████████████████████████████████████████████████████████████████████████████████████| 1/1 [00:02<00:00,  2.59s/it]\n",
      "Sampling global variables, sample: 100%|███████████████████████████████████████████████████████████████████████████████████████████████████████████████████████████████████████████████████████████████████████| 9/9 [00:01<00:00,  5.03it/s]\n",
      "Computing total RNAvelocity ...\n"
     ]
    },
    {
     "data": {
      "application/vnd.jupyter.widget-view+json": {
       "model_id": "18927856df414e40a45bbf83565170e3",
       "version_major": 2,
       "version_minor": 0
      },
      "text/plain": [
       "  0%|          | 0/5780 [00:00<?, ?cells/s]"
      ]
     },
     "metadata": {},
     "output_type": "display_data"
    },
    {
     "name": "stdout",
     "output_type": "stream",
     "text": [
      "# Cross-Boundary Direction Correctness (A->B)\n",
      "{('HSC_1', 'Ery_1'): 0.5503180739432956, ('HSC_1', 'HSC_2'): -0.17044320304179728, ('Ery_1', 'Ery_2'): 0.6774887265450277}\n",
      "Total Mean: 0.35245453248217534\n",
      "# In-cluster Coherence\n",
      "{'CLP': 0.9078553, 'DCs': 0.8244829, 'Ery_1': 0.72972417, 'Ery_2': 0.9416516, 'HSC_1': 0.70152223, 'HSC_2': 0.6745923, 'Mega': 0.8588939, 'Mono_1': 0.64372736, 'Mono_2': 0.76555806, 'Precursors': 0.6125622}\n",
      "Total Mean: 0.766057014465332\n",
      "0\n",
      "1\n",
      "3\n",
      "Keeping at most 1000000 cells per cluster\n",
      "Filtered out 47456 genes that are detected 20 counts (shared).\n"
     ]
    },
    {
     "name": "stderr",
     "output_type": "stream",
     "text": [
      "Global seed set to 999\n"
     ]
    },
    {
     "name": "stdout",
     "output_type": "stream",
     "text": [
      "Extracted 2000 highly variable genes.\n",
      "Leiden clustering ...\n"
     ]
    },
    {
     "name": "stderr",
     "output_type": "stream",
     "text": [
      "GPU available: True, used: True\n",
      "TPU available: False, using: 0 TPU cores\n",
      "IPU available: False, using: 0 IPUs\n",
      "LOCAL_RANK: 0 - CUDA_VISIBLE_DEVICES: [0]\n"
     ]
    },
    {
     "name": "stdout",
     "output_type": "stream",
     "text": [
      "Number of Leiden Clusters: 9\n",
      "Maximal Number of Modules: 10\n",
      "Epoch 400/400: 100%|██████████████████████████████████████████████████████████████████████████████████████████████████████████████████████████████████████████████████████████| 400/400 [25:25<00:00,  3.81s/it, v_num=1, elbo_train=2.35e+7]\n",
      "Sampling local variables, batch: 100%|█████████████████████████████████████████████████████████████████████████████████████████████████████████████████████████████████████████████████████████████████████████| 1/1 [00:04<00:00,  4.52s/it]\n",
      "Sampling global variables, sample: 100%|███████████████████████████████████████████████████████████████████████████████████████████████████████████████████████████████████████████████████████████████████████| 9/9 [00:03<00:00,  2.82it/s]\n",
      "Computing total RNAvelocity ...\n"
     ]
    },
    {
     "data": {
      "application/vnd.jupyter.widget-view+json": {
       "model_id": "da9d9c2284c14be1888d88db8696dd31",
       "version_major": 2,
       "version_minor": 0
      },
      "text/plain": [
       "  0%|          | 0/9815 [00:00<?, ?cells/s]"
      ]
     },
     "metadata": {},
     "output_type": "display_data"
    },
    {
     "name": "stdout",
     "output_type": "stream",
     "text": [
      "# Cross-Boundary Direction Correctness (A->B)\n",
      "{('Blood progenitors 1', 'Blood progenitors 2'): -0.8340380516681053, ('Blood progenitors 2', 'Erythroid1'): -0.673923394995981, ('Erythroid1', 'Erythroid2'): -0.7339697740360446, ('Erythroid2', 'Erythroid3'): -0.7902818931219663}\n",
      "Total Mean: -0.7580532784555243\n",
      "# In-cluster Coherence\n",
      "{'Blood progenitors 1': 0.9797351, 'Blood progenitors 2': 0.8998289, 'Erythroid1': 0.91034824, 'Erythroid2': 0.92242515, 'Erythroid3': 0.883268}\n",
      "Total Mean: 0.9191210865974426\n",
      "0\n",
      "1\n",
      "1\n",
      "Keeping at most 1000000 cells per cluster\n"
     ]
    },
    {
     "name": "stderr",
     "output_type": "stream",
     "text": [
      "Global seed set to 999\n"
     ]
    },
    {
     "name": "stdout",
     "output_type": "stream",
     "text": [
      "Filtered out 10340 genes that are detected 20 counts (shared).\n",
      "Extracted 2000 highly variable genes.\n",
      "Leiden clustering ...\n",
      "WARNING: You’re trying to run this on 327 dimensions of `.X`, if you really want this, set `use_rep='X'`.\n",
      "         Falling back to preprocessing with `sc.pp.pca` and default params.\n"
     ]
    },
    {
     "name": "stderr",
     "output_type": "stream",
     "text": [
      "GPU available: True, used: True\n",
      "TPU available: False, using: 0 TPU cores\n",
      "IPU available: False, using: 0 IPUs\n",
      "LOCAL_RANK: 0 - CUDA_VISIBLE_DEVICES: [0]\n"
     ]
    },
    {
     "name": "stdout",
     "output_type": "stream",
     "text": [
      "Number of Leiden Clusters: 14\n",
      "Maximal Number of Modules: 16\n",
      "Epoch 52/400:  13%|███████████████████▉                                                                                                                                        | 51/400 [00:42<03:38,  1.60it/s, v_num=1, elbo_train=4.97e+6]"
     ]
    }
   ],
   "source": [
    "import os\n",
    "os.chdir('..')\n",
    "os.chdir('..')\n",
    "import scvelo as scv\n",
    "import scanpy as sc\n",
    "import cell2fate as c2f\n",
    "import pickle as pickle\n",
    "from eval_utils import cross_boundary_correctness\n",
    "from datetime import datetime\n",
    "import pandas as pd\n",
    "import numpy as np\n",
    "from os.path import exists\n",
    "import matplotlib.pyplot as plt\n",
    "import torch\n",
    "import unitvelo as utv\n",
    "import scvi\n",
    "method = 'Cell2fateDynamicalModel_1000epochs_10samples_seed999'\n",
    "data_dir = '/nfs/team283/aa16/data/fate_benchmarking/benchmarking_datasets/'\n",
    "save_dir = '/nfs/team283/aa16/data/fate_benchmarking/benchmarking_results/'\n",
    "datasets = ['Pancreas_with_cc',  'DentateGyrus' , 'MouseBoneMarrow', 'MouseErythroid', 'HumanBoneMarrow']\n",
    "n_genes_list = np.array((2000, 3000))\n",
    "n_counts_list = np.array((10, 20))\n",
    "\n",
    "for i in range(len(n_genes_list)):\n",
    "    for j in range(len(n_counts_list)):\n",
    "        for k in (3,1,2,0,4):\n",
    "            print(i)\n",
    "            print(j)\n",
    "            print(k)\n",
    "            dataset = datasets[k]\n",
    "            n_genes = n_genes_list[i]\n",
    "            min_counts = n_counts_list[j]\n",
    "            model_index = str(i) + '-' + str(j) + '-' + str(k)\n",
    "            save_name = method + '_'\n",
    "            if exists(save_dir + save_name + '_CBDC_fullBenchmark.csv'):\n",
    "                tab = pd.read_csv(save_dir + save_name + '_CBDC_fullBenchmark.csv', index_col = 0)\n",
    "                if model_index in tab.index:\n",
    "                    continue\n",
    "            adata = sc.read_h5ad(data_dir + dataset + '/' + dataset + '_anndata.h5ad')\n",
    "            adata = c2f.utils.get_training_data(adata, cells_per_cluster = 10**6, cluster_column = 'clusters',\n",
    "                                            remove_clusters = [], min_shared_counts = min_counts, n_var_genes= n_genes)\n",
    "            scvi.settings.seed = 999\n",
    "            c2f.Cell2fate_DynamicalModel.setup_anndata(adata, spliced_label='spliced', unspliced_label='unspliced')    \n",
    "            n_modules = c2f.utils.get_max_modules(adata)\n",
    "            mod = c2f.Cell2fate_DynamicalModel(adata,\n",
    "                                               n_modules = n_modules)   \n",
    "            mod.train(max_epochs = 1000)\n",
    "            sample_kwarg = {\"num_samples\": 10, \"batch_size\" : adata.n_obs,\n",
    "                 \"use_gpu\" : True, 'return_samples': False}\n",
    "            adata = mod.export_posterior(adata, sample_kwargs = sample_kwarg)\n",
    "            mod.compute_and_plot_total_velocity_scvelo(adata, save = False, delete = False)\n",
    "            # Calculate performance metrics:\n",
    "            file = open(data_dir + dataset + '/' + dataset + '_groundTruth.pickle' ,'rb')\n",
    "            ground_truth = pickle.load(file)\n",
    "            metrics = utv.evaluate(adata, ground_truth, 'clusters', 'velocity')\n",
    "            cb_score = [np.mean(metrics['Cross-Boundary Direction Correctness (A->B)'][x])\n",
    "                        for x in metrics['Cross-Boundary Direction Correctness (A->B)'].keys()]\n",
    "            if exists(save_dir + save_name + '_CBDC_fullBenchmark.csv'):\n",
    "                tab = pd.read_csv(save_dir + save_name + '_CBDC_fullBenchmark.csv', index_col = 0)\n",
    "            else:\n",
    "                c_names = ['CBDC', 'ELBO5', 'ELBO10', 'ELBO20', 'ELBO40']\n",
    "                tab = pd.DataFrame(columns = c_names)\n",
    "            tab.loc[model_index, 'CBDC'] = np.mean(cb_score)\n",
    "            tab.loc[model_index, 'ELBO40'] = np.mean(mod.history['elbo_train'][-40:])[0]\n",
    "            tab.loc[model_index, 'ELBO20'] = np.mean(mod.history['elbo_train'][-20:])[0]\n",
    "            tab.loc[model_index, 'ELBO10'] = np.mean(mod.history['elbo_train'][-10:])[0]\n",
    "            tab.loc[model_index, 'ELBO5'] = np.mean(mod.history['elbo_train'][-5:])[0]\n",
    "            tab.to_csv(save_dir + save_name + '_CBDC_fullBenchmark.csv')\n",
    "tab = pd.read_csv(save_dir + save_name + '_CBDC_fullBenchmark.csv', index_col = 0)\n",
    "tab.loc['AVERAGE', 'CBDC'] = np.mean(tab['CBDC'])\n",
    "tab.to_csv(save_dir + save_name + '_CBDC_fullBenchmark.csv')"
   ]
  },
  {
   "cell_type": "code",
   "execution_count": null,
   "id": "7bcd252e",
   "metadata": {},
   "outputs": [],
   "source": []
  }
 ],
 "metadata": {
  "kernelspec": {
   "display_name": "Python [conda env:cell2fate_env]",
   "language": "python",
   "name": "conda-env-cell2fate_env-py"
  },
  "language_info": {
   "codemirror_mode": {
    "name": "ipython",
    "version": 3
   },
   "file_extension": ".py",
   "mimetype": "text/x-python",
   "name": "python",
   "nbconvert_exporter": "python",
   "pygments_lexer": "ipython3",
   "version": "3.9.12"
  }
 },
 "nbformat": 4,
 "nbformat_minor": 5
}
