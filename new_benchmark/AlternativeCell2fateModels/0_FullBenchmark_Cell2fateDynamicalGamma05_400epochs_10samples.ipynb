{
 "cells": [
  {
   "cell_type": "code",
   "execution_count": null,
   "id": "fd5023c1",
   "metadata": {},
   "outputs": [
    {
     "name": "stderr",
     "output_type": "stream",
     "text": [
      "Global seed set to 0\n"
     ]
    },
    {
     "name": "stdout",
     "output_type": "stream",
     "text": [
      "(Running UniTVelo 0.2.5)\n",
      "2023-10-29 17:45:33\n",
      "0\n",
      "0\n",
      "3\n",
      "Keeping at most 1000000 cells per cluster\n",
      "Filtered out 46616 genes that are detected 10 counts (shared).\n",
      "Extracted 2000 highly variable genes.\n",
      "Leiden clustering ...\n",
      "Number of Leiden Clusters: 9\n",
      "Maximal Number of Modules: 10\n"
     ]
    },
    {
     "name": "stderr",
     "output_type": "stream",
     "text": [
      "GPU available: True, used: True\n",
      "TPU available: False, using: 0 TPU cores\n",
      "IPU available: False, using: 0 IPUs\n",
      "LOCAL_RANK: 0 - CUDA_VISIBLE_DEVICES: [0]\n"
     ]
    },
    {
     "name": "stdout",
     "output_type": "stream",
     "text": [
      "Epoch 400/400: 100%|██████████████████████████████████████████████████████████████████████████████████████████████████████████████████████████████████████████████████████████| 400/400 [14:10<00:00,  2.13s/it, v_num=1, elbo_train=2.19e+7]\n",
      "Sampling local variables, batch: 100%|█████████████████████████████████████████████████████████████████████████████████████████████████████████████████████████████████████████████████████████████████████████| 1/1 [00:07<00:00,  7.75s/it]\n",
      "Sampling global variables, sample: 100%|███████████████████████████████████████████████████████████████████████████████████████████████████████████████████████████████████████████████████████████████████████| 9/9 [00:05<00:00,  1.77it/s]\n",
      "Computing total RNAvelocity ...\n"
     ]
    },
    {
     "data": {
      "application/vnd.jupyter.widget-view+json": {
       "model_id": "344f92ce03754ed79b68e2db56102d49",
       "version_major": 2,
       "version_minor": 0
      },
      "text/plain": [
       "  0%|          | 0/9815 [00:00<?, ?cells/s]"
      ]
     },
     "metadata": {},
     "output_type": "display_data"
    },
    {
     "name": "stdout",
     "output_type": "stream",
     "text": [
      "# Cross-Boundary Direction Correctness (A->B)\n",
      "{('Blood progenitors 1', 'Blood progenitors 2'): 0.3165326607851135, ('Blood progenitors 2', 'Erythroid1'): 0.6879056442047945, ('Erythroid1', 'Erythroid2'): 0.7674930975361278, ('Erythroid2', 'Erythroid3'): 0.8148312653384793}\n",
      "Total Mean: 0.6466906669661288\n",
      "# In-cluster Coherence\n",
      "{'Blood progenitors 1': 0.87636, 'Blood progenitors 2': 0.91578925, 'Erythroid1': 0.9234461, 'Erythroid2': 0.96651167, 'Erythroid3': 0.98084325}\n",
      "Total Mean: 0.932590126991272\n",
      "0\n",
      "0\n",
      "0\n",
      "Keeping at most 1000000 cells per cluster\n",
      "Filtered out 19641 genes that are detected 10 counts (shared).\n",
      "Extracted 2000 highly variable genes.\n",
      "Leiden clustering ...\n"
     ]
    },
    {
     "name": "stderr",
     "output_type": "stream",
     "text": [
      "GPU available: True, used: True\n",
      "TPU available: False, using: 0 TPU cores\n",
      "IPU available: False, using: 0 IPUs\n",
      "LOCAL_RANK: 0 - CUDA_VISIBLE_DEVICES: [0]\n"
     ]
    },
    {
     "name": "stdout",
     "output_type": "stream",
     "text": [
      "Number of Leiden Clusters: 13\n",
      "Maximal Number of Modules: 14\n",
      "Epoch 400/400: 100%|██████████████████████████████████████████████████████████████████████████████████████████████████████████████████████████████████████████████████████████| 400/400 [06:58<00:00,  1.05s/it, v_num=1, elbo_train=6.91e+6]\n",
      "Sampling local variables, batch: 100%|█████████████████████████████████████████████████████████████████████████████████████████████████████████████████████████████████████████████████████████████████████████| 1/1 [00:03<00:00,  3.63s/it]\n",
      "Sampling global variables, sample: 100%|███████████████████████████████████████████████████████████████████████████████████████████████████████████████████████████████████████████████████████████████████████| 9/9 [00:02<00:00,  3.64it/s]\n",
      "Computing total RNAvelocity ...\n"
     ]
    },
    {
     "data": {
      "application/vnd.jupyter.widget-view+json": {
       "model_id": "066a3cf8b81d4ec59b33730da713d59e",
       "version_major": 2,
       "version_minor": 0
      },
      "text/plain": [
       "  0%|          | 0/3696 [00:00<?, ?cells/s]"
      ]
     },
     "metadata": {},
     "output_type": "display_data"
    },
    {
     "name": "stdout",
     "output_type": "stream",
     "text": [
      "# Cross-Boundary Direction Correctness (A->B)\n",
      "{('Ngn3 high EP', 'Pre-endocrine'): -0.5102080324207672, ('Pre-endocrine', 'Alpha'): -0.6829285489792624, ('Pre-endocrine', 'Beta'): -0.7668934788677794, ('Pre-endocrine', 'Delta'): -0.3844671311338327, ('Pre-endocrine', 'Epsilon'): -0.268721528573235}\n",
      "Total Mean: -0.5226437439949753\n",
      "# In-cluster Coherence\n",
      "{'Alpha': 0.9612026, 'Beta': 0.91274697, 'Delta': 0.92878515, 'Ductal': 0.9052801, 'Epsilon': 0.93222946, 'Ngn3 high EP': 0.9098929, 'Ngn3 low EP': 0.849608, 'Pre-endocrine': 0.9045103}\n",
      "Total Mean: 0.9130319356918335\n",
      "0\n",
      "0\n",
      "1\n",
      "Keeping at most 1000000 cells per cluster\n",
      "Filtered out 9174 genes that are detected 10 counts (shared).\n",
      "Extracted 2000 highly variable genes.\n",
      "Leiden clustering ...\n",
      "WARNING: You’re trying to run this on 368 dimensions of `.X`, if you really want this, set `use_rep='X'`.\n",
      "         Falling back to preprocessing with `sc.pp.pca` and default params.\n"
     ]
    },
    {
     "name": "stderr",
     "output_type": "stream",
     "text": [
      "GPU available: True, used: True\n",
      "TPU available: False, using: 0 TPU cores\n",
      "IPU available: False, using: 0 IPUs\n",
      "LOCAL_RANK: 0 - CUDA_VISIBLE_DEVICES: [0]\n"
     ]
    },
    {
     "name": "stdout",
     "output_type": "stream",
     "text": [
      "Number of Leiden Clusters: 13\n",
      "Maximal Number of Modules: 14\n",
      "Epoch 400/400: 100%|██████████████████████████████████████████████████████████████████████████████████████████████████████████████████████████████████████████████████████████| 400/400 [05:33<00:00,  1.20it/s, v_num=1, elbo_train=3.85e+6]\n",
      "Sampling local variables, batch: 100%|█████████████████████████████████████████████████████████████████████████████████████████████████████████████████████████████████████████████████████████████████████████| 1/1 [00:02<00:00,  2.95s/it]\n",
      "Sampling global variables, sample: 100%|███████████████████████████████████████████████████████████████████████████████████████████████████████████████████████████████████████████████████████████████████████| 9/9 [00:02<00:00,  4.44it/s]\n",
      "Computing total RNAvelocity ...\n"
     ]
    },
    {
     "data": {
      "application/vnd.jupyter.widget-view+json": {
       "model_id": "98baf6324c8c453b9cde6acf441bfcbe",
       "version_major": 2,
       "version_minor": 0
      },
      "text/plain": [
       "  0%|          | 0/2930 [00:00<?, ?cells/s]"
      ]
     },
     "metadata": {},
     "output_type": "display_data"
    },
    {
     "name": "stdout",
     "output_type": "stream",
     "text": [
      "# Cross-Boundary Direction Correctness (A->B)\n",
      "{('nIPC', 'Neuroblast'): -0.23536195768164045, ('Neuroblast', 'Granule immature'): 0.6079083685568084, ('Granule immature', 'Granule mature'): 0.45570469713166534, ('Radial Glia-like', 'Astrocytes'): 0.3606622080954125, ('OPC', 'OL'): 0.9463933156656493}\n",
      "Total Mean: 0.4270613263535791\n",
      "# In-cluster Coherence\n",
      "{'Astrocytes': 0.9894244, 'Cajal Retzius': 0.3733998, 'Cck-Tox': 0.92798257, 'Endothelial': 0.91822493, 'GABA': 0.9171637, 'Granule immature': 0.875853, 'Granule mature': 0.8826592, 'Microglia': 0.9508879, 'Mossy': 0.9114088, 'Neuroblast': 0.77247065, 'OL': 0.95722693, 'OPC': 0.700515, 'Radial Glia-like': 0.94027656, 'nIPC': 0.50992316}\n",
      "Total Mean: 0.8305296897888184\n",
      "0\n",
      "0\n",
      "2\n",
      "Keeping at most 1000000 cells per cluster\n",
      "Filtered out 19601 genes that are detected 10 counts (shared).\n",
      "Skip filtering by dispersion since number of variables are less than `n_top_genes`.\n",
      "Leiden clustering ...\n"
     ]
    },
    {
     "name": "stderr",
     "output_type": "stream",
     "text": [
      "GPU available: True, used: True\n",
      "TPU available: False, using: 0 TPU cores\n",
      "IPU available: False, using: 0 IPUs\n",
      "LOCAL_RANK: 0 - CUDA_VISIBLE_DEVICES: [0]\n"
     ]
    },
    {
     "name": "stdout",
     "output_type": "stream",
     "text": [
      "Number of Leiden Clusters: 8\n",
      "Maximal Number of Modules: 9\n",
      "Epoch 400/400: 100%|██████████████████████████████████████████████████████████████████████████████████████████████████████████████████████████████████████████████████████████| 400/400 [04:15<00:00,  1.57it/s, v_num=1, elbo_train=3.72e+6]\n",
      "Sampling local variables, batch: 100%|█████████████████████████████████████████████████████████████████████████████████████████████████████████████████████████████████████████████████████████████████████████| 1/1 [00:02<00:00,  2.17s/it]\n",
      "Sampling global variables, sample: 100%|███████████████████████████████████████████████████████████████████████████████████████████████████████████████████████████████████████████████████████████████████████| 9/9 [00:01<00:00,  4.66it/s]\n",
      "Computing total RNAvelocity ...\n"
     ]
    },
    {
     "data": {
      "application/vnd.jupyter.widget-view+json": {
       "model_id": "36338627cac2486ab5398313c69e99a5",
       "version_major": 2,
       "version_minor": 0
      },
      "text/plain": [
       "  0%|          | 0/2600 [00:00<?, ?cells/s]"
      ]
     },
     "metadata": {},
     "output_type": "display_data"
    },
    {
     "name": "stdout",
     "output_type": "stream",
     "text": [
      "# Cross-Boundary Direction Correctness (A->B)\n",
      "{('dividing', 'progenitors'): 0.5052510380663804, ('progenitors', 'activating'): 0.7995296316761747}\n",
      "Total Mean: 0.6523903348712776\n",
      "# In-cluster Coherence\n",
      "{'B cell lineage': 0.6530942, 'activating': 0.89331675, 'dividing': 0.92363864, 'macrophages': 0.7048176, 'progenitors': 0.8674738}\n",
      "Total Mean: 0.8084681630134583\n",
      "0\n",
      "0\n",
      "4\n",
      "Keeping at most 1000000 cells per cluster\n",
      "Filtered out 6962 genes that are detected 10 counts (shared).\n",
      "Extracted 2000 highly variable genes.\n",
      "Leiden clustering ...\n",
      "WARNING: You’re trying to run this on 312 dimensions of `.X`, if you really want this, set `use_rep='X'`.\n",
      "         Falling back to preprocessing with `sc.pp.pca` and default params.\n"
     ]
    },
    {
     "name": "stderr",
     "output_type": "stream",
     "text": [
      "GPU available: True, used: True\n",
      "TPU available: False, using: 0 TPU cores\n",
      "IPU available: False, using: 0 IPUs\n",
      "LOCAL_RANK: 0 - CUDA_VISIBLE_DEVICES: [0]\n"
     ]
    },
    {
     "name": "stdout",
     "output_type": "stream",
     "text": [
      "Number of Leiden Clusters: 10\n",
      "Maximal Number of Modules: 11\n",
      "Epoch 400/400: 100%|██████████████████████████████████████████████████████████████████████████████████████████████████████████████████████████████████████████████████████████| 400/400 [09:45<00:00,  1.46s/it, v_num=1, elbo_train=9.77e+6]\n",
      "Sampling local variables, batch: 100%|█████████████████████████████████████████████████████████████████████████████████████████████████████████████████████████████████████████████████████████████████████████| 1/1 [00:04<00:00,  4.93s/it]\n",
      "Sampling global variables, sample: 100%|███████████████████████████████████████████████████████████████████████████████████████████████████████████████████████████████████████████████████████████████████████| 9/9 [00:03<00:00,  2.69it/s]\n",
      "Computing total RNAvelocity ...\n"
     ]
    },
    {
     "data": {
      "application/vnd.jupyter.widget-view+json": {
       "model_id": "1d59b165da5f48cabbe494ef5a070dc6",
       "version_major": 2,
       "version_minor": 0
      },
      "text/plain": [
       "  0%|          | 0/5780 [00:00<?, ?cells/s]"
      ]
     },
     "metadata": {},
     "output_type": "display_data"
    },
    {
     "name": "stdout",
     "output_type": "stream",
     "text": [
      "# Cross-Boundary Direction Correctness (A->B)\n",
      "{('HSC_1', 'Ery_1'): -0.6915536575503898, ('HSC_1', 'HSC_2'): -0.38798202208950083, ('Ery_1', 'Ery_2'): -0.7500091295484509}\n",
      "Total Mean: -0.6098482697294472\n",
      "# In-cluster Coherence\n",
      "{'CLP': 0.9753707, 'DCs': 0.7220016, 'Ery_1': 0.8700514, 'Ery_2': 0.8617911, 'HSC_1': 0.8507106, 'HSC_2': 0.7484039, 'Mega': 0.87320435, 'Mono_1': 0.79382753, 'Mono_2': 0.78079385, 'Precursors': 0.6908171}\n",
      "Total Mean: 0.8166972398757935\n",
      "0\n",
      "1\n",
      "3\n",
      "Keeping at most 1000000 cells per cluster\n",
      "Filtered out 47456 genes that are detected 20 counts (shared).\n",
      "Extracted 2000 highly variable genes.\n",
      "Leiden clustering ...\n"
     ]
    },
    {
     "name": "stderr",
     "output_type": "stream",
     "text": [
      "GPU available: True, used: True\n",
      "TPU available: False, using: 0 TPU cores\n",
      "IPU available: False, using: 0 IPUs\n",
      "LOCAL_RANK: 0 - CUDA_VISIBLE_DEVICES: [0]\n"
     ]
    },
    {
     "name": "stdout",
     "output_type": "stream",
     "text": [
      "Number of Leiden Clusters: 9\n",
      "Maximal Number of Modules: 10\n",
      "Epoch 400/400: 100%|██████████████████████████████████████████████████████████████████████████████████████████████████████████████████████████████████████████████████████████| 400/400 [14:52<00:00,  2.23s/it, v_num=1, elbo_train=2.35e+7]\n",
      "Sampling local variables, batch: 100%|█████████████████████████████████████████████████████████████████████████████████████████████████████████████████████████████████████████████████████████████████████████| 1/1 [00:07<00:00,  7.79s/it]\n",
      "Sampling global variables, sample: 100%|███████████████████████████████████████████████████████████████████████████████████████████████████████████████████████████████████████████████████████████████████████| 9/9 [00:05<00:00,  1.76it/s]\n",
      "Computing total RNAvelocity ...\n"
     ]
    },
    {
     "data": {
      "application/vnd.jupyter.widget-view+json": {
       "model_id": "b41f23bafe5e4b8389cbcb0e092d0e61",
       "version_major": 2,
       "version_minor": 0
      },
      "text/plain": [
       "  0%|          | 0/9815 [00:00<?, ?cells/s]"
      ]
     },
     "metadata": {},
     "output_type": "display_data"
    },
    {
     "name": "stdout",
     "output_type": "stream",
     "text": [
      "# Cross-Boundary Direction Correctness (A->B)\n",
      "{('Blood progenitors 1', 'Blood progenitors 2'): -0.8623619961091438, ('Blood progenitors 2', 'Erythroid1'): -0.625079287115199, ('Erythroid1', 'Erythroid2'): -0.803017049318633, ('Erythroid2', 'Erythroid3'): -0.7758381042164383}\n",
      "Total Mean: -0.7665741091898535\n",
      "# In-cluster Coherence\n",
      "{'Blood progenitors 1': 0.97841686, 'Blood progenitors 2': 0.9511526, 'Erythroid1': 0.95918643, 'Erythroid2': 0.95895237, 'Erythroid3': 0.9129545}\n",
      "Total Mean: 0.952132523059845\n",
      "0\n",
      "1\n",
      "0\n",
      "Keeping at most 1000000 cells per cluster\n",
      "Filtered out 20801 genes that are detected 20 counts (shared).\n",
      "Extracted 2000 highly variable genes.\n",
      "Leiden clustering ...\n"
     ]
    },
    {
     "name": "stderr",
     "output_type": "stream",
     "text": [
      "GPU available: True, used: True\n",
      "TPU available: False, using: 0 TPU cores\n",
      "IPU available: False, using: 0 IPUs\n",
      "LOCAL_RANK: 0 - CUDA_VISIBLE_DEVICES: [0]\n"
     ]
    },
    {
     "name": "stdout",
     "output_type": "stream",
     "text": [
      "Number of Leiden Clusters: 13\n",
      "Maximal Number of Modules: 14\n",
      "Epoch 400/400: 100%|██████████████████████████████████████████████████████████████████████████████████████████████████████████████████████████████████████████████████████████| 400/400 [07:20<00:00,  1.10s/it, v_num=1, elbo_train=7.56e+6]\n",
      "Sampling local variables, batch: 100%|█████████████████████████████████████████████████████████████████████████████████████████████████████████████████████████████████████████████████████████████████████████| 1/1 [00:03<00:00,  3.68s/it]\n",
      "Sampling global variables, sample: 100%|███████████████████████████████████████████████████████████████████████████████████████████████████████████████████████████████████████████████████████████████████████| 9/9 [00:02<00:00,  3.64it/s]\n",
      "Computing total RNAvelocity ...\n"
     ]
    },
    {
     "data": {
      "application/vnd.jupyter.widget-view+json": {
       "model_id": "e8c93f0426044f4581b5b417f6429de1",
       "version_major": 2,
       "version_minor": 0
      },
      "text/plain": [
       "  0%|          | 0/3696 [00:00<?, ?cells/s]"
      ]
     },
     "metadata": {},
     "output_type": "display_data"
    },
    {
     "name": "stdout",
     "output_type": "stream",
     "text": [
      "# Cross-Boundary Direction Correctness (A->B)\n",
      "{('Ngn3 high EP', 'Pre-endocrine'): 0.21790431322264192, ('Pre-endocrine', 'Alpha'): -0.7145219063176694, ('Pre-endocrine', 'Beta'): -0.7692124618146934, ('Pre-endocrine', 'Delta'): -0.43111069988042094, ('Pre-endocrine', 'Epsilon'): 0.22365726388521645}\n",
      "Total Mean: -0.2946566981809851\n",
      "# In-cluster Coherence\n",
      "{'Alpha': 0.967994, 'Beta': 0.9029896, 'Delta': 0.9336011, 'Ductal': 0.97858614, 'Epsilon': 0.8424255, 'Ngn3 high EP': 0.8607066, 'Ngn3 low EP': 0.9437165, 'Pre-endocrine': 0.9016482}\n",
      "Total Mean: 0.9164584875106812\n",
      "0\n",
      "1\n",
      "1\n",
      "Keeping at most 1000000 cells per cluster\n",
      "Filtered out 10340 genes that are detected 20 counts (shared).\n",
      "Extracted 2000 highly variable genes.\n",
      "Leiden clustering ...\n",
      "WARNING: You’re trying to run this on 327 dimensions of `.X`, if you really want this, set `use_rep='X'`.\n",
      "         Falling back to preprocessing with `sc.pp.pca` and default params.\n"
     ]
    },
    {
     "name": "stderr",
     "output_type": "stream",
     "text": [
      "GPU available: True, used: True\n",
      "TPU available: False, using: 0 TPU cores\n",
      "IPU available: False, using: 0 IPUs\n",
      "LOCAL_RANK: 0 - CUDA_VISIBLE_DEVICES: [0]\n"
     ]
    },
    {
     "name": "stdout",
     "output_type": "stream",
     "text": [
      "Number of Leiden Clusters: 14\n",
      "Maximal Number of Modules: 16\n",
      "Epoch 400/400: 100%|██████████████████████████████████████████████████████████████████████████████████████████████████████████████████████████████████████████████████████████| 400/400 [05:45<00:00,  1.16it/s, v_num=1, elbo_train=4.58e+6]\n",
      "Sampling local variables, batch: 100%|█████████████████████████████████████████████████████████████████████████████████████████████████████████████████████████████████████████████████████████████████████████| 1/1 [00:03<00:00,  3.01s/it]\n",
      "Sampling global variables, sample: 100%|███████████████████████████████████████████████████████████████████████████████████████████████████████████████████████████████████████████████████████████████████████| 9/9 [00:02<00:00,  4.32it/s]\n",
      "Computing total RNAvelocity ...\n"
     ]
    },
    {
     "data": {
      "application/vnd.jupyter.widget-view+json": {
       "model_id": "ae4f7742881843c989586b8a6dcb3dae",
       "version_major": 2,
       "version_minor": 0
      },
      "text/plain": [
       "  0%|          | 0/2930 [00:00<?, ?cells/s]"
      ]
     },
     "metadata": {},
     "output_type": "display_data"
    },
    {
     "name": "stdout",
     "output_type": "stream",
     "text": [
      "# Cross-Boundary Direction Correctness (A->B)\n",
      "{('nIPC', 'Neuroblast'): 0.5808793599299749, ('Neuroblast', 'Granule immature'): 0.5959505253908202, ('Granule immature', 'Granule mature'): 0.4145599201691075, ('Radial Glia-like', 'Astrocytes'): -0.2941327285062539, ('OPC', 'OL'): 0.2196603534840738}\n",
      "Total Mean: 0.3033834860935445\n",
      "# In-cluster Coherence\n",
      "{'Astrocytes': 0.77867025, 'Cajal Retzius': 0.24682744, 'Cck-Tox': 0.729683, 'Endothelial': 0.73146737, 'GABA': 0.84822685, 'Granule immature': 0.8321991, 'Granule mature': 0.8939369, 'Microglia': 0.7793584, 'Mossy': 0.7873188, 'Neuroblast': 0.75481576, 'OL': 0.8038962, 'OPC': 0.6397583, 'Radial Glia-like': 0.6911574, 'nIPC': 0.55441624}\n",
      "Total Mean: 0.7194094061851501\n",
      "0\n",
      "1\n",
      "2\n",
      "Keeping at most 1000000 cells per cluster\n",
      "Filtered out 20300 genes that are detected 20 counts (shared).\n",
      "Skip filtering by dispersion since number of variables are less than `n_top_genes`.\n",
      "Leiden clustering ...\n"
     ]
    },
    {
     "name": "stderr",
     "output_type": "stream",
     "text": [
      "GPU available: True, used: True\n",
      "TPU available: False, using: 0 TPU cores\n",
      "IPU available: False, using: 0 IPUs\n",
      "LOCAL_RANK: 0 - CUDA_VISIBLE_DEVICES: [0]\n"
     ]
    },
    {
     "name": "stdout",
     "output_type": "stream",
     "text": [
      "Number of Leiden Clusters: 8\n",
      "Maximal Number of Modules: 9\n",
      "Epoch 400/400: 100%|██████████████████████████████████████████████████████████████████████████████████████████████████████████████████████████████████████████████████████████| 400/400 [04:11<00:00,  1.59it/s, v_num=1, elbo_train=2.85e+6]\n",
      "Sampling local variables, batch: 100%|█████████████████████████████████████████████████████████████████████████████████████████████████████████████████████████████████████████████████████████████████████████| 1/1 [00:01<00:00,  1.55s/it]\n",
      "Sampling global variables, sample: 100%|███████████████████████████████████████████████████████████████████████████████████████████████████████████████████████████████████████████████████████████████████████| 9/9 [00:00<00:00, 11.12it/s]\n",
      "Computing total RNAvelocity ...\n"
     ]
    },
    {
     "data": {
      "application/vnd.jupyter.widget-view+json": {
       "model_id": "1ef79ac7ac8440519aa303c69e432e5e",
       "version_major": 2,
       "version_minor": 0
      },
      "text/plain": [
       "  0%|          | 0/2600 [00:00<?, ?cells/s]"
      ]
     },
     "metadata": {},
     "output_type": "display_data"
    },
    {
     "name": "stdout",
     "output_type": "stream",
     "text": [
      "# Cross-Boundary Direction Correctness (A->B)\n",
      "{('dividing', 'progenitors'): 0.6575037641450716, ('progenitors', 'activating'): 0.7389545925580475}\n",
      "Total Mean: 0.6982291783515595\n",
      "# In-cluster Coherence\n",
      "{'B cell lineage': 0.6867617, 'activating': 0.9511423, 'dividing': 0.9547337, 'macrophages': 0.68834454, 'progenitors': 0.76777154}\n",
      "Total Mean: 0.8097507357597351\n",
      "0\n",
      "1\n",
      "4\n",
      "Keeping at most 1000000 cells per cluster\n",
      "Filtered out 7837 genes that are detected 20 counts (shared).\n",
      "Extracted 2000 highly variable genes.\n",
      "Leiden clustering ...\n",
      "WARNING: You’re trying to run this on 303 dimensions of `.X`, if you really want this, set `use_rep='X'`.\n",
      "         Falling back to preprocessing with `sc.pp.pca` and default params.\n"
     ]
    },
    {
     "name": "stderr",
     "output_type": "stream",
     "text": [
      "GPU available: True, used: True\n",
      "TPU available: False, using: 0 TPU cores\n",
      "IPU available: False, using: 0 IPUs\n",
      "LOCAL_RANK: 0 - CUDA_VISIBLE_DEVICES: [0]\n"
     ]
    },
    {
     "name": "stdout",
     "output_type": "stream",
     "text": [
      "Number of Leiden Clusters: 10\n",
      "Maximal Number of Modules: 11\n",
      "Epoch 4/400:   1%|█▏                                                                                                                                                            | 3/400 [00:04<09:34,  1.45s/it, v_num=1, elbo_train=1.47e+7]"
     ]
    }
   ],
   "source": [
    "import os\n",
    "os.chdir('..')\n",
    "os.chdir('..')\n",
    "import scvelo as scv\n",
    "import scanpy as sc\n",
    "import cell2fate as c2f\n",
    "import pickle as pickle\n",
    "from eval_utils import cross_boundary_correctness\n",
    "from datetime import datetime\n",
    "import pandas as pd\n",
    "import numpy as np\n",
    "from os.path import exists\n",
    "import matplotlib.pyplot as plt\n",
    "import torch\n",
    "import unitvelo as utv\n",
    "method = 'Cell2fateDynamicalModelGamma15_400epochs_10samples'\n",
    "data_dir = '/nfs/team283/aa16/data/fate_benchmarking/benchmarking_datasets/'\n",
    "save_dir = '/nfs/team283/aa16/data/fate_benchmarking/benchmarking_results/'\n",
    "datasets = ['Pancreas_with_cc',  'DentateGyrus' , 'MouseBoneMarrow', 'MouseErythroid', 'HumanBoneMarrow']\n",
    "n_genes_list = np.array((2000, 3000))\n",
    "n_counts_list = np.array((10, 20))\n",
    "\n",
    "for i in range(len(n_genes_list)):\n",
    "    for j in range(len(n_counts_list)):\n",
    "        for k in (3,0,1,2,4):\n",
    "            print(i)\n",
    "            print(j)\n",
    "            print(k)\n",
    "            dataset = datasets[k]\n",
    "            n_genes = n_genes_list[i]\n",
    "            min_counts = n_counts_list[j]\n",
    "            model_index = str(i) + '-' + str(j) + '-' + str(k)\n",
    "            save_name = method + '_'\n",
    "            if exists(save_dir + save_name + '_CBDC_fullBenchmark.csv'):\n",
    "                tab = pd.read_csv(save_dir + save_name + '_CBDC_fullBenchmark.csv', index_col = 0)\n",
    "                if model_index in tab.index:\n",
    "                    continue\n",
    "            adata = sc.read_h5ad(data_dir + dataset + '/' + dataset + '_anndata.h5ad')\n",
    "            adata = c2f.utils.get_training_data(adata, cells_per_cluster = 10**6, cluster_column = 'clusters',\n",
    "                                            remove_clusters = [], min_shared_counts = min_counts, n_var_genes= n_genes)\n",
    "            c2f.Cell2fate_DynamicalModel.setup_anndata(adata, spliced_label='spliced', unspliced_label='unspliced')    \n",
    "            n_modules = c2f.utils.get_max_modules(adata)\n",
    "            mod = c2f.Cell2fate_DynamicalModel(adata,\n",
    "                                               n_modules = n_modules,\n",
    "                                                degredation_rate_hyp_prior={\"mean\": 1.5, \"alpha\": 5.0,\n",
    "                                                                        \"mean_hyp_alpha\": 10.0, \"alpha_hyp_alpha\": 20.0},)   \n",
    "            mod.train(max_epochs = 400)\n",
    "            sample_kwarg = {\"num_samples\": 10, \"batch_size\" : adata.n_obs,\n",
    "                 \"use_gpu\" : True, 'return_samples': False}\n",
    "            adata = mod.export_posterior(adata, sample_kwargs = sample_kwarg)\n",
    "            mod.compute_and_plot_total_velocity_scvelo(adata, save = False, delete = False)\n",
    "            # Calculate performance metrics:\n",
    "            file = open(data_dir + dataset + '/' + dataset + '_groundTruth.pickle' ,'rb')\n",
    "            ground_truth = pickle.load(file)\n",
    "            metrics = utv.evaluate(adata, ground_truth, 'clusters', 'velocity')\n",
    "            cb_score = [np.mean(metrics['Cross-Boundary Direction Correctness (A->B)'][x])\n",
    "                        for x in metrics['Cross-Boundary Direction Correctness (A->B)'].keys()]\n",
    "            if exists(save_dir + save_name + '_CBDC_fullBenchmark.csv'):\n",
    "                tab = pd.read_csv(save_dir + save_name + '_CBDC_fullBenchmark.csv', index_col = 0)\n",
    "            else:\n",
    "                c_names = ['CBDC']\n",
    "                tab = pd.DataFrame(columns = c_names)\n",
    "            tab.loc[model_index, 'CBDC'] = np.mean(cb_score)\n",
    "            tab.to_csv(save_dir + save_name + '_CBDC_fullBenchmark.csv')\n",
    "tab = pd.read_csv(save_dir + save_name + '_CBDC_fullBenchmark.csv', index_col = 0)\n",
    "tab.loc['AVERAGE', 'CBDC'] = np.mean(tab['CBDC'])\n",
    "tab.to_csv(save_dir + save_name + '_CBDC_fullBenchmark.csv')"
   ]
  }
 ],
 "metadata": {
  "kernelspec": {
   "display_name": "Python [conda env:cell2fate_env]",
   "language": "python",
   "name": "conda-env-cell2fate_env-py"
  },
  "language_info": {
   "codemirror_mode": {
    "name": "ipython",
    "version": 3
   },
   "file_extension": ".py",
   "mimetype": "text/x-python",
   "name": "python",
   "nbconvert_exporter": "python",
   "pygments_lexer": "ipython3",
   "version": "3.9.12"
  }
 },
 "nbformat": 4,
 "nbformat_minor": 5
}
