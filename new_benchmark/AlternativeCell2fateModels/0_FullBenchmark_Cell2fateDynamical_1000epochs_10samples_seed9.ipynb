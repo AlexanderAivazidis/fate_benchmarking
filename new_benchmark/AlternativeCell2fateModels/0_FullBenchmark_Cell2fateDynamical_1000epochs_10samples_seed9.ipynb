{
 "cells": [
  {
   "cell_type": "code",
   "execution_count": null,
   "id": "fd5023c1",
   "metadata": {},
   "outputs": [
    {
     "name": "stderr",
     "output_type": "stream",
     "text": [
      "Global seed set to 0\n"
     ]
    },
    {
     "name": "stdout",
     "output_type": "stream",
     "text": [
      "(Running UniTVelo 0.2.5)\n",
      "2023-10-30 13:37:14\n",
      "0\n",
      "0\n",
      "0\n",
      "Keeping at most 1000000 cells per cluster\n",
      "Filtered out 19641 genes that are detected 10 counts (shared).\n"
     ]
    },
    {
     "name": "stderr",
     "output_type": "stream",
     "text": [
      "Global seed set to 9\n"
     ]
    },
    {
     "name": "stdout",
     "output_type": "stream",
     "text": [
      "Extracted 2000 highly variable genes.\n",
      "Leiden clustering ...\n"
     ]
    },
    {
     "name": "stderr",
     "output_type": "stream",
     "text": [
      "GPU available: True, used: True\n",
      "TPU available: False, using: 0 TPU cores\n",
      "IPU available: False, using: 0 IPUs\n",
      "LOCAL_RANK: 0 - CUDA_VISIBLE_DEVICES: [0]\n"
     ]
    },
    {
     "name": "stdout",
     "output_type": "stream",
     "text": [
      "Number of Leiden Clusters: 13\n",
      "Maximal Number of Modules: 14\n",
      "Epoch 1000/1000: 100%|██████████████████████████████████████████████████████████████████████████████████████████████████████████████████████████████████████████████████████| 1000/1000 [17:28<00:00,  1.05s/it, v_num=1, elbo_train=6.87e+6]\n",
      "Sampling local variables, batch: 100%|█████████████████████████████████████████████████████████████████████████████████████████████████████████████████████████████████████████████████████████████████████████| 1/1 [00:03<00:00,  3.61s/it]\n",
      "Sampling global variables, sample: 100%|███████████████████████████████████████████████████████████████████████████████████████████████████████████████████████████████████████████████████████████████████████| 9/9 [00:02<00:00,  3.65it/s]\n",
      "Computing total RNAvelocity ...\n"
     ]
    },
    {
     "data": {
      "application/vnd.jupyter.widget-view+json": {
       "model_id": "a15115de57744d8ba25b87a48ffba5d9",
       "version_major": 2,
       "version_minor": 0
      },
      "text/plain": [
       "  0%|          | 0/3696 [00:00<?, ?cells/s]"
      ]
     },
     "metadata": {},
     "output_type": "display_data"
    },
    {
     "name": "stdout",
     "output_type": "stream",
     "text": [
      "# Cross-Boundary Direction Correctness (A->B)\n",
      "{('Ngn3 high EP', 'Pre-endocrine'): -0.4889692047961022, ('Pre-endocrine', 'Alpha'): -0.6307513144230829, ('Pre-endocrine', 'Beta'): -0.6720875615755725, ('Pre-endocrine', 'Delta'): -0.15369336683465223, ('Pre-endocrine', 'Epsilon'): -0.3004456057867934}\n",
      "Total Mean: -0.44918941068324064\n",
      "# In-cluster Coherence\n",
      "{'Alpha': 0.9649913, 'Beta': 0.94318897, 'Delta': 0.92197496, 'Ductal': 0.94346493, 'Epsilon': 0.9362125, 'Ngn3 high EP': 0.82114244, 'Ngn3 low EP': 0.92845064, 'Pre-endocrine': 0.9073065}\n",
      "Total Mean: 0.9208415150642395\n",
      "0\n",
      "0\n",
      "1\n",
      "Keeping at most 1000000 cells per cluster\n"
     ]
    },
    {
     "name": "stderr",
     "output_type": "stream",
     "text": [
      "Global seed set to 9\n"
     ]
    },
    {
     "name": "stdout",
     "output_type": "stream",
     "text": [
      "Filtered out 9174 genes that are detected 10 counts (shared).\n",
      "Extracted 2000 highly variable genes.\n",
      "Leiden clustering ...\n",
      "WARNING: You’re trying to run this on 368 dimensions of `.X`, if you really want this, set `use_rep='X'`.\n",
      "         Falling back to preprocessing with `sc.pp.pca` and default params.\n"
     ]
    },
    {
     "name": "stderr",
     "output_type": "stream",
     "text": [
      "GPU available: True, used: True\n",
      "TPU available: False, using: 0 TPU cores\n",
      "IPU available: False, using: 0 IPUs\n",
      "LOCAL_RANK: 0 - CUDA_VISIBLE_DEVICES: [0]\n"
     ]
    },
    {
     "name": "stdout",
     "output_type": "stream",
     "text": [
      "Number of Leiden Clusters: 13\n",
      "Maximal Number of Modules: 14\n",
      "Epoch 1000/1000: 100%|██████████████████████████████████████████████████████████████████████████████████████████████████████████████████████████████████████████████████████| 1000/1000 [13:52<00:00,  1.20it/s, v_num=1, elbo_train=3.82e+6]\n",
      "Sampling local variables, batch: 100%|█████████████████████████████████████████████████████████████████████████████████████████████████████████████████████████████████████████████████████████████████████████| 1/1 [00:02<00:00,  2.95s/it]\n",
      "Sampling global variables, sample: 100%|███████████████████████████████████████████████████████████████████████████████████████████████████████████████████████████████████████████████████████████████████████| 9/9 [00:02<00:00,  4.43it/s]\n",
      "Computing total RNAvelocity ...\n"
     ]
    },
    {
     "data": {
      "application/vnd.jupyter.widget-view+json": {
       "model_id": "e1df8f49634f493389178caffe77f184",
       "version_major": 2,
       "version_minor": 0
      },
      "text/plain": [
       "  0%|          | 0/2930 [00:00<?, ?cells/s]"
      ]
     },
     "metadata": {},
     "output_type": "display_data"
    },
    {
     "name": "stdout",
     "output_type": "stream",
     "text": [
      "# Cross-Boundary Direction Correctness (A->B)\n",
      "{('nIPC', 'Neuroblast'): 0.36574496656110966, ('Neuroblast', 'Granule immature'): 0.5343707134865101, ('Granule immature', 'Granule mature'): 0.33191574150686276, ('Radial Glia-like', 'Astrocytes'): 0.30842962316242, ('OPC', 'OL'): -0.472675355592236}\n",
      "Total Mean: 0.2135571378249333\n",
      "# In-cluster Coherence\n",
      "{'Astrocytes': 0.86951053, 'Cajal Retzius': 0.45488515, 'Cck-Tox': 0.83715403, 'Endothelial': 0.8649676, 'GABA': 0.86881155, 'Granule immature': 0.8465742, 'Granule mature': 0.96652216, 'Microglia': 0.7810175, 'Mossy': 0.9046101, 'Neuroblast': 0.72780347, 'OL': 0.77327096, 'OPC': 0.46892595, 'Radial Glia-like': 0.680354, 'nIPC': 0.5734866}\n",
      "Total Mean: 0.758421003818512\n",
      "0\n",
      "0\n",
      "2\n",
      "Keeping at most 1000000 cells per cluster\n",
      "Filtered out 19601 genes that are detected 10 counts (shared).\n"
     ]
    },
    {
     "name": "stderr",
     "output_type": "stream",
     "text": [
      "Global seed set to 9\n"
     ]
    },
    {
     "name": "stdout",
     "output_type": "stream",
     "text": [
      "Skip filtering by dispersion since number of variables are less than `n_top_genes`.\n",
      "Leiden clustering ...\n"
     ]
    },
    {
     "name": "stderr",
     "output_type": "stream",
     "text": [
      "GPU available: True, used: True\n",
      "TPU available: False, using: 0 TPU cores\n",
      "IPU available: False, using: 0 IPUs\n",
      "LOCAL_RANK: 0 - CUDA_VISIBLE_DEVICES: [0]\n"
     ]
    },
    {
     "name": "stdout",
     "output_type": "stream",
     "text": [
      "Number of Leiden Clusters: 8\n",
      "Maximal Number of Modules: 9\n",
      "Epoch 1000/1000: 100%|██████████████████████████████████████████████████████████████████████████████████████████████████████████████████████████████████████████████████████| 1000/1000 [10:39<00:00,  1.56it/s, v_num=1, elbo_train=3.68e+6]\n",
      "Sampling local variables, batch: 100%|█████████████████████████████████████████████████████████████████████████████████████████████████████████████████████████████████████████████████████████████████████████| 1/1 [00:02<00:00,  2.19s/it]\n",
      "Sampling global variables, sample: 100%|███████████████████████████████████████████████████████████████████████████████████████████████████████████████████████████████████████████████████████████████████████| 9/9 [00:01<00:00,  6.04it/s]\n",
      "Computing total RNAvelocity ...\n"
     ]
    },
    {
     "data": {
      "application/vnd.jupyter.widget-view+json": {
       "model_id": "b1c7aba76cc34378b7560ef576a60b7c",
       "version_major": 2,
       "version_minor": 0
      },
      "text/plain": [
       "  0%|          | 0/2600 [00:00<?, ?cells/s]"
      ]
     },
     "metadata": {},
     "output_type": "display_data"
    },
    {
     "name": "stdout",
     "output_type": "stream",
     "text": [
      "# Cross-Boundary Direction Correctness (A->B)\n",
      "{('dividing', 'progenitors'): 0.42713624354151497, ('progenitors', 'activating'): 0.7533349599495666}\n",
      "Total Mean: 0.5902356017455408\n",
      "# In-cluster Coherence\n",
      "{'B cell lineage': 0.671697, 'activating': 0.8603905, 'dividing': 0.802737, 'macrophages': 0.55436856, 'progenitors': 0.81249326}\n",
      "Total Mean: 0.7403372526168823\n",
      "0\n",
      "0\n",
      "3\n",
      "Keeping at most 1000000 cells per cluster\n",
      "Filtered out 46616 genes that are detected 10 counts (shared).\n"
     ]
    },
    {
     "name": "stderr",
     "output_type": "stream",
     "text": [
      "Global seed set to 9\n"
     ]
    },
    {
     "name": "stdout",
     "output_type": "stream",
     "text": [
      "Extracted 2000 highly variable genes.\n",
      "Leiden clustering ...\n"
     ]
    },
    {
     "name": "stderr",
     "output_type": "stream",
     "text": [
      "GPU available: True, used: True\n",
      "TPU available: False, using: 0 TPU cores\n",
      "IPU available: False, using: 0 IPUs\n",
      "LOCAL_RANK: 0 - CUDA_VISIBLE_DEVICES: [0]\n"
     ]
    },
    {
     "name": "stdout",
     "output_type": "stream",
     "text": [
      "Number of Leiden Clusters: 9\n",
      "Maximal Number of Modules: 10\n",
      "Epoch 1000/1000: 100%|██████████████████████████████████████████████████████████████████████████████████████████████████████████████████████████████████████████████████████| 1000/1000 [37:19<00:00,  2.24s/it, v_num=1, elbo_train=2.18e+7]\n",
      "Sampling local variables, batch: 100%|█████████████████████████████████████████████████████████████████████████████████████████████████████████████████████████████████████████████████████████████████████████| 1/1 [00:07<00:00,  7.77s/it]\n",
      "Sampling global variables, sample: 100%|███████████████████████████████████████████████████████████████████████████████████████████████████████████████████████████████████████████████████████████████████████| 9/9 [00:05<00:00,  1.75it/s]\n",
      "Computing total RNAvelocity ...\n"
     ]
    },
    {
     "data": {
      "application/vnd.jupyter.widget-view+json": {
       "model_id": "bcaaf4966e874723b0a0ddcbab1f627a",
       "version_major": 2,
       "version_minor": 0
      },
      "text/plain": [
       "  0%|          | 0/9815 [00:00<?, ?cells/s]"
      ]
     },
     "metadata": {},
     "output_type": "display_data"
    },
    {
     "name": "stdout",
     "output_type": "stream",
     "text": [
      "# Cross-Boundary Direction Correctness (A->B)\n",
      "{('Blood progenitors 1', 'Blood progenitors 2'): 0.18556519910841948, ('Blood progenitors 2', 'Erythroid1'): 0.6999155163225022, ('Erythroid1', 'Erythroid2'): 0.7752079414079217, ('Erythroid2', 'Erythroid3'): 0.8145630253107061}\n",
      "Total Mean: 0.6188129205373873\n",
      "# In-cluster Coherence\n",
      "{'Blood progenitors 1': 0.9408323, 'Blood progenitors 2': 0.94503146, 'Erythroid1': 0.9415487, 'Erythroid2': 0.97513145, 'Erythroid3': 0.9940003}\n",
      "Total Mean: 0.959308922290802\n",
      "0\n",
      "0\n",
      "4\n",
      "Keeping at most 1000000 cells per cluster\n",
      "Filtered out 6962 genes that are detected 10 counts (shared).\n"
     ]
    },
    {
     "name": "stderr",
     "output_type": "stream",
     "text": [
      "Global seed set to 9\n"
     ]
    },
    {
     "name": "stdout",
     "output_type": "stream",
     "text": [
      "Extracted 2000 highly variable genes.\n",
      "Leiden clustering ...\n",
      "WARNING: You’re trying to run this on 312 dimensions of `.X`, if you really want this, set `use_rep='X'`.\n",
      "         Falling back to preprocessing with `sc.pp.pca` and default params.\n"
     ]
    },
    {
     "name": "stderr",
     "output_type": "stream",
     "text": [
      "GPU available: True, used: True\n",
      "TPU available: False, using: 0 TPU cores\n",
      "IPU available: False, using: 0 IPUs\n",
      "LOCAL_RANK: 0 - CUDA_VISIBLE_DEVICES: [0]\n"
     ]
    },
    {
     "name": "stdout",
     "output_type": "stream",
     "text": [
      "Number of Leiden Clusters: 10\n",
      "Maximal Number of Modules: 11\n",
      "Epoch 1000/1000: 100%|███████████████████████████████████████████████████████████████████████████████████████████████████████████████████████████████████████████████████████| 1000/1000 [24:30<00:00,  1.47s/it, v_num=1, elbo_train=9.8e+6]\n",
      "Sampling local variables, batch: 100%|█████████████████████████████████████████████████████████████████████████████████████████████████████████████████████████████████████████████████████████████████████████| 1/1 [00:04<00:00,  4.95s/it]\n",
      "Sampling global variables, sample: 100%|███████████████████████████████████████████████████████████████████████████████████████████████████████████████████████████████████████████████████████████████████████| 9/9 [00:03<00:00,  2.69it/s]\n",
      "Computing total RNAvelocity ...\n"
     ]
    },
    {
     "data": {
      "application/vnd.jupyter.widget-view+json": {
       "model_id": "f8a68c2522b64de2838870f6d526ab7d",
       "version_major": 2,
       "version_minor": 0
      },
      "text/plain": [
       "  0%|          | 0/5780 [00:00<?, ?cells/s]"
      ]
     },
     "metadata": {},
     "output_type": "display_data"
    },
    {
     "name": "stdout",
     "output_type": "stream",
     "text": [
      "# Cross-Boundary Direction Correctness (A->B)\n",
      "{('HSC_1', 'Ery_1'): 0.5395998271357662, ('HSC_1', 'HSC_2'): -0.20229687971058757, ('Ery_1', 'Ery_2'): 0.6979266489802877}\n",
      "Total Mean: 0.34507653213515543\n",
      "# In-cluster Coherence\n",
      "{'CLP': 0.93130976, 'DCs': 0.6443278, 'Ery_1': 0.80439353, 'Ery_2': 0.9340392, 'HSC_1': 0.7450743, 'HSC_2': 0.6584149, 'Mega': 0.9226683, 'Mono_1': 0.91725564, 'Mono_2': 0.83512634, 'Precursors': 0.6438026}\n",
      "Total Mean: 0.8036412000656128\n",
      "0\n",
      "1\n",
      "0\n",
      "Keeping at most 1000000 cells per cluster\n",
      "Filtered out 20801 genes that are detected 20 counts (shared).\n"
     ]
    },
    {
     "name": "stderr",
     "output_type": "stream",
     "text": [
      "Global seed set to 9\n"
     ]
    },
    {
     "name": "stdout",
     "output_type": "stream",
     "text": [
      "Extracted 2000 highly variable genes.\n",
      "Leiden clustering ...\n"
     ]
    },
    {
     "name": "stderr",
     "output_type": "stream",
     "text": [
      "GPU available: True, used: True\n",
      "TPU available: False, using: 0 TPU cores\n",
      "IPU available: False, using: 0 IPUs\n",
      "LOCAL_RANK: 0 - CUDA_VISIBLE_DEVICES: [0]\n"
     ]
    },
    {
     "name": "stdout",
     "output_type": "stream",
     "text": [
      "Number of Leiden Clusters: 13\n",
      "Maximal Number of Modules: 14\n",
      "Epoch 1000/1000: 100%|██████████████████████████████████████████████████████████████████████████████████████████████████████████████████████████████████████████████████████| 1000/1000 [18:26<00:00,  1.11s/it, v_num=1, elbo_train=7.48e+6]\n",
      "Sampling local variables, batch: 100%|█████████████████████████████████████████████████████████████████████████████████████████████████████████████████████████████████████████████████████████████████████████| 1/1 [00:03<00:00,  3.57s/it]\n",
      "Sampling global variables, sample: 100%|███████████████████████████████████████████████████████████████████████████████████████████████████████████████████████████████████████████████████████████████████████| 9/9 [00:02<00:00,  3.64it/s]\n",
      "Computing total RNAvelocity ...\n"
     ]
    },
    {
     "data": {
      "application/vnd.jupyter.widget-view+json": {
       "model_id": "ab22f0ae297d4949981b529815cf7c78",
       "version_major": 2,
       "version_minor": 0
      },
      "text/plain": [
       "  0%|          | 0/3696 [00:00<?, ?cells/s]"
      ]
     },
     "metadata": {},
     "output_type": "display_data"
    },
    {
     "name": "stdout",
     "output_type": "stream",
     "text": [
      "# Cross-Boundary Direction Correctness (A->B)\n",
      "{('Ngn3 high EP', 'Pre-endocrine'): -0.6785748480032225, ('Pre-endocrine', 'Alpha'): -0.3188188005670943, ('Pre-endocrine', 'Beta'): -0.5815342283496635, ('Pre-endocrine', 'Delta'): -0.11143742076293907, ('Pre-endocrine', 'Epsilon'): -0.5479073244444946}\n",
      "Total Mean: -0.44765452442548287\n",
      "# In-cluster Coherence\n",
      "{'Alpha': 0.79735315, 'Beta': 0.7975433, 'Delta': 0.75350946, 'Ductal': 0.93951946, 'Epsilon': 0.7844179, 'Ngn3 high EP': 0.8342559, 'Ngn3 low EP': 0.92770153, 'Pre-endocrine': 0.81884027}\n",
      "Total Mean: 0.8316426277160645\n",
      "0\n",
      "1\n",
      "1\n",
      "Keeping at most 1000000 cells per cluster\n"
     ]
    },
    {
     "name": "stderr",
     "output_type": "stream",
     "text": [
      "Global seed set to 9\n"
     ]
    },
    {
     "name": "stdout",
     "output_type": "stream",
     "text": [
      "Filtered out 10340 genes that are detected 20 counts (shared).\n",
      "Extracted 2000 highly variable genes.\n",
      "Leiden clustering ...\n",
      "WARNING: You’re trying to run this on 327 dimensions of `.X`, if you really want this, set `use_rep='X'`.\n",
      "         Falling back to preprocessing with `sc.pp.pca` and default params.\n"
     ]
    },
    {
     "name": "stderr",
     "output_type": "stream",
     "text": [
      "GPU available: True, used: True\n",
      "TPU available: False, using: 0 TPU cores\n",
      "IPU available: False, using: 0 IPUs\n",
      "LOCAL_RANK: 0 - CUDA_VISIBLE_DEVICES: [0]\n"
     ]
    },
    {
     "name": "stdout",
     "output_type": "stream",
     "text": [
      "Number of Leiden Clusters: 14\n",
      "Maximal Number of Modules: 16\n",
      "Epoch 1000/1000: 100%|██████████████████████████████████████████████████████████████████████████████████████████████████████████████████████████████████████████████████████| 1000/1000 [14:26<00:00,  1.15it/s, v_num=1, elbo_train=4.55e+6]\n",
      "Sampling local variables, batch: 100%|█████████████████████████████████████████████████████████████████████████████████████████████████████████████████████████████████████████████████████████████████████████| 1/1 [00:03<00:00,  3.03s/it]\n",
      "Sampling global variables, sample: 100%|███████████████████████████████████████████████████████████████████████████████████████████████████████████████████████████████████████████████████████████████████████| 9/9 [00:02<00:00,  4.31it/s]\n",
      "Computing total RNAvelocity ...\n"
     ]
    },
    {
     "data": {
      "application/vnd.jupyter.widget-view+json": {
       "model_id": "3f9d1fc8f55448e09bc5aab55db7fc5b",
       "version_major": 2,
       "version_minor": 0
      },
      "text/plain": [
       "  0%|          | 0/2930 [00:00<?, ?cells/s]"
      ]
     },
     "metadata": {},
     "output_type": "display_data"
    },
    {
     "name": "stdout",
     "output_type": "stream",
     "text": [
      "# Cross-Boundary Direction Correctness (A->B)\n",
      "{('nIPC', 'Neuroblast'): -0.34926038093145934, ('Neuroblast', 'Granule immature'): 0.014040134180602475, ('Granule immature', 'Granule mature'): 0.4545852840917855, ('Radial Glia-like', 'Astrocytes'): 0.7062624248189411, ('OPC', 'OL'): 0.9577946517944069}\n",
      "Total Mean: 0.3566844227908553\n",
      "# In-cluster Coherence\n",
      "{'Astrocytes': 0.9977625, 'Cajal Retzius': 0.8928925, 'Cck-Tox': 0.79674083, 'Endothelial': 0.8694916, 'GABA': 0.64906955, 'Granule immature': 0.89441854, 'Granule mature': 0.9629051, 'Microglia': 0.92507136, 'Mossy': 0.7946058, 'Neuroblast': 0.7768812, 'OL': 0.9382106, 'OPC': 0.88665694, 'Radial Glia-like': 0.95821905, 'nIPC': 0.59355193}\n",
      "Total Mean: 0.8526055216789246\n",
      "0\n",
      "1\n",
      "2\n",
      "Keeping at most 1000000 cells per cluster\n"
     ]
    },
    {
     "name": "stderr",
     "output_type": "stream",
     "text": [
      "Global seed set to 9\n"
     ]
    },
    {
     "name": "stdout",
     "output_type": "stream",
     "text": [
      "Filtered out 20300 genes that are detected 20 counts (shared).\n",
      "Skip filtering by dispersion since number of variables are less than `n_top_genes`.\n",
      "Leiden clustering ...\n"
     ]
    },
    {
     "name": "stderr",
     "output_type": "stream",
     "text": [
      "GPU available: True, used: True\n",
      "TPU available: False, using: 0 TPU cores\n",
      "IPU available: False, using: 0 IPUs\n",
      "LOCAL_RANK: 0 - CUDA_VISIBLE_DEVICES: [0]\n"
     ]
    },
    {
     "name": "stdout",
     "output_type": "stream",
     "text": [
      "Number of Leiden Clusters: 8\n",
      "Maximal Number of Modules: 9\n",
      "Epoch 1000/1000: 100%|██████████████████████████████████████████████████████████████████████████████████████████████████████████████████████████████████████████████████████| 1000/1000 [10:31<00:00,  1.58it/s, v_num=1, elbo_train=2.83e+6]\n",
      "Sampling local variables, batch: 100%|█████████████████████████████████████████████████████████████████████████████████████████████████████████████████████████████████████████████████████████████████████████| 1/1 [00:01<00:00,  1.44s/it]\n",
      "Sampling global variables, sample: 100%|███████████████████████████████████████████████████████████████████████████████████████████████████████████████████████████████████████████████████████████████████████| 9/9 [00:00<00:00, 12.82it/s]\n",
      "Computing total RNAvelocity ...\n"
     ]
    },
    {
     "data": {
      "application/vnd.jupyter.widget-view+json": {
       "model_id": "a8df2bc5883546388fb72f27d1922494",
       "version_major": 2,
       "version_minor": 0
      },
      "text/plain": [
       "  0%|          | 0/2600 [00:00<?, ?cells/s]"
      ]
     },
     "metadata": {},
     "output_type": "display_data"
    },
    {
     "name": "stdout",
     "output_type": "stream",
     "text": [
      "# Cross-Boundary Direction Correctness (A->B)\n",
      "{('dividing', 'progenitors'): -0.4500859380423224, ('progenitors', 'activating'): -0.7607176501023206}\n",
      "Total Mean: -0.6054017940723215\n",
      "# In-cluster Coherence\n",
      "{'B cell lineage': 0.79509217, 'activating': 0.89467674, 'dividing': 0.94299185, 'macrophages': 0.78132075, 'progenitors': 0.8215856}\n",
      "Total Mean: 0.847133457660675\n",
      "0\n",
      "1\n",
      "3\n",
      "Keeping at most 1000000 cells per cluster\n",
      "Filtered out 47456 genes that are detected 20 counts (shared).\n"
     ]
    },
    {
     "name": "stderr",
     "output_type": "stream",
     "text": [
      "Global seed set to 9\n"
     ]
    },
    {
     "name": "stdout",
     "output_type": "stream",
     "text": [
      "Extracted 2000 highly variable genes.\n",
      "Leiden clustering ...\n"
     ]
    },
    {
     "name": "stderr",
     "output_type": "stream",
     "text": [
      "GPU available: True, used: True\n",
      "TPU available: False, using: 0 TPU cores\n",
      "IPU available: False, using: 0 IPUs\n",
      "LOCAL_RANK: 0 - CUDA_VISIBLE_DEVICES: [0]\n"
     ]
    },
    {
     "name": "stdout",
     "output_type": "stream",
     "text": [
      "Number of Leiden Clusters: 9\n",
      "Maximal Number of Modules: 10\n",
      "Epoch 1000/1000: 100%|██████████████████████████████████████████████████████████████████████████████████████████████████████████████████████████████████████████████████████| 1000/1000 [37:40<00:00,  2.26s/it, v_num=1, elbo_train=2.34e+7]\n",
      "Sampling local variables, batch: 100%|█████████████████████████████████████████████████████████████████████████████████████████████████████████████████████████████████████████████████████████████████████████| 1/1 [00:07<00:00,  7.82s/it]\n",
      "Sampling global variables, sample: 100%|███████████████████████████████████████████████████████████████████████████████████████████████████████████████████████████████████████████████████████████████████████| 9/9 [00:05<00:00,  1.75it/s]\n",
      "Computing total RNAvelocity ...\n"
     ]
    },
    {
     "data": {
      "application/vnd.jupyter.widget-view+json": {
       "model_id": "8c49fa6669d84231a338a689b3418060",
       "version_major": 2,
       "version_minor": 0
      },
      "text/plain": [
       "  0%|          | 0/9815 [00:00<?, ?cells/s]"
      ]
     },
     "metadata": {},
     "output_type": "display_data"
    },
    {
     "name": "stdout",
     "output_type": "stream",
     "text": [
      "# Cross-Boundary Direction Correctness (A->B)\n",
      "{('Blood progenitors 1', 'Blood progenitors 2'): 0.2321855302671834, ('Blood progenitors 2', 'Erythroid1'): 0.5947764328666979, ('Erythroid1', 'Erythroid2'): 0.8129068758269398, ('Erythroid2', 'Erythroid3'): 0.7892165135073765}\n",
      "Total Mean: 0.6072713381170494\n",
      "# In-cluster Coherence\n",
      "{'Blood progenitors 1': 0.8601475, 'Blood progenitors 2': 0.8760561, 'Erythroid1': 0.9053813, 'Erythroid2': 0.96796095, 'Erythroid3': 0.98639256}\n",
      "Total Mean: 0.9191876649856567\n",
      "0\n",
      "1\n",
      "4\n",
      "Keeping at most 1000000 cells per cluster\n",
      "Filtered out 7837 genes that are detected 20 counts (shared).\n"
     ]
    },
    {
     "name": "stderr",
     "output_type": "stream",
     "text": [
      "Global seed set to 9\n"
     ]
    },
    {
     "name": "stdout",
     "output_type": "stream",
     "text": [
      "Extracted 2000 highly variable genes.\n",
      "Leiden clustering ...\n",
      "WARNING: You’re trying to run this on 303 dimensions of `.X`, if you really want this, set `use_rep='X'`.\n",
      "         Falling back to preprocessing with `sc.pp.pca` and default params.\n"
     ]
    },
    {
     "name": "stderr",
     "output_type": "stream",
     "text": [
      "GPU available: True, used: True\n",
      "TPU available: False, using: 0 TPU cores\n",
      "IPU available: False, using: 0 IPUs\n",
      "LOCAL_RANK: 0 - CUDA_VISIBLE_DEVICES: [0]\n"
     ]
    },
    {
     "name": "stdout",
     "output_type": "stream",
     "text": [
      "Number of Leiden Clusters: 10\n",
      "Maximal Number of Modules: 11\n",
      "Epoch 582/1000:  58%|████████████████████████████████████████████████████████████████████████████████████████▎                                                               | 581/1000 [14:23<10:38,  1.52s/it, v_num=1, elbo_train=1.08e+7]"
     ]
    }
   ],
   "source": [
    "import os\n",
    "os.chdir('..')\n",
    "os.chdir('..')\n",
    "import scvelo as scv\n",
    "import scanpy as sc\n",
    "import cell2fate as c2f\n",
    "import pickle as pickle\n",
    "from eval_utils import cross_boundary_correctness\n",
    "from datetime import datetime\n",
    "import pandas as pd\n",
    "import numpy as np\n",
    "from os.path import exists\n",
    "import matplotlib.pyplot as plt\n",
    "import torch\n",
    "import unitvelo as utv\n",
    "import scvi\n",
    "method = 'Cell2fateDynamicalModel_1000epochs_10samples_seed9'\n",
    "data_dir = '/nfs/team283/aa16/data/fate_benchmarking/benchmarking_datasets/'\n",
    "save_dir = '/nfs/team283/aa16/data/fate_benchmarking/benchmarking_results/'\n",
    "datasets = ['Pancreas_with_cc',  'DentateGyrus' , 'MouseBoneMarrow', 'MouseErythroid', 'HumanBoneMarrow']\n",
    "n_genes_list = np.array((2000, 3000))\n",
    "n_counts_list = np.array((10, 20))\n",
    "\n",
    "for i in range(len(n_genes_list)):\n",
    "    for j in range(len(n_counts_list)):\n",
    "        for k in (0,1,2,3,4):\n",
    "            print(i)\n",
    "            print(j)\n",
    "            print(k)\n",
    "            dataset = datasets[k]\n",
    "            n_genes = n_genes_list[i]\n",
    "            min_counts = n_counts_list[j]\n",
    "            model_index = str(i) + '-' + str(j) + '-' + str(k)\n",
    "            save_name = method + '_'\n",
    "            if exists(save_dir + save_name + '_CBDC_fullBenchmark.csv'):\n",
    "                tab = pd.read_csv(save_dir + save_name + '_CBDC_fullBenchmark.csv', index_col = 0)\n",
    "                if model_index in tab.index:\n",
    "                    continue\n",
    "            adata = sc.read_h5ad(data_dir + dataset + '/' + dataset + '_anndata.h5ad')\n",
    "            adata = c2f.utils.get_training_data(adata, cells_per_cluster = 10**6, cluster_column = 'clusters',\n",
    "                                            remove_clusters = [], min_shared_counts = min_counts, n_var_genes= n_genes)\n",
    "            scvi.settings.seed = 9\n",
    "            c2f.Cell2fate_DynamicalModel.setup_anndata(adata, spliced_label='spliced', unspliced_label='unspliced')    \n",
    "            n_modules = c2f.utils.get_max_modules(adata)\n",
    "            mod = c2f.Cell2fate_DynamicalModel(adata,\n",
    "                                               n_modules = n_modules)   \n",
    "            mod.train(max_epochs = 1000)\n",
    "            sample_kwarg = {\"num_samples\": 10, \"batch_size\" : adata.n_obs,\n",
    "                 \"use_gpu\" : True, 'return_samples': False}\n",
    "            adata = mod.export_posterior(adata, sample_kwargs = sample_kwarg)\n",
    "            mod.compute_and_plot_total_velocity_scvelo(adata, save = False, delete = False)\n",
    "            # Calculate performance metrics:\n",
    "            file = open(data_dir + dataset + '/' + dataset + '_groundTruth.pickle' ,'rb')\n",
    "            ground_truth = pickle.load(file)\n",
    "            metrics = utv.evaluate(adata, ground_truth, 'clusters', 'velocity')\n",
    "            cb_score = [np.mean(metrics['Cross-Boundary Direction Correctness (A->B)'][x])\n",
    "                        for x in metrics['Cross-Boundary Direction Correctness (A->B)'].keys()]\n",
    "            if exists(save_dir + save_name + '_CBDC_fullBenchmark.csv'):\n",
    "                tab = pd.read_csv(save_dir + save_name + '_CBDC_fullBenchmark.csv', index_col = 0)\n",
    "            else:\n",
    "                c_names = ['CBDC', 'ELBO5', 'ELBO10', 'ELBO20', 'ELBO40']\n",
    "                tab = pd.DataFrame(columns = c_names)\n",
    "            tab.loc[model_index, 'CBDC'] = np.mean(cb_score)\n",
    "            tab.loc[model_index, 'ELBO40'] = np.mean(mod.history['elbo_train'][-40:])[0]\n",
    "            tab.loc[model_index, 'ELBO20'] = np.mean(mod.history['elbo_train'][-20:])[0]\n",
    "            tab.loc[model_index, 'ELBO10'] = np.mean(mod.history['elbo_train'][-10:])[0]\n",
    "            tab.loc[model_index, 'ELBO5'] = np.mean(mod.history['elbo_train'][-5:])[0]\n",
    "            tab.to_csv(save_dir + save_name + '_CBDC_fullBenchmark.csv')\n",
    "tab = pd.read_csv(save_dir + save_name + '_CBDC_fullBenchmark.csv', index_col = 0)\n",
    "tab.loc['AVERAGE', 'CBDC'] = np.mean(tab['CBDC'])\n",
    "tab.to_csv(save_dir + save_name + '_CBDC_fullBenchmark.csv')"
   ]
  },
  {
   "cell_type": "code",
   "execution_count": null,
   "id": "f92b95c2",
   "metadata": {},
   "outputs": [],
   "source": []
  }
 ],
 "metadata": {
  "kernelspec": {
   "display_name": "Python [conda env:cell2fate_env]",
   "language": "python",
   "name": "conda-env-cell2fate_env-py"
  },
  "language_info": {
   "codemirror_mode": {
    "name": "ipython",
    "version": 3
   },
   "file_extension": ".py",
   "mimetype": "text/x-python",
   "name": "python",
   "nbconvert_exporter": "python",
   "pygments_lexer": "ipython3",
   "version": "3.9.12"
  }
 },
 "nbformat": 4,
 "nbformat_minor": 5
}
