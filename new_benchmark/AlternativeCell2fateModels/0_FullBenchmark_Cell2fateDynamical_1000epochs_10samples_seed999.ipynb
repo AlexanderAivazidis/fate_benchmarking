{
 "cells": [
  {
   "cell_type": "code",
   "execution_count": null,
   "id": "fd5023c1",
   "metadata": {},
   "outputs": [
    {
     "name": "stderr",
     "output_type": "stream",
     "text": [
      "Global seed set to 0\n"
     ]
    },
    {
     "name": "stdout",
     "output_type": "stream",
     "text": [
      "(Running UniTVelo 0.2.5)\n",
      "2023-10-30 13:38:18\n",
      "0\n",
      "0\n",
      "3\n",
      "Keeping at most 1000000 cells per cluster\n",
      "Filtered out 46616 genes that are detected 10 counts (shared).\n"
     ]
    },
    {
     "name": "stderr",
     "output_type": "stream",
     "text": [
      "Global seed set to 999\n"
     ]
    },
    {
     "name": "stdout",
     "output_type": "stream",
     "text": [
      "Extracted 2000 highly variable genes.\n",
      "Leiden clustering ...\n",
      "Number of Leiden Clusters: 9\n",
      "Maximal Number of Modules: 10\n"
     ]
    },
    {
     "name": "stderr",
     "output_type": "stream",
     "text": [
      "GPU available: True, used: True\n",
      "TPU available: False, using: 0 TPU cores\n",
      "IPU available: False, using: 0 IPUs\n",
      "LOCAL_RANK: 0 - CUDA_VISIBLE_DEVICES: [0]\n"
     ]
    },
    {
     "name": "stdout",
     "output_type": "stream",
     "text": [
      "Epoch 1000/1000: 100%|██████████████████████████████████████████████████████████████████████████████████████████████████████████████████████████████████████████████████████| 1000/1000 [27:22<00:00,  1.64s/it, v_num=1, elbo_train=2.18e+7]\n",
      "Sampling local variables, batch: 100%|█████████████████████████████████████████████████████████████████████████████████████████████████████████████████████████████████████████████████████████████████████████| 1/1 [00:03<00:00,  3.71s/it]\n",
      "Sampling global variables, sample: 100%|███████████████████████████████████████████████████████████████████████████████████████████████████████████████████████████████████████████████████████████████████████| 9/9 [00:02<00:00,  3.57it/s]\n",
      "Computing total RNAvelocity ...\n"
     ]
    },
    {
     "data": {
      "application/vnd.jupyter.widget-view+json": {
       "model_id": "bd34dd1f313c43c884ccb81fb10eb1c4",
       "version_major": 2,
       "version_minor": 0
      },
      "text/plain": [
       "  0%|          | 0/9815 [00:00<?, ?cells/s]"
      ]
     },
     "metadata": {},
     "output_type": "display_data"
    },
    {
     "name": "stdout",
     "output_type": "stream",
     "text": [
      "# Cross-Boundary Direction Correctness (A->B)\n",
      "{('Blood progenitors 1', 'Blood progenitors 2'): -0.04589976805782821, ('Blood progenitors 2', 'Erythroid1'): -0.3841460800894235, ('Erythroid1', 'Erythroid2'): -0.6037305796061109, ('Erythroid2', 'Erythroid3'): -0.35686028434871736}\n",
      "Total Mean: -0.34765917802552\n",
      "# In-cluster Coherence\n",
      "{'Blood progenitors 1': 0.7555329, 'Blood progenitors 2': 0.7869168, 'Erythroid1': 0.7308332, 'Erythroid2': 0.802346, 'Erythroid3': 0.68320185}\n",
      "Total Mean: 0.7517661452293396\n",
      "0\n",
      "0\n",
      "1\n",
      "Keeping at most 1000000 cells per cluster\n"
     ]
    },
    {
     "name": "stderr",
     "output_type": "stream",
     "text": [
      "Global seed set to 999\n"
     ]
    },
    {
     "name": "stdout",
     "output_type": "stream",
     "text": [
      "Filtered out 9174 genes that are detected 10 counts (shared).\n",
      "Extracted 2000 highly variable genes.\n",
      "Leiden clustering ...\n",
      "WARNING: You’re trying to run this on 368 dimensions of `.X`, if you really want this, set `use_rep='X'`.\n",
      "         Falling back to preprocessing with `sc.pp.pca` and default params.\n"
     ]
    },
    {
     "name": "stderr",
     "output_type": "stream",
     "text": [
      "GPU available: True, used: True\n",
      "TPU available: False, using: 0 TPU cores\n",
      "IPU available: False, using: 0 IPUs\n",
      "LOCAL_RANK: 0 - CUDA_VISIBLE_DEVICES: [0]\n"
     ]
    },
    {
     "name": "stdout",
     "output_type": "stream",
     "text": [
      "Number of Leiden Clusters: 14\n",
      "Maximal Number of Modules: 16\n",
      "Epoch 1000/1000: 100%|██████████████████████████████████████████████████████████████████████████████████████████████████████████████████████████████████████████████████████| 1000/1000 [10:07<00:00,  1.64it/s, v_num=1, elbo_train=3.83e+6]\n",
      "Sampling local variables, batch: 100%|█████████████████████████████████████████████████████████████████████████████████████████████████████████████████████████████████████████████████████████████████████████| 1/1 [00:01<00:00,  1.56s/it]\n",
      "Sampling global variables, sample: 100%|███████████████████████████████████████████████████████████████████████████████████████████████████████████████████████████████████████████████████████████████████████| 9/9 [00:01<00:00,  8.21it/s]\n",
      "Computing total RNAvelocity ...\n"
     ]
    },
    {
     "data": {
      "application/vnd.jupyter.widget-view+json": {
       "model_id": "038a5ba70c9b40d1b8d23130d2744261",
       "version_major": 2,
       "version_minor": 0
      },
      "text/plain": [
       "  0%|          | 0/2930 [00:00<?, ?cells/s]"
      ]
     },
     "metadata": {},
     "output_type": "display_data"
    },
    {
     "name": "stdout",
     "output_type": "stream",
     "text": [
      "# Cross-Boundary Direction Correctness (A->B)\n",
      "{('nIPC', 'Neuroblast'): 0.3171793936408271, ('Neuroblast', 'Granule immature'): 0.5204624909732417, ('Granule immature', 'Granule mature'): 0.36317253151701184, ('Radial Glia-like', 'Astrocytes'): -0.3802170076396377, ('OPC', 'OL'): -0.7384130759595973}\n",
      "Total Mean: 0.016436866506369108\n",
      "# In-cluster Coherence\n",
      "{'Astrocytes': 0.7869071, 'Cajal Retzius': 0.52078086, 'Cck-Tox': 0.8797404, 'Endothelial': 0.7736502, 'GABA': 0.82055277, 'Granule immature': 0.8795804, 'Granule mature': 0.96841824, 'Microglia': 0.84179425, 'Mossy': 0.81834775, 'Neuroblast': 0.6587612, 'OL': 0.64162004, 'OPC': 0.61122614, 'Radial Glia-like': 0.7763317, 'nIPC': 0.4872672}\n",
      "Total Mean: 0.7474984526634216\n",
      "0\n",
      "0\n",
      "2\n",
      "Keeping at most 1000000 cells per cluster\n"
     ]
    },
    {
     "name": "stderr",
     "output_type": "stream",
     "text": [
      "Global seed set to 999\n"
     ]
    },
    {
     "name": "stdout",
     "output_type": "stream",
     "text": [
      "Filtered out 19601 genes that are detected 10 counts (shared).\n",
      "Skip filtering by dispersion since number of variables are less than `n_top_genes`.\n",
      "Leiden clustering ...\n"
     ]
    },
    {
     "name": "stderr",
     "output_type": "stream",
     "text": [
      "GPU available: True, used: True\n",
      "TPU available: False, using: 0 TPU cores\n",
      "IPU available: False, using: 0 IPUs\n",
      "LOCAL_RANK: 0 - CUDA_VISIBLE_DEVICES: [0]\n"
     ]
    },
    {
     "name": "stdout",
     "output_type": "stream",
     "text": [
      "Number of Leiden Clusters: 8\n",
      "Maximal Number of Modules: 9\n",
      "Epoch 1000/1000: 100%|██████████████████████████████████████████████████████████████████████████████████████████████████████████████████████████████████████████████████████| 1000/1000 [07:47<00:00,  2.14it/s, v_num=1, elbo_train=3.67e+6]\n",
      "Sampling local variables, batch: 100%|█████████████████████████████████████████████████████████████████████████████████████████████████████████████████████████████████████████████████████████████████████████| 1/1 [00:01<00:00,  1.12s/it]\n",
      "Sampling global variables, sample: 100%|███████████████████████████████████████████████████████████████████████████████████████████████████████████████████████████████████████████████████████████████████████| 9/9 [00:00<00:00, 11.47it/s]\n",
      "Computing total RNAvelocity ...\n"
     ]
    },
    {
     "data": {
      "application/vnd.jupyter.widget-view+json": {
       "model_id": "10f152b49432442eb282730eb6099755",
       "version_major": 2,
       "version_minor": 0
      },
      "text/plain": [
       "  0%|          | 0/2600 [00:00<?, ?cells/s]"
      ]
     },
     "metadata": {},
     "output_type": "display_data"
    },
    {
     "name": "stdout",
     "output_type": "stream",
     "text": [
      "# Cross-Boundary Direction Correctness (A->B)\n",
      "{('dividing', 'progenitors'): -0.32640297676907953, ('progenitors', 'activating'): -0.808918452231607}\n",
      "Total Mean: -0.5676607145003433\n",
      "# In-cluster Coherence\n",
      "{'B cell lineage': 0.7891012, 'activating': 0.7527694, 'dividing': 0.7075026, 'macrophages': 0.6483583, 'progenitors': 0.86142176}\n",
      "Total Mean: 0.7518306970596313\n",
      "0\n",
      "0\n",
      "0\n",
      "Keeping at most 1000000 cells per cluster\n",
      "Filtered out 19641 genes that are detected 10 counts (shared).\n"
     ]
    },
    {
     "name": "stderr",
     "output_type": "stream",
     "text": [
      "Global seed set to 999\n"
     ]
    },
    {
     "name": "stdout",
     "output_type": "stream",
     "text": [
      "Extracted 2000 highly variable genes.\n",
      "Leiden clustering ...\n"
     ]
    },
    {
     "name": "stderr",
     "output_type": "stream",
     "text": [
      "GPU available: True, used: True\n",
      "TPU available: False, using: 0 TPU cores\n",
      "IPU available: False, using: 0 IPUs\n",
      "LOCAL_RANK: 0 - CUDA_VISIBLE_DEVICES: [0]\n"
     ]
    },
    {
     "name": "stdout",
     "output_type": "stream",
     "text": [
      "Number of Leiden Clusters: 13\n",
      "Maximal Number of Modules: 14\n",
      "Epoch 1000/1000: 100%|██████████████████████████████████████████████████████████████████████████████████████████████████████████████████████████████████████████████████████| 1000/1000 [13:09<00:00,  1.27it/s, v_num=1, elbo_train=6.87e+6]\n",
      "Sampling local variables, batch: 100%|█████████████████████████████████████████████████████████████████████████████████████████████████████████████████████████████████████████████████████████████████████████| 1/1 [00:01<00:00,  1.86s/it]\n",
      "Sampling global variables, sample: 100%|███████████████████████████████████████████████████████████████████████████████████████████████████████████████████████████████████████████████████████████████████████| 9/9 [00:01<00:00,  6.79it/s]\n",
      "Computing total RNAvelocity ...\n"
     ]
    },
    {
     "data": {
      "application/vnd.jupyter.widget-view+json": {
       "model_id": "7a284936492c4de8a11083a8d9d53e2d",
       "version_major": 2,
       "version_minor": 0
      },
      "text/plain": [
       "  0%|          | 0/3696 [00:00<?, ?cells/s]"
      ]
     },
     "metadata": {},
     "output_type": "display_data"
    },
    {
     "name": "stdout",
     "output_type": "stream",
     "text": [
      "# Cross-Boundary Direction Correctness (A->B)\n",
      "{('Ngn3 high EP', 'Pre-endocrine'): 0.5482468606273897, ('Pre-endocrine', 'Alpha'): -0.4461397543269598, ('Pre-endocrine', 'Beta'): -0.5529836295398973, ('Pre-endocrine', 'Delta'): -0.004969293534334217, ('Pre-endocrine', 'Epsilon'): -0.37293686244791074}\n",
      "Total Mean: -0.16575653584434247\n",
      "# In-cluster Coherence\n",
      "{'Alpha': 0.78827655, 'Beta': 0.7888474, 'Delta': 0.7055072, 'Ductal': 0.94937855, 'Epsilon': 0.7050841, 'Ngn3 high EP': 0.87618136, 'Ngn3 low EP': 0.94918066, 'Pre-endocrine': 0.77568835}\n",
      "Total Mean: 0.8172680139541626\n",
      "0\n",
      "0\n",
      "4\n",
      "Keeping at most 1000000 cells per cluster\n",
      "Filtered out 6962 genes that are detected 10 counts (shared).\n"
     ]
    },
    {
     "name": "stderr",
     "output_type": "stream",
     "text": [
      "Global seed set to 999\n"
     ]
    },
    {
     "name": "stdout",
     "output_type": "stream",
     "text": [
      "Extracted 2000 highly variable genes.\n",
      "Leiden clustering ...\n",
      "WARNING: You’re trying to run this on 312 dimensions of `.X`, if you really want this, set `use_rep='X'`.\n",
      "         Falling back to preprocessing with `sc.pp.pca` and default params.\n"
     ]
    },
    {
     "name": "stderr",
     "output_type": "stream",
     "text": [
      "GPU available: True, used: True\n",
      "TPU available: False, using: 0 TPU cores\n",
      "IPU available: False, using: 0 IPUs\n",
      "LOCAL_RANK: 0 - CUDA_VISIBLE_DEVICES: [0]\n"
     ]
    },
    {
     "name": "stdout",
     "output_type": "stream",
     "text": [
      "Number of Leiden Clusters: 10\n",
      "Maximal Number of Modules: 11\n",
      "Epoch 1000/1000: 100%|███████████████████████████████████████████████████████████████████████████████████████████████████████████████████████████████████████████████████████| 1000/1000 [17:26<00:00,  1.05s/it, v_num=1, elbo_train=9.8e+6]\n",
      "Sampling local variables, batch: 100%|█████████████████████████████████████████████████████████████████████████████████████████████████████████████████████████████████████████████████████████████████████████| 1/1 [00:02<00:00,  2.47s/it]\n",
      "Sampling global variables, sample: 100%|███████████████████████████████████████████████████████████████████████████████████████████████████████████████████████████████████████████████████████████████████████| 9/9 [00:01<00:00,  5.26it/s]\n",
      "Computing total RNAvelocity ...\n"
     ]
    },
    {
     "data": {
      "application/vnd.jupyter.widget-view+json": {
       "model_id": "aa2172f6bee9401d9c843292b81fc151",
       "version_major": 2,
       "version_minor": 0
      },
      "text/plain": [
       "  0%|          | 0/5780 [00:00<?, ?cells/s]"
      ]
     },
     "metadata": {},
     "output_type": "display_data"
    },
    {
     "name": "stdout",
     "output_type": "stream",
     "text": [
      "# Cross-Boundary Direction Correctness (A->B)\n",
      "{('HSC_1', 'Ery_1'): -0.46652583810354187, ('HSC_1', 'HSC_2'): 0.16151976095925527, ('Ery_1', 'Ery_2'): -0.13102149200604932}\n",
      "Total Mean: -0.14534252305011197\n",
      "# In-cluster Coherence\n",
      "{'CLP': 0.94618386, 'DCs': 0.94207966, 'Ery_1': 0.40024304, 'Ery_2': 0.78977907, 'HSC_1': 0.87196654, 'HSC_2': 0.70188636, 'Mega': 0.5374451, 'Mono_1': 0.87212664, 'Mono_2': 0.68126, 'Precursors': 0.69986546}\n",
      "Total Mean: 0.7442835569381714\n",
      "0\n",
      "1\n",
      "3\n",
      "Keeping at most 1000000 cells per cluster\n",
      "Filtered out 47456 genes that are detected 20 counts (shared).\n"
     ]
    },
    {
     "name": "stderr",
     "output_type": "stream",
     "text": [
      "Global seed set to 999\n"
     ]
    },
    {
     "name": "stdout",
     "output_type": "stream",
     "text": [
      "Extracted 2000 highly variable genes.\n",
      "Leiden clustering ...\n"
     ]
    },
    {
     "name": "stderr",
     "output_type": "stream",
     "text": [
      "GPU available: True, used: True\n",
      "TPU available: False, using: 0 TPU cores\n",
      "IPU available: False, using: 0 IPUs\n",
      "LOCAL_RANK: 0 - CUDA_VISIBLE_DEVICES: [0]\n"
     ]
    },
    {
     "name": "stdout",
     "output_type": "stream",
     "text": [
      "Number of Leiden Clusters: 9\n",
      "Maximal Number of Modules: 10\n",
      "Epoch 1000/1000: 100%|██████████████████████████████████████████████████████████████████████████████████████████████████████████████████████████████████████████████████████| 1000/1000 [26:33<00:00,  1.59s/it, v_num=1, elbo_train=2.34e+7]\n",
      "Sampling local variables, batch: 100%|█████████████████████████████████████████████████████████████████████████████████████████████████████████████████████████████████████████████████████████████████████████| 1/1 [00:03<00:00,  3.72s/it]\n",
      "Sampling global variables, sample: 100%|███████████████████████████████████████████████████████████████████████████████████████████████████████████████████████████████████████████████████████████████████████| 9/9 [00:02<00:00,  3.57it/s]\n",
      "Computing total RNAvelocity ...\n"
     ]
    },
    {
     "data": {
      "application/vnd.jupyter.widget-view+json": {
       "model_id": "3a739fec699148e4b7e9df7e6797b81d",
       "version_major": 2,
       "version_minor": 0
      },
      "text/plain": [
       "  0%|          | 0/9815 [00:00<?, ?cells/s]"
      ]
     },
     "metadata": {},
     "output_type": "display_data"
    },
    {
     "name": "stdout",
     "output_type": "stream",
     "text": [
      "# Cross-Boundary Direction Correctness (A->B)\n",
      "{('Blood progenitors 1', 'Blood progenitors 2'): 0.3417781523470536, ('Blood progenitors 2', 'Erythroid1'): -0.34111073250918633, ('Erythroid1', 'Erythroid2'): -0.6974551312031464, ('Erythroid2', 'Erythroid3'): -0.6812095761351394}\n",
      "Total Mean: -0.3444993218751047\n",
      "# In-cluster Coherence\n",
      "{'Blood progenitors 1': 0.70708644, 'Blood progenitors 2': 0.85035026, 'Erythroid1': 0.87530106, 'Erythroid2': 0.8621388, 'Erythroid3': 0.6740799}\n",
      "Total Mean: 0.7937912940979004\n",
      "0\n",
      "1\n",
      "1\n",
      "Keeping at most 1000000 cells per cluster\n"
     ]
    },
    {
     "name": "stderr",
     "output_type": "stream",
     "text": [
      "Global seed set to 999\n"
     ]
    },
    {
     "name": "stdout",
     "output_type": "stream",
     "text": [
      "Filtered out 10340 genes that are detected 20 counts (shared).\n",
      "Extracted 2000 highly variable genes.\n",
      "Leiden clustering ...\n",
      "WARNING: You’re trying to run this on 327 dimensions of `.X`, if you really want this, set `use_rep='X'`.\n",
      "         Falling back to preprocessing with `sc.pp.pca` and default params.\n"
     ]
    },
    {
     "name": "stderr",
     "output_type": "stream",
     "text": [
      "GPU available: True, used: True\n",
      "TPU available: False, using: 0 TPU cores\n",
      "IPU available: False, using: 0 IPUs\n",
      "LOCAL_RANK: 0 - CUDA_VISIBLE_DEVICES: [0]\n"
     ]
    },
    {
     "name": "stdout",
     "output_type": "stream",
     "text": [
      "Number of Leiden Clusters: 14\n",
      "Maximal Number of Modules: 16\n",
      "Epoch 1000/1000: 100%|██████████████████████████████████████████████████████████████████████████████████████████████████████████████████████████████████████████████████████| 1000/1000 [10:16<00:00,  1.62it/s, v_num=1, elbo_train=4.55e+6]\n",
      "Sampling local variables, batch: 100%|█████████████████████████████████████████████████████████████████████████████████████████████████████████████████████████████████████████████████████████████████████████| 1/1 [00:01<00:00,  1.57s/it]\n",
      "Sampling global variables, sample: 100%|███████████████████████████████████████████████████████████████████████████████████████████████████████████████████████████████████████████████████████████████████████| 9/9 [00:01<00:00,  8.16it/s]\n",
      "Computing total RNAvelocity ...\n"
     ]
    },
    {
     "data": {
      "application/vnd.jupyter.widget-view+json": {
       "model_id": "3cf6b42b8a674ea4946c78a34979eea6",
       "version_major": 2,
       "version_minor": 0
      },
      "text/plain": [
       "  0%|          | 0/2930 [00:00<?, ?cells/s]"
      ]
     },
     "metadata": {},
     "output_type": "display_data"
    },
    {
     "name": "stdout",
     "output_type": "stream",
     "text": [
      "# Cross-Boundary Direction Correctness (A->B)\n",
      "{('nIPC', 'Neuroblast'): -0.13222449412089554, ('Neuroblast', 'Granule immature'): 0.41959133849409674, ('Granule immature', 'Granule mature'): 0.4112027583817743, ('Radial Glia-like', 'Astrocytes'): 0.5539143103272121, ('OPC', 'OL'): 0.42596335592381934}\n",
      "Total Mean: 0.33568945380120135\n",
      "# In-cluster Coherence\n",
      "{'Astrocytes': 0.94270325, 'Cajal Retzius': 0.67082286, 'Cck-Tox': 0.85674083, 'Endothelial': 0.77522236, 'GABA': 0.8859876, 'Granule immature': 0.8094566, 'Granule mature': 0.94236475, 'Microglia': 0.9386184, 'Mossy': 0.84160614, 'Neuroblast': 0.6464162, 'OL': 0.8206526, 'OPC': 0.61569905, 'Radial Glia-like': 0.8242464, 'nIPC': 0.47076702}\n",
      "Total Mean: 0.7886645197868347\n",
      "0\n",
      "1\n",
      "2\n",
      "Keeping at most 1000000 cells per cluster\n"
     ]
    },
    {
     "name": "stderr",
     "output_type": "stream",
     "text": [
      "Global seed set to 999\n"
     ]
    },
    {
     "name": "stdout",
     "output_type": "stream",
     "text": [
      "Filtered out 20300 genes that are detected 20 counts (shared).\n",
      "Skip filtering by dispersion since number of variables are less than `n_top_genes`.\n",
      "Leiden clustering ...\n"
     ]
    },
    {
     "name": "stderr",
     "output_type": "stream",
     "text": [
      "GPU available: True, used: True\n",
      "TPU available: False, using: 0 TPU cores\n",
      "IPU available: False, using: 0 IPUs\n",
      "LOCAL_RANK: 0 - CUDA_VISIBLE_DEVICES: [0]\n"
     ]
    },
    {
     "name": "stdout",
     "output_type": "stream",
     "text": [
      "Number of Leiden Clusters: 8\n",
      "Maximal Number of Modules: 9\n",
      "Epoch 1000/1000: 100%|██████████████████████████████████████████████████████████████████████████████████████████████████████████████████████████████████████████████████████| 1000/1000 [07:42<00:00,  2.16it/s, v_num=1, elbo_train=2.81e+6]\n",
      "Sampling local variables, batch: 100%|█████████████████████████████████████████████████████████████████████████████████████████████████████████████████████████████████████████████████████████████████████████| 1/1 [00:00<00:00,  1.31it/s]\n",
      "Sampling global variables, sample: 100%|███████████████████████████████████████████████████████████████████████████████████████████████████████████████████████████████████████████████████████████████████████| 9/9 [00:00<00:00, 22.20it/s]\n",
      "Computing total RNAvelocity ...\n"
     ]
    },
    {
     "data": {
      "application/vnd.jupyter.widget-view+json": {
       "model_id": "80d41691f90748a2888f177a1d618d36",
       "version_major": 2,
       "version_minor": 0
      },
      "text/plain": [
       "  0%|          | 0/2600 [00:00<?, ?cells/s]"
      ]
     },
     "metadata": {},
     "output_type": "display_data"
    },
    {
     "name": "stdout",
     "output_type": "stream",
     "text": [
      "# Cross-Boundary Direction Correctness (A->B)\n",
      "{('dividing', 'progenitors'): -0.38824574309612825, ('progenitors', 'activating'): -0.791097085776222}\n",
      "Total Mean: -0.5896714144361751\n",
      "# In-cluster Coherence\n",
      "{'B cell lineage': 0.7466133, 'activating': 0.8487642, 'dividing': 0.7509583, 'macrophages': 0.66900456, 'progenitors': 0.75529087}\n",
      "Total Mean: 0.754126250743866\n",
      "0\n",
      "1\n",
      "0\n",
      "Keeping at most 1000000 cells per cluster\n",
      "Filtered out 20801 genes that are detected 20 counts (shared).\n"
     ]
    },
    {
     "name": "stderr",
     "output_type": "stream",
     "text": [
      "Global seed set to 999\n"
     ]
    },
    {
     "name": "stdout",
     "output_type": "stream",
     "text": [
      "Extracted 2000 highly variable genes.\n",
      "Leiden clustering ...\n"
     ]
    },
    {
     "name": "stderr",
     "output_type": "stream",
     "text": [
      "GPU available: True, used: True\n",
      "TPU available: False, using: 0 TPU cores\n",
      "IPU available: False, using: 0 IPUs\n",
      "LOCAL_RANK: 0 - CUDA_VISIBLE_DEVICES: [0]\n"
     ]
    },
    {
     "name": "stdout",
     "output_type": "stream",
     "text": [
      "Number of Leiden Clusters: 13\n",
      "Maximal Number of Modules: 14\n",
      "Epoch 1000/1000: 100%|██████████████████████████████████████████████████████████████████████████████████████████████████████████████████████████████████████████████████████| 1000/1000 [13:03<00:00,  1.28it/s, v_num=1, elbo_train=7.49e+6]\n",
      "Sampling local variables, batch: 100%|█████████████████████████████████████████████████████████████████████████████████████████████████████████████████████████████████████████████████████████████████████████| 1/1 [00:01<00:00,  1.85s/it]\n",
      "Sampling global variables, sample: 100%|███████████████████████████████████████████████████████████████████████████████████████████████████████████████████████████████████████████████████████████████████████| 9/9 [00:01<00:00,  6.83it/s]\n",
      "Computing total RNAvelocity ...\n"
     ]
    },
    {
     "data": {
      "application/vnd.jupyter.widget-view+json": {
       "model_id": "5509c3a4e7b7483e90227f9a99d38e36",
       "version_major": 2,
       "version_minor": 0
      },
      "text/plain": [
       "  0%|          | 0/3696 [00:00<?, ?cells/s]"
      ]
     },
     "metadata": {},
     "output_type": "display_data"
    },
    {
     "name": "stdout",
     "output_type": "stream",
     "text": [
      "# Cross-Boundary Direction Correctness (A->B)\n",
      "{('Ngn3 high EP', 'Pre-endocrine'): -0.5687015555493452, ('Pre-endocrine', 'Alpha'): -0.5931001433372228, ('Pre-endocrine', 'Beta'): -0.6926671278754102, ('Pre-endocrine', 'Delta'): -0.20348445815004548, ('Pre-endocrine', 'Epsilon'): -0.4542404336572575}\n",
      "Total Mean: -0.5024387437138562\n",
      "# In-cluster Coherence\n",
      "{'Alpha': 0.76919943, 'Beta': 0.7874395, 'Delta': 0.7203373, 'Ductal': 0.97401196, 'Epsilon': 0.7647353, 'Ngn3 high EP': 0.8538029, 'Ngn3 low EP': 0.91490847, 'Pre-endocrine': 0.78938085}\n",
      "Total Mean: 0.82172691822052\n",
      "0\n",
      "1\n",
      "4\n",
      "Keeping at most 1000000 cells per cluster\n",
      "Filtered out 7837 genes that are detected 20 counts (shared).\n"
     ]
    },
    {
     "name": "stderr",
     "output_type": "stream",
     "text": [
      "Global seed set to 999\n"
     ]
    },
    {
     "name": "stdout",
     "output_type": "stream",
     "text": [
      "Extracted 2000 highly variable genes.\n",
      "Leiden clustering ...\n",
      "WARNING: You’re trying to run this on 303 dimensions of `.X`, if you really want this, set `use_rep='X'`.\n",
      "         Falling back to preprocessing with `sc.pp.pca` and default params.\n"
     ]
    },
    {
     "name": "stderr",
     "output_type": "stream",
     "text": [
      "GPU available: True, used: True\n",
      "TPU available: False, using: 0 TPU cores\n",
      "IPU available: False, using: 0 IPUs\n",
      "LOCAL_RANK: 0 - CUDA_VISIBLE_DEVICES: [0]\n"
     ]
    },
    {
     "name": "stdout",
     "output_type": "stream",
     "text": [
      "Number of Leiden Clusters: 10\n",
      "Maximal Number of Modules: 11\n",
      "Epoch 1000/1000: 100%|██████████████████████████████████████████████████████████████████████████████████████████████████████████████████████████████████████████████████████| 1000/1000 [17:18<00:00,  1.04s/it, v_num=1, elbo_train=1.07e+7]\n",
      "Sampling local variables, batch: 100%|█████████████████████████████████████████████████████████████████████████████████████████████████████████████████████████████████████████████████████████████████████████| 1/1 [00:02<00:00,  2.47s/it]\n",
      "Sampling global variables, sample: 100%|███████████████████████████████████████████████████████████████████████████████████████████████████████████████████████████████████████████████████████████████████████| 9/9 [00:01<00:00,  5.25it/s]\n",
      "Computing total RNAvelocity ...\n"
     ]
    },
    {
     "data": {
      "application/vnd.jupyter.widget-view+json": {
       "model_id": "1e7d9ec82c27401ca97a6bec1192cde1",
       "version_major": 2,
       "version_minor": 0
      },
      "text/plain": [
       "  0%|          | 0/5780 [00:00<?, ?cells/s]"
      ]
     },
     "metadata": {},
     "output_type": "display_data"
    },
    {
     "name": "stdout",
     "output_type": "stream",
     "text": [
      "# Cross-Boundary Direction Correctness (A->B)\n",
      "{('HSC_1', 'Ery_1'): -0.002335499952933743, ('HSC_1', 'HSC_2'): -0.2450997024062416, ('Ery_1', 'Ery_2'): 0.6018954008005709}\n",
      "Total Mean: 0.11815339948046517\n",
      "# In-cluster Coherence\n",
      "{'CLP': 0.9400641, 'DCs': 0.85051787, 'Ery_1': 0.7843968, 'Ery_2': 0.93011624, 'HSC_1': 0.80283135, 'HSC_2': 0.6591752, 'Mega': 0.68777156, 'Mono_1': 0.7544994, 'Mono_2': 0.8588493, 'Precursors': 0.4799538}\n",
      "Total Mean: 0.7748175859451294\n",
      "1\n",
      "0\n",
      "3\n",
      "Keeping at most 1000000 cells per cluster\n",
      "Filtered out 46616 genes that are detected 10 counts (shared).\n"
     ]
    },
    {
     "name": "stderr",
     "output_type": "stream",
     "text": [
      "Global seed set to 999\n"
     ]
    },
    {
     "name": "stdout",
     "output_type": "stream",
     "text": [
      "Extracted 3000 highly variable genes.\n",
      "Leiden clustering ...\n"
     ]
    },
    {
     "name": "stderr",
     "output_type": "stream",
     "text": [
      "GPU available: True, used: True\n",
      "TPU available: False, using: 0 TPU cores\n",
      "IPU available: False, using: 0 IPUs\n",
      "LOCAL_RANK: 0 - CUDA_VISIBLE_DEVICES: [0]\n"
     ]
    },
    {
     "name": "stdout",
     "output_type": "stream",
     "text": [
      "Number of Leiden Clusters: 9\n",
      "Maximal Number of Modules: 10\n",
      "Epoch 1000/1000: 100%|██████████████████████████████████████████████████████████████████████████████████████████████████████████████████████████████████████████████████████| 1000/1000 [26:48<00:00,  1.61s/it, v_num=1, elbo_train=3.06e+7]\n",
      "Sampling local variables, batch: 100%|█████████████████████████████████████████████████████████████████████████████████████████████████████████████████████████████████████████████████████████████████████████| 1/1 [00:06<00:00,  6.56s/it]\n",
      "Sampling global variables, sample: 100%|███████████████████████████████████████████████████████████████████████████████████████████████████████████████████████████████████████████████████████████████████████| 9/9 [00:03<00:00,  2.41it/s]\n",
      "Computing total RNAvelocity ...\n"
     ]
    },
    {
     "data": {
      "application/vnd.jupyter.widget-view+json": {
       "model_id": "467973f664da4460bd0c3331981bcb49",
       "version_major": 2,
       "version_minor": 0
      },
      "text/plain": [
       "  0%|          | 0/9815 [00:00<?, ?cells/s]"
      ]
     },
     "metadata": {},
     "output_type": "display_data"
    },
    {
     "name": "stdout",
     "output_type": "stream",
     "text": [
      "# Cross-Boundary Direction Correctness (A->B)\n",
      "{('Blood progenitors 1', 'Blood progenitors 2'): 0.18267870336880493, ('Blood progenitors 2', 'Erythroid1'): -0.29641495429117454, ('Erythroid1', 'Erythroid2'): -0.7842943412217915, ('Erythroid2', 'Erythroid3'): -0.42401527109010656}\n",
      "Total Mean: -0.33051146580856694\n",
      "# In-cluster Coherence\n",
      "{'Blood progenitors 1': 0.8055495, 'Blood progenitors 2': 0.8397852, 'Erythroid1': 0.880542, 'Erythroid2': 0.86446756, 'Erythroid3': 0.69727755}\n",
      "Total Mean: 0.8175243139266968\n",
      "1\n",
      "0\n",
      "1\n",
      "Keeping at most 1000000 cells per cluster\n"
     ]
    },
    {
     "name": "stderr",
     "output_type": "stream",
     "text": [
      "Global seed set to 999\n"
     ]
    },
    {
     "name": "stdout",
     "output_type": "stream",
     "text": [
      "Filtered out 9174 genes that are detected 10 counts (shared).\n",
      "Extracted 3000 highly variable genes.\n",
      "Leiden clustering ...\n",
      "WARNING: You’re trying to run this on 524 dimensions of `.X`, if you really want this, set `use_rep='X'`.\n",
      "         Falling back to preprocessing with `sc.pp.pca` and default params.\n"
     ]
    },
    {
     "name": "stderr",
     "output_type": "stream",
     "text": [
      "GPU available: True, used: True\n",
      "TPU available: False, using: 0 TPU cores\n",
      "IPU available: False, using: 0 IPUs\n",
      "LOCAL_RANK: 0 - CUDA_VISIBLE_DEVICES: [0]\n"
     ]
    },
    {
     "name": "stdout",
     "output_type": "stream",
     "text": [
      "Number of Leiden Clusters: 13\n",
      "Maximal Number of Modules: 14\n",
      "Epoch 1000/1000: 100%|██████████████████████████████████████████████████████████████████████████████████████████████████████████████████████████████████████████████████████| 1000/1000 [09:57<00:00,  1.67it/s, v_num=1, elbo_train=5.86e+6]\n",
      "Sampling local variables, batch: 100%|█████████████████████████████████████████████████████████████████████████████████████████████████████████████████████████████████████████████████████████████████████████| 1/1 [00:02<00:00,  2.38s/it]\n",
      "Sampling global variables, sample: 100%|███████████████████████████████████████████████████████████████████████████████████████████████████████████████████████████████████████████████████████████████████████| 9/9 [00:01<00:00,  5.86it/s]\n",
      "Computing total RNAvelocity ...\n"
     ]
    },
    {
     "data": {
      "application/vnd.jupyter.widget-view+json": {
       "model_id": "d34511abf2794026a041bb94116b53c2",
       "version_major": 2,
       "version_minor": 0
      },
      "text/plain": [
       "  0%|          | 0/2930 [00:00<?, ?cells/s]"
      ]
     },
     "metadata": {},
     "output_type": "display_data"
    },
    {
     "name": "stdout",
     "output_type": "stream",
     "text": [
      "# Cross-Boundary Direction Correctness (A->B)\n",
      "{('nIPC', 'Neuroblast'): -0.11137499289720569, ('Neuroblast', 'Granule immature'): 0.5351878158527363, ('Granule immature', 'Granule mature'): 0.31636692598941824, ('Radial Glia-like', 'Astrocytes'): 0.7252722135670729, ('OPC', 'OL'): 0.5253559578521401}\n",
      "Total Mean: 0.3981615840728324\n",
      "# In-cluster Coherence\n",
      "{'Astrocytes': 0.9451231, 'Cajal Retzius': 0.7008574, 'Cck-Tox': 0.87399566, 'Endothelial': 0.90484303, 'GABA': 0.84085685, 'Granule immature': 0.7929305, 'Granule mature': 0.86159533, 'Microglia': 0.9774817, 'Mossy': 0.60527027, 'Neuroblast': 0.75956446, 'OL': 0.983324, 'OPC': 0.86569667, 'Radial Glia-like': 0.7974065, 'nIPC': 0.50424504}\n",
      "Total Mean: 0.8152278661727905\n",
      "1\n",
      "0\n",
      "2\n",
      "Keeping at most 1000000 cells per cluster\n"
     ]
    },
    {
     "name": "stderr",
     "output_type": "stream",
     "text": [
      "Global seed set to 999\n"
     ]
    },
    {
     "name": "stdout",
     "output_type": "stream",
     "text": [
      "Filtered out 19601 genes that are detected 10 counts (shared).\n",
      "Skip filtering by dispersion since number of variables are less than `n_top_genes`.\n",
      "Leiden clustering ...\n"
     ]
    },
    {
     "name": "stderr",
     "output_type": "stream",
     "text": [
      "GPU available: True, used: True\n",
      "TPU available: False, using: 0 TPU cores\n",
      "IPU available: False, using: 0 IPUs\n",
      "LOCAL_RANK: 0 - CUDA_VISIBLE_DEVICES: [0]\n"
     ]
    },
    {
     "name": "stdout",
     "output_type": "stream",
     "text": [
      "Number of Leiden Clusters: 8\n",
      "Maximal Number of Modules: 9\n",
      "Epoch 487/1000:  49%|██████████████████████████████████████████████████████████████████████████▎                                                                              | 486/1000 [03:44<03:54,  2.19it/s, v_num=1, elbo_train=3.7e+6]"
     ]
    }
   ],
   "source": [
    "import os\n",
    "os.chdir('..')\n",
    "os.chdir('..')\n",
    "import scvelo as scv\n",
    "import scanpy as sc\n",
    "import cell2fate as c2f\n",
    "import pickle as pickle\n",
    "from eval_utils import cross_boundary_correctness\n",
    "from datetime import datetime\n",
    "import pandas as pd\n",
    "import numpy as np\n",
    "from os.path import exists\n",
    "import matplotlib.pyplot as plt\n",
    "import torch\n",
    "import unitvelo as utv\n",
    "import scvi\n",
    "method = 'Cell2fateDynamicalModel_1000epochs_10samples_seed999'\n",
    "data_dir = '/nfs/team283/aa16/data/fate_benchmarking/benchmarking_datasets/'\n",
    "save_dir = '/nfs/team283/aa16/data/fate_benchmarking/benchmarking_results/'\n",
    "datasets = ['Pancreas_with_cc',  'DentateGyrus' , 'MouseBoneMarrow', 'MouseErythroid', 'HumanBoneMarrow']\n",
    "n_genes_list = np.array((2000, 3000))\n",
    "n_counts_list = np.array((10, 20))\n",
    "\n",
    "for i in range(len(n_genes_list)):\n",
    "    for j in range(len(n_counts_list)):\n",
    "        for k in (3,1,2,0,4):\n",
    "            print(i)\n",
    "            print(j)\n",
    "            print(k)\n",
    "            dataset = datasets[k]\n",
    "            n_genes = n_genes_list[i]\n",
    "            min_counts = n_counts_list[j]\n",
    "            model_index = str(i) + '-' + str(j) + '-' + str(k)\n",
    "            save_name = method + '_'\n",
    "            if exists(save_dir + save_name + '_CBDC_fullBenchmark.csv'):\n",
    "                tab = pd.read_csv(save_dir + save_name + '_CBDC_fullBenchmark.csv', index_col = 0)\n",
    "                if model_index in tab.index:\n",
    "                    continue\n",
    "            adata = sc.read_h5ad(data_dir + dataset + '/' + dataset + '_anndata.h5ad')\n",
    "            adata = c2f.utils.get_training_data(adata, cells_per_cluster = 10**6, cluster_column = 'clusters',\n",
    "                                            remove_clusters = [], min_shared_counts = min_counts, n_var_genes= n_genes)\n",
    "            scvi.settings.seed = 999\n",
    "            c2f.Cell2fate_DynamicalModel.setup_anndata(adata, spliced_label='spliced', unspliced_label='unspliced')    \n",
    "            n_modules = c2f.utils.get_max_modules(adata)\n",
    "            mod = c2f.Cell2fate_DynamicalModel(adata,\n",
    "                                               n_modules = n_modules)   \n",
    "            mod.train(max_epochs = 1000)\n",
    "            sample_kwarg = {\"num_samples\": 10, \"batch_size\" : adata.n_obs,\n",
    "                 \"use_gpu\" : True, 'return_samples': False}\n",
    "            adata = mod.export_posterior(adata, sample_kwargs = sample_kwarg)\n",
    "            mod.compute_and_plot_total_velocity_scvelo(adata, save = False, delete = False)\n",
    "            # Calculate performance metrics:\n",
    "            file = open(data_dir + dataset + '/' + dataset + '_groundTruth.pickle' ,'rb')\n",
    "            ground_truth = pickle.load(file)\n",
    "            metrics = utv.evaluate(adata, ground_truth, 'clusters', 'velocity')\n",
    "            cb_score = [np.mean(metrics['Cross-Boundary Direction Correctness (A->B)'][x])\n",
    "                        for x in metrics['Cross-Boundary Direction Correctness (A->B)'].keys()]\n",
    "            if exists(save_dir + save_name + '_CBDC_fullBenchmark.csv'):\n",
    "                tab = pd.read_csv(save_dir + save_name + '_CBDC_fullBenchmark.csv', index_col = 0)\n",
    "            else:\n",
    "                c_names = ['CBDC', 'ELBO5', 'ELBO10', 'ELBO20', 'ELBO40']\n",
    "                tab = pd.DataFrame(columns = c_names)\n",
    "            tab.loc[model_index, 'CBDC'] = np.mean(cb_score)\n",
    "            tab.loc[model_index, 'ELBO40'] = np.mean(mod.history['elbo_train'][-40:])[0]\n",
    "            tab.loc[model_index, 'ELBO20'] = np.mean(mod.history['elbo_train'][-20:])[0]\n",
    "            tab.loc[model_index, 'ELBO10'] = np.mean(mod.history['elbo_train'][-10:])[0]\n",
    "            tab.loc[model_index, 'ELBO5'] = np.mean(mod.history['elbo_train'][-5:])[0]\n",
    "            tab.to_csv(save_dir + save_name + '_CBDC_fullBenchmark.csv')\n",
    "tab = pd.read_csv(save_dir + save_name + '_CBDC_fullBenchmark.csv', index_col = 0)\n",
    "tab.loc['AVERAGE', 'CBDC'] = np.mean(tab['CBDC'])\n",
    "tab.to_csv(save_dir + save_name + '_CBDC_fullBenchmark.csv')"
   ]
  },
  {
   "cell_type": "code",
   "execution_count": null,
   "id": "7bcd252e",
   "metadata": {},
   "outputs": [],
   "source": []
  }
 ],
 "metadata": {
  "kernelspec": {
   "display_name": "Python [conda env:cell2fate_env]",
   "language": "python",
   "name": "conda-env-cell2fate_env-py"
  },
  "language_info": {
   "codemirror_mode": {
    "name": "ipython",
    "version": 3
   },
   "file_extension": ".py",
   "mimetype": "text/x-python",
   "name": "python",
   "nbconvert_exporter": "python",
   "pygments_lexer": "ipython3",
   "version": "3.9.12"
  }
 },
 "nbformat": 4,
 "nbformat_minor": 5
}
