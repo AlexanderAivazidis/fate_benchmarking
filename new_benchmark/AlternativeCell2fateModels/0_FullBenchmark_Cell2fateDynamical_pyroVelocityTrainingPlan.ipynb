{
 "cells": [
  {
   "cell_type": "code",
   "execution_count": 1,
   "id": "e436e763",
   "metadata": {},
   "outputs": [
    {
     "name": "stderr",
     "output_type": "stream",
     "text": [
      "Global seed set to 0\n"
     ]
    }
   ],
   "source": [
    "from scvi.module.base import PyroBaseModuleClass\n",
    "from scvi.train import PyroTrainingPlan\n",
    "from typing import Optional, Union\n",
    "import pyro\n",
    "\n",
    "max_epochs = 4000\n",
    "start_lr = 0.01\n",
    "final_lr = 0.001\n",
    "lrd = (final_lr/start_lr)**(1/max_epochs)\n",
    "clipped_adam = pyro.optim.ClippedAdam({\"lr\": start_lr, \"lrd\": lrd,  \"clip_norm\": 10.0})\n",
    "\n",
    "class PyroTrainingPlan_ClippedAdamDecayingRate(PyroTrainingPlan):\n",
    "    \"\"\"\n",
    "    Lightning module task to train Pyro scvi-tools modules.\n",
    "    Parameters\n",
    "    ----------\n",
    "    pyro_module\n",
    "        An instance of :class:`~scvi.module.base.PyroBaseModuleClass`. This object\n",
    "        should have callable `model` and `guide` attributes or methods.\n",
    "    loss_fn\n",
    "        A Pyro loss. Should be a subclass of :class:`~pyro.infer.ELBO`.\n",
    "        If `None`, defaults to :class:`~pyro.infer.Trace_ELBO`.\n",
    "    optim\n",
    "        A Pyro optimizer instance, e.g., :class:`~pyro.optim.Adam`. If `None`,\n",
    "        defaults to :class:`pyro.optim.Adam` optimizer with a learning rate of `1e-3`.\n",
    "    optim_kwargs\n",
    "        Keyword arguments for **default** optimiser :class:`pyro.optim.Adam`.\n",
    "    n_aggressive_epochs\n",
    "        Number of epochs in aggressive optimisation of amortised variables.\n",
    "    n_aggressive_steps\n",
    "        Number of steps to spend optimising amortised variables before one step optimising global variables.\n",
    "    n_steps_kl_warmup\n",
    "        Number of training steps (minibatches) to scale weight on KL divergences from 0 to 1.\n",
    "        Only activated when `n_epochs_kl_warmup` is set to None.\n",
    "    n_epochs_kl_warmup\n",
    "        Number of epochs to scale weight on KL divergences from 0 to 1.\n",
    "        Overrides `n_steps_kl_warmup` when both are not `None`.\n",
    "    \"\"\"\n",
    "\n",
    "    def __init__(\n",
    "        self,\n",
    "        pyro_module: PyroBaseModuleClass,\n",
    "        loss_fn: Optional[pyro.infer.ELBO] = None,\n",
    "        optim: Optional[pyro.optim.PyroOptim] = clipped_adam,\n",
    "        optim_kwargs: Optional[dict] = None,\n",
    "    ):\n",
    "        super().__init__(\n",
    "            pyro_module=pyro_module,\n",
    "            loss_fn=loss_fn,\n",
    "            optim=optim,\n",
    "            optim_kwargs=optim_kwargs\n",
    "        )\n",
    "\n",
    "        self.svi = pyro.infer.SVI(\n",
    "            model=pyro_module.model,\n",
    "            guide=pyro_module.guide,\n",
    "            optim=self.optim,\n",
    "            loss=self.loss_fn,\n",
    "        )"
   ]
  },
  {
   "cell_type": "code",
   "execution_count": null,
   "id": "fd5023c1",
   "metadata": {},
   "outputs": [
    {
     "name": "stderr",
     "output_type": "stream",
     "text": [
      "Global seed set to 1\n"
     ]
    },
    {
     "name": "stdout",
     "output_type": "stream",
     "text": [
      "(Running UniTVelo 0.2.5.2)\n",
      "2023-11-16 15:02:44\n"
     ]
    },
    {
     "name": "stderr",
     "output_type": "stream",
     "text": [
      "2023-11-16 15:02:44.912193: E external/local_xla/xla/stream_executor/cuda/cuda_dnn.cc:9261] Unable to register cuDNN factory: Attempting to register factory for plugin cuDNN when one has already been registered\n",
      "2023-11-16 15:02:44.912241: E external/local_xla/xla/stream_executor/cuda/cuda_fft.cc:607] Unable to register cuFFT factory: Attempting to register factory for plugin cuFFT when one has already been registered\n",
      "2023-11-16 15:02:44.913848: E external/local_xla/xla/stream_executor/cuda/cuda_blas.cc:1515] Unable to register cuBLAS factory: Attempting to register factory for plugin cuBLAS when one has already been registered\n"
     ]
    },
    {
     "name": "stdout",
     "output_type": "stream",
     "text": [
      "0\n",
      "0\n",
      "2\n",
      "Keeping at most 1000000 cells per cluster\n"
     ]
    },
    {
     "name": "stderr",
     "output_type": "stream",
     "text": [
      "No GPU/TPU found, falling back to CPU. (Set TF_CPP_MIN_LOG_LEVEL=0 and rerun for more info.)\n"
     ]
    },
    {
     "name": "stdout",
     "output_type": "stream",
     "text": [
      "Filtered out 19601 genes that are detected 10 counts (shared).\n",
      "Skip filtering by dispersion since number of variables are less than `n_top_genes`.\n",
      "Leiden clustering ...\n"
     ]
    },
    {
     "name": "stderr",
     "output_type": "stream",
     "text": [
      "GPU available: True, used: True\n",
      "TPU available: False, using: 0 TPU cores\n",
      "IPU available: False, using: 0 IPUs\n",
      "LOCAL_RANK: 0 - CUDA_VISIBLE_DEVICES: [0]\n"
     ]
    },
    {
     "name": "stdout",
     "output_type": "stream",
     "text": [
      "Number of Leiden Clusters: 8\n",
      "Maximal Number of Modules: 9\n",
      "Epoch 461/4000:  12%|███████████▉                                                                                            | 461/4000 [04:38<35:38,  1.66it/s, v_num=1, elbo_train=3.68e+6]\n",
      "Monitored metric elbo_train did not improve in the last 45 records. Best score: 3675434.000. Signaling Trainer to stop.\n",
      "Sampling local variables, batch: 100%|█████████████████████████████████████████████████████████████████████████████████████████████████████████████████████████| 1/1 [00:02<00:00,  2.23s/it]\n",
      "Sampling global variables, sample: 100%|███████████████████████████████████████████████████████████████████████████████████████████████████████████████████████| 9/9 [00:01<00:00,  6.04it/s]\n",
      "Computing total RNAvelocity ...\n"
     ]
    },
    {
     "data": {
      "application/vnd.jupyter.widget-view+json": {
       "model_id": "bde7398a30ee4f65bbf740aa916329cb",
       "version_major": 2,
       "version_minor": 0
      },
      "text/plain": [
       "  0%|          | 0/2600 [00:00<?, ?cells/s]"
      ]
     },
     "metadata": {},
     "output_type": "display_data"
    },
    {
     "name": "stdout",
     "output_type": "stream",
     "text": [
      "# Cross-Boundary Direction Correctness (A->B)\n",
      "{('dividing', 'progenitors'): 0.5828215805456685, ('progenitors', 'activating'): 0.7549658461774957}\n",
      "Total Mean: 0.6688937133615821\n",
      "# In-cluster Coherence\n",
      "{'B cell lineage': 0.4850519, 'activating': 0.8752572, 'dividing': 0.48874018, 'macrophages': 0.5677573, 'progenitors': 0.8051977}\n",
      "Total Mean: 0.6444008946418762\n",
      "0\n",
      "0\n",
      "0\n",
      "Keeping at most 1000000 cells per cluster\n",
      "Filtered out 19641 genes that are detected 10 counts (shared).\n",
      "Extracted 2000 highly variable genes.\n",
      "Leiden clustering ...\n"
     ]
    },
    {
     "name": "stderr",
     "output_type": "stream",
     "text": [
      "GPU available: True, used: True\n",
      "TPU available: False, using: 0 TPU cores\n",
      "IPU available: False, using: 0 IPUs\n",
      "LOCAL_RANK: 0 - CUDA_VISIBLE_DEVICES: [0]\n"
     ]
    },
    {
     "name": "stdout",
     "output_type": "stream",
     "text": [
      "Number of Leiden Clusters: 13\n",
      "Maximal Number of Modules: 14\n",
      "Epoch 819/4000:  20%|█████████████████████▎                                                                                  | 819/4000 [14:14<55:18,  1.04s/it, v_num=1, elbo_train=6.81e+6]\n",
      "Monitored metric elbo_train did not improve in the last 45 records. Best score: 6797740.000. Signaling Trainer to stop.\n",
      "Sampling local variables, batch: 100%|█████████████████████████████████████████████████████████████████████████████████████████████████████████████████████████| 1/1 [00:03<00:00,  3.64s/it]\n",
      "Sampling global variables, sample: 100%|███████████████████████████████████████████████████████████████████████████████████████████████████████████████████████| 9/9 [00:02<00:00,  3.63it/s]\n",
      "Computing total RNAvelocity ...\n"
     ]
    },
    {
     "data": {
      "application/vnd.jupyter.widget-view+json": {
       "model_id": "d70b1bd5f5bd4684b8d76a77e4d9cfc7",
       "version_major": 2,
       "version_minor": 0
      },
      "text/plain": [
       "  0%|          | 0/3696 [00:00<?, ?cells/s]"
      ]
     },
     "metadata": {},
     "output_type": "display_data"
    },
    {
     "name": "stdout",
     "output_type": "stream",
     "text": [
      "# Cross-Boundary Direction Correctness (A->B)\n",
      "{('Ngn3 high EP', 'Pre-endocrine'): 0.6225399677957769, ('Pre-endocrine', 'Alpha'): -0.33788413850228105, ('Pre-endocrine', 'Beta'): 0.03540223727660624, ('Pre-endocrine', 'Delta'): 0.47519361373796953, ('Pre-endocrine', 'Epsilon'): 0.1917318397872856}\n",
      "Total Mean: 0.19739670401907145\n",
      "# In-cluster Coherence\n",
      "{'Alpha': 0.83218837, 'Beta': 0.7439668, 'Delta': 0.48987362, 'Ductal': 0.76761067, 'Epsilon': 0.65693694, 'Ngn3 high EP': 0.79848737, 'Ngn3 low EP': 0.77316827, 'Pre-endocrine': 0.64668703}\n",
      "Total Mean: 0.7136149406433105\n",
      "0\n",
      "0\n",
      "1\n",
      "Keeping at most 1000000 cells per cluster\n",
      "Filtered out 9174 genes that are detected 10 counts (shared).\n",
      "Extracted 2000 highly variable genes.\n",
      "Leiden clustering ...\n",
      "WARNING: You’re trying to run this on 368 dimensions of `.X`, if you really want this, set `use_rep='X'`.\n",
      "         Falling back to preprocessing with `sc.pp.pca` and default params.\n"
     ]
    },
    {
     "name": "stderr",
     "output_type": "stream",
     "text": [
      "GPU available: True, used: True\n",
      "TPU available: False, using: 0 TPU cores\n",
      "IPU available: False, using: 0 IPUs\n",
      "LOCAL_RANK: 0 - CUDA_VISIBLE_DEVICES: [0]\n"
     ]
    },
    {
     "name": "stdout",
     "output_type": "stream",
     "text": [
      "Number of Leiden Clusters: 13\n",
      "Maximal Number of Modules: 14\n",
      "Epoch 714/4000:  18%|██████████████████▌                                                                                     | 714/4000 [09:20<42:58,  1.27it/s, v_num=1, elbo_train=3.81e+6]\n",
      "Monitored metric elbo_train did not improve in the last 45 records. Best score: 3809153.750. Signaling Trainer to stop.\n",
      "Sampling local variables, batch: 100%|█████████████████████████████████████████████████████████████████████████████████████████████████████████████████████████| 1/1 [00:02<00:00,  2.92s/it]\n",
      "Sampling global variables, sample: 100%|███████████████████████████████████████████████████████████████████████████████████████████████████████████████████████| 9/9 [00:02<00:00,  4.43it/s]\n",
      "Computing total RNAvelocity ...\n"
     ]
    },
    {
     "data": {
      "application/vnd.jupyter.widget-view+json": {
       "model_id": "9d0cc43924124272bf621ba64578d8dd",
       "version_major": 2,
       "version_minor": 0
      },
      "text/plain": [
       "  0%|          | 0/2930 [00:00<?, ?cells/s]"
      ]
     },
     "metadata": {},
     "output_type": "display_data"
    },
    {
     "name": "stdout",
     "output_type": "stream",
     "text": [
      "# Cross-Boundary Direction Correctness (A->B)\n",
      "{('nIPC', 'Neuroblast'): 0.5979351989099486, ('Neuroblast', 'Granule immature'): 0.5191865635948407, ('Granule immature', 'Granule mature'): 0.25462615643765474, ('Radial Glia-like', 'Astrocytes'): 0.6859897909317232, ('OPC', 'OL'): -0.585688397979268}\n",
      "Total Mean: 0.2944098623789798\n",
      "# In-cluster Coherence\n",
      "{'Astrocytes': 0.68281704, 'Cajal Retzius': 0.6156673, 'Cck-Tox': 0.88860697, 'Endothelial': 0.60548955, 'GABA': 0.7563485, 'Granule immature': 0.6222725, 'Granule mature': 0.6430257, 'Microglia': 0.553909, 'Mossy': 0.62383646, 'Neuroblast': 0.5564411, 'OL': 0.7846744, 'OPC': 0.33936825, 'Radial Glia-like': 0.6348279, 'nIPC': 0.506927}\n",
      "Total Mean: 0.6295866370201111\n",
      "0\n",
      "0\n",
      "3\n",
      "Keeping at most 1000000 cells per cluster\n",
      "Filtered out 46616 genes that are detected 10 counts (shared).\n",
      "Extracted 2000 highly variable genes.\n",
      "Leiden clustering ...\n"
     ]
    },
    {
     "name": "stderr",
     "output_type": "stream",
     "text": [
      "GPU available: True, used: True\n",
      "TPU available: False, using: 0 TPU cores\n",
      "IPU available: False, using: 0 IPUs\n",
      "LOCAL_RANK: 0 - CUDA_VISIBLE_DEVICES: [0]\n"
     ]
    },
    {
     "name": "stdout",
     "output_type": "stream",
     "text": [
      "Number of Leiden Clusters: 9\n",
      "Maximal Number of Modules: 10\n",
      "Epoch 481/4000:  12%|████████████▎                                                                                         | 481/4000 [16:54<2:03:38,  2.11s/it, v_num=1, elbo_train=2.18e+7]\n",
      "Monitored metric elbo_train did not improve in the last 45 records. Best score: 21761612.000. Signaling Trainer to stop.\n",
      "Sampling local variables, batch: 100%|█████████████████████████████████████████████████████████████████████████████████████████████████████████████████████████| 1/1 [00:08<00:00,  8.02s/it]\n",
      "Sampling global variables, sample: 100%|███████████████████████████████████████████████████████████████████████████████████████████████████████████████████████| 9/9 [00:05<00:00,  1.64it/s]\n",
      "Computing total RNAvelocity ...\n"
     ]
    },
    {
     "data": {
      "application/vnd.jupyter.widget-view+json": {
       "model_id": "b731785d28814a47979158b5372f6459",
       "version_major": 2,
       "version_minor": 0
      },
      "text/plain": [
       "  0%|          | 0/9815 [00:00<?, ?cells/s]"
      ]
     },
     "metadata": {},
     "output_type": "display_data"
    },
    {
     "name": "stdout",
     "output_type": "stream",
     "text": [
      "# Cross-Boundary Direction Correctness (A->B)\n",
      "{('Blood progenitors 1', 'Blood progenitors 2'): -0.061915352809447356, ('Blood progenitors 2', 'Erythroid1'): 0.5733565847683842, ('Erythroid1', 'Erythroid2'): 0.7369005532061902, ('Erythroid2', 'Erythroid3'): 0.8036520274935767}\n",
      "Total Mean: 0.512998453164676\n",
      "# In-cluster Coherence\n",
      "{'Blood progenitors 1': 0.7085398, 'Blood progenitors 2': 0.69962865, 'Erythroid1': 0.88975006, 'Erythroid2': 0.97087395, 'Erythroid3': 0.8979974}\n",
      "Total Mean: 0.8333579897880554\n",
      "0\n",
      "0\n",
      "4\n",
      "Keeping at most 1000000 cells per cluster\n",
      "Filtered out 6962 genes that are detected 10 counts (shared).\n",
      "Extracted 2000 highly variable genes.\n",
      "Leiden clustering ...\n",
      "WARNING: You’re trying to run this on 312 dimensions of `.X`, if you really want this, set `use_rep='X'`.\n",
      "         Falling back to preprocessing with `sc.pp.pca` and default params.\n"
     ]
    },
    {
     "name": "stderr",
     "output_type": "stream",
     "text": [
      "GPU available: True, used: True\n",
      "TPU available: False, using: 0 TPU cores\n",
      "IPU available: False, using: 0 IPUs\n",
      "LOCAL_RANK: 0 - CUDA_VISIBLE_DEVICES: [0]\n"
     ]
    },
    {
     "name": "stdout",
     "output_type": "stream",
     "text": [
      "Number of Leiden Clusters: 10\n",
      "Maximal Number of Modules: 11\n",
      "Epoch 530/4000:  13%|█████████████▌                                                                                        | 530/4000 [12:12<1:19:58,  1.38s/it, v_num=1, elbo_train=9.78e+6]\n",
      "Monitored metric elbo_train did not improve in the last 45 records. Best score: 9772559.000. Signaling Trainer to stop.\n",
      "Sampling local variables, batch: 100%|█████████████████████████████████████████████████████████████████████████████████████████████████████████████████████████| 1/1 [00:05<00:00,  5.06s/it]\n",
      "Sampling global variables, sample: 100%|███████████████████████████████████████████████████████████████████████████████████████████████████████████████████████| 9/9 [00:03<00:00,  2.68it/s]\n",
      "Computing total RNAvelocity ...\n"
     ]
    },
    {
     "data": {
      "application/vnd.jupyter.widget-view+json": {
       "model_id": "19ff9b416d904885ad65c910b01b31fe",
       "version_major": 2,
       "version_minor": 0
      },
      "text/plain": [
       "  0%|          | 0/5780 [00:00<?, ?cells/s]"
      ]
     },
     "metadata": {},
     "output_type": "display_data"
    },
    {
     "name": "stdout",
     "output_type": "stream",
     "text": [
      "# Cross-Boundary Direction Correctness (A->B)\n",
      "{('HSC_1', 'Ery_1'): 0.05018041343487559, ('HSC_1', 'HSC_2'): -0.20784359806879976, ('Ery_1', 'Ery_2'): 0.7097309358140992}\n",
      "Total Mean: 0.184022583726725\n",
      "# In-cluster Coherence\n",
      "{'CLP': 0.70473593, 'DCs': 0.6559427, 'Ery_1': 0.677459, 'Ery_2': 0.85167885, 'HSC_1': 0.5101032, 'HSC_2': 0.49879467, 'Mega': 0.77780396, 'Mono_1': 0.65344346, 'Mono_2': 0.5503166, 'Precursors': 0.57594717}\n",
      "Total Mean: 0.6456226110458374\n",
      "0\n",
      "1\n",
      "2\n",
      "Keeping at most 1000000 cells per cluster\n",
      "Filtered out 20300 genes that are detected 20 counts (shared).\n",
      "Skip filtering by dispersion since number of variables are less than `n_top_genes`.\n",
      "Leiden clustering ...\n"
     ]
    },
    {
     "name": "stderr",
     "output_type": "stream",
     "text": [
      "GPU available: True, used: True\n",
      "TPU available: False, using: 0 TPU cores\n",
      "IPU available: False, using: 0 IPUs\n",
      "LOCAL_RANK: 0 - CUDA_VISIBLE_DEVICES: [0]\n"
     ]
    },
    {
     "name": "stdout",
     "output_type": "stream",
     "text": [
      "Number of Leiden Clusters: 8\n",
      "Maximal Number of Modules: 9\n",
      "Epoch 500/4000:  12%|█████████████                                                                                           | 500/4000 [04:53<34:14,  1.70it/s, v_num=1, elbo_train=2.81e+6]\n",
      "Monitored metric elbo_train did not improve in the last 45 records. Best score: 2809474.750. Signaling Trainer to stop.\n",
      "Sampling local variables, batch: 100%|█████████████████████████████████████████████████████████████████████████████████████████████████████████████████████████| 1/1 [00:01<00:00,  1.45s/it]\n",
      "Sampling global variables, sample: 100%|███████████████████████████████████████████████████████████████████████████████████████████████████████████████████████| 9/9 [00:00<00:00, 13.00it/s]\n",
      "Computing total RNAvelocity ...\n"
     ]
    },
    {
     "data": {
      "application/vnd.jupyter.widget-view+json": {
       "model_id": "e4ef974ec78d445bb8507db046c6140c",
       "version_major": 2,
       "version_minor": 0
      },
      "text/plain": [
       "  0%|          | 0/2600 [00:00<?, ?cells/s]"
      ]
     },
     "metadata": {},
     "output_type": "display_data"
    },
    {
     "name": "stdout",
     "output_type": "stream",
     "text": [
      "# Cross-Boundary Direction Correctness (A->B)\n",
      "{('dividing', 'progenitors'): -0.08543864751115886, ('progenitors', 'activating'): -0.7975719044250404}\n",
      "Total Mean: -0.44150527596809963\n",
      "# In-cluster Coherence\n",
      "{'B cell lineage': 0.6486936, 'activating': 0.8640643, 'dividing': 0.8078984, 'macrophages': 0.5279134, 'progenitors': 0.83527136}\n",
      "Total Mean: 0.7367681860923767\n",
      "0\n",
      "1\n",
      "0\n",
      "Keeping at most 1000000 cells per cluster\n",
      "Filtered out 20801 genes that are detected 20 counts (shared).\n",
      "Extracted 2000 highly variable genes.\n",
      "Leiden clustering ...\n"
     ]
    },
    {
     "name": "stderr",
     "output_type": "stream",
     "text": [
      "GPU available: True, used: True\n",
      "TPU available: False, using: 0 TPU cores\n",
      "IPU available: False, using: 0 IPUs\n",
      "LOCAL_RANK: 0 - CUDA_VISIBLE_DEVICES: [0]\n"
     ]
    },
    {
     "name": "stdout",
     "output_type": "stream",
     "text": [
      "Number of Leiden Clusters: 13\n",
      "Maximal Number of Modules: 14\n",
      "Epoch 462/4000:  12%|███████████▊                                                                                          | 462/4000 [07:58<1:01:03,  1.04s/it, v_num=1, elbo_train=7.45e+6]\n",
      "Monitored metric elbo_train did not improve in the last 45 records. Best score: 7448174.000. Signaling Trainer to stop.\n",
      "Sampling local variables, batch: 100%|█████████████████████████████████████████████████████████████████████████████████████████████████████████████████████████| 1/1 [00:04<00:00,  4.08s/it]\n",
      "Sampling global variables, sample: 100%|███████████████████████████████████████████████████████████████████████████████████████████████████████████████████████| 9/9 [00:02<00:00,  3.62it/s]\n",
      "Computing total RNAvelocity ...\n"
     ]
    },
    {
     "data": {
      "application/vnd.jupyter.widget-view+json": {
       "model_id": "1cc1c1c048aa46e58d288b892b25d1b1",
       "version_major": 2,
       "version_minor": 0
      },
      "text/plain": [
       "  0%|          | 0/3696 [00:00<?, ?cells/s]"
      ]
     },
     "metadata": {},
     "output_type": "display_data"
    },
    {
     "name": "stdout",
     "output_type": "stream",
     "text": [
      "# Cross-Boundary Direction Correctness (A->B)\n",
      "{('Ngn3 high EP', 'Pre-endocrine'): 0.7308752235946693, ('Pre-endocrine', 'Alpha'): -0.2930360432207452, ('Pre-endocrine', 'Beta'): -0.06928553969187569, ('Pre-endocrine', 'Delta'): 0.3056579296401936, ('Pre-endocrine', 'Epsilon'): 0.3332642101537094}\n",
      "Total Mean: 0.20149515609519025\n",
      "# In-cluster Coherence\n",
      "{'Alpha': 0.78317827, 'Beta': 0.6584628, 'Delta': 0.33120516, 'Ductal': 0.743988, 'Epsilon': 0.7271896, 'Ngn3 high EP': 0.856004, 'Ngn3 low EP': 0.7287371, 'Pre-endocrine': 0.6315874}\n",
      "Total Mean: 0.6825440526008606\n",
      "0\n",
      "1\n",
      "1\n",
      "Keeping at most 1000000 cells per cluster\n",
      "Filtered out 10340 genes that are detected 20 counts (shared).\n",
      "Extracted 2000 highly variable genes.\n",
      "Leiden clustering ...\n",
      "WARNING: You’re trying to run this on 327 dimensions of `.X`, if you really want this, set `use_rep='X'`.\n",
      "         Falling back to preprocessing with `sc.pp.pca` and default params.\n"
     ]
    },
    {
     "name": "stderr",
     "output_type": "stream",
     "text": [
      "GPU available: True, used: True\n",
      "TPU available: False, using: 0 TPU cores\n",
      "IPU available: False, using: 0 IPUs\n",
      "LOCAL_RANK: 0 - CUDA_VISIBLE_DEVICES: [0]\n"
     ]
    },
    {
     "name": "stdout",
     "output_type": "stream",
     "text": [
      "Number of Leiden Clusters: 14\n",
      "Maximal Number of Modules: 16\n",
      "Epoch 788/4000:  20%|████████████████████▍                                                                                   | 788/4000 [10:40<43:30,  1.23it/s, v_num=1, elbo_train=4.51e+6]\n",
      "Monitored metric elbo_train did not improve in the last 45 records. Best score: 4506310.500. Signaling Trainer to stop.\n",
      "Sampling local variables, batch: 100%|█████████████████████████████████████████████████████████████████████████████████████████████████████████████████████████| 1/1 [00:03<00:00,  3.05s/it]\n",
      "Sampling global variables, sample: 100%|███████████████████████████████████████████████████████████████████████████████████████████████████████████████████████| 9/9 [00:02<00:00,  4.31it/s]\n",
      "Computing total RNAvelocity ...\n"
     ]
    },
    {
     "data": {
      "application/vnd.jupyter.widget-view+json": {
       "model_id": "44015489b496497a8d81f8cf0227e9d2",
       "version_major": 2,
       "version_minor": 0
      },
      "text/plain": [
       "  0%|          | 0/2930 [00:00<?, ?cells/s]"
      ]
     },
     "metadata": {},
     "output_type": "display_data"
    },
    {
     "name": "stdout",
     "output_type": "stream",
     "text": [
      "# Cross-Boundary Direction Correctness (A->B)\n",
      "{('nIPC', 'Neuroblast'): 0.5198681313426242, ('Neuroblast', 'Granule immature'): 0.5581194186377824, ('Granule immature', 'Granule mature'): 0.07235627236420468, ('Radial Glia-like', 'Astrocytes'): 0.12879806272289573, ('OPC', 'OL'): -0.7459864032141698}\n",
      "Total Mean: 0.10663109637066744\n",
      "# In-cluster Coherence\n",
      "{'Astrocytes': 0.75752336, 'Cajal Retzius': 0.6191567, 'Cck-Tox': 0.9519852, 'Endothelial': 0.7323675, 'GABA': 0.79075235, 'Granule immature': 0.799436, 'Granule mature': 0.777701, 'Microglia': 0.7163208, 'Mossy': 0.5256307, 'Neuroblast': 0.7381545, 'OL': 0.85398656, 'OPC': 0.41401926, 'Radial Glia-like': 0.52055615, 'nIPC': 0.60872656}\n",
      "Total Mean: 0.7004512548446655\n",
      "0\n",
      "1\n",
      "3\n",
      "Keeping at most 1000000 cells per cluster\n",
      "Filtered out 47456 genes that are detected 20 counts (shared).\n",
      "Extracted 2000 highly variable genes.\n",
      "Leiden clustering ...\n"
     ]
    },
    {
     "name": "stderr",
     "output_type": "stream",
     "text": [
      "GPU available: True, used: True\n",
      "TPU available: False, using: 0 TPU cores\n",
      "IPU available: False, using: 0 IPUs\n",
      "LOCAL_RANK: 0 - CUDA_VISIBLE_DEVICES: [0]\n"
     ]
    },
    {
     "name": "stdout",
     "output_type": "stream",
     "text": [
      "Number of Leiden Clusters: 9\n",
      "Maximal Number of Modules: 10\n",
      "Epoch 225/4000:   6%|█████▋                                                                                                | 224/4000 [07:52<2:11:03,  2.08s/it, v_num=1, elbo_train=2.34e+7]"
     ]
    }
   ],
   "source": [
    "import os\n",
    "os.chdir('..')\n",
    "os.chdir('..')\n",
    "import scvelo as scv\n",
    "import scanpy as sc\n",
    "import scvi\n",
    "scvi.settings.seed = 1\n",
    "import cell2fate as c2f\n",
    "import pickle as pickle\n",
    "from eval_utils import cross_boundary_correctness\n",
    "from datetime import datetime\n",
    "import pandas as pd\n",
    "import numpy as np\n",
    "from os.path import exists\n",
    "import matplotlib.pyplot as plt\n",
    "import torch\n",
    "import unitvelo as utv\n",
    "method = 'Cell2fateDynamicalModel_pyroVelocityTrainingPlan'\n",
    "data_dir = '/nfs/team283/aa16/data/fate_benchmarking/benchmarking_datasets/'\n",
    "save_dir = '/nfs/team283/aa16/data/fate_benchmarking/benchmarking_results/'\n",
    "datasets = ['Pancreas_with_cc',  'DentateGyrus' , 'MouseBoneMarrow', 'MouseErythroid', 'HumanBoneMarrow']\n",
    "n_genes_list = np.array((2000, 3000))\n",
    "n_counts_list = np.array((10, 20))\n",
    "\n",
    "for i in range(len(n_genes_list)):\n",
    "    for j in range(len(n_counts_list)):\n",
    "        for k in (2,0,1,3,4):\n",
    "            print(i)\n",
    "            print(j)\n",
    "            print(k)\n",
    "            dataset = datasets[k]\n",
    "            n_genes = n_genes_list[i]\n",
    "            min_counts = n_counts_list[j]\n",
    "            model_index = str(i) + '-' + str(j) + '-' + str(k)\n",
    "            save_name = method + '_'\n",
    "            if exists(save_dir + save_name + '_CBDC_fullBenchmark.csv'):\n",
    "                tab = pd.read_csv(save_dir + save_name + '_CBDC_fullBenchmark.csv', index_col = 0)\n",
    "                if model_index in tab.index:\n",
    "                    continue\n",
    "            adata = sc.read_h5ad(data_dir + dataset + '/' + dataset + '_anndata.h5ad')\n",
    "            adata = c2f.utils.get_training_data(adata, cells_per_cluster = 10**6, cluster_column = 'clusters',\n",
    "                                            remove_clusters = [], min_shared_counts = min_counts, n_var_genes= n_genes)\n",
    "            c2f.Cell2fate_DynamicalModel.setup_anndata(adata, spliced_label='spliced', unspliced_label='unspliced')    \n",
    "            n_modules = c2f.utils.get_max_modules(adata)\n",
    "            mod = c2f.Cell2fate_DynamicalModel(adata,\n",
    "                                               n_modules = n_modules)\n",
    "            mod.train(max_epochs = 4000, **{'training_plan' : PyroTrainingPlan_ClippedAdamDecayingRate},\n",
    "                     early_stopping = True, early_stopping_min_delta = 10**(-4),\n",
    "                     early_stopping_monitor = 'elbo_train', early_stopping_patience = 45)\n",
    "            sample_kwarg = {\"num_samples\": 10, \"batch_size\" : adata.n_obs,\n",
    "                 \"use_gpu\" : True, 'return_samples': False}\n",
    "            adata = mod.export_posterior(adata, sample_kwargs = sample_kwarg)\n",
    "            mod.compute_and_plot_total_velocity_scvelo(adata, save = False, delete = False)\n",
    "            # Calculate performance metrics:\n",
    "            file = open(data_dir + dataset + '/' + dataset + '_groundTruth.pickle' ,'rb')\n",
    "            ground_truth = pickle.load(file)\n",
    "            metrics = utv.evaluate(adata, ground_truth, 'clusters', 'velocity')\n",
    "            cb_score = [np.mean(metrics['Cross-Boundary Direction Correctness (A->B)'][x])\n",
    "                        for x in metrics['Cross-Boundary Direction Correctness (A->B)'].keys()]\n",
    "            if exists(save_dir + save_name + '_CBDC_fullBenchmark.csv'):\n",
    "                tab = pd.read_csv(save_dir + save_name + '_CBDC_fullBenchmark.csv', index_col = 0)\n",
    "            else:\n",
    "                c_names = ['CBDC']\n",
    "                tab = pd.DataFrame(columns = c_names)\n",
    "            tab.loc[model_index, 'CBDC'] = np.mean(cb_score)\n",
    "            tab.to_csv(save_dir + save_name + '_CBDC_fullBenchmark.csv')\n",
    "tab = pd.read_csv(save_dir + save_name + '_CBDC_fullBenchmark.csv', index_col = 0)\n",
    "tab.loc['AVERAGE', 'CBDC'] = np.mean(tab['CBDC'])\n",
    "tab.to_csv(save_dir + save_name + '_CBDC_fullBenchmark.csv')"
   ]
  },
  {
   "cell_type": "code",
   "execution_count": null,
   "id": "42097d03",
   "metadata": {},
   "outputs": [],
   "source": []
  }
 ],
 "metadata": {
  "kernelspec": {
   "display_name": "Environment (cell2fate_env)",
   "language": "python",
   "name": "cell2fate_env"
  },
  "language_info": {
   "codemirror_mode": {
    "name": "ipython",
    "version": 3
   },
   "file_extension": ".py",
   "mimetype": "text/x-python",
   "name": "python",
   "nbconvert_exporter": "python",
   "pygments_lexer": "ipython3",
   "version": "3.9.18"
  }
 },
 "nbformat": 4,
 "nbformat_minor": 5
}
