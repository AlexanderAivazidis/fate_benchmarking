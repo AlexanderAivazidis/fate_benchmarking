{
 "cells": [
  {
   "cell_type": "code",
   "execution_count": 1,
   "id": "4b3b5d9d",
   "metadata": {},
   "outputs": [
    {
     "name": "stderr",
     "output_type": "stream",
     "text": [
      "Global seed set to 0\n"
     ]
    }
   ],
   "source": [
    "import scvi\n",
    "\n",
    "def robust_optimization(mod, save_dir, max_epochs = [1000, 1000], lr = [0.01, 0.01], **model_kwargs):\n",
    "    n_modules = mod.module.model.n_modules\n",
    "    adata = mod.adata\n",
    "    print('First optimization run.')\n",
    "    mod.train(use_gpu=True, max_epochs = max_epochs[0], lr = lr[0])\n",
    "    sample_kwarg = {\"num_samples\": 10, \"batch_size\" : adata.n_obs,\n",
    "                     \"use_gpu\" : True, 'return_samples': False}\n",
    "    mod.adata = mod.export_posterior(mod.adata, sample_kwargs=sample_kwarg)\n",
    "    g_fg = torch.tensor(mod.samples['post_sample_means']['g_fg'])    \n",
    "    print('Second optimization run.')\n",
    "    del mod\n",
    "    c2f.Cell2fate_DynamicalModel_FreeModules.setup_anndata(adata, spliced_label='spliced', unspliced_label='unspliced')\n",
    "    mod1 = c2f.Cell2fate_DynamicalModel_FreeModules(adata, n_modules = n_modules,\n",
    "                                        init_vals = {'g_fg': g_fg},\n",
    "                                       **model_kwargs)\n",
    "    scvi.settings.seed = 9\n",
    "    mod1.train(use_gpu=True, max_epochs = max_epochs[1], lr = lr[1])\n",
    "    history1 = mod1.history\n",
    "    mod1.save(save_dir+'c2f_model1', overwrite=True)\n",
    "    mod1.adata.write(save_dir+\"c2f_model1_anndata.h5ad\")\n",
    "    del mod1\n",
    "    print('Third optimization run.')\n",
    "    c2f.Cell2fate_DynamicalModel_FreeModules.setup_anndata(adata, spliced_label='spliced', unspliced_label='unspliced')\n",
    "    mod2 = c2f.Cell2fate_DynamicalModel_FreeModules(adata, n_modules = n_modules,\n",
    "                                        init_vals = {'g_fg': g_fg},\n",
    "                                       **model_kwargs)\n",
    "    scvi.settings.seed = 99\n",
    "    mod2.train(use_gpu=True, max_epochs = max_epochs[1], lr = lr[1])\n",
    "    history2 = mod2.history\n",
    "    mod2.save(save_dir+'c2f_model2', overwrite=True)\n",
    "    mod2.adata.write(save_dir+\"c2f_model2_anndata.h5ad\")\n",
    "    print('Fourth optimization run.')\n",
    "    c2f.Cell2fate_DynamicalModel_FreeModules.setup_anndata(adata, spliced_label='spliced', unspliced_label='unspliced')\n",
    "    mod3 = c2f.Cell2fate_DynamicalModel_FreeModules(adata, n_modules = n_modules,\n",
    "                                        init_vals = {'g_fg': g_fg},\n",
    "                                        **model_kwargs)\n",
    "    del adata\n",
    "    scvi.settings.seed = 999\n",
    "    mod3.train(use_gpu=True, max_epochs = max_epochs[1], lr = lr[1])\n",
    "    history3 = mod3.history\n",
    "    \n",
    "    best = np.argmin((np.mean(np.array(history1['elbo_train'][-50:])),\n",
    "                     np.mean(np.array(history2['elbo_train'][-50:])),\n",
    "                     np.mean(np.array(history3['elbo_train'][-50:]))))\n",
    "    \n",
    "    if best == 2:\n",
    "        return mod3\n",
    "    elif best == 1:\n",
    "        del mod3\n",
    "        adata = sc.read_h5ad(save_dir+\"c2f_model2_anndata.h5ad\")\n",
    "        mod2 = c2f.Cell2fate_DynamicalModel_FreeModules.load(save_dir+'c2f_model2', adata)\n",
    "        return mod2\n",
    "    elif best == 0:\n",
    "        del mod3\n",
    "        adata = sc.read_h5ad(save_dir+\"c2f_model1_anndata.h5ad\")\n",
    "        mod1 = c2f.Cell2fate_DynamicalModel_FreeModules.load(save_dir+'c2f_model1', adata)\n",
    "        return mod1"
   ]
  },
  {
   "cell_type": "code",
   "execution_count": 2,
   "id": "f1b81297",
   "metadata": {},
   "outputs": [],
   "source": [
    "# def robust_optimization(mod, max_epochs = [400, 600], lr = [0.01, 0.005], **model_kwargs):\n",
    "#     n_modules = mod.module.model.n_modules\n",
    "#     adata = mod.adata\n",
    "#     print('First optimization run.')\n",
    "#     mod.train(use_gpu=True, max_epochs = max_epochs[0], lr = lr[0])\n",
    "#     sample_kwarg = {\"num_samples\": 10, \"batch_size\" : adata.n_obs,\n",
    "#                      \"use_gpu\" : True, 'return_samples': False}\n",
    "#     mod.adata = mod.export_posterior(mod.adata, sample_kwargs=sample_kwarg)\n",
    "#     g_fg = torch.tensor(mod.samples['post_sample_means']['g_fg'])    \n",
    "#     print('Second optimization run.')\n",
    "#     del mod\n",
    "#     c2f.Cell2fate_DynamicalModel_FreeModules.setup_anndata(adata, spliced_label='spliced', unspliced_label='unspliced')\n",
    "#     mod1 = c2f.Cell2fate_DynamicalModel_FreeModules(adata, n_modules = n_modules,\n",
    "#                                         init_vals = {'g_fg': g_fg},\n",
    "#                                        **model_kwargs)\n",
    "#     mod1.train(use_gpu=True, max_epochs = max_epochs[1], lr = lr[1])\n",
    "#     return mod1"
   ]
  },
  {
   "cell_type": "code",
   "execution_count": null,
   "id": "ff9e0690",
   "metadata": {},
   "outputs": [
    {
     "name": "stdout",
     "output_type": "stream",
     "text": [
      "(Running UniTVelo 0.2.5)\n",
      "2023-11-01 11:32:59\n",
      "0\n",
      "0\n",
      "0\n",
      "0\n",
      "0\n",
      "1\n",
      "0\n",
      "0\n",
      "2\n",
      "0\n",
      "0\n",
      "3\n",
      "Keeping at most 1000000 cells per cluster\n",
      "Filtered out 46616 genes that are detected 10 counts (shared).\n",
      "Extracted 2000 highly variable genes.\n",
      "Leiden clustering ...\n"
     ]
    },
    {
     "name": "stderr",
     "output_type": "stream",
     "text": [
      "GPU available: True, used: True\n",
      "TPU available: False, using: 0 TPU cores\n",
      "IPU available: False, using: 0 IPUs\n",
      "LOCAL_RANK: 0 - CUDA_VISIBLE_DEVICES: [0]\n"
     ]
    },
    {
     "name": "stdout",
     "output_type": "stream",
     "text": [
      "Number of Leiden Clusters: 9\n",
      "Maximal Number of Modules: 10\n",
      "First optimization run.\n",
      "Epoch 1000/1000: 100%|████████████████████████████████████████████████████████████████████████████████████████████████████| 1000/1000 [1:10:21<00:00,  4.22s/it, v_num=1, elbo_train=2.18e+7]\n",
      "Sampling local variables, batch: 100%|█████████████████████████████████████████████████████████████████████████████████████████████████████████████████████████| 1/1 [00:08<00:00,  8.37s/it]\n",
      "Sampling global variables, sample: 100%|███████████████████████████████████████████████████████████████████████████████████████████████████████████████████████| 9/9 [00:05<00:00,  1.63it/s]\n"
     ]
    },
    {
     "name": "stderr",
     "output_type": "stream",
     "text": [
      "Global seed set to 9\n",
      "GPU available: True, used: True\n",
      "TPU available: False, using: 0 TPU cores\n",
      "IPU available: False, using: 0 IPUs\n",
      "LOCAL_RANK: 0 - CUDA_VISIBLE_DEVICES: [0]\n"
     ]
    },
    {
     "name": "stdout",
     "output_type": "stream",
     "text": [
      "Second optimization run.\n",
      "Epoch 609/1000:  61%|███████████████████████████████████████████████████████████████▏                                        | 608/1000 [23:39<15:07,  2.32s/it, v_num=1, elbo_train=2.18e+7]"
     ]
    }
   ],
   "source": [
    "import os\n",
    "os.chdir('..')\n",
    "os.chdir('..')\n",
    "import scvelo as scv\n",
    "import scanpy as sc\n",
    "import cell2fate as c2f\n",
    "import pickle as pickle\n",
    "from eval_utils import cross_boundary_correctness\n",
    "from datetime import datetime\n",
    "import pandas as pd\n",
    "import numpy as np\n",
    "from os.path import exists\n",
    "import matplotlib.pyplot as plt\n",
    "import torch\n",
    "import unitvelo as utv\n",
    "method = 'Cell2fateDynamicalModel_VeryRobustOptimization'\n",
    "data_dir = '/nfs/team283/aa16/data/fate_benchmarking/benchmarking_datasets/'\n",
    "save_dir = '/nfs/team283/aa16/data/fate_benchmarking/benchmarking_results/'\n",
    "datasets = ['Pancreas_with_cc',  'DentateGyrus' , 'MouseBoneMarrow', 'MouseErythroid', 'HumanBoneMarrow']\n",
    "n_genes_list = np.array((2000, 3000))\n",
    "n_counts_list = np.array((10, 20))\n",
    "\n",
    "for i in range(len(n_genes_list)):\n",
    "    for j in range(len(n_counts_list)):\n",
    "        for k in (0,1,2,3,4):\n",
    "            print(i)\n",
    "            print(j)\n",
    "            print(k)\n",
    "            dataset = datasets[k]\n",
    "            n_genes = n_genes_list[i]\n",
    "            min_counts = n_counts_list[j]\n",
    "            model_index = str(i) + '-' + str(j) + '-' + str(k)\n",
    "            save_name = method + '_'\n",
    "            if exists(save_dir + save_name + '_CBDC_fullBenchmark.csv'):\n",
    "                tab = pd.read_csv(save_dir + save_name + '_CBDC_fullBenchmark.csv', index_col = 0)\n",
    "                if model_index in tab.index:\n",
    "                    continue\n",
    "            adata = sc.read_h5ad(data_dir + dataset + '/' + dataset + '_anndata.h5ad')\n",
    "            adata = c2f.utils.get_training_data(adata, cells_per_cluster = 10**6, cluster_column = 'clusters',\n",
    "                                            remove_clusters = [], min_shared_counts = min_counts, n_var_genes= n_genes)\n",
    "            c2f.Cell2fate_DynamicalModel.setup_anndata(adata, spliced_label='spliced', unspliced_label='unspliced')    \n",
    "            n_modules = c2f.utils.get_max_modules(adata)\n",
    "            mod = c2f.Cell2fate_DynamicalModel(adata,\n",
    "                                               n_modules = n_modules)   \n",
    "            mod = robust_optimization(mod, save_dir = '/nfs/team283/aa16/data/cell2fate/ErythroidMaturation/')\n",
    "            sample_kwarg = {\"num_samples\": 10, \"batch_size\" : adata.n_obs,\n",
    "                 \"use_gpu\" : True, 'return_samples': False}\n",
    "            adata = mod.export_posterior(adata, sample_kwargs = sample_kwarg)\n",
    "            mod.compute_and_plot_total_velocity_scvelo(adata, save = False, delete = False)\n",
    "            # Calculate performance metrics:\n",
    "            file = open(data_dir + dataset + '/' + dataset + '_groundTruth.pickle' ,'rb')\n",
    "            ground_truth = pickle.load(file)\n",
    "            metrics = utv.evaluate(adata, ground_truth, 'clusters', 'velocity')\n",
    "            cb_score = [np.mean(metrics['Cross-Boundary Direction Correctness (A->B)'][x])\n",
    "                        for x in metrics['Cross-Boundary Direction Correctness (A->B)'].keys()]\n",
    "            if exists(save_dir + save_name + '_CBDC_fullBenchmark.csv'):\n",
    "                tab = pd.read_csv(save_dir + save_name + '_CBDC_fullBenchmark.csv', index_col = 0)\n",
    "            else:\n",
    "                c_names = ['CBDC']\n",
    "                tab = pd.DataFrame(columns = c_names)\n",
    "            tab.loc[model_index, 'CBDC'] = np.mean(cb_score)\n",
    "            tab.to_csv(save_dir + save_name + '_CBDC_fullBenchmark.csv')\n",
    "tab = pd.read_csv(save_dir + save_name + '_CBDC_fullBenchmark.csv', index_col = 0)\n",
    "tab.loc['AVERAGE', 'CBDC'] = np.mean(tab['CBDC'])\n",
    "tab.to_csv(save_dir + save_name + '_CBDC_fullBenchmark.csv')"
   ]
  }
 ],
 "metadata": {
  "kernelspec": {
   "display_name": "Python [conda env:cell2fate_env]",
   "language": "python",
   "name": "conda-env-cell2fate_env-py"
  },
  "language_info": {
   "codemirror_mode": {
    "name": "ipython",
    "version": 3
   },
   "file_extension": ".py",
   "mimetype": "text/x-python",
   "name": "python",
   "nbconvert_exporter": "python",
   "pygments_lexer": "ipython3",
   "version": "3.9.12"
  }
 },
 "nbformat": 4,
 "nbformat_minor": 5
}
