{
 "cells": [
  {
   "cell_type": "code",
   "execution_count": null,
   "id": "fd5023c1",
   "metadata": {},
   "outputs": [
    {
     "name": "stderr",
     "output_type": "stream",
     "text": [
      "Global seed set to 0\n"
     ]
    },
    {
     "name": "stdout",
     "output_type": "stream",
     "text": [
      "(Running UniTVelo 0.2.5)\n",
      "2023-10-08 17:06:06\n",
      "0\n",
      "0\n",
      "0\n",
      "Keeping at most 100000 cells per cluster\n",
      "Filtered out 6281 genes that are detected 5 counts (shared).\n",
      "Extracted 1500 highly variable genes.\n",
      "Leiden clustering ...\n",
      "WARNING: You’re trying to run this on 243 dimensions of `.X`, if you really want this, set `use_rep='X'`.\n",
      "         Falling back to preprocessing with `sc.pp.pca` and default params.\n",
      "Number of Leiden Clusters: 12\n",
      "Maximal Number of Modules: 13\n",
      "First training run ...\n"
     ]
    },
    {
     "name": "stderr",
     "output_type": "stream",
     "text": [
      "GPU available: True, used: True\n",
      "TPU available: False, using: 0 TPU cores\n",
      "IPU available: False, using: 0 IPUs\n",
      "LOCAL_RANK: 0 - CUDA_VISIBLE_DEVICES: [0]\n"
     ]
    },
    {
     "name": "stdout",
     "output_type": "stream",
     "text": [
      "Epoch 100/100: 100%|██████████████████████████████████████████████████████████████████████████████████████████████████████████████████████████████████████████████████████████| 100/100 [01:39<00:00,  1.00it/s, v_num=1, elbo_train=6.72e+6]\n",
      "Initializing second training run ...\n",
      "Sampling local variables, batch: 100%|█████████████████████████████████████████████████████████████████████████████████████████████████████████████████████████████████████████████████████████████████████████| 1/1 [00:00<00:00,  1.60it/s]\n",
      "Sampling global variables, sample: 100%|███████████████████████████████████████████████████████████████████████████████████████████████████████████████████████████████████████████████████████████████████████| 2/2 [00:00<00:00,  6.98it/s]\n"
     ]
    },
    {
     "name": "stderr",
     "output_type": "stream",
     "text": [
      "GPU available: True, used: True\n",
      "TPU available: False, using: 0 TPU cores\n",
      "IPU available: False, using: 0 IPUs\n",
      "LOCAL_RANK: 0 - CUDA_VISIBLE_DEVICES: [0]\n"
     ]
    },
    {
     "name": "stdout",
     "output_type": "stream",
     "text": [
      "Second training run ...\n",
      "Epoch 400/400: 100%|███████████████████████████████████████████████████████████████████████████████████████████████████████████████████████████████████████████████████████████| 400/400 [06:26<00:00,  1.04it/s, v_num=1, elbo_train=6.6e+6]\n",
      "Sampling local variables, batch: 100%|█████████████████████████████████████████████████████████████████████████████████████████████████████████████████████████████████████████████████████████████████████████| 1/1 [00:00<00:00,  1.60it/s]\n",
      "Sampling global variables, sample: 100%|███████████████████████████████████████████████████████████████████████████████████████████████████████████████████████████████████████████████████████████████████████| 2/2 [00:00<00:00,  6.97it/s]\n",
      "Computing total RNAvelocity ...\n",
      "# Cross-Boundary Direction Correctness (A->B)\n",
      "{('HSC_1', 'Ery_1'): -0.3220379559531901, ('HSC_1', 'HSC_2'): 0.03955587754832402, ('Ery_1', 'Ery_2'): -0.7816138029989304}\n",
      "Total Mean: -0.3546986271345988\n",
      "# In-cluster Coherence\n",
      "{'CLP': 0.9546106, 'DCs': 0.7138394, 'Ery_1': 0.75033486, 'Ery_2': 0.54524654, 'HSC_1': 0.5191905, 'HSC_2': 0.5213491, 'Mega': 0.7819737, 'Mono_1': 0.80880815, 'Mono_2': 0.5353695, 'Precursors': 0.5275333}\n",
      "Total Mean: 0.6658255457878113\n",
      "0\n",
      "0\n",
      "1\n",
      "Keeping at most 100000 cells per cluster\n",
      "Filtered out 6281 genes that are detected 5 counts (shared).\n",
      "Extracted 1500 highly variable genes.\n",
      "Leiden clustering ...\n",
      "WARNING: You’re trying to run this on 243 dimensions of `.X`, if you really want this, set `use_rep='X'`.\n",
      "         Falling back to preprocessing with `sc.pp.pca` and default params.\n"
     ]
    },
    {
     "name": "stderr",
     "output_type": "stream",
     "text": [
      "GPU available: True, used: True\n",
      "TPU available: False, using: 0 TPU cores\n",
      "IPU available: False, using: 0 IPUs\n",
      "LOCAL_RANK: 0 - CUDA_VISIBLE_DEVICES: [0]\n"
     ]
    },
    {
     "name": "stdout",
     "output_type": "stream",
     "text": [
      "Number of Leiden Clusters: 12\n",
      "Maximal Number of Modules: 13\n",
      "First training run ...\n",
      "Epoch 100/100: 100%|███████████████████████████████████████████████████████████████████████████████████████████████████████████████████████████████████████████████████████████| 100/100 [01:50<00:00,  1.10s/it, v_num=1, elbo_train=6.8e+6]\n",
      "Initializing second training run ...\n",
      "Sampling local variables, batch: 100%|█████████████████████████████████████████████████████████████████████████████████████████████████████████████████████████████████████████████████████████████████████████| 1/1 [00:00<00:00,  1.26it/s]\n",
      "Sampling global variables, sample: 100%|███████████████████████████████████████████████████████████████████████████████████████████████████████████████████████████████████████████████████████████████████████| 2/2 [00:00<00:00,  9.04it/s]\n"
     ]
    },
    {
     "name": "stderr",
     "output_type": "stream",
     "text": [
      "GPU available: True, used: True\n",
      "TPU available: False, using: 0 TPU cores\n",
      "IPU available: False, using: 0 IPUs\n",
      "LOCAL_RANK: 0 - CUDA_VISIBLE_DEVICES: [0]\n"
     ]
    },
    {
     "name": "stdout",
     "output_type": "stream",
     "text": [
      "Second training run ...\n",
      "Epoch 400/400: 100%|██████████████████████████████████████████████████████████████████████████████████████████████████████████████████████████████████████████████████████████| 400/400 [07:17<00:00,  1.09s/it, v_num=1, elbo_train=6.62e+6]\n",
      "Sampling local variables, batch: 100%|█████████████████████████████████████████████████████████████████████████████████████████████████████████████████████████████████████████████████████████████████████████| 1/1 [00:01<00:00,  1.05s/it]\n",
      "Sampling global variables, sample: 100%|███████████████████████████████████████████████████████████████████████████████████████████████████████████████████████████████████████████████████████████████████████| 2/2 [00:00<00:00,  9.07it/s]\n",
      "Computing total RNAvelocity ...\n",
      "# Cross-Boundary Direction Correctness (A->B)\n",
      "{('HSC_1', 'Ery_1'): -0.6021672324417099, ('HSC_1', 'HSC_2'): -0.2533737710868254, ('Ery_1', 'Ery_2'): -0.7270293345787611}\n",
      "Total Mean: -0.5275234460357655\n",
      "# In-cluster Coherence\n",
      "{'CLP': 0.93092567, 'DCs': 0.700143, 'Ery_1': 0.70104975, 'Ery_2': 0.5104183, 'HSC_1': 0.6442326, 'HSC_2': 0.6059523, 'Mega': 0.76495236, 'Mono_1': 0.6950057, 'Mono_2': 0.7046776, 'Precursors': 0.59124655}\n",
      "Total Mean: 0.6848604083061218\n",
      "0\n",
      "0\n",
      "2\n",
      "Keeping at most 100000 cells per cluster\n",
      "Filtered out 6281 genes that are detected 5 counts (shared).\n",
      "Extracted 1500 highly variable genes.\n",
      "Leiden clustering ...\n",
      "WARNING: You’re trying to run this on 243 dimensions of `.X`, if you really want this, set `use_rep='X'`.\n",
      "         Falling back to preprocessing with `sc.pp.pca` and default params.\n"
     ]
    },
    {
     "name": "stderr",
     "output_type": "stream",
     "text": [
      "GPU available: True, used: True\n",
      "TPU available: False, using: 0 TPU cores\n",
      "IPU available: False, using: 0 IPUs\n",
      "LOCAL_RANK: 0 - CUDA_VISIBLE_DEVICES: [0]\n"
     ]
    },
    {
     "name": "stdout",
     "output_type": "stream",
     "text": [
      "Number of Leiden Clusters: 10\n",
      "Maximal Number of Modules: 11\n",
      "First training run ...\n",
      "Epoch 100/100: 100%|██████████████████████████████████████████████████████████████████████████████████████████████████████████████████████████████████████████████████████████| 100/100 [01:50<00:00,  1.11s/it, v_num=1, elbo_train=6.78e+6]\n",
      "Initializing second training run ...\n",
      "Sampling local variables, batch: 100%|█████████████████████████████████████████████████████████████████████████████████████████████████████████████████████████████████████████████████████████████████████████| 1/1 [00:00<00:00,  1.58it/s]\n",
      "Sampling global variables, sample: 100%|███████████████████████████████████████████████████████████████████████████████████████████████████████████████████████████████████████████████████████████████████████| 2/2 [00:00<00:00,  9.01it/s]\n"
     ]
    },
    {
     "name": "stderr",
     "output_type": "stream",
     "text": [
      "GPU available: True, used: True\n",
      "TPU available: False, using: 0 TPU cores\n",
      "IPU available: False, using: 0 IPUs\n",
      "LOCAL_RANK: 0 - CUDA_VISIBLE_DEVICES: [0]\n"
     ]
    },
    {
     "name": "stdout",
     "output_type": "stream",
     "text": [
      "Second training run ...\n",
      "Epoch 400/400: 100%|███████████████████████████████████████████████████████████████████████████████████████████████████████████████████████████████████████████████████████████| 400/400 [07:16<00:00,  1.09s/it, v_num=1, elbo_train=6.6e+6]\n",
      "Sampling local variables, batch: 100%|█████████████████████████████████████████████████████████████████████████████████████████████████████████████████████████████████████████████████████████████████████████| 1/1 [00:00<00:00,  1.59it/s]\n",
      "Sampling global variables, sample: 100%|███████████████████████████████████████████████████████████████████████████████████████████████████████████████████████████████████████████████████████████████████████| 2/2 [00:00<00:00,  9.07it/s]\n",
      "Computing total RNAvelocity ...\n",
      "# Cross-Boundary Direction Correctness (A->B)\n",
      "{('HSC_1', 'Ery_1'): 0.14667732674729644, ('HSC_1', 'HSC_2'): -0.3422876315223512, ('Ery_1', 'Ery_2'): 0.8059044541863676}\n",
      "Total Mean: 0.20343138313710427\n",
      "# In-cluster Coherence\n",
      "{'CLP': 0.9353317, 'DCs': 0.7642466, 'Ery_1': 0.7248522, 'Ery_2': 0.9329957, 'HSC_1': 0.6906918, 'HSC_2': 0.5684732, 'Mega': 0.8414477, 'Mono_1': 0.6930273, 'Mono_2': 0.3732509, 'Precursors': 0.54794055}\n",
      "Total Mean: 0.7072257995605469\n",
      "0\n",
      "1\n",
      "0\n",
      "Keeping at most 100000 cells per cluster\n",
      "Filtered out 6962 genes that are detected 10 counts (shared).\n",
      "Extracted 1500 highly variable genes.\n",
      "Leiden clustering ...\n",
      "WARNING: You’re trying to run this on 242 dimensions of `.X`, if you really want this, set `use_rep='X'`.\n",
      "         Falling back to preprocessing with `sc.pp.pca` and default params.\n"
     ]
    },
    {
     "name": "stderr",
     "output_type": "stream",
     "text": [
      "GPU available: True, used: True\n",
      "TPU available: False, using: 0 TPU cores\n",
      "IPU available: False, using: 0 IPUs\n",
      "LOCAL_RANK: 0 - CUDA_VISIBLE_DEVICES: [0]\n"
     ]
    },
    {
     "name": "stdout",
     "output_type": "stream",
     "text": [
      "Number of Leiden Clusters: 11\n",
      "Maximal Number of Modules: 12\n",
      "First training run ...\n",
      "Epoch 100/100: 100%|██████████████████████████████████████████████████████████████████████████████████████████████████████████████████████████████████████████████████████████| 100/100 [01:34<00:00,  1.06it/s, v_num=1, elbo_train=7.32e+6]\n",
      "Initializing second training run ...\n",
      "Sampling local variables, batch: 100%|█████████████████████████████████████████████████████████████████████████████████████████████████████████████████████████████████████████████████████████████████████████| 1/1 [00:00<00:00,  1.86it/s]\n",
      "Sampling global variables, sample: 100%|███████████████████████████████████████████████████████████████████████████████████████████████████████████████████████████████████████████████████████████████████████| 2/2 [00:00<00:00, 11.14it/s]\n"
     ]
    },
    {
     "name": "stderr",
     "output_type": "stream",
     "text": [
      "GPU available: True, used: True\n",
      "TPU available: False, using: 0 TPU cores\n",
      "IPU available: False, using: 0 IPUs\n",
      "LOCAL_RANK: 0 - CUDA_VISIBLE_DEVICES: [0]\n"
     ]
    },
    {
     "name": "stdout",
     "output_type": "stream",
     "text": [
      "Second training run ...\n",
      "Epoch 400/400: 100%|███████████████████████████████████████████████████████████████████████████████████████████████████████████████████████████████████████████████████████████| 400/400 [06:13<00:00,  1.07it/s, v_num=1, elbo_train=7.2e+6]\n",
      "Sampling local variables, batch: 100%|█████████████████████████████████████████████████████████████████████████████████████████████████████████████████████████████████████████████████████████████████████████| 1/1 [00:00<00:00,  1.90it/s]\n",
      "Sampling global variables, sample: 100%|███████████████████████████████████████████████████████████████████████████████████████████████████████████████████████████████████████████████████████████████████████| 2/2 [00:00<00:00, 10.54it/s]\n",
      "Computing total RNAvelocity ...\n",
      "# Cross-Boundary Direction Correctness (A->B)\n",
      "{('HSC_1', 'Ery_1'): -0.4138991245584894, ('HSC_1', 'HSC_2'): -0.1492970199647425, ('Ery_1', 'Ery_2'): -0.7478527098675539}\n",
      "Total Mean: -0.43701628479692856\n",
      "# In-cluster Coherence\n",
      "{'CLP': 0.9911508, 'DCs': 0.753038, 'Ery_1': 0.7521497, 'Ery_2': 0.5402536, 'HSC_1': 0.6408589, 'HSC_2': 0.6018523, 'Mega': 0.5408672, 'Mono_1': 0.8816516, 'Mono_2': 0.76980394, 'Precursors': 0.5818669}\n",
      "Total Mean: 0.7053492665290833\n",
      "0\n",
      "1\n",
      "1\n",
      "Keeping at most 100000 cells per cluster\n",
      "Filtered out 6962 genes that are detected 10 counts (shared).\n",
      "Extracted 1500 highly variable genes.\n",
      "Leiden clustering ...\n",
      "WARNING: You’re trying to run this on 242 dimensions of `.X`, if you really want this, set `use_rep='X'`.\n",
      "         Falling back to preprocessing with `sc.pp.pca` and default params.\n"
     ]
    },
    {
     "name": "stderr",
     "output_type": "stream",
     "text": [
      "GPU available: True, used: True\n",
      "TPU available: False, using: 0 TPU cores\n",
      "IPU available: False, using: 0 IPUs\n",
      "LOCAL_RANK: 0 - CUDA_VISIBLE_DEVICES: [0]\n"
     ]
    },
    {
     "name": "stdout",
     "output_type": "stream",
     "text": [
      "Number of Leiden Clusters: 11\n",
      "Maximal Number of Modules: 12\n",
      "First training run ...\n",
      "Epoch 100/100: 100%|██████████████████████████████████████████████████████████████████████████████████████████████████████████████████████████████████████████████████████████| 100/100 [01:45<00:00,  1.06s/it, v_num=1, elbo_train=7.34e+6]\n",
      "Initializing second training run ...\n",
      "Sampling local variables, batch: 100%|█████████████████████████████████████████████████████████████████████████████████████████████████████████████████████████████████████████████████████████████████████████| 1/1 [00:00<00:00,  1.66it/s]\n",
      "Sampling global variables, sample: 100%|███████████████████████████████████████████████████████████████████████████████████████████████████████████████████████████████████████████████████████████████████████| 2/2 [00:00<00:00,  9.53it/s]\n"
     ]
    },
    {
     "name": "stderr",
     "output_type": "stream",
     "text": [
      "GPU available: True, used: True\n",
      "TPU available: False, using: 0 TPU cores\n",
      "IPU available: False, using: 0 IPUs\n",
      "LOCAL_RANK: 0 - CUDA_VISIBLE_DEVICES: [0]\n"
     ]
    },
    {
     "name": "stdout",
     "output_type": "stream",
     "text": [
      "Second training run ...\n",
      "Epoch 400/400: 100%|███████████████████████████████████████████████████████████████████████████████████████████████████████████████████████████████████████████████████████████| 400/400 [07:01<00:00,  1.05s/it, v_num=1, elbo_train=7.2e+6]\n",
      "Sampling local variables, batch: 100%|█████████████████████████████████████████████████████████████████████████████████████████████████████████████████████████████████████████████████████████████████████████| 1/1 [00:00<00:00,  1.69it/s]\n",
      "Sampling global variables, sample: 100%|███████████████████████████████████████████████████████████████████████████████████████████████████████████████████████████████████████████████████████████████████████| 2/2 [00:00<00:00,  9.53it/s]\n",
      "Computing total RNAvelocity ...\n",
      "# Cross-Boundary Direction Correctness (A->B)\n",
      "{('HSC_1', 'Ery_1'): -0.22936834978580647, ('HSC_1', 'HSC_2'): -0.4540576093175041, ('Ery_1', 'Ery_2'): 0.7748383303986163}\n",
      "Total Mean: 0.030470790431768553\n",
      "# In-cluster Coherence\n",
      "{'CLP': 0.9368731, 'DCs': 0.6991328, 'Ery_1': 0.68084127, 'Ery_2': 0.9096892, 'HSC_1': 0.6783409, 'HSC_2': 0.60296893, 'Mega': 0.7102321, 'Mono_1': 0.5511833, 'Mono_2': 0.36819994, 'Precursors': 0.5343122}\n",
      "Total Mean: 0.6671773195266724\n",
      "0\n",
      "1\n",
      "2\n",
      "Keeping at most 100000 cells per cluster\n",
      "Filtered out 6962 genes that are detected 10 counts (shared).\n",
      "Extracted 1500 highly variable genes.\n",
      "Leiden clustering ...\n",
      "WARNING: You’re trying to run this on 242 dimensions of `.X`, if you really want this, set `use_rep='X'`.\n",
      "         Falling back to preprocessing with `sc.pp.pca` and default params.\n"
     ]
    },
    {
     "name": "stderr",
     "output_type": "stream",
     "text": [
      "GPU available: True, used: True\n",
      "TPU available: False, using: 0 TPU cores\n",
      "IPU available: False, using: 0 IPUs\n",
      "LOCAL_RANK: 0 - CUDA_VISIBLE_DEVICES: [0]\n"
     ]
    },
    {
     "name": "stdout",
     "output_type": "stream",
     "text": [
      "Number of Leiden Clusters: 11\n",
      "Maximal Number of Modules: 12\n",
      "First training run ...\n",
      "Epoch 100/100: 100%|███████████████████████████████████████████████████████████████████████████████████████████████████████████████████████████████████████████████████████████| 100/100 [02:00<00:00,  1.20s/it, v_num=1, elbo_train=7.4e+6]\n",
      "Initializing second training run ...\n",
      "Sampling local variables, batch: 100%|█████████████████████████████████████████████████████████████████████████████████████████████████████████████████████████████████████████████████████████████████████████| 1/1 [00:00<00:00,  1.46it/s]\n",
      "Sampling global variables, sample: 100%|███████████████████████████████████████████████████████████████████████████████████████████████████████████████████████████████████████████████████████████████████████| 2/2 [00:00<00:00,  8.04it/s]\n"
     ]
    },
    {
     "name": "stderr",
     "output_type": "stream",
     "text": [
      "GPU available: True, used: True\n",
      "TPU available: False, using: 0 TPU cores\n",
      "IPU available: False, using: 0 IPUs\n",
      "LOCAL_RANK: 0 - CUDA_VISIBLE_DEVICES: [0]\n"
     ]
    },
    {
     "name": "stdout",
     "output_type": "stream",
     "text": [
      "Second training run ...\n",
      "Epoch 277/400:  69%|██████████████████████████████████████████████████████████████████████████████████████████████████████████▋                                               | 277/400 [05:26<02:24,  1.17s/it, v_num=1, elbo_train=7.23e+6]"
     ]
    }
   ],
   "source": [
    "import scvelo as scv\n",
    "import scanpy as sc\n",
    "import cell2fate as c2f\n",
    "import pickle as pickle\n",
    "from eval_utils import cross_boundary_correctness\n",
    "from datetime import datetime\n",
    "import pandas as pd\n",
    "import numpy as np\n",
    "from os.path import exists\n",
    "import matplotlib.pyplot as plt\n",
    "import torch\n",
    "import unitvelo as utv\n",
    "method = 'cell2fate'\n",
    "data_dir = '/nfs/team283/aa16/data/fate_benchmarking/benchmarking_datasets/'\n",
    "save_dir = '/nfs/team283/aa16/data/fate_benchmarking/benchmarking_results/'\n",
    "dataset = 'HumanBoneMarrow'\n",
    "n_genes_list = np.array((1500, 3000, 6000))\n",
    "n_counts_list = np.array((5, 10, 20))\n",
    "# Model params:\n",
    "mod_list = [0.8, 1, 1.2]\n",
    "# Robust Training Functions:\n",
    "def infer_dynamics(mod, max_epochs = [100, 400], lr = [0.02, 0.01]):\n",
    "    print('First training run ...')\n",
    "    mod.train(max_epochs = max_epochs[0], lr = lr[0])\n",
    "    print('Initializing second training run ...')\n",
    "    sample_kwarg = {\"num_samples\": 3, \"batch_size\" : adata.n_obs,\n",
    "                     \"use_gpu\" : True, 'return_samples': False}\n",
    "    mod.adata = mod.export_posterior(mod.adata, sample_kwargs=sample_kwarg)\n",
    "    init_vals = {}\n",
    "    params = ['splicing_alpha', 'splicing_mean', 'beta_g', 'degredation_alpha', 'degredation_mean', 'gamma_g', 'factor_level_g',\n",
    "              'g_fg', 'A_mgON', 'detection_mean_y_e', 'detection_hyp_prior_alpha', 'detection_y_c',\n",
    "              'detection_y_i', 'detection_y_gi', 's_g_gene_add_alpha_hyp', 's_g_gene_add_mean', 's_g_gene_add_alpha_e_inv',\n",
    "              's_g_gene_add']\n",
    "    for i in range(len(params)):\n",
    "            init_vals[params[i]] = mod.samples['post_sample_means'][params[i]]\n",
    "    print('Second training run ...')\n",
    "    mod2 = c2f.Cell2fate_DynamicalModel(mod.adata, n_modules = n_modules,\n",
    "            init_vals = init_vals)\n",
    "    del mod\n",
    "    mod2.train(max_epochs = max_epochs[1], lr = lr[1])\n",
    "    return mod2\n",
    "for i in range(len(n_genes_list)):\n",
    "    for j in range(len(n_counts_list)):\n",
    "        for k in range(len(mod_list)):\n",
    "                print(i)\n",
    "                print(j)\n",
    "                print(k)\n",
    "                n_genes = n_genes_list[i]\n",
    "                min_counts = n_counts_list[j]\n",
    "                model_index = str(i) + '-' + str(j) + '-' + str(k)\n",
    "                save_name = method + '_' + dataset\n",
    "                if exists(save_dir + save_name + '_CBDC_And_Posterior.csv'):\n",
    "                    tab = pd.read_csv(save_dir + save_name + '_CBDC_And_Posterior.csv', index_col = 0)\n",
    "                    if model_index in tab.index:\n",
    "                        continue\n",
    "                adata = sc.read_h5ad(data_dir + dataset + '/' + dataset + '_anndata.h5ad')\n",
    "                adata = c2f.utils.get_training_data(adata, cells_per_cluster = 10**5, cluster_column = 'clusters',\n",
    "                                                remove_clusters = [], min_shared_counts = min_counts, n_var_genes= n_genes)\n",
    "                c2f.Cell2fate_DynamicalModel.setup_anndata(adata, spliced_label='spliced', unspliced_label='unspliced')    \n",
    "                n_modules = int(np.round(c2f.utils.get_max_modules(adata)*mod_list[k]))\n",
    "                mod = c2f.Cell2fate_DynamicalModel(adata,\n",
    "                                                   n_modules = n_modules)   \n",
    "                mod = infer_dynamics(mod)\n",
    "                sample_kwarg = {\"num_samples\": 3, \"batch_size\" : adata.n_obs,\n",
    "                     \"use_gpu\" : True, 'return_samples': False}\n",
    "                adata = mod.export_posterior(adata, sample_kwargs = sample_kwarg)\n",
    "                mod.compute_and_plot_total_velocity(adata, save = False, delete = False)\n",
    "                # Calculate performance metrics:\n",
    "                file = open(data_dir + dataset + '/' + dataset + '_groundTruth.pickle' ,'rb')\n",
    "                ground_truth = pickle.load(file)\n",
    "                metrics = utv.evaluate(adata, ground_truth, 'clusters', 'Velocity')\n",
    "                cb_score = [np.mean(metrics['Cross-Boundary Direction Correctness (A->B)'][x])\n",
    "                            for x in metrics['Cross-Boundary Direction Correctness (A->B)'].keys()]\n",
    "                if exists(save_dir + save_name + '_CBDC_And_Posterior.csv'):\n",
    "                    tab = pd.read_csv(save_dir + save_name + '_CBDC_And_Posterior.csv', index_col = 0)\n",
    "                else:\n",
    "                    c_names = ['CBDC']\n",
    "                    tab = pd.DataFrame(columns = c_names)\n",
    "                tab.loc[model_index, 'CBDC'] = np.mean(cb_score)\n",
    "                tab.loc[model_index, 'splicing_alpha'] = mod.samples['post_sample_means']['splicing_alpha']\n",
    "                tab.loc[model_index, 'splicing_mean'] = mod.samples['post_sample_means']['splicing_mean']\n",
    "                tab.loc[model_index, 'beta_g_mean'] = np.mean(mod.samples['post_sample_means']['beta_g'])\n",
    "                tab.loc[model_index, 'beta_g_var'] = np.var(mod.samples['post_sample_means']['beta_g'])\n",
    "                tab.loc[model_index, 'degredation_alpha'] = mod.samples['post_sample_means']['degredation_alpha']\n",
    "                tab.loc[model_index, 'degredation_mean'] = mod.samples['post_sample_means']['degredation_mean']\n",
    "                tab.loc[model_index, 'gamma_g_mean'] = np.mean(mod.samples['post_sample_means']['gamma_g'])\n",
    "                tab.loc[model_index, 'gamma_g_var'] = np.var(mod.samples['post_sample_means']['gamma_g'])\n",
    "                tab.loc[model_index, 'factor_level_g_mean'] = np.mean(mod.samples['post_sample_means']['factor_level_g'])\n",
    "                tab.loc[model_index, 'factor_level_g_var'] = np.var(mod.samples['post_sample_means']['factor_level_g'])\n",
    "                tab.loc[model_index, 'g_fg_mean'] = np.mean(mod.samples['post_sample_means']['g_fg'])\n",
    "                tab.loc[model_index, 'g_fg_var'] = np.var(mod.samples['post_sample_means']['g_fg'])\n",
    "                tab.loc[model_index, 'A_mgON_mean'] = np.mean(mod.samples['post_sample_means']['A_mgON'])\n",
    "                tab.loc[model_index, 'A_mgON_var'] = np.var(mod.samples['post_sample_means']['A_mgON'])\n",
    "                tab.loc[model_index, 'lam_mu'] = mod.samples['post_sample_means']['lam_mu']\n",
    "                tab.loc[model_index, 'lam_sd'] = mod.samples['post_sample_means']['lam_sd']\n",
    "                tab.loc[model_index, 'lam_m_mu_mean'] = np.mean(mod.samples['post_sample_means']['lam_m_mu'])\n",
    "                tab.loc[model_index, 'lam_m_mu_var'] = np.var(mod.samples['post_sample_means']['lam_m_mu'])\n",
    "                tab.loc[model_index, 'lam_mi_mean'] = np.mean(mod.samples['post_sample_means']['lam_mi'])\n",
    "                tab.loc[model_index, 'lam_mi_var'] = np.var(mod.samples['post_sample_means']['lam_mi'])\n",
    "                tab.loc[model_index, 'Tmax'] = mod.samples['post_sample_means']['Tmax']\n",
    "                tab.loc[model_index, 't_c_loc'] = mod.samples['post_sample_means']['t_c_loc']\n",
    "                tab.loc[model_index, 't_c_scale'] = mod.samples['post_sample_means']['t_c_scale']\n",
    "                tab.loc[model_index, 'T_c_mean'] = np.mean(mod.samples['post_sample_means']['T_c'])\n",
    "                tab.loc[model_index, 'T_c_var'] = np.var(mod.samples['post_sample_means']['T_c'])\n",
    "                tab.loc[model_index, 't_delta_mean'] = np.mean(mod.samples['post_sample_means']['t_delta'])\n",
    "                tab.loc[model_index, 't_delta_var'] = np.var(mod.samples['post_sample_means']['t_delta'])\n",
    "                tab.loc[model_index, 'T_mON_mean'] = np.mean(mod.samples['post_sample_means']['T_mON'])\n",
    "                tab.loc[model_index, 'T_mON_var'] = np.var(mod.samples['post_sample_means']['T_mON'])\n",
    "                tab.loc[model_index, 'T_mON_mean'] = np.mean(mod.samples['post_sample_means']['T_mON'])\n",
    "                tab.loc[model_index, 'T_mON_var'] = np.var(mod.samples['post_sample_means']['T_mON'])\n",
    "                tab.loc[model_index, 'T_mOFF_mean'] = np.mean(mod.samples['post_sample_means']['T_mOFF'])\n",
    "                tab.loc[model_index, 'T_mOFF_var'] = np.var(mod.samples['post_sample_means']['T_mOFF'])\n",
    "                tab.loc[model_index, 'mu_expression_mean'] = np.mean(mod.samples['post_sample_means']['mu_expression'])\n",
    "                tab.loc[model_index, 'mu_expression_var'] = np.var(mod.samples['post_sample_means']['mu_expression'])\n",
    "                tab.loc[model_index, 'detection_mean_y_e_mean'] = np.mean(mod.samples['post_sample_means']['detection_mean_y_e'])\n",
    "                tab.loc[model_index, 'detection_mean_y_e_var'] = np.var(mod.samples['post_sample_means']['detection_mean_y_e'])\n",
    "                tab.loc[model_index, 'detection_hyp_prior_alpha'] = mod.samples['post_sample_means']['detection_hyp_prior_alpha']\n",
    "                tab.loc[model_index, 'detection_y_c_mean'] = np.mean(mod.samples['post_sample_means']['detection_y_c'])\n",
    "                tab.loc[model_index, 'detection_y_c_var'] = np.var(mod.samples['post_sample_means']['detection_y_c'])\n",
    "                tab.loc[model_index, 'detection_y_i_mean'] = np.mean(mod.samples['post_sample_means']['detection_y_i'])\n",
    "                tab.loc[model_index, 'detection_y_i_var'] = np.var(mod.samples['post_sample_means']['detection_y_i'])\n",
    "                tab.loc[model_index, 'detection_y_gi_mean'] = np.mean(mod.samples['post_sample_means']['detection_y_gi'])\n",
    "                tab.loc[model_index, 'detection_y_gi_var'] = np.var(mod.samples['post_sample_means']['detection_y_gi'])\n",
    "                tab.loc[model_index, 's_g_gene_add_alpha_hyp_mean'] = np.mean(mod.samples['post_sample_means']['s_g_gene_add_alpha_hyp'])\n",
    "                tab.loc[model_index, 's_g_gene_add_alpha_hyp_var'] = np.var(mod.samples['post_sample_means']['s_g_gene_add_alpha_hyp'])\n",
    "                tab.loc[model_index, 's_g_gene_add_mean_mean'] = np.mean(mod.samples['post_sample_means']['s_g_gene_add_mean'])\n",
    "                tab.loc[model_index, 's_g_gene_add_mean_var'] = np.var(mod.samples['post_sample_means']['s_g_gene_add_mean'])\n",
    "                tab.loc[model_index, 's_g_gene_add_alpha_e_inv_mean'] = np.mean(mod.samples['post_sample_means']['s_g_gene_add_alpha_e_inv'])\n",
    "                tab.loc[model_index, 's_g_gene_add_alpha_e_inv_var'] = np.var(mod.samples['post_sample_means']['s_g_gene_add_alpha_e_inv'])\n",
    "                tab.loc[model_index, 's_g_gene_add_mean'] = np.mean(mod.samples['post_sample_means']['s_g_gene_add'])\n",
    "                tab.loc[model_index, 's_g_gene_add_var'] = np.var(mod.samples['post_sample_means']['s_g_gene_add'])\n",
    "                tab.loc[model_index, 'stochastic_v_ag_hyp_mean'] = np.mean(mod.samples['post_sample_means']['stochastic_v_ag_hyp'])\n",
    "                tab.loc[model_index, 'stochastic_v_ag_hyp_var'] = np.var(mod.samples['post_sample_means']['stochastic_v_ag_hyp'])\n",
    "                tab.loc[model_index, 'stochastic_v_ag_inv_mean'] = np.mean(mod.samples['post_sample_means']['stochastic_v_ag_inv'])\n",
    "                tab.loc[model_index, 'stochastic_v_ag_inv_var'] = np.var(mod.samples['post_sample_means']['stochastic_v_ag_inv'])\n",
    "                tab.to_csv(save_dir + save_name + '_CBDC_And_Posterior.csv')"
   ]
  },
  {
   "cell_type": "code",
   "execution_count": null,
   "id": "c5022ddd",
   "metadata": {},
   "outputs": [],
   "source": []
  }
 ],
 "metadata": {
  "kernelspec": {
   "display_name": "Python [conda env:cell2fate_env]",
   "language": "python",
   "name": "conda-env-cell2fate_env-py"
  },
  "language_info": {
   "codemirror_mode": {
    "name": "ipython",
    "version": 3
   },
   "file_extension": ".py",
   "mimetype": "text/x-python",
   "name": "python",
   "nbconvert_exporter": "python",
   "pygments_lexer": "ipython3",
   "version": "3.9.12"
  }
 },
 "nbformat": 4,
 "nbformat_minor": 5
}
