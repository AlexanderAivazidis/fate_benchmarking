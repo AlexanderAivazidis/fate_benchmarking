{
 "cells": [
  {
   "cell_type": "code",
   "execution_count": null,
   "id": "fd5023c1",
   "metadata": {},
   "outputs": [
    {
     "name": "stderr",
     "output_type": "stream",
     "text": [
      "Global seed set to 0\n"
     ]
    },
    {
     "name": "stdout",
     "output_type": "stream",
     "text": [
      "(Running UniTVelo 0.2.5)\n",
      "2023-10-18 12:28:37\n",
      "0\n",
      "0\n",
      "0\n",
      "Filtered out 47456 genes that are detected 20 counts (shared).\n",
      "Normalized count data: X, spliced, unspliced.\n",
      "Extracted 2000 highly variable genes.\n",
      "Logarithmized X.\n",
      "computing neighbors\n",
      "    finished (0:03:36) --> added \n",
      "    'distances' and 'connectivities', weighted adjacency matrices (adata.obsp)\n",
      "computing moments based on connectivities\n",
      "    finished (0:00:01) --> added \n",
      "    'Ms' and 'Mu', moments of un/spliced abundances (adata.layers)\n",
      "Leiden clustering ...\n",
      "Number of Leiden Clusters: 9\n",
      "Maximal Number of Modules: 10\n"
     ]
    },
    {
     "name": "stderr",
     "output_type": "stream",
     "text": [
      "GPU available: True, used: True\n",
      "TPU available: False, using: 0 TPU cores\n",
      "IPU available: False, using: 0 IPUs\n",
      "LOCAL_RANK: 0 - CUDA_VISIBLE_DEVICES: [0]\n"
     ]
    },
    {
     "name": "stdout",
     "output_type": "stream",
     "text": [
      "Epoch 500/500: 100%|██████████████████████████████████████████████████████████████████████████████████████████████████████████████████████████████████████████████████████████| 500/500 [11:19<00:00,  1.36s/it, v_num=1, elbo_train=1.69e+7]\n",
      "sample_kwargs['batch_size'] 9815\n",
      "Sampling local variables, batch: 100%|█████████████████████████████████████████████████████████████████████████████████████████████████████████████████████████████████████████████████████████████████████████| 1/1 [00:02<00:00,  2.25s/it]\n",
      "Sampling global variables, sample: 100%|███████████████████████████████████████████████████████████████████████████████████████████████████████████████████████████████████████████████████████████████████████| 2/2 [00:00<00:00,  2.23it/s]\n",
      "Computing total RNAvelocity ...\n"
     ]
    },
    {
     "data": {
      "application/vnd.jupyter.widget-view+json": {
       "model_id": "8952ad4f283c461ea953e31d9d56e5f4",
       "version_major": 2,
       "version_minor": 0
      },
      "text/plain": [
       "  0%|          | 0/9815 [00:00<?, ?cells/s]"
      ]
     },
     "metadata": {},
     "output_type": "display_data"
    },
    {
     "name": "stdout",
     "output_type": "stream",
     "text": [
      "# Cross-Boundary Direction Correctness (A->B)\n",
      "{('Blood progenitors 1', 'Blood progenitors 2'): 0.4015152195894096, ('Blood progenitors 2', 'Erythroid1'): 0.7064251272761252, ('Erythroid1', 'Erythroid2'): 0.8108220849756597, ('Erythroid2', 'Erythroid3'): 0.7878059911601162}\n",
      "Total Mean: 0.6766421057503277\n",
      "# In-cluster Coherence\n",
      "{'Blood progenitors 1': 0.87499374, 'Blood progenitors 2': 0.9089133, 'Erythroid1': 0.8405186, 'Erythroid2': 0.84556776, 'Erythroid3': 0.9672953}\n",
      "Total Mean: 0.8874577283859253\n",
      "0\n",
      "0\n",
      "1\n",
      "Filtered out 47456 genes that are detected 20 counts (shared).\n",
      "Normalized count data: X, spliced, unspliced.\n",
      "Extracted 2000 highly variable genes.\n",
      "Logarithmized X.\n",
      "computing neighbors\n",
      "    finished (0:00:04) --> added \n",
      "    'distances' and 'connectivities', weighted adjacency matrices (adata.obsp)\n",
      "computing moments based on connectivities\n",
      "    finished (0:00:01) --> added \n",
      "    'Ms' and 'Mu', moments of un/spliced abundances (adata.layers)\n",
      "Leiden clustering ...\n"
     ]
    },
    {
     "name": "stderr",
     "output_type": "stream",
     "text": [
      "GPU available: True, used: True\n",
      "TPU available: False, using: 0 TPU cores\n",
      "IPU available: False, using: 0 IPUs\n",
      "LOCAL_RANK: 0 - CUDA_VISIBLE_DEVICES: [0]\n"
     ]
    },
    {
     "name": "stdout",
     "output_type": "stream",
     "text": [
      "Number of Leiden Clusters: 9\n",
      "Maximal Number of Modules: 10\n",
      "Epoch 500/500: 100%|███████████████████████████████████████████████████████████████████████████████████████████████████████████████████████████████████████████████████████████| 500/500 [15:27<00:00,  1.85s/it, v_num=1, elbo_train=1.7e+7]\n",
      "sample_kwargs['batch_size'] 9815\n",
      "Sampling local variables, batch: 100%|█████████████████████████████████████████████████████████████████████████████████████████████████████████████████████████████████████████████████████████████████████████| 1/1 [00:02<00:00,  2.67s/it]\n",
      "Sampling global variables, sample: 100%|███████████████████████████████████████████████████████████████████████████████████████████████████████████████████████████████████████████████████████████████████████| 2/2 [00:01<00:00,  1.81it/s]\n",
      "Computing total RNAvelocity ...\n"
     ]
    },
    {
     "data": {
      "application/vnd.jupyter.widget-view+json": {
       "model_id": "4c35b732a16b4b55b12331a176adc474",
       "version_major": 2,
       "version_minor": 0
      },
      "text/plain": [
       "  0%|          | 0/9815 [00:00<?, ?cells/s]"
      ]
     },
     "metadata": {},
     "output_type": "display_data"
    },
    {
     "name": "stdout",
     "output_type": "stream",
     "text": [
      "# Cross-Boundary Direction Correctness (A->B)\n",
      "{('Blood progenitors 1', 'Blood progenitors 2'): 0.7987811060501351, ('Blood progenitors 2', 'Erythroid1'): 0.6661831853625334, ('Erythroid1', 'Erythroid2'): 0.8315865762077614, ('Erythroid2', 'Erythroid3'): 0.8190823071675725}\n",
      "Total Mean: 0.7789082936970005\n",
      "# In-cluster Coherence\n",
      "{'Blood progenitors 1': 0.97691196, 'Blood progenitors 2': 0.8836922, 'Erythroid1': 0.9880362, 'Erythroid2': 0.9926175, 'Erythroid3': 0.99496466}\n",
      "Total Mean: 0.9672445058822632\n",
      "0\n",
      "0\n",
      "2\n",
      "Filtered out 47456 genes that are detected 20 counts (shared).\n",
      "Normalized count data: X, spliced, unspliced.\n",
      "Extracted 2000 highly variable genes.\n",
      "Logarithmized X.\n",
      "computing neighbors\n",
      "    finished (0:00:05) --> added \n",
      "    'distances' and 'connectivities', weighted adjacency matrices (adata.obsp)\n",
      "computing moments based on connectivities\n",
      "    finished (0:00:01) --> added \n",
      "    'Ms' and 'Mu', moments of un/spliced abundances (adata.layers)\n",
      "Leiden clustering ...\n"
     ]
    },
    {
     "name": "stderr",
     "output_type": "stream",
     "text": [
      "GPU available: True, used: True\n",
      "TPU available: False, using: 0 TPU cores\n",
      "IPU available: False, using: 0 IPUs\n",
      "LOCAL_RANK: 0 - CUDA_VISIBLE_DEVICES: [0]\n"
     ]
    },
    {
     "name": "stdout",
     "output_type": "stream",
     "text": [
      "Number of Leiden Clusters: 9\n",
      "Maximal Number of Modules: 10\n",
      "Epoch 500/500: 100%|██████████████████████████████████████████████████████████████████████████████████████████████████████████████████████████████████████████████████████████| 500/500 [19:32<00:00,  2.34s/it, v_num=1, elbo_train=1.69e+7]\n",
      "sample_kwargs['batch_size'] 9815\n",
      "Sampling local variables, batch: 100%|█████████████████████████████████████████████████████████████████████████████████████████████████████████████████████████████████████████████████████████████████████████| 1/1 [00:03<00:00,  3.07s/it]\n",
      "Sampling global variables, sample: 100%|███████████████████████████████████████████████████████████████████████████████████████████████████████████████████████████████████████████████████████████████████████| 2/2 [00:01<00:00,  1.52it/s]\n",
      "Computing total RNAvelocity ...\n"
     ]
    },
    {
     "data": {
      "application/vnd.jupyter.widget-view+json": {
       "model_id": "aa91f3e741714c91a35c07a158647d3c",
       "version_major": 2,
       "version_minor": 0
      },
      "text/plain": [
       "  0%|          | 0/9815 [00:00<?, ?cells/s]"
      ]
     },
     "metadata": {},
     "output_type": "display_data"
    },
    {
     "name": "stdout",
     "output_type": "stream",
     "text": [
      "# Cross-Boundary Direction Correctness (A->B)\n",
      "{('Blood progenitors 1', 'Blood progenitors 2'): 0.19590265362426912, ('Blood progenitors 2', 'Erythroid1'): 0.47827094935724407, ('Erythroid1', 'Erythroid2'): 0.61212009928755, ('Erythroid2', 'Erythroid3'): 0.7537237184564237}\n",
      "Total Mean: 0.5100043551813717\n",
      "# In-cluster Coherence\n",
      "{'Blood progenitors 1': 0.5544065, 'Blood progenitors 2': 0.708443, 'Erythroid1': 0.8171845, 'Erythroid2': 0.82493055, 'Erythroid3': 0.85858965}\n",
      "Total Mean: 0.7527108192443848\n",
      "0\n",
      "0\n",
      "3\n",
      "Filtered out 47456 genes that are detected 20 counts (shared).\n",
      "Normalized count data: X, spliced, unspliced.\n",
      "Extracted 2000 highly variable genes.\n",
      "Logarithmized X.\n",
      "computing neighbors\n",
      "    finished (0:00:05) --> added \n",
      "    'distances' and 'connectivities', weighted adjacency matrices (adata.obsp)\n",
      "computing moments based on connectivities\n",
      "    finished (0:00:01) --> added \n",
      "    'Ms' and 'Mu', moments of un/spliced abundances (adata.layers)\n",
      "Leiden clustering ...\n"
     ]
    },
    {
     "name": "stderr",
     "output_type": "stream",
     "text": [
      "GPU available: True, used: True\n",
      "TPU available: False, using: 0 TPU cores\n",
      "IPU available: False, using: 0 IPUs\n",
      "LOCAL_RANK: 0 - CUDA_VISIBLE_DEVICES: [0]\n"
     ]
    },
    {
     "name": "stdout",
     "output_type": "stream",
     "text": [
      "Number of Leiden Clusters: 9\n",
      "Maximal Number of Modules: 10\n",
      "Epoch 500/500: 100%|██████████████████████████████████████████████████████████████████████████████████████████████████████████████████████████████████████████████████████████| 500/500 [23:40<00:00,  2.84s/it, v_num=1, elbo_train=1.69e+7]\n",
      "sample_kwargs['batch_size'] 9815\n",
      "Sampling local variables, batch: 100%|█████████████████████████████████████████████████████████████████████████████████████████████████████████████████████████████████████████████████████████████████████████| 1/1 [00:03<00:00,  3.51s/it]\n",
      "Sampling global variables, sample: 100%|███████████████████████████████████████████████████████████████████████████████████████████████████████████████████████████████████████████████████████████████████████| 2/2 [00:01<00:00,  1.31it/s]\n",
      "Computing total RNAvelocity ...\n"
     ]
    },
    {
     "data": {
      "application/vnd.jupyter.widget-view+json": {
       "model_id": "f564ac83c2394e9dbbe38851b981bc74",
       "version_major": 2,
       "version_minor": 0
      },
      "text/plain": [
       "  0%|          | 0/9815 [00:00<?, ?cells/s]"
      ]
     },
     "metadata": {},
     "output_type": "display_data"
    },
    {
     "name": "stdout",
     "output_type": "stream",
     "text": [
      "# Cross-Boundary Direction Correctness (A->B)\n",
      "{('Blood progenitors 1', 'Blood progenitors 2'): 0.4010234886802227, ('Blood progenitors 2', 'Erythroid1'): 0.5823364646627314, ('Erythroid1', 'Erythroid2'): 0.5769706841225687, ('Erythroid2', 'Erythroid3'): 0.754833521694438}\n",
      "Total Mean: 0.5787910397899901\n",
      "# In-cluster Coherence\n",
      "{'Blood progenitors 1': 0.7651291, 'Blood progenitors 2': 0.7878145, 'Erythroid1': 0.86862636, 'Erythroid2': 0.858849, 'Erythroid3': 0.9458287}\n",
      "Total Mean: 0.8452495336532593\n",
      "0\n",
      "1\n",
      "0\n",
      "Filtered out 48372 genes that are detected 40 counts (shared).\n",
      "Normalized count data: X, spliced, unspliced.\n",
      "Extracted 2000 highly variable genes.\n",
      "Logarithmized X.\n",
      "computing neighbors\n",
      "    finished (0:00:04) --> added \n",
      "    'distances' and 'connectivities', weighted adjacency matrices (adata.obsp)\n",
      "computing moments based on connectivities\n",
      "    finished (0:00:01) --> added \n",
      "    'Ms' and 'Mu', moments of un/spliced abundances (adata.layers)\n",
      "Leiden clustering ...\n"
     ]
    },
    {
     "name": "stderr",
     "output_type": "stream",
     "text": [
      "GPU available: True, used: True\n",
      "TPU available: False, using: 0 TPU cores\n",
      "IPU available: False, using: 0 IPUs\n",
      "LOCAL_RANK: 0 - CUDA_VISIBLE_DEVICES: [0]\n"
     ]
    },
    {
     "name": "stdout",
     "output_type": "stream",
     "text": [
      "Number of Leiden Clusters: 9\n",
      "Maximal Number of Modules: 10\n",
      "Epoch 500/500: 100%|██████████████████████████████████████████████████████████████████████████████████████████████████████████████████████████████████████████████████████████| 500/500 [11:15<00:00,  1.35s/it, v_num=1, elbo_train=2.09e+7]\n",
      "sample_kwargs['batch_size'] 9815\n",
      "Sampling local variables, batch: 100%|█████████████████████████████████████████████████████████████████████████████████████████████████████████████████████████████████████████████████████████████████████████| 1/1 [00:02<00:00,  2.34s/it]\n",
      "Sampling global variables, sample: 100%|███████████████████████████████████████████████████████████████████████████████████████████████████████████████████████████████████████████████████████████████████████| 2/2 [00:00<00:00,  2.22it/s]\n",
      "Computing total RNAvelocity ...\n"
     ]
    },
    {
     "data": {
      "application/vnd.jupyter.widget-view+json": {
       "model_id": "a1db3285c8ea45839ceeec8286b27df9",
       "version_major": 2,
       "version_minor": 0
      },
      "text/plain": [
       "  0%|          | 0/9815 [00:00<?, ?cells/s]"
      ]
     },
     "metadata": {},
     "output_type": "display_data"
    },
    {
     "name": "stdout",
     "output_type": "stream",
     "text": [
      "# Cross-Boundary Direction Correctness (A->B)\n",
      "{('Blood progenitors 1', 'Blood progenitors 2'): 0.4784021386224449, ('Blood progenitors 2', 'Erythroid1'): 0.7401547744232011, ('Erythroid1', 'Erythroid2'): 0.663515446773122, ('Erythroid2', 'Erythroid3'): 0.8186287082279885}\n",
      "Total Mean: 0.6751752670116892\n",
      "# In-cluster Coherence\n",
      "{'Blood progenitors 1': 0.8694388, 'Blood progenitors 2': 0.91197264, 'Erythroid1': 0.8614514, 'Erythroid2': 0.9125346, 'Erythroid3': 0.97371024}\n",
      "Total Mean: 0.9058215022087097\n",
      "0\n",
      "1\n",
      "1\n",
      "Filtered out 48372 genes that are detected 40 counts (shared).\n",
      "Normalized count data: X, spliced, unspliced.\n",
      "Extracted 2000 highly variable genes.\n",
      "Logarithmized X.\n",
      "computing neighbors\n",
      "    finished (0:00:04) --> added \n",
      "    'distances' and 'connectivities', weighted adjacency matrices (adata.obsp)\n",
      "computing moments based on connectivities\n",
      "    finished (0:00:01) --> added \n",
      "    'Ms' and 'Mu', moments of un/spliced abundances (adata.layers)\n",
      "Leiden clustering ...\n"
     ]
    },
    {
     "name": "stderr",
     "output_type": "stream",
     "text": [
      "GPU available: True, used: True\n",
      "TPU available: False, using: 0 TPU cores\n",
      "IPU available: False, using: 0 IPUs\n",
      "LOCAL_RANK: 0 - CUDA_VISIBLE_DEVICES: [0]\n"
     ]
    },
    {
     "name": "stdout",
     "output_type": "stream",
     "text": [
      "Number of Leiden Clusters: 9\n",
      "Maximal Number of Modules: 10\n",
      "Epoch 500/500: 100%|███████████████████████████████████████████████████████████████████████████████████████████████████████████████████████████████████████████████████████████| 500/500 [15:29<00:00,  1.86s/it, v_num=1, elbo_train=2.1e+7]\n",
      "sample_kwargs['batch_size'] 9815\n",
      "Sampling local variables, batch: 100%|█████████████████████████████████████████████████████████████████████████████████████████████████████████████████████████████████████████████████████████████████████████| 1/1 [00:02<00:00,  2.66s/it]\n",
      "Sampling global variables, sample: 100%|███████████████████████████████████████████████████████████████████████████████████████████████████████████████████████████████████████████████████████████████████████| 2/2 [00:01<00:00,  1.81it/s]\n",
      "Computing total RNAvelocity ...\n"
     ]
    },
    {
     "data": {
      "application/vnd.jupyter.widget-view+json": {
       "model_id": "f03b6aee6bfc41d5a7936933fee74d0f",
       "version_major": 2,
       "version_minor": 0
      },
      "text/plain": [
       "  0%|          | 0/9815 [00:00<?, ?cells/s]"
      ]
     },
     "metadata": {},
     "output_type": "display_data"
    },
    {
     "name": "stdout",
     "output_type": "stream",
     "text": [
      "# Cross-Boundary Direction Correctness (A->B)\n",
      "{('Blood progenitors 1', 'Blood progenitors 2'): 0.42986848426315977, ('Blood progenitors 2', 'Erythroid1'): 0.6602539203191057, ('Erythroid1', 'Erythroid2'): 0.7411115314304522, ('Erythroid2', 'Erythroid3'): 0.772440689020475}\n",
      "Total Mean: 0.6509186562582981\n",
      "# In-cluster Coherence\n",
      "{'Blood progenitors 1': 0.64355206, 'Blood progenitors 2': 0.82264215, 'Erythroid1': 0.9472717, 'Erythroid2': 0.7380858, 'Erythroid3': 0.98244876}\n",
      "Total Mean: 0.8268000483512878\n",
      "0\n",
      "1\n",
      "2\n",
      "Filtered out 48372 genes that are detected 40 counts (shared).\n",
      "Normalized count data: X, spliced, unspliced.\n",
      "Extracted 2000 highly variable genes.\n",
      "Logarithmized X.\n",
      "computing neighbors\n",
      "    finished (0:00:04) --> added \n",
      "    'distances' and 'connectivities', weighted adjacency matrices (adata.obsp)\n",
      "computing moments based on connectivities\n",
      "    finished (0:00:01) --> added \n",
      "    'Ms' and 'Mu', moments of un/spliced abundances (adata.layers)\n",
      "Leiden clustering ...\n"
     ]
    },
    {
     "name": "stderr",
     "output_type": "stream",
     "text": [
      "GPU available: True, used: True\n",
      "TPU available: False, using: 0 TPU cores\n",
      "IPU available: False, using: 0 IPUs\n",
      "LOCAL_RANK: 0 - CUDA_VISIBLE_DEVICES: [0]\n"
     ]
    },
    {
     "name": "stdout",
     "output_type": "stream",
     "text": [
      "Number of Leiden Clusters: 9\n",
      "Maximal Number of Modules: 10\n",
      "Epoch 500/500: 100%|██████████████████████████████████████████████████████████████████████████████████████████████████████████████████████████████████████████████████████████| 500/500 [19:41<00:00,  2.36s/it, v_num=1, elbo_train=2.09e+7]\n",
      "sample_kwargs['batch_size'] 9815\n",
      "Sampling local variables, batch: 100%|█████████████████████████████████████████████████████████████████████████████████████████████████████████████████████████████████████████████████████████████████████████| 1/1 [00:03<00:00,  3.10s/it]\n",
      "Sampling global variables, sample: 100%|███████████████████████████████████████████████████████████████████████████████████████████████████████████████████████████████████████████████████████████████████████| 2/2 [00:01<00:00,  1.52it/s]\n",
      "Computing total RNAvelocity ...\n"
     ]
    },
    {
     "data": {
      "application/vnd.jupyter.widget-view+json": {
       "model_id": "cb5096d0670e4b6387c8b0a51cc2a7f7",
       "version_major": 2,
       "version_minor": 0
      },
      "text/plain": [
       "  0%|          | 0/9815 [00:00<?, ?cells/s]"
      ]
     },
     "metadata": {},
     "output_type": "display_data"
    },
    {
     "name": "stdout",
     "output_type": "stream",
     "text": [
      "# Cross-Boundary Direction Correctness (A->B)\n",
      "{('Blood progenitors 1', 'Blood progenitors 2'): 0.36828848060152053, ('Blood progenitors 2', 'Erythroid1'): 0.6122270773046179, ('Erythroid1', 'Erythroid2'): 0.7646287243823384, ('Erythroid2', 'Erythroid3'): 0.7561951925857385}\n",
      "Total Mean: 0.6253348687185538\n",
      "# In-cluster Coherence\n",
      "{'Blood progenitors 1': 0.8682632, 'Blood progenitors 2': 0.7287186, 'Erythroid1': 0.7975939, 'Erythroid2': 0.7949317, 'Erythroid3': 0.92709655}\n",
      "Total Mean: 0.823320746421814\n",
      "0\n",
      "1\n",
      "3\n",
      "Filtered out 48372 genes that are detected 40 counts (shared).\n",
      "Normalized count data: X, spliced, unspliced.\n",
      "Extracted 2000 highly variable genes.\n",
      "Logarithmized X.\n",
      "computing neighbors\n",
      "    finished (0:00:05) --> added \n",
      "    'distances' and 'connectivities', weighted adjacency matrices (adata.obsp)\n",
      "computing moments based on connectivities\n",
      "    finished (0:00:02) --> added \n",
      "    'Ms' and 'Mu', moments of un/spliced abundances (adata.layers)\n",
      "Leiden clustering ...\n"
     ]
    },
    {
     "name": "stderr",
     "output_type": "stream",
     "text": [
      "GPU available: True, used: True\n",
      "TPU available: False, using: 0 TPU cores\n",
      "IPU available: False, using: 0 IPUs\n",
      "LOCAL_RANK: 0 - CUDA_VISIBLE_DEVICES: [0]\n"
     ]
    },
    {
     "name": "stdout",
     "output_type": "stream",
     "text": [
      "Number of Leiden Clusters: 9\n",
      "Maximal Number of Modules: 10\n",
      "Epoch 500/500: 100%|███████████████████████████████████████████████████████████████████████████████████████████████████████████████████████████████████████████████████████████| 500/500 [23:44<00:00,  2.85s/it, v_num=1, elbo_train=2.1e+7]\n",
      "sample_kwargs['batch_size'] 9815\n",
      "Sampling local variables, batch: 100%|█████████████████████████████████████████████████████████████████████████████████████████████████████████████████████████████████████████████████████████████████████████| 1/1 [00:03<00:00,  3.55s/it]\n",
      "Sampling global variables, sample: 100%|███████████████████████████████████████████████████████████████████████████████████████████████████████████████████████████████████████████████████████████████████████| 2/2 [00:01<00:00,  1.30it/s]\n",
      "Computing total RNAvelocity ...\n"
     ]
    },
    {
     "data": {
      "application/vnd.jupyter.widget-view+json": {
       "model_id": "4cefb2baf34841288ef488c40cba5920",
       "version_major": 2,
       "version_minor": 0
      },
      "text/plain": [
       "  0%|          | 0/9815 [00:00<?, ?cells/s]"
      ]
     },
     "metadata": {},
     "output_type": "display_data"
    },
    {
     "name": "stdout",
     "output_type": "stream",
     "text": [
      "# Cross-Boundary Direction Correctness (A->B)\n",
      "{('Blood progenitors 1', 'Blood progenitors 2'): 0.3568800821948874, ('Blood progenitors 2', 'Erythroid1'): 0.5988871505066992, ('Erythroid1', 'Erythroid2'): 0.6091472043605416, ('Erythroid2', 'Erythroid3'): 0.7495051655509729}\n",
      "Total Mean: 0.5786049006532753\n",
      "# In-cluster Coherence\n",
      "{'Blood progenitors 1': 0.6516025, 'Blood progenitors 2': 0.8038841, 'Erythroid1': 0.8631212, 'Erythroid2': 0.8657759, 'Erythroid3': 0.9549516}\n",
      "Total Mean: 0.8278670310974121\n",
      "0\n",
      "2\n",
      "0\n",
      "Filtered out 46616 genes that are detected 10 counts (shared).\n",
      "Normalized count data: X, spliced, unspliced.\n",
      "Extracted 2000 highly variable genes.\n",
      "Logarithmized X.\n",
      "computing neighbors\n",
      "    finished (0:00:05) --> added \n",
      "    'distances' and 'connectivities', weighted adjacency matrices (adata.obsp)\n",
      "computing moments based on connectivities\n",
      "    finished (0:00:01) --> added \n",
      "    'Ms' and 'Mu', moments of un/spliced abundances (adata.layers)\n",
      "Leiden clustering ...\n"
     ]
    },
    {
     "name": "stderr",
     "output_type": "stream",
     "text": [
      "GPU available: True, used: True\n",
      "TPU available: False, using: 0 TPU cores\n",
      "IPU available: False, using: 0 IPUs\n",
      "LOCAL_RANK: 0 - CUDA_VISIBLE_DEVICES: [0]\n"
     ]
    },
    {
     "name": "stdout",
     "output_type": "stream",
     "text": [
      "Number of Leiden Clusters: 9\n",
      "Maximal Number of Modules: 10\n",
      "Epoch 500/500: 100%|██████████████████████████████████████████████████████████████████████████████████████████████████████████████████████████████████████████████████████████| 500/500 [11:15<00:00,  1.35s/it, v_num=1, elbo_train=1.27e+7]\n",
      "sample_kwargs['batch_size'] 9815\n",
      "Sampling local variables, batch: 100%|█████████████████████████████████████████████████████████████████████████████████████████████████████████████████████████████████████████████████████████████████████████| 1/1 [00:02<00:00,  2.35s/it]\n",
      "Sampling global variables, sample: 100%|███████████████████████████████████████████████████████████████████████████████████████████████████████████████████████████████████████████████████████████████████████| 2/2 [00:00<00:00,  2.23it/s]\n",
      "Computing total RNAvelocity ...\n"
     ]
    },
    {
     "data": {
      "application/vnd.jupyter.widget-view+json": {
       "model_id": "4ece0659e56d4584b4043a3cb887faa3",
       "version_major": 2,
       "version_minor": 0
      },
      "text/plain": [
       "  0%|          | 0/9815 [00:00<?, ?cells/s]"
      ]
     },
     "metadata": {},
     "output_type": "display_data"
    },
    {
     "name": "stdout",
     "output_type": "stream",
     "text": [
      "# Cross-Boundary Direction Correctness (A->B)\n",
      "{('Blood progenitors 1', 'Blood progenitors 2'): 0.8191006711034708, ('Blood progenitors 2', 'Erythroid1'): 0.7688344044255953, ('Erythroid1', 'Erythroid2'): 0.837853446519417, ('Erythroid2', 'Erythroid3'): 0.8244632853895272}\n",
      "Total Mean: 0.8125629518595026\n",
      "# In-cluster Coherence\n",
      "{'Blood progenitors 1': 0.9803896, 'Blood progenitors 2': 0.9931595, 'Erythroid1': 0.9954231, 'Erythroid2': 0.9969314, 'Erythroid3': 0.99196726}\n",
      "Total Mean: 0.9915741682052612\n",
      "0\n",
      "2\n",
      "1\n",
      "Filtered out 46616 genes that are detected 10 counts (shared).\n",
      "Normalized count data: X, spliced, unspliced.\n",
      "Extracted 2000 highly variable genes.\n",
      "Logarithmized X.\n",
      "computing neighbors\n",
      "    finished (0:00:04) --> added \n",
      "    'distances' and 'connectivities', weighted adjacency matrices (adata.obsp)\n",
      "computing moments based on connectivities\n",
      "    finished (0:00:01) --> added \n",
      "    'Ms' and 'Mu', moments of un/spliced abundances (adata.layers)\n",
      "Leiden clustering ...\n"
     ]
    },
    {
     "name": "stderr",
     "output_type": "stream",
     "text": [
      "GPU available: True, used: True\n",
      "TPU available: False, using: 0 TPU cores\n",
      "IPU available: False, using: 0 IPUs\n",
      "LOCAL_RANK: 0 - CUDA_VISIBLE_DEVICES: [0]\n"
     ]
    },
    {
     "name": "stdout",
     "output_type": "stream",
     "text": [
      "Number of Leiden Clusters: 9\n",
      "Maximal Number of Modules: 10\n",
      "Epoch 500/500: 100%|██████████████████████████████████████████████████████████████████████████████████████████████████████████████████████████████████████████████████████████| 500/500 [15:28<00:00,  1.86s/it, v_num=1, elbo_train=1.24e+7]\n",
      "sample_kwargs['batch_size'] 9815\n",
      "Sampling local variables, batch: 100%|█████████████████████████████████████████████████████████████████████████████████████████████████████████████████████████████████████████████████████████████████████████| 1/1 [00:02<00:00,  2.66s/it]\n",
      "Sampling global variables, sample: 100%|███████████████████████████████████████████████████████████████████████████████████████████████████████████████████████████████████████████████████████████████████████| 2/2 [00:01<00:00,  1.81it/s]\n",
      "Computing total RNAvelocity ...\n"
     ]
    },
    {
     "data": {
      "application/vnd.jupyter.widget-view+json": {
       "model_id": "2d5c9193d3234714a0a993e60a83ec29",
       "version_major": 2,
       "version_minor": 0
      },
      "text/plain": [
       "  0%|          | 0/9815 [00:00<?, ?cells/s]"
      ]
     },
     "metadata": {},
     "output_type": "display_data"
    },
    {
     "name": "stdout",
     "output_type": "stream",
     "text": [
      "# Cross-Boundary Direction Correctness (A->B)\n",
      "{('Blood progenitors 1', 'Blood progenitors 2'): 0.2383099044702216, ('Blood progenitors 2', 'Erythroid1'): 0.6904365843834226, ('Erythroid1', 'Erythroid2'): 0.8008089091637645, ('Erythroid2', 'Erythroid3'): 0.7791222071428205}\n",
      "Total Mean: 0.6271694012900573\n",
      "# In-cluster Coherence\n",
      "{'Blood progenitors 1': 0.687281, 'Blood progenitors 2': 0.78778774, 'Erythroid1': 0.9015007, 'Erythroid2': 0.8220028, 'Erythroid3': 0.9202796}\n",
      "Total Mean: 0.8237704038619995\n",
      "0\n",
      "2\n",
      "2\n",
      "Filtered out 46616 genes that are detected 10 counts (shared).\n",
      "Normalized count data: X, spliced, unspliced.\n",
      "Extracted 2000 highly variable genes.\n",
      "Logarithmized X.\n",
      "computing neighbors\n",
      "    finished (0:00:04) --> added \n",
      "    'distances' and 'connectivities', weighted adjacency matrices (adata.obsp)\n",
      "computing moments based on connectivities\n",
      "    finished (0:00:01) --> added \n",
      "    'Ms' and 'Mu', moments of un/spliced abundances (adata.layers)\n",
      "Leiden clustering ...\n"
     ]
    },
    {
     "name": "stderr",
     "output_type": "stream",
     "text": [
      "GPU available: True, used: True\n",
      "TPU available: False, using: 0 TPU cores\n",
      "IPU available: False, using: 0 IPUs\n",
      "LOCAL_RANK: 0 - CUDA_VISIBLE_DEVICES: [0]\n"
     ]
    },
    {
     "name": "stdout",
     "output_type": "stream",
     "text": [
      "Number of Leiden Clusters: 9\n",
      "Maximal Number of Modules: 10\n",
      "Epoch 500/500: 100%|██████████████████████████████████████████████████████████████████████████████████████████████████████████████████████████████████████████████████████████| 500/500 [19:24<00:00,  2.33s/it, v_num=1, elbo_train=1.25e+7]\n",
      "sample_kwargs['batch_size'] 9815\n",
      "Sampling local variables, batch: 100%|█████████████████████████████████████████████████████████████████████████████████████████████████████████████████████████████████████████████████████████████████████████| 1/1 [00:03<00:00,  3.06s/it]\n",
      "Sampling global variables, sample: 100%|███████████████████████████████████████████████████████████████████████████████████████████████████████████████████████████████████████████████████████████████████████| 2/2 [00:01<00:00,  1.52it/s]\n",
      "Computing total RNAvelocity ...\n"
     ]
    },
    {
     "data": {
      "application/vnd.jupyter.widget-view+json": {
       "model_id": "d6a3cf8c8adc4ab18a02fc1621bb4902",
       "version_major": 2,
       "version_minor": 0
      },
      "text/plain": [
       "  0%|          | 0/9815 [00:00<?, ?cells/s]"
      ]
     },
     "metadata": {},
     "output_type": "display_data"
    },
    {
     "name": "stdout",
     "output_type": "stream",
     "text": [
      "# Cross-Boundary Direction Correctness (A->B)\n",
      "{('Blood progenitors 1', 'Blood progenitors 2'): 0.38011665515190374, ('Blood progenitors 2', 'Erythroid1'): 0.717595486852391, ('Erythroid1', 'Erythroid2'): 0.810984297192927, ('Erythroid2', 'Erythroid3'): 0.7431697067665335}\n",
      "Total Mean: 0.6629665364909387\n",
      "# In-cluster Coherence\n",
      "{'Blood progenitors 1': 0.5539245, 'Blood progenitors 2': 0.83756113, 'Erythroid1': 0.860124, 'Erythroid2': 0.7526244, 'Erythroid3': 0.9638705}\n",
      "Total Mean: 0.7936209440231323\n",
      "0\n",
      "2\n",
      "3\n",
      "Filtered out 46616 genes that are detected 10 counts (shared).\n",
      "Normalized count data: X, spliced, unspliced.\n",
      "Extracted 2000 highly variable genes.\n",
      "Logarithmized X.\n",
      "computing neighbors\n",
      "    finished (0:00:04) --> added \n",
      "    'distances' and 'connectivities', weighted adjacency matrices (adata.obsp)\n",
      "computing moments based on connectivities\n",
      "    finished (0:00:01) --> added \n",
      "    'Ms' and 'Mu', moments of un/spliced abundances (adata.layers)\n",
      "Leiden clustering ...\n"
     ]
    },
    {
     "name": "stderr",
     "output_type": "stream",
     "text": [
      "GPU available: True, used: True\n",
      "TPU available: False, using: 0 TPU cores\n",
      "IPU available: False, using: 0 IPUs\n",
      "LOCAL_RANK: 0 - CUDA_VISIBLE_DEVICES: [0]\n"
     ]
    },
    {
     "name": "stdout",
     "output_type": "stream",
     "text": [
      "Number of Leiden Clusters: 9\n",
      "Maximal Number of Modules: 10\n",
      "Epoch 500/500: 100%|██████████████████████████████████████████████████████████████████████████████████████████████████████████████████████████████████████████████████████████| 500/500 [23:38<00:00,  2.84s/it, v_num=1, elbo_train=1.25e+7]\n",
      "sample_kwargs['batch_size'] 9815\n",
      "Sampling local variables, batch: 100%|█████████████████████████████████████████████████████████████████████████████████████████████████████████████████████████████████████████████████████████████████████████| 1/1 [00:03<00:00,  3.50s/it]\n",
      "Sampling global variables, sample: 100%|███████████████████████████████████████████████████████████████████████████████████████████████████████████████████████████████████████████████████████████████████████| 2/2 [00:01<00:00,  1.31it/s]\n",
      "Computing total RNAvelocity ...\n"
     ]
    },
    {
     "data": {
      "application/vnd.jupyter.widget-view+json": {
       "model_id": "fa3df4a835d5455787e5e23a2af3dec7",
       "version_major": 2,
       "version_minor": 0
      },
      "text/plain": [
       "  0%|          | 0/9815 [00:00<?, ?cells/s]"
      ]
     },
     "metadata": {},
     "output_type": "display_data"
    },
    {
     "name": "stdout",
     "output_type": "stream",
     "text": [
      "# Cross-Boundary Direction Correctness (A->B)\n",
      "{('Blood progenitors 1', 'Blood progenitors 2'): 0.5513532791917938, ('Blood progenitors 2', 'Erythroid1'): 0.7555109313143316, ('Erythroid1', 'Erythroid2'): 0.8070558570684808, ('Erythroid2', 'Erythroid3'): 0.7641889021616042}\n",
      "Total Mean: 0.7195272424340526\n",
      "# In-cluster Coherence\n",
      "{'Blood progenitors 1': 0.8523523, 'Blood progenitors 2': 0.8770883, 'Erythroid1': 0.8890606, 'Erythroid2': 0.8575194, 'Erythroid3': 0.98202014}\n",
      "Total Mean: 0.8916081190109253\n",
      "1\n",
      "0\n",
      "0\n",
      "Filtered out 47456 genes that are detected 20 counts (shared).\n",
      "Normalized count data: X, spliced, unspliced.\n",
      "Extracted 3000 highly variable genes.\n",
      "Logarithmized X.\n",
      "computing neighbors\n",
      "    finished (0:00:04) --> added \n",
      "    'distances' and 'connectivities', weighted adjacency matrices (adata.obsp)\n",
      "computing moments based on connectivities\n",
      "    finished (0:00:02) --> added \n",
      "    'Ms' and 'Mu', moments of un/spliced abundances (adata.layers)\n",
      "Leiden clustering ...\n"
     ]
    },
    {
     "name": "stderr",
     "output_type": "stream",
     "text": [
      "GPU available: True, used: True\n",
      "TPU available: False, using: 0 TPU cores\n",
      "IPU available: False, using: 0 IPUs\n",
      "LOCAL_RANK: 0 - CUDA_VISIBLE_DEVICES: [0]\n"
     ]
    },
    {
     "name": "stdout",
     "output_type": "stream",
     "text": [
      "Number of Leiden Clusters: 9\n",
      "Maximal Number of Modules: 10\n",
      "Epoch 500/500: 100%|██████████████████████████████████████████████████████████████████████████████████████████████████████████████████████████████████████████████████████████| 500/500 [12:03<00:00,  1.45s/it, v_num=1, elbo_train=2.33e+7]\n",
      "sample_kwargs['batch_size'] 9815\n",
      "Sampling local variables, batch: 100%|█████████████████████████████████████████████████████████████████████████████████████████████████████████████████████████████████████████████████████████████████████████| 1/1 [00:03<00:00,  3.38s/it]\n",
      "Sampling global variables, sample: 100%|███████████████████████████████████████████████████████████████████████████████████████████████████████████████████████████████████████████████████████████████████████| 2/2 [00:01<00:00,  1.51it/s]\n",
      "Computing total RNAvelocity ...\n"
     ]
    },
    {
     "data": {
      "application/vnd.jupyter.widget-view+json": {
       "model_id": "967b55e9cfc64d80a092dd2000f519f0",
       "version_major": 2,
       "version_minor": 0
      },
      "text/plain": [
       "  0%|          | 0/9815 [00:00<?, ?cells/s]"
      ]
     },
     "metadata": {},
     "output_type": "display_data"
    },
    {
     "name": "stdout",
     "output_type": "stream",
     "text": [
      "# Cross-Boundary Direction Correctness (A->B)\n",
      "{('Blood progenitors 1', 'Blood progenitors 2'): 0.43895111833140865, ('Blood progenitors 2', 'Erythroid1'): 0.7398975163670144, ('Erythroid1', 'Erythroid2'): 0.6258374560521788, ('Erythroid2', 'Erythroid3'): 0.7869990658870823}\n",
      "Total Mean: 0.647921289159421\n",
      "# In-cluster Coherence\n",
      "{'Blood progenitors 1': 0.9318937, 'Blood progenitors 2': 0.89943135, 'Erythroid1': 0.8614888, 'Erythroid2': 0.7859925, 'Erythroid3': 0.95790917}\n",
      "Total Mean: 0.8873431086540222\n",
      "1\n",
      "0\n",
      "1\n",
      "Filtered out 47456 genes that are detected 20 counts (shared).\n",
      "Normalized count data: X, spliced, unspliced.\n",
      "Extracted 3000 highly variable genes.\n",
      "Logarithmized X.\n",
      "computing neighbors\n",
      "    finished (0:00:04) --> added \n",
      "    'distances' and 'connectivities', weighted adjacency matrices (adata.obsp)\n",
      "computing moments based on connectivities\n",
      "    finished (0:00:02) --> added \n",
      "    'Ms' and 'Mu', moments of un/spliced abundances (adata.layers)\n",
      "Leiden clustering ...\n"
     ]
    },
    {
     "name": "stderr",
     "output_type": "stream",
     "text": [
      "GPU available: True, used: True\n",
      "TPU available: False, using: 0 TPU cores\n",
      "IPU available: False, using: 0 IPUs\n",
      "LOCAL_RANK: 0 - CUDA_VISIBLE_DEVICES: [0]\n"
     ]
    },
    {
     "name": "stdout",
     "output_type": "stream",
     "text": [
      "Number of Leiden Clusters: 9\n",
      "Maximal Number of Modules: 10\n",
      "Epoch 500/500: 100%|██████████████████████████████████████████████████████████████████████████████████████████████████████████████████████████████████████████████████████████| 500/500 [16:56<00:00,  2.03s/it, v_num=1, elbo_train=2.32e+7]\n",
      "sample_kwargs['batch_size'] 9815\n",
      "Sampling local variables, batch: 100%|█████████████████████████████████████████████████████████████████████████████████████████████████████████████████████████████████████████████████████████████████████████| 1/1 [00:03<00:00,  3.94s/it]\n",
      "Sampling global variables, sample: 100%|███████████████████████████████████████████████████████████████████████████████████████████████████████████████████████████████████████████████████████████████████████| 2/2 [00:01<00:00,  1.22it/s]\n",
      "Computing total RNAvelocity ...\n"
     ]
    },
    {
     "data": {
      "application/vnd.jupyter.widget-view+json": {
       "model_id": "adcf1e6fc75143d7affe394616324d92",
       "version_major": 2,
       "version_minor": 0
      },
      "text/plain": [
       "  0%|          | 0/9815 [00:00<?, ?cells/s]"
      ]
     },
     "metadata": {},
     "output_type": "display_data"
    },
    {
     "name": "stdout",
     "output_type": "stream",
     "text": [
      "# Cross-Boundary Direction Correctness (A->B)\n",
      "{('Blood progenitors 1', 'Blood progenitors 2'): 0.29993446911221094, ('Blood progenitors 2', 'Erythroid1'): 0.34266846425826747, ('Erythroid1', 'Erythroid2'): 0.7825606302056307, ('Erythroid2', 'Erythroid3'): 0.8018760470667065}\n",
      "Total Mean: 0.5567599026607039\n",
      "# In-cluster Coherence\n",
      "{'Blood progenitors 1': 0.6701197, 'Blood progenitors 2': 0.6962647, 'Erythroid1': 0.7866288, 'Erythroid2': 0.8633455, 'Erythroid3': 0.93196994}\n",
      "Total Mean: 0.7896657586097717\n",
      "1\n",
      "0\n",
      "2\n",
      "Filtered out 47456 genes that are detected 20 counts (shared).\n",
      "Normalized count data: X, spliced, unspliced.\n",
      "Extracted 3000 highly variable genes.\n",
      "Logarithmized X.\n",
      "computing neighbors\n",
      "    finished (0:00:04) --> added \n",
      "    'distances' and 'connectivities', weighted adjacency matrices (adata.obsp)\n",
      "computing moments based on connectivities\n",
      "    finished (0:00:02) --> added \n",
      "    'Ms' and 'Mu', moments of un/spliced abundances (adata.layers)\n",
      "Leiden clustering ...\n"
     ]
    },
    {
     "name": "stderr",
     "output_type": "stream",
     "text": [
      "GPU available: True, used: True\n",
      "TPU available: False, using: 0 TPU cores\n",
      "IPU available: False, using: 0 IPUs\n",
      "LOCAL_RANK: 0 - CUDA_VISIBLE_DEVICES: [0]\n"
     ]
    },
    {
     "name": "stdout",
     "output_type": "stream",
     "text": [
      "Number of Leiden Clusters: 9\n",
      "Maximal Number of Modules: 10\n",
      "Epoch 500/500: 100%|██████████████████████████████████████████████████████████████████████████████████████████████████████████████████████████████████████████████████████████| 500/500 [22:08<00:00,  2.66s/it, v_num=1, elbo_train=2.33e+7]\n",
      "sample_kwargs['batch_size'] 9815\n",
      "Sampling local variables, batch: 100%|█████████████████████████████████████████████████████████████████████████████████████████████████████████████████████████████████████████████████████████████████████████| 1/1 [00:04<00:00,  4.55s/it]\n",
      "Sampling global variables, sample: 100%|███████████████████████████████████████████████████████████████████████████████████████████████████████████████████████████████████████████████████████████████████████| 2/2 [00:01<00:00,  1.03it/s]\n",
      "Computing total RNAvelocity ...\n"
     ]
    },
    {
     "data": {
      "application/vnd.jupyter.widget-view+json": {
       "model_id": "3d30d7d1c7ce40f5b8f71c7442c41cc7",
       "version_major": 2,
       "version_minor": 0
      },
      "text/plain": [
       "  0%|          | 0/9815 [00:00<?, ?cells/s]"
      ]
     },
     "metadata": {},
     "output_type": "display_data"
    },
    {
     "name": "stdout",
     "output_type": "stream",
     "text": [
      "# Cross-Boundary Direction Correctness (A->B)\n",
      "{('Blood progenitors 1', 'Blood progenitors 2'): 0.4453066757820847, ('Blood progenitors 2', 'Erythroid1'): 0.557590618951337, ('Erythroid1', 'Erythroid2'): 0.6495025410231053, ('Erythroid2', 'Erythroid3'): 0.7091302589515536}\n",
      "Total Mean: 0.5903825236770202\n",
      "# In-cluster Coherence\n",
      "{'Blood progenitors 1': 0.6871128, 'Blood progenitors 2': 0.7676731, 'Erythroid1': 0.74039173, 'Erythroid2': 0.68774444, 'Erythroid3': 0.73996717}\n",
      "Total Mean: 0.724577784538269\n",
      "1\n",
      "0\n",
      "3\n",
      "Filtered out 47456 genes that are detected 20 counts (shared).\n",
      "Normalized count data: X, spliced, unspliced.\n",
      "Extracted 3000 highly variable genes.\n",
      "Logarithmized X.\n",
      "computing neighbors\n",
      "    finished (0:00:04) --> added \n",
      "    'distances' and 'connectivities', weighted adjacency matrices (adata.obsp)\n",
      "computing moments based on connectivities\n",
      "    finished (0:00:02) --> added \n",
      "    'Ms' and 'Mu', moments of un/spliced abundances (adata.layers)\n",
      "Leiden clustering ...\n"
     ]
    },
    {
     "name": "stderr",
     "output_type": "stream",
     "text": [
      "GPU available: True, used: True\n",
      "TPU available: False, using: 0 TPU cores\n",
      "IPU available: False, using: 0 IPUs\n",
      "LOCAL_RANK: 0 - CUDA_VISIBLE_DEVICES: [0]\n"
     ]
    },
    {
     "name": "stdout",
     "output_type": "stream",
     "text": [
      "Number of Leiden Clusters: 9\n",
      "Maximal Number of Modules: 10\n",
      "Epoch 197/500:  39%|████████████████████████████████████████████████████████████▎                                                                                             | 196/500 [10:40<17:11,  3.39s/it, v_num=1, elbo_train=2.34e+7]"
     ]
    }
   ],
   "source": [
    "import scvelo as scv\n",
    "import scanpy as sc\n",
    "import cell2fate as c2f\n",
    "import pickle as pickle\n",
    "from eval_utils import cross_boundary_correctness\n",
    "from datetime import datetime\n",
    "import pandas as pd\n",
    "import numpy as np\n",
    "from os.path import exists\n",
    "import matplotlib.pyplot as plt\n",
    "import torch\n",
    "import unitvelo as utv\n",
    "import torch\n",
    "method = 'cell2fate'\n",
    "data_dir = '/nfs/team283/aa16/data/fate_benchmarking/benchmarking_datasets/'\n",
    "save_dir = '/nfs/team283/aa16/data/fate_benchmarking/benchmarking_results/'\n",
    "dataset = 'MouseErythroid'\n",
    "n_genes_list = np.array((2000, 3000))\n",
    "n_counts_list = np.array((20, 40, 10))\n",
    "# Model params:\n",
    "mod_list = [0.5, 1, 1.5, 2.0]\n",
    "\n",
    "def robust_optimization(mod, save_dir, max_epochs = [200, 400], lr = [0.01, 0.01], **model_kwargs):\n",
    "    n_modules = mod.module.model.n_modules\n",
    "    adata = mod.adata\n",
    "    print('First optimization run.')\n",
    "    mod.train(use_gpu=True, max_epochs = max_epochs[0], lr = lr[0])\n",
    "    sample_kwarg = {\"num_samples\": 1, \"batch_size\" : 1000,\n",
    "                     \"use_gpu\" : True, 'return_samples': False}\n",
    "    mod.adata = mod.export_posterior(mod.adata, sample_kwargs=sample_kwarg)\n",
    "    t_c = np.argsort(np.array(mod.samples['post_sample_means']['t_c']).flatten())/len(np.array(mod.samples['post_sample_means']['t_c']))\n",
    "    t_c_reversed = -1*(t_c - np.max(t_c))\n",
    "    print('Second optimization run.')\n",
    "    del mod\n",
    "    mod1 = c2f.Cell2fate_DynamicalModel_PreprocessedCounts(adata, n_modules = n_modules,\n",
    "                                        init_vals = {'t_c': torch.tensor(t_c).reshape([len(t_c), 1, 1])},\n",
    "                                       **model_kwargs)\n",
    "    mod1.train(use_gpu=True, max_epochs = max_epochs[1], lr = lr[1])\n",
    "    history1 = mod1.history\n",
    "    mod1.save(save_dir+'c2f_model', overwrite=True)\n",
    "    mod1.adata.write(save_dir+\"c2f_model_anndata.h5ad\")\n",
    "    del mod1\n",
    "    print('Third optimization run.')\n",
    "    mod2 = c2f.Cell2fate_DynamicalModel_PreprocessedCounts(adata, n_modules = n_modules,\n",
    "                                        init_vals = {'t_c': torch.tensor(t_c_reversed).reshape([len(t_c_reversed), 1, 1])},\n",
    "                                        **model_kwargs)\n",
    "    del adata\n",
    "    mod2.train(use_gpu=True, max_epochs = max_epochs[1], lr = lr[1])\n",
    "    history2 = mod2.history\n",
    "\n",
    "    iter_start=0\n",
    "    iter_end=-1\n",
    "\n",
    "    fig, ax = plt.subplots(1,2, figsize = (15,5))\n",
    "\n",
    "    iter_end = len(history1[\"elbo_train\"])\n",
    "\n",
    "    ax[0].plot(\n",
    "        history1[\"elbo_train\"].index[iter_start:iter_end],\n",
    "        np.array(history1[\"elbo_train\"].values.flatten())[iter_start:iter_end],\n",
    "        label=\"Original Direction\",\n",
    "    )\n",
    "    ax[0].plot(\n",
    "        history2[\"elbo_train\"].index[iter_start:iter_end],\n",
    "        np.array(history2[\"elbo_train\"].values.flatten())[iter_start:iter_end],\n",
    "        label=\"Reversed Direction\",\n",
    "    )\n",
    "    ax[0].legend()\n",
    "    ax[0].set_xlim(0, len(history1[\"elbo_train\"]))\n",
    "    ax[0].set_xlabel(\"Training epochs\")\n",
    "    ax[0].set_ylabel(\"-ELBO loss\")\n",
    "\n",
    "    ax[1].plot(\n",
    "        history1[\"elbo_train\"].index[iter_start:iter_end],\n",
    "        np.array(history1[\"elbo_train\"].values.flatten())[iter_start:iter_end],\n",
    "        label=\"Original Direction\",\n",
    "    )\n",
    "    ax[1].plot(\n",
    "        history2[\"elbo_train\"].index[iter_start:iter_end],\n",
    "        np.array(history2[\"elbo_train\"].values.flatten())[iter_start:iter_end],\n",
    "        label=\"Reversed Direction\",\n",
    "    )\n",
    "    ax[1].legend()\n",
    "    ax[1].set_xlim(np.round(0.8*len(history1[\"elbo_train\"])), len(history1[\"elbo_train\"]))\n",
    "    ax[1].set_xlabel(\"Training epochs\")\n",
    "    ax[1].set_ylabel(\"-ELBO loss\")\n",
    "    plt.tight_layout()\n",
    "    plt.show()\n",
    "    \n",
    "    print('-ELBO second run:', np.mean(np.array(history1['elbo_train'][-50:])))\n",
    "    print('-ELBO third run:', np.mean(np.array(history2['elbo_train'][-50:])))\n",
    "    \n",
    "    if np.mean(np.array(history1['elbo_train'][-50:])) > np.mean(np.array(history2['elbo_train'][-50:])):\n",
    "        return mod2\n",
    "    else:\n",
    "        del mod2\n",
    "        adata = sc.read_h5ad(save_dir+\"c2f_model_anndata.h5ad\")\n",
    "        mod1 = c2f.Cell2fate_DynamicalModel_PreprocessedCounts.load(save_dir+'c2f_model', adata)\n",
    "        return mod1 \n",
    "\n",
    "for i in range(len(n_genes_list)):\n",
    "    for j in range(len(n_counts_list)):\n",
    "        for k in range(len(mod_list)):\n",
    "                print(i)\n",
    "                print(j)\n",
    "                print(k)\n",
    "                n_genes = n_genes_list[i]\n",
    "                min_counts = n_counts_list[j]\n",
    "                model_index = str(i) + '-' + str(j) + '-' + str(k)\n",
    "                save_name = method + '_' + dataset\n",
    "                if exists(save_dir + save_name + '_CBDC_And_Posterior_withBatch_preprocessed_oneRun.csv'):\n",
    "                    tab = pd.read_csv(save_dir + save_name + '_CBDC_And_Posterior_withBatch_preprocessed_oneRun.csv', index_col = 0)\n",
    "                    if model_index in tab.index:\n",
    "                        continue\n",
    "                adata = sc.read_h5ad(data_dir + dataset + '/' + dataset + '_anndata.h5ad')\n",
    "                scv.pp.filter_and_normalize(adata, min_shared_counts=min_counts, n_top_genes=n_genes)\n",
    "                scv.pp.moments(adata, n_pcs=30, n_neighbors=30)\n",
    "                c2f.Cell2fate_DynamicalModel_PreprocessedCounts.setup_anndata(adata, spliced_label='spliced', unspliced_label='unspliced',\n",
    "                                                          batch_key = 'sequencing.batch')    \n",
    "                n_modules = int(np.round(c2f.utils.get_max_modules(adata)*mod_list[k]))\n",
    "                mod = c2f.Cell2fate_DynamicalModel_PreprocessedCounts(adata,\n",
    "                                                   n_modules = n_modules)   \n",
    "                mod.train()\n",
    "                sample_kwarg = {\"num_samples\": 3, \"batch_size\" : adata.n_obs,\n",
    "                     \"use_gpu\" : True, 'return_samples': False}\n",
    "                adata = mod.export_posterior(adata, sample_kwargs = sample_kwarg)\n",
    "                mod.compute_and_plot_total_velocity_scvelo(adata, save = False, delete = False)\n",
    "                # Calculate performance metrics:\n",
    "                file = open(data_dir + dataset + '/' + dataset + '_groundTruth.pickle' ,'rb')\n",
    "                ground_truth = pickle.load(file)\n",
    "                metrics = utv.evaluate(adata, ground_truth, 'clusters', 'velocity')\n",
    "                cb_score = [np.mean(metrics['Cross-Boundary Direction Correctness (A->B)'][x])\n",
    "                            for x in metrics['Cross-Boundary Direction Correctness (A->B)'].keys()]\n",
    "                if exists(save_dir + save_name + '_CBDC_And_Posterior_withBatch_preprocessed_oneRun.csv'):\n",
    "                    tab = pd.read_csv(save_dir + save_name + '_CBDC_And_Posterior_withBatch_preprocessed_oneRun.csv', index_col = 0)\n",
    "                else:\n",
    "                    c_names = ['CBDC']\n",
    "                    tab = pd.DataFrame(columns = c_names)\n",
    "                tab.loc[model_index, 'CBDC'] = np.mean(cb_score)\n",
    "                tab.loc[model_index, 'splicing_alpha'] = mod.samples['post_sample_means']['splicing_alpha']\n",
    "                tab.loc[model_index, 'splicing_mean'] = mod.samples['post_sample_means']['splicing_mean']\n",
    "                tab.loc[model_index, 'beta_g_mean'] = np.mean(mod.samples['post_sample_means']['beta_g'])\n",
    "                tab.loc[model_index, 'beta_g_var'] = np.var(mod.samples['post_sample_means']['beta_g'])\n",
    "                tab.loc[model_index, 'degredation_alpha'] = mod.samples['post_sample_means']['degredation_alpha']\n",
    "                tab.loc[model_index, 'degredation_mean'] = mod.samples['post_sample_means']['degredation_mean']\n",
    "                tab.loc[model_index, 'gamma_g_mean'] = np.mean(mod.samples['post_sample_means']['gamma_g'])\n",
    "                tab.loc[model_index, 'gamma_g_var'] = np.var(mod.samples['post_sample_means']['gamma_g'])\n",
    "                tab.loc[model_index, 'factor_level_g_mean'] = np.mean(mod.samples['post_sample_means']['factor_level_g'])\n",
    "                tab.loc[model_index, 'factor_level_g_var'] = np.var(mod.samples['post_sample_means']['factor_level_g'])\n",
    "                tab.loc[model_index, 'g_fg_mean'] = np.mean(mod.samples['post_sample_means']['g_fg'])\n",
    "                tab.loc[model_index, 'g_fg_var'] = np.var(mod.samples['post_sample_means']['g_fg'])\n",
    "                tab.loc[model_index, 'A_mgON_mean'] = np.mean(mod.samples['post_sample_means']['A_mgON'])\n",
    "                tab.loc[model_index, 'A_mgON_var'] = np.var(mod.samples['post_sample_means']['A_mgON'])\n",
    "                tab.loc[model_index, 'lam_mu'] = mod.samples['post_sample_means']['lam_mu']\n",
    "                tab.loc[model_index, 'lam_sd'] = mod.samples['post_sample_means']['lam_sd']\n",
    "                tab.loc[model_index, 'lam_m_mu_mean'] = np.mean(mod.samples['post_sample_means']['lam_m_mu'])\n",
    "                tab.loc[model_index, 'lam_m_mu_var'] = np.var(mod.samples['post_sample_means']['lam_m_mu'])\n",
    "                tab.loc[model_index, 'lam_mi_mean'] = np.mean(mod.samples['post_sample_means']['lam_mi'])\n",
    "                tab.loc[model_index, 'lam_mi_var'] = np.var(mod.samples['post_sample_means']['lam_mi'])\n",
    "                tab.loc[model_index, 'Tmax'] = mod.samples['post_sample_means']['Tmax']\n",
    "                tab.loc[model_index, 't_c_loc'] = mod.samples['post_sample_means']['t_c_loc']\n",
    "                tab.loc[model_index, 't_c_scale'] = mod.samples['post_sample_means']['t_c_scale']\n",
    "                tab.loc[model_index, 'T_c_mean'] = np.mean(mod.samples['post_sample_means']['T_c'])\n",
    "                tab.loc[model_index, 'T_c_var'] = np.var(mod.samples['post_sample_means']['T_c'])\n",
    "                tab.loc[model_index, 't_delta_mean'] = np.mean(mod.samples['post_sample_means']['t_delta'])\n",
    "                tab.loc[model_index, 't_delta_var'] = np.var(mod.samples['post_sample_means']['t_delta'])\n",
    "                tab.loc[model_index, 'T_mON_mean'] = np.mean(mod.samples['post_sample_means']['T_mON'])\n",
    "                tab.loc[model_index, 'T_mON_var'] = np.var(mod.samples['post_sample_means']['T_mON'])\n",
    "                tab.loc[model_index, 'T_mON_mean'] = np.mean(mod.samples['post_sample_means']['T_mON'])\n",
    "                tab.loc[model_index, 'T_mON_var'] = np.var(mod.samples['post_sample_means']['T_mON'])\n",
    "                tab.loc[model_index, 'T_mOFF_mean'] = np.mean(mod.samples['post_sample_means']['T_mOFF'])\n",
    "                tab.loc[model_index, 'T_mOFF_var'] = np.var(mod.samples['post_sample_means']['T_mOFF'])\n",
    "                tab.loc[model_index, 'mu_expression_mean'] = np.mean(mod.samples['post_sample_means']['mu_expression'])\n",
    "                tab.loc[model_index, 'mu_expression_var'] = np.var(mod.samples['post_sample_means']['mu_expression'])\n",
    "                tab.to_csv(save_dir + save_name + '_CBDC_And_Posterior_withBatch_preprocessed_oneRun.csv')"
   ]
  },
  {
   "cell_type": "code",
   "execution_count": null,
   "id": "fff866b7",
   "metadata": {},
   "outputs": [],
   "source": [
    "tab = pd.read_csv('/nfs/team283/aa16/data/fate_benchmarking/benchmarking_results/cell2fate_MouseErythroid_CBDC_And_Posterior_withBatch_preprocessed.csv')"
   ]
  },
  {
   "cell_type": "code",
   "execution_count": null,
   "id": "73959983",
   "metadata": {},
   "outputs": [],
   "source": [
    "tab"
   ]
  },
  {
   "cell_type": "code",
   "execution_count": null,
   "id": "5c10dbbd",
   "metadata": {},
   "outputs": [],
   "source": []
  }
 ],
 "metadata": {
  "kernelspec": {
   "display_name": "Python [conda env:cell2fate_env]",
   "language": "python",
   "name": "conda-env-cell2fate_env-py"
  },
  "language_info": {
   "codemirror_mode": {
    "name": "ipython",
    "version": 3
   },
   "file_extension": ".py",
   "mimetype": "text/x-python",
   "name": "python",
   "nbconvert_exporter": "python",
   "pygments_lexer": "ipython3",
   "version": "3.9.12"
  }
 },
 "nbformat": 4,
 "nbformat_minor": 5
}
