{
 "cells": [
  {
   "cell_type": "code",
   "execution_count": null,
   "id": "fd5023c1",
   "metadata": {},
   "outputs": [
    {
     "name": "stderr",
     "output_type": "stream",
     "text": [
      "Global seed set to 0\n"
     ]
    },
    {
     "name": "stdout",
     "output_type": "stream",
     "text": [
      "(Running UniTVelo 0.2.5)\n",
      "2023-10-10 10:12:25\n",
      "0\n",
      "0\n",
      "0\n",
      "Keeping at most 100000 cells per cluster\n",
      "Filtered out 18634 genes that are detected 5 counts (shared).\n",
      "Extracted 1500 highly variable genes.\n",
      "Leiden clustering ...\n",
      "Number of Leiden Clusters: 13\n",
      "Maximal Number of Modules: 14\n",
      "First training run ...\n"
     ]
    },
    {
     "name": "stderr",
     "output_type": "stream",
     "text": [
      "GPU available: True, used: True\n",
      "TPU available: False, using: 0 TPU cores\n",
      "IPU available: False, using: 0 IPUs\n",
      "LOCAL_RANK: 0 - CUDA_VISIBLE_DEVICES: [0]\n"
     ]
    },
    {
     "name": "stdout",
     "output_type": "stream",
     "text": [
      "Epoch 100/100: 100%|██████████████████████████████████████████████████████████████████████████████████████████████████████████████████████████████████████████████████████████| 100/100 [01:51<00:00,  1.12s/it, v_num=1, elbo_train=5.06e+6]\n",
      "Initializing second training run ...\n",
      "Sampling local variables, batch: 100%|█████████████████████████████████████████████████████████████████████████████████████████████████████████████████████████████████████████████████████████████████████████| 1/1 [00:00<00:00,  1.11it/s]\n",
      "Sampling global variables, sample: 100%|███████████████████████████████████████████████████████████████████████████████████████████████████████████████████████████████████████████████████████████████████████| 2/2 [00:00<00:00,  5.00it/s]\n"
     ]
    },
    {
     "name": "stderr",
     "output_type": "stream",
     "text": [
      "GPU available: True, used: True\n",
      "TPU available: False, using: 0 TPU cores\n",
      "IPU available: False, using: 0 IPUs\n",
      "LOCAL_RANK: 0 - CUDA_VISIBLE_DEVICES: [0]\n"
     ]
    },
    {
     "name": "stdout",
     "output_type": "stream",
     "text": [
      "Second training run ...\n",
      "Epoch 400/400: 100%|██████████████████████████████████████████████████████████████████████████████████████████████████████████████████████████████████████████████████████████| 400/400 [07:04<00:00,  1.06s/it, v_num=1, elbo_train=4.82e+6]\n",
      "Sampling local variables, batch: 100%|█████████████████████████████████████████████████████████████████████████████████████████████████████████████████████████████████████████████████████████████████████████| 1/1 [00:00<00:00,  1.12it/s]\n",
      "Sampling global variables, sample: 100%|███████████████████████████████████████████████████████████████████████████████████████████████████████████████████████████████████████████████████████████████████████| 2/2 [00:00<00:00,  4.99it/s]\n",
      "Computing total RNAvelocity ...\n",
      "# Cross-Boundary Direction Correctness (A->B)\n",
      "{('Ngn3 high EP', 'Pre-endocrine'): -0.8402425329609794, ('Pre-endocrine', 'Alpha'): -0.6889977181837458, ('Pre-endocrine', 'Beta'): -0.6818201294800972, ('Pre-endocrine', 'Delta'): -0.23582244955635048, ('Pre-endocrine', 'Epsilon'): -0.38588779823562464}\n",
      "Total Mean: -0.5665541256833595\n",
      "# In-cluster Coherence\n",
      "{'Alpha': 0.8680983, 'Beta': 0.7668429, 'Delta': 0.81959915, 'Ductal': 0.90316373, 'Epsilon': 0.7742751, 'Ngn3 high EP': 0.7434858, 'Ngn3 low EP': 0.8302206, 'Pre-endocrine': 0.70683855}\n",
      "Total Mean: 0.8015655279159546\n",
      "0\n",
      "0\n",
      "1\n",
      "Keeping at most 100000 cells per cluster\n",
      "Filtered out 18634 genes that are detected 5 counts (shared).\n",
      "Extracted 1500 highly variable genes.\n",
      "Leiden clustering ...\n"
     ]
    },
    {
     "name": "stderr",
     "output_type": "stream",
     "text": [
      "GPU available: True, used: True\n",
      "TPU available: False, using: 0 TPU cores\n",
      "IPU available: False, using: 0 IPUs\n",
      "LOCAL_RANK: 0 - CUDA_VISIBLE_DEVICES: [0]\n"
     ]
    },
    {
     "name": "stdout",
     "output_type": "stream",
     "text": [
      "Number of Leiden Clusters: 13\n",
      "Maximal Number of Modules: 14\n",
      "First training run ...\n",
      "Epoch 100/100: 100%|██████████████████████████████████████████████████████████████████████████████████████████████████████████████████████████████████████████████████████████| 100/100 [01:59<00:00,  1.20s/it, v_num=1, elbo_train=5.02e+6]\n",
      "Initializing second training run ...\n",
      "Sampling local variables, batch: 100%|█████████████████████████████████████████████████████████████████████████████████████████████████████████████████████████████████████████████████████████████████████████| 1/1 [00:00<00:00,  1.07it/s]\n",
      "Sampling global variables, sample: 100%|███████████████████████████████████████████████████████████████████████████████████████████████████████████████████████████████████████████████████████████████████████| 2/2 [00:00<00:00,  6.65it/s]\n"
     ]
    },
    {
     "name": "stderr",
     "output_type": "stream",
     "text": [
      "GPU available: True, used: True\n",
      "TPU available: False, using: 0 TPU cores\n",
      "IPU available: False, using: 0 IPUs\n",
      "LOCAL_RANK: 0 - CUDA_VISIBLE_DEVICES: [0]\n"
     ]
    },
    {
     "name": "stdout",
     "output_type": "stream",
     "text": [
      "Second training run ...\n",
      "Epoch 400/400: 100%|██████████████████████████████████████████████████████████████████████████████████████████████████████████████████████████████████████████████████████████| 400/400 [07:58<00:00,  1.20s/it, v_num=1, elbo_train=4.82e+6]\n",
      "Sampling local variables, batch: 100%|█████████████████████████████████████████████████████████████████████████████████████████████████████████████████████████████████████████████████████████████████████████| 1/1 [00:00<00:00,  1.05it/s]\n",
      "Sampling global variables, sample: 100%|███████████████████████████████████████████████████████████████████████████████████████████████████████████████████████████████████████████████████████████████████████| 2/2 [00:00<00:00,  6.09it/s]\n",
      "Computing total RNAvelocity ...\n",
      "# Cross-Boundary Direction Correctness (A->B)\n",
      "{('Ngn3 high EP', 'Pre-endocrine'): 0.8382990022083048, ('Pre-endocrine', 'Alpha'): 0.774178840758908, ('Pre-endocrine', 'Beta'): 0.7542298993264532, ('Pre-endocrine', 'Delta'): 0.30495312144197106, ('Pre-endocrine', 'Epsilon'): 0.3437613069154953}\n",
      "Total Mean: 0.6030844341302265\n",
      "# In-cluster Coherence\n",
      "{'Alpha': 0.84294957, 'Beta': 0.8403503, 'Delta': 0.8977804, 'Ductal': 0.89156955, 'Epsilon': 0.75887835, 'Ngn3 high EP': 0.75442636, 'Ngn3 low EP': 0.7241247, 'Pre-endocrine': 0.7772942}\n",
      "Total Mean: 0.8109216690063477\n",
      "0\n",
      "0\n",
      "2\n",
      "Keeping at most 100000 cells per cluster\n",
      "Filtered out 18634 genes that are detected 5 counts (shared).\n",
      "Extracted 1500 highly variable genes.\n",
      "Leiden clustering ...\n"
     ]
    },
    {
     "name": "stderr",
     "output_type": "stream",
     "text": [
      "GPU available: True, used: True\n",
      "TPU available: False, using: 0 TPU cores\n",
      "IPU available: False, using: 0 IPUs\n",
      "LOCAL_RANK: 0 - CUDA_VISIBLE_DEVICES: [0]\n"
     ]
    },
    {
     "name": "stdout",
     "output_type": "stream",
     "text": [
      "Number of Leiden Clusters: 13\n",
      "Maximal Number of Modules: 14\n",
      "First training run ...\n",
      "Epoch 100/100: 100%|██████████████████████████████████████████████████████████████████████████████████████████████████████████████████████████████████████████████████████████| 100/100 [02:15<00:00,  1.35s/it, v_num=1, elbo_train=5.02e+6]\n",
      "Initializing second training run ...\n",
      "Sampling local variables, batch: 100%|█████████████████████████████████████████████████████████████████████████████████████████████████████████████████████████████████████████████████████████████████████████| 1/1 [00:01<00:00,  1.03s/it]\n",
      "Sampling global variables, sample: 100%|███████████████████████████████████████████████████████████████████████████████████████████████████████████████████████████████████████████████████████████████████████| 2/2 [00:00<00:00,  5.46it/s]\n"
     ]
    },
    {
     "name": "stderr",
     "output_type": "stream",
     "text": [
      "GPU available: True, used: True\n",
      "TPU available: False, using: 0 TPU cores\n",
      "IPU available: False, using: 0 IPUs\n",
      "LOCAL_RANK: 0 - CUDA_VISIBLE_DEVICES: [0]\n"
     ]
    },
    {
     "name": "stdout",
     "output_type": "stream",
     "text": [
      "Second training run ...\n",
      "Epoch 400/400: 100%|███████████████████████████████████████████████████████████████████████████████████████████████████████████████████████████████████████████████████████████| 400/400 [08:58<00:00,  1.35s/it, v_num=1, elbo_train=4.8e+6]\n",
      "Sampling local variables, batch: 100%|█████████████████████████████████████████████████████████████████████████████████████████████████████████████████████████████████████████████████████████████████████████| 1/1 [00:01<00:00,  1.03s/it]\n",
      "Sampling global variables, sample: 100%|███████████████████████████████████████████████████████████████████████████████████████████████████████████████████████████████████████████████████████████████████████| 2/2 [00:00<00:00,  5.89it/s]\n",
      "Computing total RNAvelocity ...\n",
      "# Cross-Boundary Direction Correctness (A->B)\n",
      "{('Ngn3 high EP', 'Pre-endocrine'): 0.7968254202289621, ('Pre-endocrine', 'Alpha'): -0.75433786743831, ('Pre-endocrine', 'Beta'): -0.642399784325612, ('Pre-endocrine', 'Delta'): -0.11630840225087044, ('Pre-endocrine', 'Epsilon'): 0.34478120324141615}\n",
      "Total Mean: -0.07428788610888284\n",
      "# In-cluster Coherence\n",
      "{'Alpha': 0.88102925, 'Beta': 0.77944, 'Delta': 0.7198769, 'Ductal': 0.88190776, 'Epsilon': 0.73501223, 'Ngn3 high EP': 0.80720115, 'Ngn3 low EP': 0.7894151, 'Pre-endocrine': 0.7681392}\n",
      "Total Mean: 0.7952526807785034\n",
      "0\n",
      "1\n",
      "0\n",
      "Keeping at most 100000 cells per cluster\n",
      "Filtered out 19641 genes that are detected 10 counts (shared).\n",
      "Extracted 1500 highly variable genes.\n",
      "Leiden clustering ...\n"
     ]
    },
    {
     "name": "stderr",
     "output_type": "stream",
     "text": [
      "GPU available: True, used: True\n",
      "TPU available: False, using: 0 TPU cores\n",
      "IPU available: False, using: 0 IPUs\n",
      "LOCAL_RANK: 0 - CUDA_VISIBLE_DEVICES: [0]\n"
     ]
    },
    {
     "name": "stdout",
     "output_type": "stream",
     "text": [
      "Number of Leiden Clusters: 13\n",
      "Maximal Number of Modules: 14\n",
      "First training run ...\n",
      "Epoch 100/100: 100%|██████████████████████████████████████████████████████████████████████████████████████████████████████████████████████████████████████████████████████████| 100/100 [01:45<00:00,  1.06s/it, v_num=1, elbo_train=5.34e+6]\n",
      "Initializing second training run ...\n",
      "Sampling local variables, batch: 100%|█████████████████████████████████████████████████████████████████████████████████████████████████████████████████████████████████████████████████████████████████████████| 1/1 [00:00<00:00,  1.21it/s]\n",
      "Sampling global variables, sample: 100%|███████████████████████████████████████████████████████████████████████████████████████████████████████████████████████████████████████████████████████████████████████| 2/2 [00:00<00:00,  7.60it/s]\n"
     ]
    },
    {
     "name": "stderr",
     "output_type": "stream",
     "text": [
      "GPU available: True, used: True\n",
      "TPU available: False, using: 0 TPU cores\n",
      "IPU available: False, using: 0 IPUs\n",
      "LOCAL_RANK: 0 - CUDA_VISIBLE_DEVICES: [0]\n"
     ]
    },
    {
     "name": "stdout",
     "output_type": "stream",
     "text": [
      "Second training run ...\n",
      "Epoch 400/400: 100%|██████████████████████████████████████████████████████████████████████████████████████████████████████████████████████████████████████████████████████████| 400/400 [07:03<00:00,  1.06s/it, v_num=1, elbo_train=5.12e+6]\n",
      "Sampling local variables, batch: 100%|█████████████████████████████████████████████████████████████████████████████████████████████████████████████████████████████████████████████████████████████████████████| 1/1 [00:00<00:00,  1.18it/s]\n",
      "Sampling global variables, sample: 100%|███████████████████████████████████████████████████████████████████████████████████████████████████████████████████████████████████████████████████████████████████████| 2/2 [00:00<00:00,  7.54it/s]\n",
      "Computing total RNAvelocity ...\n",
      "# Cross-Boundary Direction Correctness (A->B)\n",
      "{('Ngn3 high EP', 'Pre-endocrine'): 0.8517900500201845, ('Pre-endocrine', 'Alpha'): -0.7300491983574559, ('Pre-endocrine', 'Beta'): -0.6221458845852902, ('Pre-endocrine', 'Delta'): -0.26374235891541, ('Pre-endocrine', 'Epsilon'): 0.46497992814594735}\n",
      "Total Mean: -0.05983349273840484\n",
      "# In-cluster Coherence\n",
      "{'Alpha': 0.9039063, 'Beta': 0.82220507, 'Delta': 0.70994943, 'Ductal': 0.89231455, 'Epsilon': 0.6590159, 'Ngn3 high EP': 0.8243391, 'Ngn3 low EP': 0.87990916, 'Pre-endocrine': 0.6987979}\n",
      "Total Mean: 0.7988046407699585\n",
      "0\n",
      "1\n",
      "1\n",
      "Keeping at most 100000 cells per cluster\n",
      "Filtered out 19641 genes that are detected 10 counts (shared).\n",
      "Extracted 1500 highly variable genes.\n",
      "Leiden clustering ...\n"
     ]
    },
    {
     "name": "stderr",
     "output_type": "stream",
     "text": [
      "GPU available: True, used: True\n",
      "TPU available: False, using: 0 TPU cores\n",
      "IPU available: False, using: 0 IPUs\n",
      "LOCAL_RANK: 0 - CUDA_VISIBLE_DEVICES: [0]\n"
     ]
    },
    {
     "name": "stdout",
     "output_type": "stream",
     "text": [
      "Number of Leiden Clusters: 13\n",
      "Maximal Number of Modules: 14\n",
      "First training run ...\n",
      "Epoch 100/100: 100%|██████████████████████████████████████████████████████████████████████████████████████████████████████████████████████████████████████████████████████████| 100/100 [02:00<00:00,  1.20s/it, v_num=1, elbo_train=5.34e+6]\n",
      "Initializing second training run ...\n",
      "Sampling local variables, batch: 100%|█████████████████████████████████████████████████████████████████████████████████████████████████████████████████████████████████████████████████████████████████████████| 1/1 [00:00<00:00,  1.10it/s]\n",
      "Sampling global variables, sample: 100%|███████████████████████████████████████████████████████████████████████████████████████████████████████████████████████████████████████████████████████████████████████| 2/2 [00:00<00:00,  5.65it/s]\n"
     ]
    },
    {
     "name": "stderr",
     "output_type": "stream",
     "text": [
      "GPU available: True, used: True\n",
      "TPU available: False, using: 0 TPU cores\n",
      "IPU available: False, using: 0 IPUs\n",
      "LOCAL_RANK: 0 - CUDA_VISIBLE_DEVICES: [0]\n"
     ]
    },
    {
     "name": "stdout",
     "output_type": "stream",
     "text": [
      "Second training run ...\n",
      "Epoch 400/400: 100%|██████████████████████████████████████████████████████████████████████████████████████████████████████████████████████████████████████████████████████████| 400/400 [08:00<00:00,  1.20s/it, v_num=1, elbo_train=5.14e+6]\n",
      "Sampling local variables, batch: 100%|█████████████████████████████████████████████████████████████████████████████████████████████████████████████████████████████████████████████████████████████████████████| 1/1 [00:00<00:00,  1.07it/s]\n",
      "Sampling global variables, sample: 100%|███████████████████████████████████████████████████████████████████████████████████████████████████████████████████████████████████████████████████████████████████████| 2/2 [00:00<00:00,  6.37it/s]\n",
      "Computing total RNAvelocity ...\n",
      "# Cross-Boundary Direction Correctness (A->B)\n",
      "{('Ngn3 high EP', 'Pre-endocrine'): 0.8458075195216156, ('Pre-endocrine', 'Alpha'): -0.540209263409714, ('Pre-endocrine', 'Beta'): -0.47778604758303317, ('Pre-endocrine', 'Delta'): -0.13173946987794796, ('Pre-endocrine', 'Epsilon'): 0.5467229586412445}\n",
      "Total Mean: 0.048559139458433\n",
      "# In-cluster Coherence\n",
      "{'Alpha': 0.6757107, 'Beta': 0.76963705, 'Delta': 0.48488617, 'Ductal': 0.766685, 'Epsilon': 0.46129307, 'Ngn3 high EP': 0.73917836, 'Ngn3 low EP': 0.6761377, 'Pre-endocrine': 0.6764002}\n",
      "Total Mean: 0.6562410593032837\n",
      "0\n",
      "1\n",
      "2\n",
      "Keeping at most 100000 cells per cluster\n",
      "Filtered out 19641 genes that are detected 10 counts (shared).\n",
      "Extracted 1500 highly variable genes.\n",
      "Leiden clustering ...\n"
     ]
    },
    {
     "name": "stderr",
     "output_type": "stream",
     "text": [
      "GPU available: True, used: True\n",
      "TPU available: False, using: 0 TPU cores\n",
      "IPU available: False, using: 0 IPUs\n",
      "LOCAL_RANK: 0 - CUDA_VISIBLE_DEVICES: [0]\n"
     ]
    },
    {
     "name": "stdout",
     "output_type": "stream",
     "text": [
      "Number of Leiden Clusters: 13\n",
      "Maximal Number of Modules: 14\n",
      "First training run ...\n",
      "Epoch 100/100: 100%|███████████████████████████████████████████████████████████████████████████████████████████████████████████████████████████████████████████████████████████| 100/100 [02:15<00:00,  1.36s/it, v_num=1, elbo_train=5.4e+6]\n",
      "Initializing second training run ...\n",
      "Sampling local variables, batch: 100%|█████████████████████████████████████████████████████████████████████████████████████████████████████████████████████████████████████████████████████████████████████████| 1/1 [00:01<00:00,  1.03s/it]\n",
      "Sampling global variables, sample: 100%|███████████████████████████████████████████████████████████████████████████████████████████████████████████████████████████████████████████████████████████████████████| 2/2 [00:00<00:00,  5.91it/s]\n"
     ]
    },
    {
     "name": "stderr",
     "output_type": "stream",
     "text": [
      "GPU available: True, used: True\n",
      "TPU available: False, using: 0 TPU cores\n",
      "IPU available: False, using: 0 IPUs\n",
      "LOCAL_RANK: 0 - CUDA_VISIBLE_DEVICES: [0]\n"
     ]
    },
    {
     "name": "stdout",
     "output_type": "stream",
     "text": [
      "Second training run ...\n",
      "Epoch 400/400: 100%|██████████████████████████████████████████████████████████████████████████████████████████████████████████████████████████████████████████████████████████| 400/400 [08:59<00:00,  1.35s/it, v_num=1, elbo_train=5.12e+6]\n",
      "Sampling local variables, batch: 100%|█████████████████████████████████████████████████████████████████████████████████████████████████████████████████████████████████████████████████████████████████████████| 1/1 [00:01<00:00,  1.01s/it]\n",
      "Sampling global variables, sample: 100%|███████████████████████████████████████████████████████████████████████████████████████████████████████████████████████████████████████████████████████████████████████| 2/2 [00:00<00:00,  5.91it/s]\n",
      "Computing total RNAvelocity ...\n",
      "# Cross-Boundary Direction Correctness (A->B)\n",
      "{('Ngn3 high EP', 'Pre-endocrine'): -0.8558121387575254, ('Pre-endocrine', 'Alpha'): -0.7506627665360337, ('Pre-endocrine', 'Beta'): -0.7426831359262648, ('Pre-endocrine', 'Delta'): -0.16080929823960152, ('Pre-endocrine', 'Epsilon'): -0.3514647470687781}\n",
      "Total Mean: -0.5722864173056407\n",
      "# In-cluster Coherence\n",
      "{'Alpha': 0.60853225, 'Beta': 0.79584485, 'Delta': 0.77336085, 'Ductal': 0.85945976, 'Epsilon': 0.62190956, 'Ngn3 high EP': 0.7347388, 'Ngn3 low EP': 0.86076695, 'Pre-endocrine': 0.7549513}\n",
      "Total Mean: 0.7511955499649048\n",
      "0\n",
      "2\n",
      "0\n",
      "Keeping at most 100000 cells per cluster\n",
      "Filtered out 20801 genes that are detected 20 counts (shared).\n",
      "Extracted 1500 highly variable genes.\n",
      "Leiden clustering ...\n"
     ]
    },
    {
     "name": "stderr",
     "output_type": "stream",
     "text": [
      "GPU available: True, used: True\n",
      "TPU available: False, using: 0 TPU cores\n",
      "IPU available: False, using: 0 IPUs\n",
      "LOCAL_RANK: 0 - CUDA_VISIBLE_DEVICES: [0]\n"
     ]
    },
    {
     "name": "stdout",
     "output_type": "stream",
     "text": [
      "Number of Leiden Clusters: 13\n",
      "Maximal Number of Modules: 14\n",
      "First training run ...\n",
      "Epoch 100/100: 100%|██████████████████████████████████████████████████████████████████████████████████████████████████████████████████████████████████████████████████████████| 100/100 [01:46<00:00,  1.06s/it, v_num=1, elbo_train=5.85e+6]\n",
      "Initializing second training run ...\n",
      "Sampling local variables, batch: 100%|█████████████████████████████████████████████████████████████████████████████████████████████████████████████████████████████████████████████████████████████████████████| 1/1 [00:00<00:00,  1.17it/s]\n",
      "Sampling global variables, sample: 100%|███████████████████████████████████████████████████████████████████████████████████████████████████████████████████████████████████████████████████████████████████████| 2/2 [00:00<00:00,  7.58it/s]\n"
     ]
    },
    {
     "name": "stderr",
     "output_type": "stream",
     "text": [
      "GPU available: True, used: True\n",
      "TPU available: False, using: 0 TPU cores\n",
      "IPU available: False, using: 0 IPUs\n",
      "LOCAL_RANK: 0 - CUDA_VISIBLE_DEVICES: [0]\n"
     ]
    },
    {
     "name": "stdout",
     "output_type": "stream",
     "text": [
      "Second training run ...\n",
      "Epoch 400/400: 100%|██████████████████████████████████████████████████████████████████████████████████████████████████████████████████████████████████████████████████████████| 400/400 [07:05<00:00,  1.06s/it, v_num=1, elbo_train=5.62e+6]\n",
      "Sampling local variables, batch: 100%|█████████████████████████████████████████████████████████████████████████████████████████████████████████████████████████████████████████████████████████████████████████| 1/1 [00:00<00:00,  1.19it/s]\n",
      "Sampling global variables, sample: 100%|███████████████████████████████████████████████████████████████████████████████████████████████████████████████████████████████████████████████████████████████████████| 2/2 [00:00<00:00,  7.23it/s]\n",
      "Computing total RNAvelocity ...\n",
      "# Cross-Boundary Direction Correctness (A->B)\n",
      "{('Ngn3 high EP', 'Pre-endocrine'): 0.7858000516034928, ('Pre-endocrine', 'Alpha'): -0.37238209488374724, ('Pre-endocrine', 'Beta'): -0.3948888821420111, ('Pre-endocrine', 'Delta'): 0.2751693082252537, ('Pre-endocrine', 'Epsilon'): 0.07937787120248166}\n",
      "Total Mean: 0.07461525080109395\n",
      "# In-cluster Coherence\n",
      "{'Alpha': 0.9173828, 'Beta': 0.851708, 'Delta': 0.8085165, 'Ductal': 0.957488, 'Epsilon': 0.7641328, 'Ngn3 high EP': 0.8014593, 'Ngn3 low EP': 0.7677331, 'Pre-endocrine': 0.76344466}\n",
      "Total Mean: 0.8289831280708313\n",
      "0\n",
      "2\n",
      "1\n",
      "Keeping at most 100000 cells per cluster\n",
      "Filtered out 20801 genes that are detected 20 counts (shared).\n",
      "Extracted 1500 highly variable genes.\n",
      "Leiden clustering ...\n"
     ]
    },
    {
     "name": "stderr",
     "output_type": "stream",
     "text": [
      "GPU available: True, used: True\n",
      "TPU available: False, using: 0 TPU cores\n",
      "IPU available: False, using: 0 IPUs\n",
      "LOCAL_RANK: 0 - CUDA_VISIBLE_DEVICES: [0]\n"
     ]
    },
    {
     "name": "stdout",
     "output_type": "stream",
     "text": [
      "Number of Leiden Clusters: 13\n",
      "Maximal Number of Modules: 14\n",
      "First training run ...\n",
      "Epoch 100/100: 100%|██████████████████████████████████████████████████████████████████████████████████████████████████████████████████████████████████████████████████████████| 100/100 [02:00<00:00,  1.20s/it, v_num=1, elbo_train=5.84e+6]\n",
      "Initializing second training run ...\n",
      "Sampling local variables, batch: 100%|█████████████████████████████████████████████████████████████████████████████████████████████████████████████████████████████████████████████████████████████████████████| 1/1 [00:00<00:00,  1.07it/s]\n",
      "Sampling global variables, sample: 100%|███████████████████████████████████████████████████████████████████████████████████████████████████████████████████████████████████████████████████████████████████████| 2/2 [00:00<00:00,  6.27it/s]\n"
     ]
    },
    {
     "name": "stderr",
     "output_type": "stream",
     "text": [
      "GPU available: True, used: True\n",
      "TPU available: False, using: 0 TPU cores\n",
      "IPU available: False, using: 0 IPUs\n",
      "LOCAL_RANK: 0 - CUDA_VISIBLE_DEVICES: [0]\n"
     ]
    },
    {
     "name": "stdout",
     "output_type": "stream",
     "text": [
      "Second training run ...\n",
      "Epoch 400/400: 100%|██████████████████████████████████████████████████████████████████████████████████████████████████████████████████████████████████████████████████████████| 400/400 [08:00<00:00,  1.20s/it, v_num=1, elbo_train=5.59e+6]\n",
      "Sampling local variables, batch: 100%|█████████████████████████████████████████████████████████████████████████████████████████████████████████████████████████████████████████████████████████████████████████| 1/1 [00:00<00:00,  1.07it/s]\n",
      "Sampling global variables, sample: 100%|███████████████████████████████████████████████████████████████████████████████████████████████████████████████████████████████████████████████████████████████████████| 2/2 [00:00<00:00,  6.62it/s]\n",
      "Computing total RNAvelocity ...\n",
      "# Cross-Boundary Direction Correctness (A->B)\n",
      "{('Ngn3 high EP', 'Pre-endocrine'): 0.8349540925163287, ('Pre-endocrine', 'Alpha'): -0.7311776918299241, ('Pre-endocrine', 'Beta'): -0.6421604620283119, ('Pre-endocrine', 'Delta'): -0.1355026525852631, ('Pre-endocrine', 'Epsilon'): 0.2699735842723374}\n",
      "Total Mean: -0.08078262593096659\n",
      "# In-cluster Coherence\n",
      "{'Alpha': 0.9038438, 'Beta': 0.8080766, 'Delta': 0.8046512, 'Ductal': 0.90192646, 'Epsilon': 0.78026396, 'Ngn3 high EP': 0.8604242, 'Ngn3 low EP': 0.8602064, 'Pre-endocrine': 0.74411356}\n",
      "Total Mean: 0.8329383134841919\n",
      "0\n",
      "2\n",
      "2\n",
      "Keeping at most 100000 cells per cluster\n",
      "Filtered out 20801 genes that are detected 20 counts (shared).\n",
      "Extracted 1500 highly variable genes.\n",
      "Leiden clustering ...\n"
     ]
    },
    {
     "name": "stderr",
     "output_type": "stream",
     "text": [
      "GPU available: True, used: True\n",
      "TPU available: False, using: 0 TPU cores\n",
      "IPU available: False, using: 0 IPUs\n",
      "LOCAL_RANK: 0 - CUDA_VISIBLE_DEVICES: [0]\n"
     ]
    },
    {
     "name": "stdout",
     "output_type": "stream",
     "text": [
      "Number of Leiden Clusters: 13\n",
      "Maximal Number of Modules: 14\n",
      "First training run ...\n",
      "Epoch 100/100: 100%|██████████████████████████████████████████████████████████████████████████████████████████████████████████████████████████████████████████████████████████| 100/100 [02:15<00:00,  1.35s/it, v_num=1, elbo_train=5.86e+6]\n",
      "Initializing second training run ...\n",
      "Sampling local variables, batch: 100%|█████████████████████████████████████████████████████████████████████████████████████████████████████████████████████████████████████████████████████████████████████████| 1/1 [00:01<00:00,  1.02s/it]\n",
      "Sampling global variables, sample: 100%|███████████████████████████████████████████████████████████████████████████████████████████████████████████████████████████████████████████████████████████████████████| 2/2 [00:00<00:00,  5.27it/s]\n"
     ]
    },
    {
     "name": "stderr",
     "output_type": "stream",
     "text": [
      "GPU available: True, used: True\n",
      "TPU available: False, using: 0 TPU cores\n",
      "IPU available: False, using: 0 IPUs\n",
      "LOCAL_RANK: 0 - CUDA_VISIBLE_DEVICES: [0]\n"
     ]
    },
    {
     "name": "stdout",
     "output_type": "stream",
     "text": [
      "Second training run ...\n",
      "Epoch 400/400: 100%|██████████████████████████████████████████████████████████████████████████████████████████████████████████████████████████████████████████████████████████| 400/400 [09:01<00:00,  1.35s/it, v_num=1, elbo_train=5.58e+6]\n",
      "Sampling local variables, batch: 100%|█████████████████████████████████████████████████████████████████████████████████████████████████████████████████████████████████████████████████████████████████████████| 1/1 [00:01<00:00,  1.02s/it]\n",
      "Sampling global variables, sample: 100%|███████████████████████████████████████████████████████████████████████████████████████████████████████████████████████████████████████████████████████████████████████| 2/2 [00:00<00:00,  5.88it/s]\n",
      "Computing total RNAvelocity ...\n",
      "# Cross-Boundary Direction Correctness (A->B)\n",
      "{('Ngn3 high EP', 'Pre-endocrine'): 0.8509029379440002, ('Pre-endocrine', 'Alpha'): 0.7125372536401035, ('Pre-endocrine', 'Beta'): 0.7047775141216689, ('Pre-endocrine', 'Delta'): 0.09656556420076953, ('Pre-endocrine', 'Epsilon'): 0.4082851669645939}\n",
      "Total Mean: 0.5546136873742272\n",
      "# In-cluster Coherence\n",
      "{'Alpha': 0.8309288, 'Beta': 0.78142273, 'Delta': 0.808496, 'Ductal': 0.8702159, 'Epsilon': 0.73995304, 'Ngn3 high EP': 0.8451132, 'Ngn3 low EP': 0.7673527, 'Pre-endocrine': 0.8049784}\n",
      "Total Mean: 0.8060575723648071\n",
      "1\n",
      "0\n",
      "0\n",
      "Keeping at most 100000 cells per cluster\n",
      "Filtered out 18634 genes that are detected 5 counts (shared).\n",
      "Extracted 3000 highly variable genes.\n",
      "Leiden clustering ...\n"
     ]
    },
    {
     "name": "stderr",
     "output_type": "stream",
     "text": [
      "GPU available: True, used: True\n",
      "TPU available: False, using: 0 TPU cores\n",
      "IPU available: False, using: 0 IPUs\n",
      "LOCAL_RANK: 0 - CUDA_VISIBLE_DEVICES: [0]\n"
     ]
    },
    {
     "name": "stdout",
     "output_type": "stream",
     "text": [
      "Number of Leiden Clusters: 13\n",
      "Maximal Number of Modules: 14\n",
      "First training run ...\n",
      "Epoch 100/100: 100%|██████████████████████████████████████████████████████████████████████████████████████████████████████████████████████████████████████████████████████████| 100/100 [01:51<00:00,  1.11s/it, v_num=1, elbo_train=9.82e+6]\n",
      "Initializing second training run ...\n",
      "Sampling local variables, batch: 100%|█████████████████████████████████████████████████████████████████████████████████████████████████████████████████████████████████████████████████████████████████████████| 1/1 [00:01<00:00,  1.56s/it]\n",
      "Sampling global variables, sample: 100%|███████████████████████████████████████████████████████████████████████████████████████████████████████████████████████████████████████████████████████████████████████| 2/2 [00:00<00:00,  4.18it/s]\n"
     ]
    },
    {
     "name": "stderr",
     "output_type": "stream",
     "text": [
      "GPU available: True, used: True\n",
      "TPU available: False, using: 0 TPU cores\n",
      "IPU available: False, using: 0 IPUs\n",
      "LOCAL_RANK: 0 - CUDA_VISIBLE_DEVICES: [0]\n"
     ]
    },
    {
     "name": "stdout",
     "output_type": "stream",
     "text": [
      "Second training run ...\n",
      "Epoch 400/400: 100%|██████████████████████████████████████████████████████████████████████████████████████████████████████████████████████████████████████████████████████████| 400/400 [07:23<00:00,  1.11s/it, v_num=1, elbo_train=9.51e+6]\n",
      "Sampling local variables, batch: 100%|█████████████████████████████████████████████████████████████████████████████████████████████████████████████████████████████████████████████████████████████████████████| 1/1 [00:01<00:00,  1.51s/it]\n",
      "Sampling global variables, sample: 100%|███████████████████████████████████████████████████████████████████████████████████████████████████████████████████████████████████████████████████████████████████████| 2/2 [00:00<00:00,  4.42it/s]\n",
      "Computing total RNAvelocity ...\n",
      "# Cross-Boundary Direction Correctness (A->B)\n",
      "{('Ngn3 high EP', 'Pre-endocrine'): 0.8430965026999259, ('Pre-endocrine', 'Alpha'): 0.7908561769565736, ('Pre-endocrine', 'Beta'): 0.748093225337488, ('Pre-endocrine', 'Delta'): 0.26583754183924635, ('Pre-endocrine', 'Epsilon'): 0.3526256534740569}\n",
      "Total Mean: 0.6001018200614581\n",
      "# In-cluster Coherence\n",
      "{'Alpha': 0.8147909, 'Beta': 0.7679151, 'Delta': 0.54639995, 'Ductal': 0.85858977, 'Epsilon': 0.6842531, 'Ngn3 high EP': 0.7391057, 'Ngn3 low EP': 0.7160476, 'Pre-endocrine': 0.84126717}\n",
      "Total Mean: 0.7460461854934692\n",
      "1\n",
      "0\n",
      "1\n",
      "Keeping at most 100000 cells per cluster\n",
      "Filtered out 18634 genes that are detected 5 counts (shared).\n",
      "Extracted 3000 highly variable genes.\n",
      "Leiden clustering ...\n"
     ]
    },
    {
     "name": "stderr",
     "output_type": "stream",
     "text": [
      "GPU available: True, used: True\n",
      "TPU available: False, using: 0 TPU cores\n",
      "IPU available: False, using: 0 IPUs\n",
      "LOCAL_RANK: 0 - CUDA_VISIBLE_DEVICES: [0]\n"
     ]
    },
    {
     "name": "stdout",
     "output_type": "stream",
     "text": [
      "Number of Leiden Clusters: 13\n",
      "Maximal Number of Modules: 14\n",
      "First training run ...\n",
      "Epoch 100/100: 100%|██████████████████████████████████████████████████████████████████████████████████████████████████████████████████████████████████████████████████████████| 100/100 [02:05<00:00,  1.25s/it, v_num=1, elbo_train=9.91e+6]\n",
      "Initializing second training run ...\n",
      "Sampling local variables, batch: 100%|█████████████████████████████████████████████████████████████████████████████████████████████████████████████████████████████████████████████████████████████████████████| 1/1 [00:01<00:00,  1.72s/it]\n",
      "Sampling global variables, sample: 100%|███████████████████████████████████████████████████████████████████████████████████████████████████████████████████████████████████████████████████████████████████████| 2/2 [00:00<00:00,  3.61it/s]\n"
     ]
    },
    {
     "name": "stderr",
     "output_type": "stream",
     "text": [
      "GPU available: True, used: True\n",
      "TPU available: False, using: 0 TPU cores\n",
      "IPU available: False, using: 0 IPUs\n",
      "LOCAL_RANK: 0 - CUDA_VISIBLE_DEVICES: [0]\n"
     ]
    },
    {
     "name": "stdout",
     "output_type": "stream",
     "text": [
      "Second training run ...\n",
      "Epoch 400/400: 100%|██████████████████████████████████████████████████████████████████████████████████████████████████████████████████████████████████████████████████████████| 400/400 [08:20<00:00,  1.25s/it, v_num=1, elbo_train=9.54e+6]\n",
      "Sampling local variables, batch: 100%|█████████████████████████████████████████████████████████████████████████████████████████████████████████████████████████████████████████████████████████████████████████| 1/1 [00:01<00:00,  1.76s/it]\n",
      "Sampling global variables, sample: 100%|███████████████████████████████████████████████████████████████████████████████████████████████████████████████████████████████████████████████████████████████████████| 2/2 [00:00<00:00,  3.59it/s]\n",
      "Computing total RNAvelocity ...\n",
      "# Cross-Boundary Direction Correctness (A->B)\n",
      "{('Ngn3 high EP', 'Pre-endocrine'): -0.6743807989189804, ('Pre-endocrine', 'Alpha'): 0.677693535836416, ('Pre-endocrine', 'Beta'): 0.6287043538255804, ('Pre-endocrine', 'Delta'): 0.019922109850212165, ('Pre-endocrine', 'Epsilon'): -0.029202254327425257}\n",
      "Total Mean: 0.12454738925316058\n",
      "# In-cluster Coherence\n",
      "{'Alpha': 0.54691005, 'Beta': 0.6122964, 'Delta': 0.37251505, 'Ductal': 0.95508546, 'Epsilon': 0.5417491, 'Ngn3 high EP': 0.69670975, 'Ngn3 low EP': 0.8469607, 'Pre-endocrine': 0.4852819}\n",
      "Total Mean: 0.6321885585784912\n",
      "1\n",
      "0\n",
      "2\n",
      "Keeping at most 100000 cells per cluster\n",
      "Filtered out 18634 genes that are detected 5 counts (shared).\n",
      "Extracted 3000 highly variable genes.\n",
      "Leiden clustering ...\n"
     ]
    },
    {
     "name": "stderr",
     "output_type": "stream",
     "text": [
      "GPU available: True, used: True\n",
      "TPU available: False, using: 0 TPU cores\n",
      "IPU available: False, using: 0 IPUs\n",
      "LOCAL_RANK: 0 - CUDA_VISIBLE_DEVICES: [0]\n"
     ]
    },
    {
     "name": "stdout",
     "output_type": "stream",
     "text": [
      "Number of Leiden Clusters: 13\n",
      "Maximal Number of Modules: 14\n",
      "First training run ...\n",
      "Epoch 100/100: 100%|██████████████████████████████████████████████████████████████████████████████████████████████████████████████████████████████████████████████████████████| 100/100 [02:19<00:00,  1.39s/it, v_num=1, elbo_train=9.85e+6]\n",
      "Initializing second training run ...\n",
      "Sampling local variables, batch: 100%|█████████████████████████████████████████████████████████████████████████████████████████████████████████████████████████████████████████████████████████████████████████| 1/1 [00:01<00:00,  1.87s/it]\n",
      "Sampling global variables, sample: 100%|███████████████████████████████████████████████████████████████████████████████████████████████████████████████████████████████████████████████████████████████████████| 2/2 [00:00<00:00,  3.35it/s]\n"
     ]
    },
    {
     "name": "stderr",
     "output_type": "stream",
     "text": [
      "GPU available: True, used: True\n",
      "TPU available: False, using: 0 TPU cores\n",
      "IPU available: False, using: 0 IPUs\n",
      "LOCAL_RANK: 0 - CUDA_VISIBLE_DEVICES: [0]\n"
     ]
    },
    {
     "name": "stdout",
     "output_type": "stream",
     "text": [
      "Second training run ...\n",
      "Epoch 400/400: 100%|██████████████████████████████████████████████████████████████████████████████████████████████████████████████████████████████████████████████████████████| 400/400 [09:17<00:00,  1.39s/it, v_num=1, elbo_train=9.52e+6]\n",
      "Sampling local variables, batch: 100%|█████████████████████████████████████████████████████████████████████████████████████████████████████████████████████████████████████████████████████████████████████████| 1/1 [00:01<00:00,  1.87s/it]\n",
      "Sampling global variables, sample: 100%|███████████████████████████████████████████████████████████████████████████████████████████████████████████████████████████████████████████████████████████████████████| 2/2 [00:00<00:00,  3.35it/s]\n",
      "Computing total RNAvelocity ...\n",
      "# Cross-Boundary Direction Correctness (A->B)\n",
      "{('Ngn3 high EP', 'Pre-endocrine'): 0.8460613096683735, ('Pre-endocrine', 'Alpha'): 0.6254749858069605, ('Pre-endocrine', 'Beta'): 0.696617577853065, ('Pre-endocrine', 'Delta'): 0.4783133895223759, ('Pre-endocrine', 'Epsilon'): 0.26998107596616927}\n",
      "Total Mean: 0.583289667763389\n",
      "# In-cluster Coherence\n",
      "{'Alpha': 0.81437725, 'Beta': 0.77042717, 'Delta': 0.49732155, 'Ductal': 0.79400927, 'Epsilon': 0.6667025, 'Ngn3 high EP': 0.7555819, 'Ngn3 low EP': 0.67777663, 'Pre-endocrine': 0.6880766}\n",
      "Total Mean: 0.7080341577529907\n",
      "1\n",
      "1\n",
      "0\n",
      "Keeping at most 100000 cells per cluster\n",
      "Filtered out 19641 genes that are detected 10 counts (shared).\n",
      "Extracted 3000 highly variable genes.\n",
      "Leiden clustering ...\n"
     ]
    },
    {
     "name": "stderr",
     "output_type": "stream",
     "text": [
      "GPU available: True, used: True\n",
      "TPU available: False, using: 0 TPU cores\n",
      "IPU available: False, using: 0 IPUs\n",
      "LOCAL_RANK: 0 - CUDA_VISIBLE_DEVICES: [0]\n"
     ]
    },
    {
     "name": "stdout",
     "output_type": "stream",
     "text": [
      "Number of Leiden Clusters: 13\n",
      "Maximal Number of Modules: 14\n",
      "First training run ...\n",
      "Epoch 100/100: 100%|██████████████████████████████████████████████████████████████████████████████████████████████████████████████████████████████████████████████████████████| 100/100 [01:51<00:00,  1.12s/it, v_num=1, elbo_train=1.05e+7]\n",
      "Initializing second training run ...\n",
      "Sampling local variables, batch: 100%|█████████████████████████████████████████████████████████████████████████████████████████████████████████████████████████████████████████████████████████████████████████| 1/1 [00:01<00:00,  1.56s/it]\n",
      "Sampling global variables, sample: 100%|███████████████████████████████████████████████████████████████████████████████████████████████████████████████████████████████████████████████████████████████████████| 2/2 [00:00<00:00,  4.41it/s]\n"
     ]
    },
    {
     "name": "stderr",
     "output_type": "stream",
     "text": [
      "GPU available: True, used: True\n",
      "TPU available: False, using: 0 TPU cores\n",
      "IPU available: False, using: 0 IPUs\n",
      "LOCAL_RANK: 0 - CUDA_VISIBLE_DEVICES: [0]\n"
     ]
    },
    {
     "name": "stdout",
     "output_type": "stream",
     "text": [
      "Second training run ...\n",
      "Epoch 400/400: 100%|██████████████████████████████████████████████████████████████████████████████████████████████████████████████████████████████████████████████████████████| 400/400 [07:29<00:00,  1.12s/it, v_num=1, elbo_train=1.02e+7]\n",
      "Sampling local variables, batch: 100%|█████████████████████████████████████████████████████████████████████████████████████████████████████████████████████████████████████████████████████████████████████████| 1/1 [00:01<00:00,  1.53s/it]\n",
      "Sampling global variables, sample: 100%|███████████████████████████████████████████████████████████████████████████████████████████████████████████████████████████████████████████████████████████████████████| 2/2 [00:00<00:00,  4.17it/s]\n",
      "Computing total RNAvelocity ...\n",
      "# Cross-Boundary Direction Correctness (A->B)\n",
      "{('Ngn3 high EP', 'Pre-endocrine'): 0.8515487401634048, ('Pre-endocrine', 'Alpha'): -0.5065053677118084, ('Pre-endocrine', 'Beta'): -0.3904262106613415, ('Pre-endocrine', 'Delta'): 0.14803610293764766, ('Pre-endocrine', 'Epsilon'): 0.07511730481902107}\n",
      "Total Mean: 0.03555411390938472\n",
      "# In-cluster Coherence\n",
      "{'Alpha': 0.95868, 'Beta': 0.88518804, 'Delta': 0.9165256, 'Ductal': 0.86385614, 'Epsilon': 0.8306083, 'Ngn3 high EP': 0.88432497, 'Ngn3 low EP': 0.8088137, 'Pre-endocrine': 0.9314684}\n",
      "Total Mean: 0.8849331140518188\n",
      "1\n",
      "1\n",
      "1\n",
      "Keeping at most 100000 cells per cluster\n",
      "Filtered out 19641 genes that are detected 10 counts (shared).\n",
      "Extracted 3000 highly variable genes.\n",
      "Leiden clustering ...\n"
     ]
    },
    {
     "name": "stderr",
     "output_type": "stream",
     "text": [
      "GPU available: True, used: True\n",
      "TPU available: False, using: 0 TPU cores\n",
      "IPU available: False, using: 0 IPUs\n",
      "LOCAL_RANK: 0 - CUDA_VISIBLE_DEVICES: [0]\n"
     ]
    },
    {
     "name": "stdout",
     "output_type": "stream",
     "text": [
      "Number of Leiden Clusters: 13\n",
      "Maximal Number of Modules: 14\n",
      "First training run ...\n",
      "Epoch 100/100: 100%|██████████████████████████████████████████████████████████████████████████████████████████████████████████████████████████████████████████████████████████| 100/100 [02:05<00:00,  1.26s/it, v_num=1, elbo_train=1.06e+7]\n",
      "Initializing second training run ...\n",
      "Sampling local variables, batch: 100%|█████████████████████████████████████████████████████████████████████████████████████████████████████████████████████████████████████████████████████████████████████████| 1/1 [00:01<00:00,  1.76s/it]\n",
      "Sampling global variables, sample: 100%|███████████████████████████████████████████████████████████████████████████████████████████████████████████████████████████████████████████████████████████████████████| 2/2 [00:00<00:00,  3.51it/s]\n"
     ]
    },
    {
     "name": "stderr",
     "output_type": "stream",
     "text": [
      "GPU available: True, used: True\n",
      "TPU available: False, using: 0 TPU cores\n",
      "IPU available: False, using: 0 IPUs\n",
      "LOCAL_RANK: 0 - CUDA_VISIBLE_DEVICES: [0]\n"
     ]
    },
    {
     "name": "stdout",
     "output_type": "stream",
     "text": [
      "Second training run ...\n",
      "Epoch 400/400: 100%|██████████████████████████████████████████████████████████████████████████████████████████████████████████████████████████████████████████████████████████| 400/400 [08:21<00:00,  1.25s/it, v_num=1, elbo_train=1.02e+7]\n",
      "Sampling local variables, batch: 100%|█████████████████████████████████████████████████████████████████████████████████████████████████████████████████████████████████████████████████████████████████████████| 1/1 [00:01<00:00,  1.72s/it]\n",
      "Sampling global variables, sample: 100%|███████████████████████████████████████████████████████████████████████████████████████████████████████████████████████████████████████████████████████████████████████| 2/2 [00:00<00:00,  3.62it/s]\n",
      "Computing total RNAvelocity ...\n",
      "# Cross-Boundary Direction Correctness (A->B)\n",
      "{('Ngn3 high EP', 'Pre-endocrine'): 0.6139828655922775, ('Pre-endocrine', 'Alpha'): -0.5993181647493875, ('Pre-endocrine', 'Beta'): -0.6169580274582609, ('Pre-endocrine', 'Delta'): -0.2979510482282314, ('Pre-endocrine', 'Epsilon'): -0.10960869565641945}\n",
      "Total Mean: -0.20197061410000433\n",
      "# In-cluster Coherence\n",
      "{'Alpha': 0.8424245, 'Beta': 0.65661633, 'Delta': 0.65375805, 'Ductal': 0.7386476, 'Epsilon': 0.64765465, 'Ngn3 high EP': 0.74143606, 'Ngn3 low EP': 0.7349679, 'Pre-endocrine': 0.7338732}\n",
      "Total Mean: 0.7186722755432129\n",
      "1\n",
      "1\n",
      "2\n",
      "Keeping at most 100000 cells per cluster\n",
      "Filtered out 19641 genes that are detected 10 counts (shared).\n",
      "Extracted 3000 highly variable genes.\n",
      "Leiden clustering ...\n"
     ]
    },
    {
     "name": "stderr",
     "output_type": "stream",
     "text": [
      "GPU available: True, used: True\n",
      "TPU available: False, using: 0 TPU cores\n",
      "IPU available: False, using: 0 IPUs\n",
      "LOCAL_RANK: 0 - CUDA_VISIBLE_DEVICES: [0]\n"
     ]
    },
    {
     "name": "stdout",
     "output_type": "stream",
     "text": [
      "Number of Leiden Clusters: 13\n",
      "Maximal Number of Modules: 14\n",
      "First training run ...\n",
      "Epoch 100/100: 100%|██████████████████████████████████████████████████████████████████████████████████████████████████████████████████████████████████████████████████████████| 100/100 [02:19<00:00,  1.39s/it, v_num=1, elbo_train=1.06e+7]\n",
      "Initializing second training run ...\n",
      "Sampling local variables, batch: 100%|█████████████████████████████████████████████████████████████████████████████████████████████████████████████████████████████████████████████████████████████████████████| 1/1 [00:01<00:00,  1.86s/it]\n",
      "Sampling global variables, sample: 100%|███████████████████████████████████████████████████████████████████████████████████████████████████████████████████████████████████████████████████████████████████████| 2/2 [00:00<00:00,  3.22it/s]\n"
     ]
    },
    {
     "name": "stderr",
     "output_type": "stream",
     "text": [
      "GPU available: True, used: True\n",
      "TPU available: False, using: 0 TPU cores\n",
      "IPU available: False, using: 0 IPUs\n",
      "LOCAL_RANK: 0 - CUDA_VISIBLE_DEVICES: [0]\n"
     ]
    },
    {
     "name": "stdout",
     "output_type": "stream",
     "text": [
      "Second training run ...\n",
      "Epoch 400/400: 100%|██████████████████████████████████████████████████████████████████████████████████████████████████████████████████████████████████████████████████████████| 400/400 [09:23<00:00,  1.41s/it, v_num=1, elbo_train=1.02e+7]\n",
      "Sampling local variables, batch: 100%|█████████████████████████████████████████████████████████████████████████████████████████████████████████████████████████████████████████████████████████████████████████| 1/1 [00:01<00:00,  1.86s/it]\n",
      "Sampling global variables, sample: 100%|███████████████████████████████████████████████████████████████████████████████████████████████████████████████████████████████████████████████████████████████████████| 2/2 [00:00<00:00,  3.21it/s]\n",
      "Computing total RNAvelocity ...\n",
      "# Cross-Boundary Direction Correctness (A->B)\n",
      "{('Ngn3 high EP', 'Pre-endocrine'): 0.8465057107181553, ('Pre-endocrine', 'Alpha'): 0.14273770773761818, ('Pre-endocrine', 'Beta'): 0.02904718795820967, ('Pre-endocrine', 'Delta'): 0.1791416062505727, ('Pre-endocrine', 'Epsilon'): 0.3664298930805105}\n",
      "Total Mean: 0.31277242114901327\n",
      "# In-cluster Coherence\n",
      "{'Alpha': 0.9334941, 'Beta': 0.857433, 'Delta': 0.8323312, 'Ductal': 0.8949205, 'Epsilon': 0.8526628, 'Ngn3 high EP': 0.8721366, 'Ngn3 low EP': 0.7977275, 'Pre-endocrine': 0.8886195}\n",
      "Total Mean: 0.8661656379699707\n",
      "1\n",
      "2\n",
      "0\n",
      "Keeping at most 100000 cells per cluster\n",
      "Filtered out 20801 genes that are detected 20 counts (shared).\n",
      "Extracted 3000 highly variable genes.\n",
      "Leiden clustering ...\n"
     ]
    },
    {
     "name": "stderr",
     "output_type": "stream",
     "text": [
      "GPU available: True, used: True\n",
      "TPU available: False, using: 0 TPU cores\n",
      "IPU available: False, using: 0 IPUs\n",
      "LOCAL_RANK: 0 - CUDA_VISIBLE_DEVICES: [0]\n"
     ]
    },
    {
     "name": "stdout",
     "output_type": "stream",
     "text": [
      "Number of Leiden Clusters: 13\n",
      "Maximal Number of Modules: 14\n",
      "First training run ...\n",
      "Epoch 100/100: 100%|██████████████████████████████████████████████████████████████████████████████████████████████████████████████████████████████████████████████████████████| 100/100 [01:51<00:00,  1.12s/it, v_num=1, elbo_train=1.15e+7]\n",
      "Initializing second training run ...\n",
      "Sampling local variables, batch: 100%|█████████████████████████████████████████████████████████████████████████████████████████████████████████████████████████████████████████████████████████████████████████| 1/1 [00:01<00:00,  1.54s/it]\n",
      "Sampling global variables, sample: 100%|███████████████████████████████████████████████████████████████████████████████████████████████████████████████████████████████████████████████████████████████████████| 2/2 [00:00<00:00,  3.97it/s]\n"
     ]
    },
    {
     "name": "stderr",
     "output_type": "stream",
     "text": [
      "GPU available: True, used: True\n",
      "TPU available: False, using: 0 TPU cores\n",
      "IPU available: False, using: 0 IPUs\n",
      "LOCAL_RANK: 0 - CUDA_VISIBLE_DEVICES: [0]\n"
     ]
    },
    {
     "name": "stdout",
     "output_type": "stream",
     "text": [
      "Second training run ...\n",
      "Epoch 400/400: 100%|██████████████████████████████████████████████████████████████████████████████████████████████████████████████████████████████████████████████████████████| 400/400 [07:25<00:00,  1.11s/it, v_num=1, elbo_train=1.12e+7]\n",
      "Sampling local variables, batch: 100%|█████████████████████████████████████████████████████████████████████████████████████████████████████████████████████████████████████████████████████████████████████████| 1/1 [00:01<00:00,  1.61s/it]\n",
      "Sampling global variables, sample: 100%|███████████████████████████████████████████████████████████████████████████████████████████████████████████████████████████████████████████████████████████████████████| 2/2 [00:00<00:00,  4.41it/s]\n",
      "Computing total RNAvelocity ...\n",
      "# Cross-Boundary Direction Correctness (A->B)\n",
      "{('Ngn3 high EP', 'Pre-endocrine'): 0.5821145099494155, ('Pre-endocrine', 'Alpha'): -0.826498938280101, ('Pre-endocrine', 'Beta'): -0.7393669279601, ('Pre-endocrine', 'Delta'): -0.3981610953676811, ('Pre-endocrine', 'Epsilon'): -0.02775840071985965}\n",
      "Total Mean: -0.2819341704756652\n",
      "# In-cluster Coherence\n",
      "{'Alpha': 0.9234755, 'Beta': 0.8212531, 'Delta': 0.821707, 'Ductal': 0.7550438, 'Epsilon': 0.7918949, 'Ngn3 high EP': 0.7950513, 'Ngn3 low EP': 0.731242, 'Pre-endocrine': 0.8285182}\n",
      "Total Mean: 0.8085232377052307\n",
      "1\n",
      "2\n",
      "1\n",
      "Keeping at most 100000 cells per cluster\n",
      "Filtered out 20801 genes that are detected 20 counts (shared).\n",
      "Extracted 3000 highly variable genes.\n",
      "Leiden clustering ...\n"
     ]
    },
    {
     "name": "stderr",
     "output_type": "stream",
     "text": [
      "GPU available: True, used: True\n",
      "TPU available: False, using: 0 TPU cores\n",
      "IPU available: False, using: 0 IPUs\n",
      "LOCAL_RANK: 0 - CUDA_VISIBLE_DEVICES: [0]\n"
     ]
    },
    {
     "name": "stdout",
     "output_type": "stream",
     "text": [
      "Number of Leiden Clusters: 13\n",
      "Maximal Number of Modules: 14\n",
      "First training run ...\n",
      "Epoch 100/100: 100%|██████████████████████████████████████████████████████████████████████████████████████████████████████████████████████████████████████████████████████████| 100/100 [02:05<00:00,  1.26s/it, v_num=1, elbo_train=1.18e+7]\n",
      "Initializing second training run ...\n",
      "Sampling local variables, batch: 100%|█████████████████████████████████████████████████████████████████████████████████████████████████████████████████████████████████████████████████████████████████████████| 1/1 [00:01<00:00,  1.71s/it]\n",
      "Sampling global variables, sample: 100%|███████████████████████████████████████████████████████████████████████████████████████████████████████████████████████████████████████████████████████████████████████| 2/2 [00:00<00:00,  3.47it/s]\n"
     ]
    },
    {
     "name": "stderr",
     "output_type": "stream",
     "text": [
      "GPU available: True, used: True\n",
      "TPU available: False, using: 0 TPU cores\n",
      "IPU available: False, using: 0 IPUs\n",
      "LOCAL_RANK: 0 - CUDA_VISIBLE_DEVICES: [0]\n"
     ]
    },
    {
     "name": "stdout",
     "output_type": "stream",
     "text": [
      "Second training run ...\n",
      "Epoch 400/400: 100%|██████████████████████████████████████████████████████████████████████████████████████████████████████████████████████████████████████████████████████████| 400/400 [08:22<00:00,  1.26s/it, v_num=1, elbo_train=1.12e+7]\n",
      "Sampling local variables, batch: 100%|█████████████████████████████████████████████████████████████████████████████████████████████████████████████████████████████████████████████████████████████████████████| 1/1 [00:01<00:00,  1.70s/it]\n",
      "Sampling global variables, sample: 100%|███████████████████████████████████████████████████████████████████████████████████████████████████████████████████████████████████████████████████████████████████████| 2/2 [00:00<00:00,  3.81it/s]\n",
      "Computing total RNAvelocity ...\n",
      "# Cross-Boundary Direction Correctness (A->B)\n",
      "{('Ngn3 high EP', 'Pre-endocrine'): -0.7352104797305875, ('Pre-endocrine', 'Alpha'): -0.7954712088174247, ('Pre-endocrine', 'Beta'): -0.7235375831349057, ('Pre-endocrine', 'Delta'): -0.22019602333923738, ('Pre-endocrine', 'Epsilon'): -0.34858389838139364}\n",
      "Total Mean: -0.5645998386807098\n",
      "# In-cluster Coherence\n",
      "{'Alpha': 0.613979, 'Beta': 0.6286527, 'Delta': 0.41715467, 'Ductal': 0.79762423, 'Epsilon': 0.4573404, 'Ngn3 high EP': 0.6149922, 'Ngn3 low EP': 0.715813, 'Pre-endocrine': 0.70047504}\n",
      "Total Mean: 0.6182539463043213\n",
      "1\n",
      "2\n",
      "2\n",
      "Keeping at most 100000 cells per cluster\n",
      "Filtered out 20801 genes that are detected 20 counts (shared).\n",
      "Extracted 3000 highly variable genes.\n",
      "Leiden clustering ...\n"
     ]
    },
    {
     "name": "stderr",
     "output_type": "stream",
     "text": [
      "GPU available: True, used: True\n",
      "TPU available: False, using: 0 TPU cores\n",
      "IPU available: False, using: 0 IPUs\n",
      "LOCAL_RANK: 0 - CUDA_VISIBLE_DEVICES: [0]\n"
     ]
    },
    {
     "name": "stdout",
     "output_type": "stream",
     "text": [
      "Number of Leiden Clusters: 13\n",
      "Maximal Number of Modules: 14\n",
      "First training run ...\n",
      "Epoch 100/100: 100%|██████████████████████████████████████████████████████████████████████████████████████████████████████████████████████████████████████████████████████████| 100/100 [02:21<00:00,  1.41s/it, v_num=1, elbo_train=1.15e+7]\n",
      "Initializing second training run ...\n",
      "Sampling local variables, batch: 100%|█████████████████████████████████████████████████████████████████████████████████████████████████████████████████████████████████████████████████████████████████████████| 1/1 [00:01<00:00,  1.92s/it]\n",
      "Sampling global variables, sample: 100%|███████████████████████████████████████████████████████████████████████████████████████████████████████████████████████████████████████████████████████████████████████| 2/2 [00:00<00:00,  3.17it/s]\n"
     ]
    },
    {
     "name": "stderr",
     "output_type": "stream",
     "text": [
      "GPU available: True, used: True\n",
      "TPU available: False, using: 0 TPU cores\n",
      "IPU available: False, using: 0 IPUs\n",
      "LOCAL_RANK: 0 - CUDA_VISIBLE_DEVICES: [0]\n"
     ]
    },
    {
     "name": "stdout",
     "output_type": "stream",
     "text": [
      "Second training run ...\n",
      "Epoch 400/400: 100%|██████████████████████████████████████████████████████████████████████████████████████████████████████████████████████████████████████████████████████████| 400/400 [09:23<00:00,  1.41s/it, v_num=1, elbo_train=1.12e+7]\n",
      "Sampling local variables, batch: 100%|█████████████████████████████████████████████████████████████████████████████████████████████████████████████████████████████████████████████████████████████████████████| 1/1 [00:01<00:00,  1.86s/it]\n",
      "Sampling global variables, sample: 100%|███████████████████████████████████████████████████████████████████████████████████████████████████████████████████████████████████████████████████████████████████████| 2/2 [00:00<00:00,  3.21it/s]\n",
      "Computing total RNAvelocity ...\n",
      "# Cross-Boundary Direction Correctness (A->B)\n",
      "{('Ngn3 high EP', 'Pre-endocrine'): 0.8295599598407712, ('Pre-endocrine', 'Alpha'): -0.760996855628282, ('Pre-endocrine', 'Beta'): -0.5754379371691415, ('Pre-endocrine', 'Delta'): -0.29128615022814, ('Pre-endocrine', 'Epsilon'): 0.4707788954055491}\n",
      "Total Mean: -0.06547641755584863\n",
      "# In-cluster Coherence\n",
      "{'Alpha': 0.9124917, 'Beta': 0.68366015, 'Delta': 0.72554064, 'Ductal': 0.74136937, 'Epsilon': 0.6571465, 'Ngn3 high EP': 0.77973694, 'Ngn3 low EP': 0.7274744, 'Pre-endocrine': 0.7407542}\n",
      "Total Mean: 0.7460217475891113\n",
      "2\n",
      "0\n",
      "0\n",
      "Keeping at most 100000 cells per cluster\n",
      "Filtered out 18634 genes that are detected 5 counts (shared).\n",
      "Extracted 6000 highly variable genes.\n",
      "Leiden clustering ...\n"
     ]
    },
    {
     "name": "stderr",
     "output_type": "stream",
     "text": [
      "GPU available: True, used: True\n",
      "TPU available: False, using: 0 TPU cores\n",
      "IPU available: False, using: 0 IPUs\n",
      "LOCAL_RANK: 0 - CUDA_VISIBLE_DEVICES: [0]\n"
     ]
    },
    {
     "name": "stdout",
     "output_type": "stream",
     "text": [
      "Number of Leiden Clusters: 13\n",
      "Maximal Number of Modules: 14\n",
      "First training run ...\n",
      "Epoch 100/100: 100%|█████████████████████████████████████████████████████████████████████████████████████████████████████████████████████████████████████████████████████████████| 100/100 [02:33<00:00,  1.53s/it, v_num=1, elbo_train=2e+7]\n",
      "Initializing second training run ...\n",
      "Sampling local variables, batch: 100%|█████████████████████████████████████████████████████████████████████████████████████████████████████████████████████████████████████████████████████████████████████████| 1/1 [00:03<00:00,  3.04s/it]\n",
      "Sampling global variables, sample: 100%|███████████████████████████████████████████████████████████████████████████████████████████████████████████████████████████████████████████████████████████████████████| 2/2 [00:00<00:00,  2.19it/s]\n"
     ]
    },
    {
     "name": "stderr",
     "output_type": "stream",
     "text": [
      "GPU available: True, used: True\n",
      "TPU available: False, using: 0 TPU cores\n",
      "IPU available: False, using: 0 IPUs\n",
      "LOCAL_RANK: 0 - CUDA_VISIBLE_DEVICES: [0]\n"
     ]
    },
    {
     "name": "stdout",
     "output_type": "stream",
     "text": [
      "Second training run ...\n",
      "Epoch 400/400: 100%|██████████████████████████████████████████████████████████████████████████████████████████████████████████████████████████████████████████████████████████| 400/400 [10:13<00:00,  1.53s/it, v_num=1, elbo_train=1.95e+7]\n",
      "Sampling local variables, batch: 100%|█████████████████████████████████████████████████████████████████████████████████████████████████████████████████████████████████████████████████████████████████████████| 1/1 [00:02<00:00,  2.91s/it]\n",
      "Sampling global variables, sample: 100%|███████████████████████████████████████████████████████████████████████████████████████████████████████████████████████████████████████████████████████████████████████| 2/2 [00:00<00:00,  2.40it/s]\n",
      "Computing total RNAvelocity ...\n",
      "# Cross-Boundary Direction Correctness (A->B)\n",
      "{('Ngn3 high EP', 'Pre-endocrine'): 0.851871241484718, ('Pre-endocrine', 'Alpha'): 0.7988768243214229, ('Pre-endocrine', 'Beta'): 0.7618673387617976, ('Pre-endocrine', 'Delta'): 0.30876058047638877, ('Pre-endocrine', 'Epsilon'): 0.3134161070775291}\n",
      "Total Mean: 0.6069584184243714\n",
      "# In-cluster Coherence\n",
      "{'Alpha': 0.8228071, 'Beta': 0.7705807, 'Delta': 0.42226267, 'Ductal': 0.72419477, 'Epsilon': 0.716943, 'Ngn3 high EP': 0.84802777, 'Ngn3 low EP': 0.7148524, 'Pre-endocrine': 0.8366979}\n",
      "Total Mean: 0.7320457696914673\n",
      "2\n",
      "0\n",
      "1\n",
      "Keeping at most 100000 cells per cluster\n",
      "Filtered out 18634 genes that are detected 5 counts (shared).\n",
      "Extracted 6000 highly variable genes.\n",
      "Leiden clustering ...\n"
     ]
    },
    {
     "name": "stderr",
     "output_type": "stream",
     "text": [
      "GPU available: True, used: True\n",
      "TPU available: False, using: 0 TPU cores\n",
      "IPU available: False, using: 0 IPUs\n",
      "LOCAL_RANK: 0 - CUDA_VISIBLE_DEVICES: [0]\n"
     ]
    },
    {
     "name": "stdout",
     "output_type": "stream",
     "text": [
      "Number of Leiden Clusters: 13\n",
      "Maximal Number of Modules: 14\n",
      "First training run ...\n",
      "Epoch 100/100: 100%|██████████████████████████████████████████████████████████████████████████████████████████████████████████████████████████████████████████████████████████| 100/100 [02:58<00:00,  1.78s/it, v_num=1, elbo_train=2.02e+7]\n",
      "Initializing second training run ...\n",
      "Sampling local variables, batch: 100%|█████████████████████████████████████████████████████████████████████████████████████████████████████████████████████████████████████████████████████████████████████████| 1/1 [00:03<00:00,  3.21s/it]\n",
      "Sampling global variables, sample: 100%|███████████████████████████████████████████████████████████████████████████████████████████████████████████████████████████████████████████████████████████████████████| 2/2 [00:01<00:00,  1.98it/s]\n"
     ]
    },
    {
     "name": "stderr",
     "output_type": "stream",
     "text": [
      "GPU available: True, used: True\n",
      "TPU available: False, using: 0 TPU cores\n",
      "IPU available: False, using: 0 IPUs\n",
      "LOCAL_RANK: 0 - CUDA_VISIBLE_DEVICES: [0]\n"
     ]
    },
    {
     "name": "stdout",
     "output_type": "stream",
     "text": [
      "Second training run ...\n",
      "Epoch 400/400: 100%|██████████████████████████████████████████████████████████████████████████████████████████████████████████████████████████████████████████████████████████| 400/400 [11:50<00:00,  1.78s/it, v_num=1, elbo_train=1.95e+7]\n",
      "Sampling local variables, batch: 100%|█████████████████████████████████████████████████████████████████████████████████████████████████████████████████████████████████████████████████████████████████████████| 1/1 [00:03<00:00,  3.12s/it]\n",
      "Sampling global variables, sample: 100%|███████████████████████████████████████████████████████████████████████████████████████████████████████████████████████████████████████████████████████████████████████| 2/2 [00:00<00:00,  2.04it/s]\n",
      "Computing total RNAvelocity ...\n",
      "# Cross-Boundary Direction Correctness (A->B)\n",
      "{('Ngn3 high EP', 'Pre-endocrine'): -0.8500258870594968, ('Pre-endocrine', 'Alpha'): -0.793008586136737, ('Pre-endocrine', 'Beta'): -0.799795076029552, ('Pre-endocrine', 'Delta'): -0.4055244245347978, ('Pre-endocrine', 'Epsilon'): -0.2523998240138546}\n",
      "Total Mean: -0.6201507595548876\n",
      "# In-cluster Coherence\n",
      "{'Alpha': 0.73984927, 'Beta': 0.76087, 'Delta': 0.54787004, 'Ductal': 0.7171606, 'Epsilon': 0.5352507, 'Ngn3 high EP': 0.818284, 'Ngn3 low EP': 0.7106422, 'Pre-endocrine': 0.7833625}\n",
      "Total Mean: 0.7016611695289612\n",
      "2\n",
      "0\n",
      "2\n",
      "Keeping at most 100000 cells per cluster\n",
      "Filtered out 18634 genes that are detected 5 counts (shared).\n",
      "Extracted 6000 highly variable genes.\n",
      "Leiden clustering ...\n"
     ]
    },
    {
     "name": "stderr",
     "output_type": "stream",
     "text": [
      "GPU available: True, used: True\n",
      "TPU available: False, using: 0 TPU cores\n",
      "IPU available: False, using: 0 IPUs\n",
      "LOCAL_RANK: 0 - CUDA_VISIBLE_DEVICES: [0]\n"
     ]
    },
    {
     "name": "stdout",
     "output_type": "stream",
     "text": [
      "Number of Leiden Clusters: 13\n",
      "Maximal Number of Modules: 14\n",
      "First training run ...\n",
      "Epoch 100/100: 100%|██████████████████████████████████████████████████████████████████████████████████████████████████████████████████████████████████████████████████████████| 100/100 [03:21<00:00,  2.02s/it, v_num=1, elbo_train=2.01e+7]\n",
      "Initializing second training run ...\n",
      "Sampling local variables, batch: 100%|█████████████████████████████████████████████████████████████████████████████████████████████████████████████████████████████████████████████████████████████████████████| 1/1 [00:03<00:00,  3.60s/it]\n",
      "Sampling global variables, sample: 100%|███████████████████████████████████████████████████████████████████████████████████████████████████████████████████████████████████████████████████████████████████████| 2/2 [00:01<00:00,  1.64it/s]\n"
     ]
    },
    {
     "name": "stderr",
     "output_type": "stream",
     "text": [
      "GPU available: True, used: True\n",
      "TPU available: False, using: 0 TPU cores\n",
      "IPU available: False, using: 0 IPUs\n",
      "LOCAL_RANK: 0 - CUDA_VISIBLE_DEVICES: [0]\n"
     ]
    },
    {
     "name": "stdout",
     "output_type": "stream",
     "text": [
      "Second training run ...\n",
      "Epoch 400/400: 100%|██████████████████████████████████████████████████████████████████████████████████████████████████████████████████████████████████████████████████████████| 400/400 [13:27<00:00,  2.02s/it, v_num=1, elbo_train=1.95e+7]\n",
      "Sampling local variables, batch: 100%|█████████████████████████████████████████████████████████████████████████████████████████████████████████████████████████████████████████████████████████████████████████| 1/1 [00:03<00:00,  3.42s/it]\n",
      "Sampling global variables, sample: 100%|███████████████████████████████████████████████████████████████████████████████████████████████████████████████████████████████████████████████████████████████████████| 2/2 [00:01<00:00,  1.79it/s]\n",
      "Computing total RNAvelocity ...\n",
      "# Cross-Boundary Direction Correctness (A->B)\n",
      "{('Ngn3 high EP', 'Pre-endocrine'): 0.13385217352265638, ('Pre-endocrine', 'Alpha'): -0.49489493940817214, ('Pre-endocrine', 'Beta'): -0.41805797688365237, ('Pre-endocrine', 'Delta'): -0.14532578127571363, ('Pre-endocrine', 'Epsilon'): -0.33460325146911474}\n",
      "Total Mean: -0.2518059551027993\n",
      "# In-cluster Coherence\n",
      "{'Alpha': 0.92592984, 'Beta': 0.8412797, 'Delta': 0.8051724, 'Ductal': 0.8602939, 'Epsilon': 0.8518551, 'Ngn3 high EP': 0.8172336, 'Ngn3 low EP': 0.7949155, 'Pre-endocrine': 0.8661417}\n",
      "Total Mean: 0.8453527092933655\n",
      "2\n",
      "1\n",
      "0\n",
      "Keeping at most 100000 cells per cluster\n",
      "Filtered out 19641 genes that are detected 10 counts (shared).\n",
      "Extracted 6000 highly variable genes.\n",
      "Leiden clustering ...\n"
     ]
    },
    {
     "name": "stderr",
     "output_type": "stream",
     "text": [
      "GPU available: True, used: True\n",
      "TPU available: False, using: 0 TPU cores\n",
      "IPU available: False, using: 0 IPUs\n",
      "LOCAL_RANK: 0 - CUDA_VISIBLE_DEVICES: [0]\n"
     ]
    },
    {
     "name": "stdout",
     "output_type": "stream",
     "text": [
      "Number of Leiden Clusters: 13\n",
      "Maximal Number of Modules: 14\n",
      "First training run ...\n",
      "Epoch 100/100: 100%|██████████████████████████████████████████████████████████████████████████████████████████████████████████████████████████████████████████████████████████| 100/100 [02:33<00:00,  1.54s/it, v_num=1, elbo_train=2.19e+7]\n",
      "Initializing second training run ...\n",
      "Sampling local variables, batch: 100%|█████████████████████████████████████████████████████████████████████████████████████████████████████████████████████████████████████████████████████████████████████████| 1/1 [00:02<00:00,  2.86s/it]\n",
      "Sampling global variables, sample: 100%|███████████████████████████████████████████████████████████████████████████████████████████████████████████████████████████████████████████████████████████████████████| 2/2 [00:00<00:00,  2.39it/s]\n"
     ]
    },
    {
     "name": "stderr",
     "output_type": "stream",
     "text": [
      "GPU available: True, used: True\n",
      "TPU available: False, using: 0 TPU cores\n",
      "IPU available: False, using: 0 IPUs\n",
      "LOCAL_RANK: 0 - CUDA_VISIBLE_DEVICES: [0]\n"
     ]
    },
    {
     "name": "stdout",
     "output_type": "stream",
     "text": [
      "Second training run ...\n",
      "Epoch 400/400: 100%|██████████████████████████████████████████████████████████████████████████████████████████████████████████████████████████████████████████████████████████| 400/400 [10:14<00:00,  1.54s/it, v_num=1, elbo_train=2.12e+7]\n",
      "Sampling local variables, batch: 100%|█████████████████████████████████████████████████████████████████████████████████████████████████████████████████████████████████████████████████████████████████████████| 1/1 [00:02<00:00,  2.65s/it]\n",
      "Sampling global variables, sample: 100%|███████████████████████████████████████████████████████████████████████████████████████████████████████████████████████████████████████████████████████████████████████| 2/2 [00:00<00:00,  2.39it/s]\n",
      "Computing total RNAvelocity ...\n",
      "# Cross-Boundary Direction Correctness (A->B)\n",
      "{('Ngn3 high EP', 'Pre-endocrine'): -0.8051692491837935, ('Pre-endocrine', 'Alpha'): -0.4793060679517479, ('Pre-endocrine', 'Beta'): -0.4597558655493068, ('Pre-endocrine', 'Delta'): -0.3631086971240087, ('Pre-endocrine', 'Epsilon'): -0.29883743075952424}\n",
      "Total Mean: -0.48123546211367624\n",
      "# In-cluster Coherence\n",
      "{'Alpha': 0.8198875, 'Beta': 0.7786751, 'Delta': 0.5466339, 'Ductal': 0.86954993, 'Epsilon': 0.5745247, 'Ngn3 high EP': 0.6748796, 'Ngn3 low EP': 0.8588809, 'Pre-endocrine': 0.54914916}\n",
      "Total Mean: 0.7090226411819458\n",
      "2\n",
      "1\n",
      "1\n",
      "Keeping at most 100000 cells per cluster\n",
      "Filtered out 19641 genes that are detected 10 counts (shared).\n",
      "Extracted 6000 highly variable genes.\n",
      "Leiden clustering ...\n"
     ]
    },
    {
     "name": "stderr",
     "output_type": "stream",
     "text": [
      "GPU available: True, used: True\n",
      "TPU available: False, using: 0 TPU cores\n",
      "IPU available: False, using: 0 IPUs\n",
      "LOCAL_RANK: 0 - CUDA_VISIBLE_DEVICES: [0]\n"
     ]
    },
    {
     "name": "stdout",
     "output_type": "stream",
     "text": [
      "Number of Leiden Clusters: 13\n",
      "Maximal Number of Modules: 14\n",
      "First training run ...\n",
      "Epoch 100/100: 100%|██████████████████████████████████████████████████████████████████████████████████████████████████████████████████████████████████████████████████████████| 100/100 [02:58<00:00,  1.79s/it, v_num=1, elbo_train=2.19e+7]\n",
      "Initializing second training run ...\n",
      "Sampling local variables, batch: 100%|█████████████████████████████████████████████████████████████████████████████████████████████████████████████████████████████████████████████████████████████████████████| 1/1 [00:03<00:00,  3.12s/it]\n",
      "Sampling global variables, sample: 100%|███████████████████████████████████████████████████████████████████████████████████████████████████████████████████████████████████████████████████████████████████████| 2/2 [00:00<00:00,  2.00it/s]\n"
     ]
    },
    {
     "name": "stderr",
     "output_type": "stream",
     "text": [
      "GPU available: True, used: True\n",
      "TPU available: False, using: 0 TPU cores\n",
      "IPU available: False, using: 0 IPUs\n",
      "LOCAL_RANK: 0 - CUDA_VISIBLE_DEVICES: [0]\n"
     ]
    },
    {
     "name": "stdout",
     "output_type": "stream",
     "text": [
      "Second training run ...\n",
      "Epoch 400/400: 100%|██████████████████████████████████████████████████████████████████████████████████████████████████████████████████████████████████████████████████████████| 400/400 [11:50<00:00,  1.78s/it, v_num=1, elbo_train=2.11e+7]\n",
      "Sampling local variables, batch: 100%|█████████████████████████████████████████████████████████████████████████████████████████████████████████████████████████████████████████████████████████████████████████| 1/1 [00:02<00:00,  2.88s/it]\n",
      "Sampling global variables, sample: 100%|███████████████████████████████████████████████████████████████████████████████████████████████████████████████████████████████████████████████████████████████████████| 2/2 [00:00<00:00,  2.05it/s]\n",
      "Computing total RNAvelocity ...\n",
      "# Cross-Boundary Direction Correctness (A->B)\n",
      "{('Ngn3 high EP', 'Pre-endocrine'): -0.8431441768016753, ('Pre-endocrine', 'Alpha'): -0.7787032776295173, ('Pre-endocrine', 'Beta'): -0.7369475006085332, ('Pre-endocrine', 'Delta'): -0.21777022756833556, ('Pre-endocrine', 'Epsilon'): -0.3530463972439346}\n",
      "Total Mean: -0.5859223159703991\n",
      "# In-cluster Coherence\n",
      "{'Alpha': 0.7384557, 'Beta': 0.68311113, 'Delta': 0.5803638, 'Ductal': 0.85815364, 'Epsilon': 0.605004, 'Ngn3 high EP': 0.7081334, 'Ngn3 low EP': 0.8227676, 'Pre-endocrine': 0.71703583}\n",
      "Total Mean: 0.7141281366348267\n",
      "2\n",
      "1\n",
      "2\n",
      "Keeping at most 100000 cells per cluster\n",
      "Filtered out 19641 genes that are detected 10 counts (shared).\n",
      "Extracted 6000 highly variable genes.\n",
      "Leiden clustering ...\n"
     ]
    },
    {
     "name": "stderr",
     "output_type": "stream",
     "text": [
      "GPU available: True, used: True\n",
      "TPU available: False, using: 0 TPU cores\n",
      "IPU available: False, using: 0 IPUs\n",
      "LOCAL_RANK: 0 - CUDA_VISIBLE_DEVICES: [0]\n"
     ]
    },
    {
     "name": "stdout",
     "output_type": "stream",
     "text": [
      "Number of Leiden Clusters: 13\n",
      "Maximal Number of Modules: 14\n",
      "First training run ...\n",
      "Epoch 100/100: 100%|██████████████████████████████████████████████████████████████████████████████████████████████████████████████████████████████████████████████████████████| 100/100 [03:23<00:00,  2.03s/it, v_num=1, elbo_train=2.18e+7]\n",
      "Initializing second training run ...\n",
      "Sampling local variables, batch: 100%|█████████████████████████████████████████████████████████████████████████████████████████████████████████████████████████████████████████████████████████████████████████| 1/1 [00:03<00:00,  3.27s/it]\n",
      "Sampling global variables, sample: 100%|███████████████████████████████████████████████████████████████████████████████████████████████████████████████████████████████████████████████████████████████████████| 2/2 [00:01<00:00,  1.72it/s]\n"
     ]
    },
    {
     "name": "stderr",
     "output_type": "stream",
     "text": [
      "GPU available: True, used: True\n",
      "TPU available: False, using: 0 TPU cores\n",
      "IPU available: False, using: 0 IPUs\n",
      "LOCAL_RANK: 0 - CUDA_VISIBLE_DEVICES: [0]\n"
     ]
    },
    {
     "name": "stdout",
     "output_type": "stream",
     "text": [
      "Second training run ...\n",
      "Epoch 400/400: 100%|██████████████████████████████████████████████████████████████████████████████████████████████████████████████████████████████████████████████████████████| 400/400 [13:33<00:00,  2.03s/it, v_num=1, elbo_train=2.11e+7]\n",
      "Sampling local variables, batch: 100%|█████████████████████████████████████████████████████████████████████████████████████████████████████████████████████████████████████████████████████████████████████████| 1/1 [00:03<00:00,  3.25s/it]\n",
      "Sampling global variables, sample: 100%|███████████████████████████████████████████████████████████████████████████████████████████████████████████████████████████████████████████████████████████████████████| 2/2 [00:01<00:00,  1.75it/s]\n",
      "Computing total RNAvelocity ...\n",
      "# Cross-Boundary Direction Correctness (A->B)\n",
      "{('Ngn3 high EP', 'Pre-endocrine'): 0.5809135749991271, ('Pre-endocrine', 'Alpha'): -0.6928205159811495, ('Pre-endocrine', 'Beta'): -0.6773081732260801, ('Pre-endocrine', 'Delta'): -0.31804350757530386, ('Pre-endocrine', 'Epsilon'): -0.08062887929319562}\n",
      "Total Mean: -0.23757750021532037\n",
      "# In-cluster Coherence\n",
      "{'Alpha': 0.8716972, 'Beta': 0.7333195, 'Delta': 0.663345, 'Ductal': 0.7801297, 'Epsilon': 0.7373589, 'Ngn3 high EP': 0.7359698, 'Ngn3 low EP': 0.6984379, 'Pre-endocrine': 0.66148996}\n",
      "Total Mean: 0.7352185249328613\n",
      "2\n",
      "2\n",
      "0\n",
      "Keeping at most 100000 cells per cluster\n",
      "Filtered out 20801 genes that are detected 20 counts (shared).\n",
      "Extracted 6000 highly variable genes.\n",
      "Leiden clustering ...\n"
     ]
    },
    {
     "name": "stderr",
     "output_type": "stream",
     "text": [
      "GPU available: True, used: True\n",
      "TPU available: False, using: 0 TPU cores\n",
      "IPU available: False, using: 0 IPUs\n",
      "LOCAL_RANK: 0 - CUDA_VISIBLE_DEVICES: [0]\n"
     ]
    },
    {
     "name": "stdout",
     "output_type": "stream",
     "text": [
      "Number of Leiden Clusters: 13\n",
      "Maximal Number of Modules: 14\n",
      "First training run ...\n",
      "Epoch 100/100: 100%|███████████████████████████████████████████████████████████████████████████████████████████████████████████████████████████████████████████████████████████| 100/100 [02:33<00:00,  1.54s/it, v_num=1, elbo_train=2.4e+7]\n",
      "Initializing second training run ...\n",
      "Sampling local variables, batch: 100%|█████████████████████████████████████████████████████████████████████████████████████████████████████████████████████████████████████████████████████████████████████████| 1/1 [00:02<00:00,  2.79s/it]\n",
      "Sampling global variables, sample: 100%|███████████████████████████████████████████████████████████████████████████████████████████████████████████████████████████████████████████████████████████████████████| 2/2 [00:00<00:00,  2.26it/s]\n"
     ]
    },
    {
     "name": "stderr",
     "output_type": "stream",
     "text": [
      "GPU available: True, used: True\n",
      "TPU available: False, using: 0 TPU cores\n",
      "IPU available: False, using: 0 IPUs\n",
      "LOCAL_RANK: 0 - CUDA_VISIBLE_DEVICES: [0]\n"
     ]
    },
    {
     "name": "stdout",
     "output_type": "stream",
     "text": [
      "Second training run ...\n",
      "Epoch 400/400: 100%|██████████████████████████████████████████████████████████████████████████████████████████████████████████████████████████████████████████████████████████| 400/400 [10:14<00:00,  1.54s/it, v_num=1, elbo_train=2.32e+7]\n",
      "Sampling local variables, batch: 100%|█████████████████████████████████████████████████████████████████████████████████████████████████████████████████████████████████████████████████████████████████████████| 1/1 [00:02<00:00,  2.75s/it]\n",
      "Sampling global variables, sample: 100%|███████████████████████████████████████████████████████████████████████████████████████████████████████████████████████████████████████████████████████████████████████| 2/2 [00:00<00:00,  2.27it/s]\n",
      "Computing total RNAvelocity ...\n",
      "# Cross-Boundary Direction Correctness (A->B)\n",
      "{('Ngn3 high EP', 'Pre-endocrine'): 0.8455998384207289, ('Pre-endocrine', 'Alpha'): 0.7863518059178983, ('Pre-endocrine', 'Beta'): 0.7784390330412101, ('Pre-endocrine', 'Delta'): 0.30324192685295426, ('Pre-endocrine', 'Epsilon'): 0.3415277714437466}\n",
      "Total Mean: 0.6110320751353076\n",
      "# In-cluster Coherence\n",
      "{'Alpha': 0.7157845, 'Beta': 0.8387802, 'Delta': 0.58902097, 'Ductal': 0.7191494, 'Epsilon': 0.60571575, 'Ngn3 high EP': 0.83465093, 'Ngn3 low EP': 0.66624326, 'Pre-endocrine': 0.7854969}\n",
      "Total Mean: 0.7193552255630493\n",
      "2\n",
      "2\n",
      "1\n",
      "Keeping at most 100000 cells per cluster\n",
      "Filtered out 20801 genes that are detected 20 counts (shared).\n",
      "Extracted 6000 highly variable genes.\n",
      "Leiden clustering ...\n"
     ]
    },
    {
     "name": "stderr",
     "output_type": "stream",
     "text": [
      "GPU available: True, used: True\n",
      "TPU available: False, using: 0 TPU cores\n",
      "IPU available: False, using: 0 IPUs\n",
      "LOCAL_RANK: 0 - CUDA_VISIBLE_DEVICES: [0]\n"
     ]
    },
    {
     "name": "stdout",
     "output_type": "stream",
     "text": [
      "Number of Leiden Clusters: 13\n",
      "Maximal Number of Modules: 14\n",
      "First training run ...\n",
      "Epoch 100/100: 100%|███████████████████████████████████████████████████████████████████████████████████████████████████████████████████████████████████████████████████████████| 100/100 [02:58<00:00,  1.78s/it, v_num=1, elbo_train=2.4e+7]\n",
      "Initializing second training run ...\n",
      "Sampling local variables, batch: 100%|█████████████████████████████████████████████████████████████████████████████████████████████████████████████████████████████████████████████████████████████████████████| 1/1 [00:03<00:00,  3.07s/it]\n",
      "Sampling global variables, sample: 100%|███████████████████████████████████████████████████████████████████████████████████████████████████████████████████████████████████████████████████████████████████████| 2/2 [00:01<00:00,  1.99it/s]\n"
     ]
    },
    {
     "name": "stderr",
     "output_type": "stream",
     "text": [
      "GPU available: True, used: True\n",
      "TPU available: False, using: 0 TPU cores\n",
      "IPU available: False, using: 0 IPUs\n",
      "LOCAL_RANK: 0 - CUDA_VISIBLE_DEVICES: [0]\n"
     ]
    },
    {
     "name": "stdout",
     "output_type": "stream",
     "text": [
      "Second training run ...\n",
      "Epoch 400/400: 100%|██████████████████████████████████████████████████████████████████████████████████████████████████████████████████████████████████████████████████████████| 400/400 [11:52<00:00,  1.78s/it, v_num=1, elbo_train=2.32e+7]\n",
      "Sampling local variables, batch: 100%|█████████████████████████████████████████████████████████████████████████████████████████████████████████████████████████████████████████████████████████████████████████| 1/1 [00:02<00:00,  3.00s/it]\n",
      "Sampling global variables, sample: 100%|███████████████████████████████████████████████████████████████████████████████████████████████████████████████████████████████████████████████████████████████████████| 2/2 [00:00<00:00,  2.05it/s]\n",
      "Computing total RNAvelocity ...\n",
      "# Cross-Boundary Direction Correctness (A->B)\n",
      "{('Ngn3 high EP', 'Pre-endocrine'): -0.8428453304983066, ('Pre-endocrine', 'Alpha'): -0.7631556448131983, ('Pre-endocrine', 'Beta'): -0.7453680508344683, ('Pre-endocrine', 'Delta'): -0.2887071506917505, ('Pre-endocrine', 'Epsilon'): -0.3417304090937336}\n",
      "Total Mean: -0.5963613171862915\n",
      "# In-cluster Coherence\n",
      "{'Alpha': 0.75067365, 'Beta': 0.71837527, 'Delta': 0.5667012, 'Ductal': 0.86601305, 'Epsilon': 0.615985, 'Ngn3 high EP': 0.75801826, 'Ngn3 low EP': 0.86726254, 'Pre-endocrine': 0.7931749}\n",
      "Total Mean: 0.7420254945755005\n",
      "2\n",
      "2\n",
      "2\n",
      "Keeping at most 100000 cells per cluster\n",
      "Filtered out 20801 genes that are detected 20 counts (shared).\n",
      "Extracted 6000 highly variable genes.\n",
      "Leiden clustering ...\n"
     ]
    },
    {
     "name": "stderr",
     "output_type": "stream",
     "text": [
      "GPU available: True, used: True\n",
      "TPU available: False, using: 0 TPU cores\n",
      "IPU available: False, using: 0 IPUs\n",
      "LOCAL_RANK: 0 - CUDA_VISIBLE_DEVICES: [0]\n"
     ]
    },
    {
     "name": "stdout",
     "output_type": "stream",
     "text": [
      "Number of Leiden Clusters: 13\n",
      "Maximal Number of Modules: 14\n",
      "First training run ...\n",
      "Epoch 100/100: 100%|██████████████████████████████████████████████████████████████████████████████████████████████████████████████████████████████████████████████████████████| 100/100 [03:22<00:00,  2.03s/it, v_num=1, elbo_train=2.39e+7]\n",
      "Initializing second training run ...\n",
      "Sampling local variables, batch: 100%|█████████████████████████████████████████████████████████████████████████████████████████████████████████████████████████████████████████████████████████████████████████| 1/1 [00:03<00:00,  3.34s/it]\n",
      "Sampling global variables, sample: 100%|███████████████████████████████████████████████████████████████████████████████████████████████████████████████████████████████████████████████████████████████████████| 2/2 [00:01<00:00,  1.71it/s]\n"
     ]
    },
    {
     "name": "stderr",
     "output_type": "stream",
     "text": [
      "GPU available: True, used: True\n",
      "TPU available: False, using: 0 TPU cores\n",
      "IPU available: False, using: 0 IPUs\n",
      "LOCAL_RANK: 0 - CUDA_VISIBLE_DEVICES: [0]\n"
     ]
    },
    {
     "name": "stdout",
     "output_type": "stream",
     "text": [
      "Second training run ...\n",
      "Epoch 254/400:  63%|█████████████████████████████████████████████████████████████████████████████████████████████████▍                                                        | 253/400 [08:31<04:56,  2.01s/it, v_num=1, elbo_train=2.32e+7]"
     ]
    }
   ],
   "source": [
    "import scvelo as scv\n",
    "import scanpy as sc\n",
    "import cell2fate as c2f\n",
    "import pickle as pickle\n",
    "from eval_utils import cross_boundary_correctness\n",
    "from datetime import datetime\n",
    "import pandas as pd\n",
    "import numpy as np\n",
    "from os.path import exists\n",
    "import matplotlib.pyplot as plt\n",
    "import torch\n",
    "import unitvelo as utv\n",
    "method = 'cell2fate'\n",
    "data_dir = '/nfs/team283/aa16/data/fate_benchmarking/benchmarking_datasets/'\n",
    "save_dir = '/nfs/team283/aa16/data/fate_benchmarking/benchmarking_results/'\n",
    "dataset = 'Pancreas_with_cc'\n",
    "n_genes_list = np.array((1500, 3000, 6000))\n",
    "n_counts_list = np.array((5, 10, 20))\n",
    "# Model params:\n",
    "mod_list = [0.8, 1, 1.2]\n",
    "# Robust Training Functions:\n",
    "def infer_dynamics(mod, max_epochs = [100, 400], lr = [0.02, 0.01]):\n",
    "    print('First training run ...')\n",
    "    mod.train(max_epochs = max_epochs[0], lr = lr[0])\n",
    "    print('Initializing second training run ...')\n",
    "    sample_kwarg = {\"num_samples\": 3, \"batch_size\" : adata.n_obs,\n",
    "                     \"use_gpu\" : True, 'return_samples': False}\n",
    "    mod.adata = mod.export_posterior(mod.adata, sample_kwargs=sample_kwarg)\n",
    "    init_vals = {}\n",
    "    params = ['splicing_alpha', 'splicing_mean', 'beta_g', 'degredation_alpha', 'degredation_mean', 'gamma_g', 'factor_level_g',\n",
    "              'g_fg', 'A_mgON', 'detection_mean_y_e', 'detection_hyp_prior_alpha', 'detection_y_c',\n",
    "              'detection_y_i', 'detection_y_gi', 's_g_gene_add_alpha_hyp', 's_g_gene_add_mean', 's_g_gene_add_alpha_e_inv',\n",
    "              's_g_gene_add']\n",
    "    for i in range(len(params)):\n",
    "            init_vals[params[i]] = mod.samples['post_sample_means'][params[i]]\n",
    "    print('Second training run ...')\n",
    "    mod2 = c2f.Cell2fate_DynamicalModel(mod.adata, n_modules = n_modules,\n",
    "            init_vals = init_vals)\n",
    "    del mod\n",
    "    mod2.train(max_epochs = max_epochs[1], lr = lr[1])\n",
    "    return mod2\n",
    "for i in range(len(n_genes_list)):\n",
    "    for j in range(len(n_counts_list)):\n",
    "        for k in range(len(mod_list)):\n",
    "                print(i)\n",
    "                print(j)\n",
    "                print(k)\n",
    "                n_genes = n_genes_list[i]\n",
    "                min_counts = n_counts_list[j]\n",
    "                model_index = str(i) + '-' + str(j) + '-' + str(k)\n",
    "                save_name = method + '_' + dataset\n",
    "                if exists(save_dir + save_name + '_CBDC_And_Posterior.csv'):\n",
    "                    tab = pd.read_csv(save_dir + save_name + '_CBDC_And_Posterior.csv', index_col = 0)\n",
    "                    if model_index in tab.index:\n",
    "                        continue\n",
    "                adata = sc.read_h5ad(data_dir + dataset + '/' + dataset + '_anndata.h5ad')\n",
    "                adata = c2f.utils.get_training_data(adata, cells_per_cluster = 10**5, cluster_column = 'clusters',\n",
    "                                                remove_clusters = [], min_shared_counts = min_counts, n_var_genes= n_genes)\n",
    "                c2f.Cell2fate_DynamicalModel.setup_anndata(adata, spliced_label='spliced', unspliced_label='unspliced')    \n",
    "                n_modules = int(np.round(c2f.utils.get_max_modules(adata)*mod_list[k]))\n",
    "                mod = c2f.Cell2fate_DynamicalModel(adata,\n",
    "                                                   n_modules = n_modules)   \n",
    "                mod = infer_dynamics(mod)\n",
    "                sample_kwarg = {\"num_samples\": 3, \"batch_size\" : adata.n_obs,\n",
    "                     \"use_gpu\" : True, 'return_samples': False}\n",
    "                adata = mod.export_posterior(adata, sample_kwargs = sample_kwarg)\n",
    "                mod.compute_and_plot_total_velocity(adata, save = False, delete = False)\n",
    "                # Calculate performance metrics:\n",
    "                file = open(data_dir + dataset + '/' + dataset + '_groundTruth.pickle' ,'rb')\n",
    "                ground_truth = pickle.load(file)\n",
    "                metrics = utv.evaluate(adata, ground_truth, 'clusters', 'Velocity')\n",
    "                cb_score = [np.mean(metrics['Cross-Boundary Direction Correctness (A->B)'][x])\n",
    "                            for x in metrics['Cross-Boundary Direction Correctness (A->B)'].keys()]\n",
    "                if exists(save_dir + save_name + '_CBDC_And_Posterior.csv'):\n",
    "                    tab = pd.read_csv(save_dir + save_name + '_CBDC_And_Posterior.csv', index_col = 0)\n",
    "                else:\n",
    "                    c_names = ['CBDC']\n",
    "                    tab = pd.DataFrame(columns = c_names)\n",
    "                tab.loc[model_index, 'CBDC'] = np.mean(cb_score)\n",
    "                tab.loc[model_index, 'splicing_alpha'] = mod.samples['post_sample_means']['splicing_alpha']\n",
    "                tab.loc[model_index, 'splicing_mean'] = mod.samples['post_sample_means']['splicing_mean']\n",
    "                tab.loc[model_index, 'beta_g_mean'] = np.mean(mod.samples['post_sample_means']['beta_g'])\n",
    "                tab.loc[model_index, 'beta_g_var'] = np.var(mod.samples['post_sample_means']['beta_g'])\n",
    "                tab.loc[model_index, 'degredation_alpha'] = mod.samples['post_sample_means']['degredation_alpha']\n",
    "                tab.loc[model_index, 'degredation_mean'] = mod.samples['post_sample_means']['degredation_mean']\n",
    "                tab.loc[model_index, 'gamma_g_mean'] = np.mean(mod.samples['post_sample_means']['gamma_g'])\n",
    "                tab.loc[model_index, 'gamma_g_var'] = np.var(mod.samples['post_sample_means']['gamma_g'])\n",
    "                tab.loc[model_index, 'factor_level_g_mean'] = np.mean(mod.samples['post_sample_means']['factor_level_g'])\n",
    "                tab.loc[model_index, 'factor_level_g_var'] = np.var(mod.samples['post_sample_means']['factor_level_g'])\n",
    "                tab.loc[model_index, 'g_fg_mean'] = np.mean(mod.samples['post_sample_means']['g_fg'])\n",
    "                tab.loc[model_index, 'g_fg_var'] = np.var(mod.samples['post_sample_means']['g_fg'])\n",
    "                tab.loc[model_index, 'A_mgON_mean'] = np.mean(mod.samples['post_sample_means']['A_mgON'])\n",
    "                tab.loc[model_index, 'A_mgON_var'] = np.var(mod.samples['post_sample_means']['A_mgON'])\n",
    "                tab.loc[model_index, 'lam_mu'] = mod.samples['post_sample_means']['lam_mu']\n",
    "                tab.loc[model_index, 'lam_sd'] = mod.samples['post_sample_means']['lam_sd']\n",
    "                tab.loc[model_index, 'lam_m_mu_mean'] = np.mean(mod.samples['post_sample_means']['lam_m_mu'])\n",
    "                tab.loc[model_index, 'lam_m_mu_var'] = np.var(mod.samples['post_sample_means']['lam_m_mu'])\n",
    "                tab.loc[model_index, 'lam_mi_mean'] = np.mean(mod.samples['post_sample_means']['lam_mi'])\n",
    "                tab.loc[model_index, 'lam_mi_var'] = np.var(mod.samples['post_sample_means']['lam_mi'])\n",
    "                tab.loc[model_index, 'Tmax'] = mod.samples['post_sample_means']['Tmax']\n",
    "                tab.loc[model_index, 't_c_loc'] = mod.samples['post_sample_means']['t_c_loc']\n",
    "                tab.loc[model_index, 't_c_scale'] = mod.samples['post_sample_means']['t_c_scale']\n",
    "                tab.loc[model_index, 'T_c_mean'] = np.mean(mod.samples['post_sample_means']['T_c'])\n",
    "                tab.loc[model_index, 'T_c_var'] = np.var(mod.samples['post_sample_means']['T_c'])\n",
    "                tab.loc[model_index, 't_delta_mean'] = np.mean(mod.samples['post_sample_means']['t_delta'])\n",
    "                tab.loc[model_index, 't_delta_var'] = np.var(mod.samples['post_sample_means']['t_delta'])\n",
    "                tab.loc[model_index, 'T_mON_mean'] = np.mean(mod.samples['post_sample_means']['T_mON'])\n",
    "                tab.loc[model_index, 'T_mON_var'] = np.var(mod.samples['post_sample_means']['T_mON'])\n",
    "                tab.loc[model_index, 'T_mON_mean'] = np.mean(mod.samples['post_sample_means']['T_mON'])\n",
    "                tab.loc[model_index, 'T_mON_var'] = np.var(mod.samples['post_sample_means']['T_mON'])\n",
    "                tab.loc[model_index, 'T_mOFF_mean'] = np.mean(mod.samples['post_sample_means']['T_mOFF'])\n",
    "                tab.loc[model_index, 'T_mOFF_var'] = np.var(mod.samples['post_sample_means']['T_mOFF'])\n",
    "                tab.loc[model_index, 'mu_expression_mean'] = np.mean(mod.samples['post_sample_means']['mu_expression'])\n",
    "                tab.loc[model_index, 'mu_expression_var'] = np.var(mod.samples['post_sample_means']['mu_expression'])\n",
    "                tab.loc[model_index, 'detection_mean_y_e_mean'] = np.mean(mod.samples['post_sample_means']['detection_mean_y_e'])\n",
    "                tab.loc[model_index, 'detection_mean_y_e_var'] = np.var(mod.samples['post_sample_means']['detection_mean_y_e'])\n",
    "                tab.loc[model_index, 'detection_hyp_prior_alpha'] = mod.samples['post_sample_means']['detection_hyp_prior_alpha']\n",
    "                tab.loc[model_index, 'detection_y_c_mean'] = np.mean(mod.samples['post_sample_means']['detection_y_c'])\n",
    "                tab.loc[model_index, 'detection_y_c_var'] = np.var(mod.samples['post_sample_means']['detection_y_c'])\n",
    "                tab.loc[model_index, 'detection_y_i_mean'] = np.mean(mod.samples['post_sample_means']['detection_y_i'])\n",
    "                tab.loc[model_index, 'detection_y_i_var'] = np.var(mod.samples['post_sample_means']['detection_y_i'])\n",
    "                tab.loc[model_index, 'detection_y_gi_mean'] = np.mean(mod.samples['post_sample_means']['detection_y_gi'])\n",
    "                tab.loc[model_index, 'detection_y_gi_var'] = np.var(mod.samples['post_sample_means']['detection_y_gi'])\n",
    "                tab.loc[model_index, 's_g_gene_add_alpha_hyp_mean'] = np.mean(mod.samples['post_sample_means']['s_g_gene_add_alpha_hyp'])\n",
    "                tab.loc[model_index, 's_g_gene_add_alpha_hyp_var'] = np.var(mod.samples['post_sample_means']['s_g_gene_add_alpha_hyp'])\n",
    "                tab.loc[model_index, 's_g_gene_add_mean_mean'] = np.mean(mod.samples['post_sample_means']['s_g_gene_add_mean'])\n",
    "                tab.loc[model_index, 's_g_gene_add_mean_var'] = np.var(mod.samples['post_sample_means']['s_g_gene_add_mean'])\n",
    "                tab.loc[model_index, 's_g_gene_add_alpha_e_inv_mean'] = np.mean(mod.samples['post_sample_means']['s_g_gene_add_alpha_e_inv'])\n",
    "                tab.loc[model_index, 's_g_gene_add_alpha_e_inv_var'] = np.var(mod.samples['post_sample_means']['s_g_gene_add_alpha_e_inv'])\n",
    "                tab.loc[model_index, 's_g_gene_add_mean'] = np.mean(mod.samples['post_sample_means']['s_g_gene_add'])\n",
    "                tab.loc[model_index, 's_g_gene_add_var'] = np.var(mod.samples['post_sample_means']['s_g_gene_add'])\n",
    "                tab.loc[model_index, 'stochastic_v_ag_hyp_mean'] = np.mean(mod.samples['post_sample_means']['stochastic_v_ag_hyp'])\n",
    "                tab.loc[model_index, 'stochastic_v_ag_hyp_var'] = np.var(mod.samples['post_sample_means']['stochastic_v_ag_hyp'])\n",
    "                tab.loc[model_index, 'stochastic_v_ag_inv_mean'] = np.mean(mod.samples['post_sample_means']['stochastic_v_ag_inv'])\n",
    "                tab.loc[model_index, 'stochastic_v_ag_inv_var'] = np.var(mod.samples['post_sample_means']['stochastic_v_ag_inv'])\n",
    "                tab.to_csv(save_dir + save_name + '_CBDC_And_Posterior.csv')"
   ]
  },
  {
   "cell_type": "code",
   "execution_count": null,
   "id": "9bf22ddd",
   "metadata": {},
   "outputs": [],
   "source": []
  }
 ],
 "metadata": {
  "kernelspec": {
   "display_name": "Python [conda env:cell2fate_env]",
   "language": "python",
   "name": "conda-env-cell2fate_env-py"
  },
  "language_info": {
   "codemirror_mode": {
    "name": "ipython",
    "version": 3
   },
   "file_extension": ".py",
   "mimetype": "text/x-python",
   "name": "python",
   "nbconvert_exporter": "python",
   "pygments_lexer": "ipython3",
   "version": "3.9.12"
  }
 },
 "nbformat": 4,
 "nbformat_minor": 5
}
