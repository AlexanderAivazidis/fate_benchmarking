{
 "cells": [
  {
   "cell_type": "code",
   "execution_count": 1,
   "id": "003eb8dd",
   "metadata": {},
   "outputs": [
    {
     "name": "stdout",
     "output_type": "stream",
     "text": [
      "(Running UniTVelo 0.2.5)\n",
      "2023-05-19 10:14:49\n"
     ]
    }
   ],
   "source": [
    "import scvelo as scv\n",
    "import scanpy as sc\n",
    "import pickle as pickle\n",
    "from eval_utils import cross_boundary_correctness, inner_cluster_coh\n",
    "import pandas as pd\n",
    "import numpy as np\n",
    "from os.path import exists\n",
    "import matplotlib.pyplot as plt\n",
    "import unitvelo as utv\n",
    "method = 'scVelo_stochastic'"
   ]
  },
  {
   "cell_type": "code",
   "execution_count": 2,
   "id": "59c35c07",
   "metadata": {},
   "outputs": [],
   "source": [
    "datasets = ['Pancreas_with_cc', 'HumanDevelopingBrain', 'HumanBoneMarrow', 'MouseBoneMarrow',  'DentateGyrus', 'MouseErythroid']\n",
    "data_dir = '/nfs/team283/aa16/data/fate_benchmarking/benchmarking_datasets/'\n",
    "save_dir = '/nfs/team283/aa16/data/fate_benchmarking/benchmarking_results/'"
   ]
  },
  {
   "cell_type": "code",
   "execution_count": null,
   "id": "fd5023c1",
   "metadata": {},
   "outputs": [
    {
     "name": "stdout",
     "output_type": "stream",
     "text": [
      "Pancreas_with_cc\n",
      "Filtered out 20801 genes that are detected 20 counts (shared).\n",
      "Normalized count data: X, spliced, unspliced.\n",
      "Extracted 3000 highly variable genes.\n",
      "Logarithmized X.\n",
      "computing neighbors\n",
      "    finished (0:00:07) --> added \n",
      "    'distances' and 'connectivities', weighted adjacency matrices (adata.obsp)\n",
      "computing moments based on connectivities\n",
      "    finished (0:00:00) --> added \n",
      "    'Ms' and 'Mu', moments of un/spliced abundances (adata.layers)\n",
      "computing velocities\n",
      "    finished (0:00:01) --> added \n",
      "    'velocity', velocity vectors for each individual cell (adata.layers)\n",
      "computing neighbors\n",
      "    finished (0:00:00) --> added \n",
      "    'distances' and 'connectivities', weighted adjacency matrices (adata.obsp)\n",
      "computing velocity graph (using 1/64 cores)\n"
     ]
    },
    {
     "data": {
      "application/vnd.jupyter.widget-view+json": {
       "model_id": "401ddbbfa19e42668bfc000440f677ba",
       "version_major": 2,
       "version_minor": 0
      },
      "text/plain": [
       "  0%|          | 0/3696 [00:00<?, ?cells/s]"
      ]
     },
     "metadata": {},
     "output_type": "display_data"
    },
    {
     "name": "stdout",
     "output_type": "stream",
     "text": [
      "    finished (0:00:09) --> added \n",
      "    'velocity_graph', sparse matrix with cosine correlations (adata.uns)\n",
      "computing velocity embedding\n",
      "    finished (0:00:00) --> added\n",
      "    'velocity_umap', embedded velocity vectors (adata.obsm)\n",
      "# Cross-Boundary Direction Correctness (A->B)\n",
      "{('Ngn3 high EP', 'Pre-endocrine'): 0.7550942626178538, ('Pre-endocrine', 'Alpha'): 0.7407024801362301, ('Pre-endocrine', 'Beta'): 0.8245279240327779, ('Pre-endocrine', 'Delta'): 0.5213765184175337, ('Pre-endocrine', 'Epsilon'): -0.05043522818711939}\n",
      "Total Mean: 0.5582531914034552\n",
      "# In-cluster Coherence\n",
      "{'Alpha': 0.7423561, 'Beta': 0.74370146, 'Delta': 0.7973447, 'Ductal': 0.96996146, 'Epsilon': 0.8494918, 'Ngn3 high EP': 0.9539899, 'Ngn3 low EP': 0.97469455, 'Pre-endocrine': 0.8208246}\n",
      "Total Mean: 0.8565455675125122\n",
      "# Cross-Boundary Direction Correctness (A->B)\n",
      "{('Ngn3 high EP', 'Pre-endocrine'): 0.7550942626178538, ('Pre-endocrine', 'Alpha'): 0.7407024801362301, ('Pre-endocrine', 'Beta'): 0.8245279240327779, ('Pre-endocrine', 'Delta'): 0.5213765184175337, ('Pre-endocrine', 'Epsilon'): -0.05043522818711939}\n",
      "Total Mean: 0.5582531914034552\n",
      "# In-cluster Coherence\n",
      "{'Alpha': 0.7423561, 'Beta': 0.74370146, 'Delta': 0.7973447, 'Ductal': 0.96996146, 'Epsilon': 0.8494918, 'Ngn3 high EP': 0.9539899, 'Ngn3 low EP': 0.97469455, 'Pre-endocrine': 0.8208246}\n",
      "Total Mean: 0.8565455675125122\n",
      "HumanDevelopingBrain\n",
      "Filtered out 17336 genes that are detected 20 counts (shared).\n",
      "Normalized count data: X, spliced, unspliced.\n",
      "Extracted 3000 highly variable genes.\n",
      "WARNING: Did not modify X as it looks preprocessed already.\n",
      "computing neighbors\n"
     ]
    }
   ],
   "source": [
    "for dataset in datasets:\n",
    "    print(dataset)\n",
    "    # Load and setup data:\n",
    "    adata = sc.read_h5ad(data_dir + dataset + '/' + dataset + '_anndata.h5ad')\n",
    "    scv.pp.filter_and_normalize(adata, min_shared_counts=20, n_top_genes=3000)\n",
    "    scv.pp.moments(adata, n_pcs=30, n_neighbors=30)\n",
    "    scv.tl.velocity(adata, vkey='velocity', mode='stochastic')\n",
    "    scv.pp.neighbors(adata)\n",
    "    scv.tl.velocity_graph(adata, vkey='velocity')\n",
    "    scv.tl.velocity_embedding(adata, vkey='velocity')\n",
    "    fix, ax = plt.subplots(1, 1, figsize = (8, 6))\n",
    "    scv.pl.velocity_embedding_stream(adata, basis='umap', save = False, vkey='velocity',\n",
    "                                     show = False, ax = ax, legend_fontsize = 13)\n",
    "    plt.savefig(save_dir + 'UMAPs/' + dataset + '_UMAP_scvelo.svg')\n",
    "    # Calculate performance metrics:\n",
    "    adata.layers['velocity'][pd.isna(adata.layers['velocity'])] = 0\n",
    "    file = open(data_dir + dataset + '/' + dataset + '_groundTruth.pickle' ,'rb')\n",
    "    ground_truth = pickle.load(file)\n",
    "    metrics = utv.evaluate(adata, ground_truth, 'clusters', 'velocity')\n",
    "    if exists(save_dir + dataset + '_CBDC_scores.csv'):\n",
    "        tab = pd.read_csv(save_dir + dataset + '_CBDC_scores.csv', index_col = 0)\n",
    "    else:\n",
    "        tab = pd.DataFrame(columns = list(metrics['Cross-Boundary Direction Correctness (A->B)'].keys()) + ['Mean'],\n",
    "                 index = [method])\n",
    "    cb_score = [np.mean(metrics['Cross-Boundary Direction Correctness (A->B)'][x])\n",
    "                for x in metrics['Cross-Boundary Direction Correctness (A->B)'].keys()]\n",
    "    tab.loc[method,:] = cb_score + [np.mean(cb_score)]\n",
    "    tab.to_csv(save_dir + dataset + '_CBDC_scores.csv')\n",
    "    metrics = utv.evaluate(adata, ground_truth, 'clusters', 'velocity')\n",
    "    if exists(save_dir + dataset + '_ICC_scores.csv'):\n",
    "        tab = pd.read_csv(save_dir + dataset + '_ICC_scores.csv', index_col = 0)\n",
    "    else:\n",
    "        tab = pd.DataFrame(columns = list(np.unique(np.concatenate(ground_truth))) + ['Mean'],\n",
    "                 index = [method])\n",
    "    icc_score = [np.mean(metrics['In-cluster Coherence'][x]) for x in np.unique(np.concatenate(ground_truth))]\n",
    "    tab.loc[method,:] = icc_score + [np.mean(icc_score)]\n",
    "    tab.to_csv(save_dir + dataset + '_ICC_scores.csv')\n",
    "    fix, ax = plt.subplots(1, 1, figsize = (8, 6))\n",
    "    scv.pl.velocity_embedding_stream(adata, basis='umap', save = False, vkey='velocity',\n",
    "                                     show = False, ax = ax)\n",
    "    plt.savefig(save_dir + 'UMAPs/' + dataset + '_UMAP_' + method + '.svg')"
   ]
  },
  {
   "cell_type": "code",
   "execution_count": null,
   "id": "8c957ea2",
   "metadata": {},
   "outputs": [],
   "source": []
  }
 ],
 "metadata": {
  "kernelspec": {
   "display_name": "Python [conda env:cell2fate_env]",
   "language": "python",
   "name": "conda-env-cell2fate_env-py"
  },
  "language_info": {
   "codemirror_mode": {
    "name": "ipython",
    "version": 3
   },
   "file_extension": ".py",
   "mimetype": "text/x-python",
   "name": "python",
   "nbconvert_exporter": "python",
   "pygments_lexer": "ipython3",
   "version": "3.9.12"
  }
 },
 "nbformat": 4,
 "nbformat_minor": 5
}
