{
 "cells": [
  {
   "cell_type": "code",
   "execution_count": 1,
   "id": "31df2906",
   "metadata": {},
   "outputs": [],
   "source": [
    "import pandas as pd\n",
    "import scanpy as sc\n",
    "import numpy as np"
   ]
  },
  {
   "cell_type": "code",
   "execution_count": 2,
   "id": "9c45863d",
   "metadata": {},
   "outputs": [],
   "source": [
    "datasets = ['Pancreas_with_cc', 'DentateGyrus', 'MouseErythroid', 'MouseBoneMarrow', 'HumanBoneMarrow']\n",
    "save_dir = '/nfs/team283/aa16/data/fate_benchmarking/benchmarking_results/'"
   ]
  },
  {
   "cell_type": "code",
   "execution_count": 3,
   "id": "35ce8fb1",
   "metadata": {},
   "outputs": [],
   "source": [
    "comparison = ['scvelo1', 'veloVI1', 'cell2fate2', 'veloVAE1']\n",
    "tab_summary = pd.DataFrame(columns = datasets, index = comparison)"
   ]
  },
  {
   "cell_type": "code",
   "execution_count": 4,
   "id": "0c496d9f",
   "metadata": {},
   "outputs": [
    {
     "name": "stdout",
     "output_type": "stream",
     "text": [
      "Pancreas_with_cc\n",
      "DentateGyrus\n",
      "MouseErythroid\n",
      "MouseBoneMarrow\n",
      "HumanBoneMarrow\n"
     ]
    }
   ],
   "source": [
    "for dataset in datasets:\n",
    "    print(dataset)\n",
    "    tab = pd.read_csv(save_dir + dataset + '_scores.csv', index_col = 0)\n",
    "    tab_summary.loc[:,dataset] = tab.loc[comparison, 'Mean']"
   ]
  },
  {
   "cell_type": "code",
   "execution_count": 5,
   "id": "efa5ac78",
   "metadata": {},
   "outputs": [
    {
     "data": {
      "text/html": [
       "<div>\n",
       "<style scoped>\n",
       "    .dataframe tbody tr th:only-of-type {\n",
       "        vertical-align: middle;\n",
       "    }\n",
       "\n",
       "    .dataframe tbody tr th {\n",
       "        vertical-align: top;\n",
       "    }\n",
       "\n",
       "    .dataframe thead th {\n",
       "        text-align: right;\n",
       "    }\n",
       "</style>\n",
       "<table border=\"1\" class=\"dataframe\">\n",
       "  <thead>\n",
       "    <tr style=\"text-align: right;\">\n",
       "      <th></th>\n",
       "      <th>Pancreas_with_cc</th>\n",
       "      <th>DentateGyrus</th>\n",
       "      <th>MouseErythroid</th>\n",
       "      <th>MouseBoneMarrow</th>\n",
       "      <th>HumanBoneMarrow</th>\n",
       "    </tr>\n",
       "  </thead>\n",
       "  <tbody>\n",
       "    <tr>\n",
       "      <th>scvelo1</th>\n",
       "      <td>0.501289</td>\n",
       "      <td>0.363515</td>\n",
       "      <td>-0.480705</td>\n",
       "      <td>0.019869</td>\n",
       "      <td>-0.839002</td>\n",
       "    </tr>\n",
       "    <tr>\n",
       "      <th>veloVI1</th>\n",
       "      <td>0.598799</td>\n",
       "      <td>0.521108</td>\n",
       "      <td>0.066295</td>\n",
       "      <td>0.690902</td>\n",
       "      <td>-0.085064</td>\n",
       "    </tr>\n",
       "    <tr>\n",
       "      <th>cell2fate2</th>\n",
       "      <td>0.482475</td>\n",
       "      <td>0.223030</td>\n",
       "      <td>0.626937</td>\n",
       "      <td>-0.663160</td>\n",
       "      <td>0.302205</td>\n",
       "    </tr>\n",
       "    <tr>\n",
       "      <th>veloVAE1</th>\n",
       "      <td>0.562780</td>\n",
       "      <td>0.312375</td>\n",
       "      <td>0.160856</td>\n",
       "      <td>0.618357</td>\n",
       "      <td>-0.817809</td>\n",
       "    </tr>\n",
       "  </tbody>\n",
       "</table>\n",
       "</div>"
      ],
      "text/plain": [
       "            Pancreas_with_cc  DentateGyrus  MouseErythroid  MouseBoneMarrow  \\\n",
       "scvelo1             0.501289      0.363515       -0.480705         0.019869   \n",
       "veloVI1             0.598799      0.521108        0.066295         0.690902   \n",
       "cell2fate2          0.482475      0.223030        0.626937        -0.663160   \n",
       "veloVAE1            0.562780      0.312375        0.160856         0.618357   \n",
       "\n",
       "            HumanBoneMarrow  \n",
       "scvelo1           -0.839002  \n",
       "veloVI1           -0.085064  \n",
       "cell2fate2         0.302205  \n",
       "veloVAE1          -0.817809  "
      ]
     },
     "execution_count": 5,
     "metadata": {},
     "output_type": "execute_result"
    }
   ],
   "source": [
    "tab_summary"
   ]
  },
  {
   "cell_type": "code",
   "execution_count": 6,
   "id": "73f13e53",
   "metadata": {},
   "outputs": [
    {
     "data": {
      "text/plain": [
       "<matplotlib.legend.Legend at 0x150c0ed96be0>"
      ]
     },
     "execution_count": 6,
     "metadata": {},
     "output_type": "execute_result"
    },
    {
     "data": {
      "image/png": "[encoded data removed]",
      "text/plain": [
       "<Figure size 288x504 with 1 Axes>"
      ]
     },
     "metadata": {
      "needs_background": "light"
     },
     "output_type": "display_data"
    }
   ],
   "source": [
    "import matplotlib.pyplot as plt\n",
    "fig, ax = plt.subplots(1,1, figsize=(4,7))\n",
    "ax.axvline(ymin = 0, ymax = len(tab_summary.columns), color = 'black', linestyle = '--')\n",
    "ax.scatter(np.array(tab_summary.loc['scvelo1',:]), list(range(len(tab_summary.columns))), label = 'scvelo', color = 'red')\n",
    "ax.scatter(np.array(tab_summary.loc['veloVI1',:]), list(range(len(tab_summary.columns))), label = 'veloVI', color = 'blue')\n",
    "ax.scatter(np.array(tab_summary.loc['veloVAE1',:]), list(range(len(tab_summary.columns))), label = 'veloVAE', color = 'grey')\n",
    "ax.scatter(np.array(tab_summary.loc['cell2fate2',:]), list(range(len(tab_summary.columns))), label = 'cell2fate', color = 'yellow')\n",
    "ax.set_xlabel('Cross Boundary Correctness')\n",
    "ax.set_yticks(list(range(len(tab_summary.columns))))\n",
    "ax.set_yticklabels(datasets)\n",
    "ax.set_xlim(-1,1)\n",
    "ax.legend(frameon=False)\n",
    "ax.legend(loc='center left', bbox_to_anchor=(1, 0.5))"
   ]
  },
  {
   "cell_type": "code",
   "execution_count": null,
   "id": "aac0e363",
   "metadata": {},
   "outputs": [],
   "source": []
  }
 ],
 "metadata": {
  "kernelspec": {
   "display_name": "Python [conda env:cell2fate_env]",
   "language": "python",
   "name": "conda-env-cell2fate_env-py"
  },
  "language_info": {
   "codemirror_mode": {
    "name": "ipython",
    "version": 3
   },
   "file_extension": ".py",
   "mimetype": "text/x-python",
   "name": "python",
   "nbconvert_exporter": "python",
   "pygments_lexer": "ipython3",
   "version": "3.9.12"
  }
 },
 "nbformat": 4,
 "nbformat_minor": 5
}
