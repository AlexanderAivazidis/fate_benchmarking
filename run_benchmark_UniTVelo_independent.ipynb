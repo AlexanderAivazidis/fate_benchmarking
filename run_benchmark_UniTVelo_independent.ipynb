{
 "cells": [
  {
   "cell_type": "code",
   "execution_count": 1,
   "id": "003eb8dd",
   "metadata": {},
   "outputs": [
    {
     "name": "stdout",
     "output_type": "stream",
     "text": [
      "(Running UniTVelo 0.2.5)\n",
      "2022-12-22 12:56:51\n"
     ]
    }
   ],
   "source": [
    "import scvelo as scv\n",
    "import scanpy as sc\n",
    "import pickle as pickle\n",
    "from eval_utils import cross_boundary_correctness, inner_cluster_coh\n",
    "import pandas as pd\n",
    "import numpy as np\n",
    "from os.path import exists\n",
    "import matplotlib.pyplot as plt\n",
    "import unitvelo as utv\n",
    "method = 'UniTVelo_independent'"
   ]
  },
  {
   "cell_type": "code",
   "execution_count": 2,
   "id": "59c35c07",
   "metadata": {},
   "outputs": [],
   "source": [
    "datasets = ['MouseBoneMarrow',  'HumanBoneMarrow', 'MouseErythroid', 'HumanDevelopingBrain', 'DentateGyrus', 'Pancreas_with_cc']\n",
    "data_dir = '/nfs/team283/aa16/data/fate_benchmarking/benchmarking_datasets/'\n",
    "save_dir = '/nfs/team283/aa16/data/fate_benchmarking/benchmarking_results/'"
   ]
  },
  {
   "cell_type": "code",
   "execution_count": 3,
   "id": "fd5023c1",
   "metadata": {},
   "outputs": [
    {
     "name": "stdout",
     "output_type": "stream",
     "text": [
      "MouseBoneMarrow\n",
      "Filtered out 20300 genes that are detected 20 counts (shared).\n",
      "Normalized count data: X, spliced, unspliced.\n",
      "Skip filtering by dispersion since number of variables are less than `n_top_genes`.\n",
      "WARNING: Did not modify X as it looks preprocessed already.\n",
      "computing neighbors\n",
      "    finished (0:00:06) --> added \n",
      "    'distances' and 'connectivities', weighted adjacency matrices (adata.obsp)\n",
      "computing moments based on connectivities\n",
      "    finished (0:00:00) --> added \n",
      "    'Ms' and 'Mu', moments of un/spliced abundances (adata.layers)\n",
      "computing neighbors\n",
      "    finished (0:00:00) --> added \n",
      "    'distances' and 'connectivities', weighted adjacency matrices (adata.obsp)\n",
      "------> Manully Specified Parameters <------\n",
      "N_TOP_GENES:\t3000\n",
      "FIT_OPTION:\t2\n",
      "DENSITY:\tRaw\n",
      "REORDER_CELL:\tHard\n",
      "AGGREGATE_T:\tFalse\n",
      "------> Model Configuration Settings <------\n",
      "LEARNING_RATE:\t0.01\n",
      "R2_ADJUST:\tTrue\n",
      "GENE_PRIOR:\tNone\n",
      "VGENES:\tbasic\n",
      "IROOT:\tNone\n",
      "--------------------------------------------\n",
      "\n",
      "Current working dir is /nfs/team283/aa16/fate_benchmarking.\n",
      "Results will be stored in res folder\n",
      "Filtered out 185 genes that are detected 20 counts (shared).\n",
      "WARNING: Did not normalize X as it looks processed already. To enforce normalization, set `enforce=True`.\n",
      "WARNING: Did not normalize spliced as it looks processed already. To enforce normalization, set `enforce=True`.\n",
      "WARNING: Did not normalize unspliced as it looks processed already. To enforce normalization, set `enforce=True`.\n",
      "Skip filtering by dispersion since number of variables are less than `n_top_genes`.\n",
      "WARNING: Did not modify X as it looks preprocessed already.\n",
      "Extracted 1067 highly variable genes.\n",
      "Computing moments for 1067 genes with n_neighbors: 30 and n_pcs: 30\n",
      "computing moments based on connectivities\n",
      "    finished (0:00:00) --> added \n",
      "    'Ms' and 'Mu', moments of un/spliced abundances (adata.layers)\n",
      "\n",
      "# of velocity genes 464 (Criterion: positive regression coefficient between un/spliced counts)\n",
      "# of velocity genes 439 (Criterion: std of un/spliced reads should be moderate, w/o extreme values)\n",
      "# of velocity genes 439 (Criterion: genes have reads in more than 5% of total cells)\n",
      "Using GPU card: 0\n"
     ]
    },
    {
     "name": "stderr",
     "output_type": "stream",
     "text": [
      "Loss (Total): 51.514, (Spliced): 24.657, (Unspliced): 26.857: 100%|███████████████████████████████████████████████████████████████████████████████████████████████████████████████████████████████████▉| 11997/12000 [07:10<00:00, 27.04it/s]"
     ]
    },
    {
     "data": {
      "image/png": "[encoded data removed]",
      "text/plain": [
       "<Figure size 864x288 with 2 Axes>"
      ]
     },
     "metadata": {
      "needs_background": "light"
     },
     "output_type": "display_data"
    },
    {
     "name": "stderr",
     "output_type": "stream",
     "text": [
      "\r",
      "Loss (Total): 51.514, (Spliced): 24.657, (Unspliced): 26.857: 100%|███████████████████████████████████████████████████████████████████████████████████████████████████████████████████████████████████▉| 11999/12000 [07:19<00:00, 27.32it/s]"
     ]
    },
    {
     "name": "stdout",
     "output_type": "stream",
     "text": [
      "Total loss 51.514, vgene loss 51.514\n"
     ]
    },
    {
     "name": "stderr",
     "output_type": "stream",
     "text": [
      "\n"
     ]
    },
    {
     "ename": "TypeError",
     "evalue": "'NoneType' object is not iterable",
     "output_type": "error",
     "traceback": [
      "\u001b[0;31m---------------------------------------------------------------------------\u001b[0m",
      "\u001b[0;31mTypeError\u001b[0m                                 Traceback (most recent call last)",
      "Input \u001b[0;32mIn [3]\u001b[0m, in \u001b[0;36m<cell line: 1>\u001b[0;34m()\u001b[0m\n\u001b[1;32m     13\u001b[0m velo\u001b[38;5;241m.\u001b[39mGPU \u001b[38;5;241m=\u001b[39m \u001b[38;5;241m0\u001b[39m\n\u001b[1;32m     14\u001b[0m scv\u001b[38;5;241m.\u001b[39mpp\u001b[38;5;241m.\u001b[39mneighbors(adata)\n\u001b[0;32m---> 15\u001b[0m adata \u001b[38;5;241m=\u001b[39m \u001b[43mutv\u001b[49m\u001b[38;5;241;43m.\u001b[39;49m\u001b[43mrun_model\u001b[49m\u001b[43m(\u001b[49m\u001b[43madata\u001b[49m\u001b[43m,\u001b[49m\u001b[43m \u001b[49m\u001b[38;5;124;43m'\u001b[39;49m\u001b[38;5;124;43mclusters\u001b[39;49m\u001b[38;5;124;43m'\u001b[39;49m\u001b[43m,\u001b[49m\u001b[43m \u001b[49m\u001b[43mconfig_file\u001b[49m\u001b[38;5;241;43m=\u001b[39;49m\u001b[43mvelo\u001b[49m\u001b[43m)\u001b[49m\n\u001b[1;32m     16\u001b[0m scv\u001b[38;5;241m.\u001b[39mtl\u001b[38;5;241m.\u001b[39mvelocity_graph(adata, vkey\u001b[38;5;241m=\u001b[39m\u001b[38;5;124m'\u001b[39m\u001b[38;5;124mvelocity\u001b[39m\u001b[38;5;124m'\u001b[39m)\n\u001b[1;32m     17\u001b[0m scv\u001b[38;5;241m.\u001b[39mtl\u001b[38;5;241m.\u001b[39mvelocity_embedding(adata, vkey\u001b[38;5;241m=\u001b[39m\u001b[38;5;124m'\u001b[39m\u001b[38;5;124mvelocity\u001b[39m\u001b[38;5;124m'\u001b[39m)\n",
      "File \u001b[0;32m/nfs/team283/aa16/software/miniconda3/envs/cell2fate_env/lib/python3.9/site-packages/unitvelo/main.py:64\u001b[0m, in \u001b[0;36mrun_model\u001b[0;34m(adata, label, config_file, normalize)\u001b[0m\n\u001b[1;32m     61\u001b[0m model \u001b[38;5;241m=\u001b[39m Velocity(adata, config\u001b[38;5;241m=\u001b[39mconfig)\n\u001b[1;32m     62\u001b[0m model\u001b[38;5;241m.\u001b[39mget_velo_genes()\n\u001b[0;32m---> 64\u001b[0m adata \u001b[38;5;241m=\u001b[39m \u001b[43mmodel\u001b[49m\u001b[38;5;241;43m.\u001b[39;49m\u001b[43mfit_velo_genes\u001b[49m\u001b[43m(\u001b[49m\u001b[43mbasis\u001b[49m\u001b[38;5;241;43m=\u001b[39;49m\u001b[43mbasis\u001b[49m\u001b[43m,\u001b[49m\u001b[43m \u001b[49m\u001b[43mrep\u001b[49m\u001b[38;5;241;43m=\u001b[39;49m\u001b[43mrep\u001b[49m\u001b[43m)\u001b[49m\n\u001b[1;32m     65\u001b[0m pre_time_gm \u001b[38;5;241m=\u001b[39m adata\u001b[38;5;241m.\u001b[39mobs[\u001b[38;5;124m'\u001b[39m\u001b[38;5;124mlatent_time\u001b[39m\u001b[38;5;124m'\u001b[39m]\u001b[38;5;241m.\u001b[39mvalues\n\u001b[1;32m     67\u001b[0m \u001b[38;5;28;01mif\u001b[39;00m config\u001b[38;5;241m.\u001b[39mGENERAL \u001b[38;5;241m!=\u001b[39m \u001b[38;5;124m'\u001b[39m\u001b[38;5;124mLinear\u001b[39m\u001b[38;5;124m'\u001b[39m:\n",
      "File \u001b[0;32m/nfs/team283/aa16/software/miniconda3/envs/cell2fate_env/lib/python3.9/site-packages/unitvelo/velocity.py:268\u001b[0m, in \u001b[0;36mVelocity.fit_velo_genes\u001b[0;34m(self, basis, rep)\u001b[0m\n\u001b[1;32m    264\u001b[0m \u001b[38;5;28;01massert\u001b[39;00m \u001b[38;5;28mself\u001b[39m\u001b[38;5;241m.\u001b[39mconfig\u001b[38;5;241m.\u001b[39mGENERAL \u001b[38;5;129;01min\u001b[39;00m [\u001b[38;5;124m'\u001b[39m\u001b[38;5;124mDeterministic\u001b[39m\u001b[38;5;124m'\u001b[39m, \u001b[38;5;124m'\u001b[39m\u001b[38;5;124mCurve\u001b[39m\u001b[38;5;124m'\u001b[39m, \u001b[38;5;124m'\u001b[39m\u001b[38;5;124mLinear\u001b[39m\u001b[38;5;124m'\u001b[39m], \\\n\u001b[1;32m    265\u001b[0m     \u001b[38;5;124m'\u001b[39m\u001b[38;5;124mPlease specify the correct self.GENERAL in configuration file.\u001b[39m\u001b[38;5;124m'\u001b[39m\n\u001b[1;32m    267\u001b[0m \u001b[38;5;28;01mif\u001b[39;00m \u001b[38;5;28mself\u001b[39m\u001b[38;5;241m.\u001b[39mconfig\u001b[38;5;241m.\u001b[39mGENERAL \u001b[38;5;241m==\u001b[39m \u001b[38;5;124m'\u001b[39m\u001b[38;5;124mCurve\u001b[39m\u001b[38;5;124m'\u001b[39m:\n\u001b[0;32m--> 268\u001b[0m     residual, adata \u001b[38;5;241m=\u001b[39m \u001b[38;5;28;43mself\u001b[39;49m\u001b[38;5;241;43m.\u001b[39;49m\u001b[43mfit_curve\u001b[49m\u001b[43m(\u001b[49m\u001b[38;5;28;43mself\u001b[39;49m\u001b[38;5;241;43m.\u001b[39;49m\u001b[43madata\u001b[49m\u001b[43m,\u001b[49m\u001b[43m \u001b[49m\u001b[43midx\u001b[49m\u001b[43m,\u001b[49m\u001b[43m \u001b[49m\u001b[43mMs_scale\u001b[49m\u001b[43m,\u001b[49m\u001b[43m \u001b[49m\u001b[43mMu_scale\u001b[49m\u001b[43m,\u001b[49m\u001b[43m \u001b[49m\u001b[43mrep\u001b[49m\u001b[38;5;241;43m=\u001b[39;49m\u001b[43mrep\u001b[49m\u001b[43m)\u001b[49m\n\u001b[1;32m    270\u001b[0m \u001b[38;5;28;01mif\u001b[39;00m \u001b[38;5;28mself\u001b[39m\u001b[38;5;241m.\u001b[39mconfig\u001b[38;5;241m.\u001b[39mGENERAL \u001b[38;5;241m==\u001b[39m \u001b[38;5;124m'\u001b[39m\u001b[38;5;124mDeterministic\u001b[39m\u001b[38;5;124m'\u001b[39m:\n\u001b[1;32m    271\u001b[0m     residual \u001b[38;5;241m=\u001b[39m \u001b[38;5;28mself\u001b[39m\u001b[38;5;241m.\u001b[39mfit_deterministic(idx, \u001b[38;5;28mself\u001b[39m\u001b[38;5;241m.\u001b[39mMs, \u001b[38;5;28mself\u001b[39m\u001b[38;5;241m.\u001b[39mMu, Ms_scale, Mu_scale)\n",
      "File \u001b[0;32m/nfs/team283/aa16/software/miniconda3/envs/cell2fate_env/lib/python3.9/site-packages/unitvelo/velocity.py:246\u001b[0m, in \u001b[0;36mVelocity.fit_curve\u001b[0;34m(self, adata, idx, Ms_scale, Mu_scale, rep)\u001b[0m\n\u001b[1;32m    243\u001b[0m     \u001b[38;5;28mprint\u001b[39m (\u001b[38;5;124mf\u001b[39m\u001b[38;5;124m'\u001b[39m\u001b[38;5;124mUsing GPU card: \u001b[39m\u001b[38;5;132;01m{\u001b[39;00m\u001b[38;5;28mself\u001b[39m\u001b[38;5;241m.\u001b[39mconfig\u001b[38;5;241m.\u001b[39mGPU\u001b[38;5;132;01m}\u001b[39;00m\u001b[38;5;124m'\u001b[39m)\n\u001b[1;32m    245\u001b[0m \u001b[38;5;28;01mwith\u001b[39;00m tf\u001b[38;5;241m.\u001b[39mdevice(device):\n\u001b[0;32m--> 246\u001b[0m     residual, adata \u001b[38;5;241m=\u001b[39m \u001b[43mlagrange\u001b[49m\u001b[43m(\u001b[49m\n\u001b[1;32m    247\u001b[0m \u001b[43m        \u001b[49m\u001b[43madata\u001b[49m\u001b[43m,\u001b[49m\u001b[43m \u001b[49m\u001b[43midx\u001b[49m\u001b[38;5;241;43m=\u001b[39;49m\u001b[43midx\u001b[49m\u001b[43m,\u001b[49m\n\u001b[1;32m    248\u001b[0m \u001b[43m        \u001b[49m\u001b[43mMs\u001b[49m\u001b[38;5;241;43m=\u001b[39;49m\u001b[43mMs_scale\u001b[49m\u001b[43m,\u001b[49m\u001b[43m \u001b[49m\u001b[43mMu\u001b[49m\u001b[38;5;241;43m=\u001b[39;49m\u001b[43mMu_scale\u001b[49m\u001b[43m,\u001b[49m\u001b[43m \u001b[49m\n\u001b[1;32m    249\u001b[0m \u001b[43m        \u001b[49m\u001b[43mrep\u001b[49m\u001b[38;5;241;43m=\u001b[39;49m\u001b[43mrep\u001b[49m\u001b[43m,\u001b[49m\u001b[43m \u001b[49m\u001b[43mconfig\u001b[49m\u001b[38;5;241;43m=\u001b[39;49m\u001b[38;5;28;43mself\u001b[39;49m\u001b[38;5;241;43m.\u001b[39;49m\u001b[43mconfig\u001b[49m\n\u001b[1;32m    250\u001b[0m \u001b[43m    \u001b[49m\u001b[43m)\u001b[49m\n\u001b[1;32m    252\u001b[0m \u001b[38;5;28;01mreturn\u001b[39;00m residual, adata\n",
      "File \u001b[0;32m/nfs/team283/aa16/software/miniconda3/envs/cell2fate_env/lib/python3.9/site-packages/unitvelo/model.py:416\u001b[0m, in \u001b[0;36mlagrange\u001b[0;34m(adata, idx, Ms, Mu, var_names, rep, config)\u001b[0m\n\u001b[1;32m    404\u001b[0m var_names \u001b[38;5;241m=\u001b[39m make_unique_list(var_names, allow_array\u001b[38;5;241m=\u001b[39m\u001b[38;5;28;01mTrue\u001b[39;00m)\n\u001b[1;32m    406\u001b[0m model \u001b[38;5;241m=\u001b[39m Recover_Paras(\n\u001b[1;32m    407\u001b[0m     adata,\n\u001b[1;32m    408\u001b[0m     Ms,\n\u001b[0;32m   (...)\u001b[0m\n\u001b[1;32m    413\u001b[0m     config\u001b[38;5;241m=\u001b[39mconfig\n\u001b[1;32m    414\u001b[0m )\n\u001b[0;32m--> 416\u001b[0m latent_time_gm, s_derivative, adata \u001b[38;5;241m=\u001b[39m \u001b[43mmodel\u001b[49m\u001b[38;5;241;43m.\u001b[39;49m\u001b[43mfit_likelihood\u001b[49m\u001b[43m(\u001b[49m\u001b[43m)\u001b[49m\n\u001b[1;32m    418\u001b[0m \u001b[38;5;28;01mif\u001b[39;00m \u001b[38;5;124m'\u001b[39m\u001b[38;5;124mlatent_time\u001b[39m\u001b[38;5;124m'\u001b[39m \u001b[38;5;129;01min\u001b[39;00m adata\u001b[38;5;241m.\u001b[39mobs\u001b[38;5;241m.\u001b[39mcolumns:\n\u001b[1;32m    419\u001b[0m     \u001b[38;5;28;01mdel\u001b[39;00m adata\u001b[38;5;241m.\u001b[39mobs[\u001b[38;5;124m'\u001b[39m\u001b[38;5;124mlatent_time\u001b[39m\u001b[38;5;124m'\u001b[39m]\n",
      "File \u001b[0;32m/nfs/team283/aa16/software/miniconda3/envs/cell2fate_env/lib/python3.9/site-packages/unitvelo/model.py:340\u001b[0m, in \u001b[0;36mRecover_Paras.fit_likelihood\u001b[0;34m(self)\u001b[0m\n\u001b[1;32m    337\u001b[0m \u001b[38;5;28mself\u001b[39m\u001b[38;5;241m.\u001b[39madata\u001b[38;5;241m.\u001b[39mvar[\u001b[38;5;124m'\u001b[39m\u001b[38;5;124mvelocity_genes\u001b[39m\u001b[38;5;124m'\u001b[39m] \u001b[38;5;241m=\u001b[39m \u001b[38;5;28mself\u001b[39m\u001b[38;5;241m.\u001b[39mtotal_genes \u001b[38;5;28;01mif\u001b[39;00m \u001b[38;5;129;01mnot\u001b[39;00m \u001b[38;5;28mself\u001b[39m\u001b[38;5;241m.\u001b[39mflag \u001b[38;5;28;01melse\u001b[39;00m \u001b[38;5;28mself\u001b[39m\u001b[38;5;241m.\u001b[39midx\n\u001b[1;32m    338\u001b[0m \u001b[38;5;28mself\u001b[39m\u001b[38;5;241m.\u001b[39madata\u001b[38;5;241m.\u001b[39mlayers[\u001b[38;5;124m'\u001b[39m\u001b[38;5;124mfit_t\u001b[39m\u001b[38;5;124m'\u001b[39m][:, \u001b[38;5;241m~\u001b[39m\u001b[38;5;28mself\u001b[39m\u001b[38;5;241m.\u001b[39madata\u001b[38;5;241m.\u001b[39mvar[\u001b[38;5;124m'\u001b[39m\u001b[38;5;124mvelocity_genes\u001b[39m\u001b[38;5;124m'\u001b[39m]\u001b[38;5;241m.\u001b[39mvalues] \u001b[38;5;241m=\u001b[39m np\u001b[38;5;241m.\u001b[39mnan\n\u001b[0;32m--> 340\u001b[0m \u001b[38;5;28;01mreturn\u001b[39;00m \u001b[38;5;28;43mself\u001b[39;49m\u001b[38;5;241;43m.\u001b[39;49m\u001b[43mget_interim_t\u001b[49m\u001b[43m(\u001b[49m\u001b[43mt_cell\u001b[49m\u001b[43m,\u001b[49m\u001b[43m \u001b[49m\u001b[38;5;28;43mself\u001b[39;49m\u001b[38;5;241;43m.\u001b[39;49m\u001b[43madata\u001b[49m\u001b[38;5;241;43m.\u001b[39;49m\u001b[43mvar\u001b[49m\u001b[43m[\u001b[49m\u001b[38;5;124;43m'\u001b[39;49m\u001b[38;5;124;43mvelocity_genes\u001b[39;49m\u001b[38;5;124;43m'\u001b[39;49m\u001b[43m]\u001b[49m\u001b[38;5;241;43m.\u001b[39;49m\u001b[43mvalues\u001b[49m\u001b[43m)\u001b[49m, s_derivative\u001b[38;5;241m.\u001b[39mnumpy(), \u001b[38;5;28mself\u001b[39m\u001b[38;5;241m.\u001b[39madata\n",
      "File \u001b[0;32m/nfs/team283/aa16/software/miniconda3/envs/cell2fate_env/lib/python3.9/site-packages/unitvelo/optimize_utils.py:351\u001b[0m, in \u001b[0;36mModel_Utils.get_interim_t\u001b[0;34m(self, t_cell, idx)\u001b[0m\n\u001b[1;32m    347\u001b[0m         temp \u001b[38;5;241m=\u001b[39m np\u001b[38;5;241m.\u001b[39mreshape(t_cell[:, i], (\u001b[38;5;241m-\u001b[39m\u001b[38;5;241m1\u001b[39m, \u001b[38;5;241m1\u001b[39m))\n\u001b[1;32m    348\u001b[0m         t_interim[:, i] \u001b[38;5;241m=\u001b[39m \\\n\u001b[1;32m    349\u001b[0m             np\u001b[38;5;241m.\u001b[39msqueeze(col_minmax(temp, \u001b[38;5;28mself\u001b[39m\u001b[38;5;241m.\u001b[39madata\u001b[38;5;241m.\u001b[39mvar\u001b[38;5;241m.\u001b[39mindex[i]))\n\u001b[0;32m--> 351\u001b[0m t_interim \u001b[38;5;241m=\u001b[39m \u001b[38;5;28;43mself\u001b[39;49m\u001b[38;5;241;43m.\u001b[39;49m\u001b[43mmax_density\u001b[49m\u001b[43m(\u001b[49m\u001b[43mt_interim\u001b[49m\u001b[43m)\u001b[49m\n\u001b[1;32m    352\u001b[0m t_interim \u001b[38;5;241m=\u001b[39m tf\u001b[38;5;241m.\u001b[39mreshape(t_interim, (\u001b[38;5;241m-\u001b[39m\u001b[38;5;241m1\u001b[39m, \u001b[38;5;241m1\u001b[39m))\n\u001b[1;32m    353\u001b[0m t_interim \u001b[38;5;241m=\u001b[39m tf\u001b[38;5;241m.\u001b[39mbroadcast_to(t_interim, \u001b[38;5;28mself\u001b[39m\u001b[38;5;241m.\u001b[39madata\u001b[38;5;241m.\u001b[39mshape)\n",
      "File \u001b[0;32m/nfs/team283/aa16/software/miniconda3/envs/cell2fate_env/lib/python3.9/site-packages/unitvelo/optimize_utils.py:180\u001b[0m, in \u001b[0;36mModel_Utils.max_density\u001b[0;34m(self, dis)\u001b[0m\n\u001b[1;32m    177\u001b[0m     \u001b[38;5;28;01mreturn\u001b[39;00m tf\u001b[38;5;241m.\u001b[39mcast(mean(dis_approx, axis\u001b[38;5;241m=\u001b[39m\u001b[38;5;241m1\u001b[39m), tf\u001b[38;5;241m.\u001b[39mfloat32)\n\u001b[1;32m    179\u001b[0m \u001b[38;5;28;01mif\u001b[39;00m \u001b[38;5;28mself\u001b[39m\u001b[38;5;241m.\u001b[39mconfig\u001b[38;5;241m.\u001b[39mDENSITY \u001b[38;5;241m==\u001b[39m \u001b[38;5;124m'\u001b[39m\u001b[38;5;124mRaw\u001b[39m\u001b[38;5;124m'\u001b[39m:\n\u001b[0;32m--> 180\u001b[0m     weight \u001b[38;5;241m=\u001b[39m \u001b[38;5;28;43mself\u001b[39;49m\u001b[38;5;241;43m.\u001b[39;49m\u001b[43mgene_prior_perc\u001b[49m\u001b[43m(\u001b[49m\u001b[43mdis\u001b[49m\u001b[43m)\u001b[49m\n\u001b[1;32m    181\u001b[0m     \u001b[38;5;28;01mreturn\u001b[39;00m tf\u001b[38;5;241m.\u001b[39mcast(\u001b[38;5;28msum\u001b[39m(dis \u001b[38;5;241m*\u001b[39m weight, axis\u001b[38;5;241m=\u001b[39m\u001b[38;5;241m1\u001b[39m), tf\u001b[38;5;241m.\u001b[39mfloat32)\n",
      "File \u001b[0;32m/nfs/team283/aa16/software/miniconda3/envs/cell2fate_env/lib/python3.9/site-packages/unitvelo/optimize_utils.py:187\u001b[0m, in \u001b[0;36mModel_Utils.gene_prior_perc\u001b[0;34m(self, dis)\u001b[0m\n\u001b[1;32m    184\u001b[0m perc, perc_idx \u001b[38;5;241m=\u001b[39m [], []\n\u001b[1;32m    185\u001b[0m aggregrate_weight \u001b[38;5;241m=\u001b[39m np\u001b[38;5;241m.\u001b[39mones((dis\u001b[38;5;241m.\u001b[39mshape[\u001b[38;5;241m1\u001b[39m], ), dtype\u001b[38;5;241m=\u001b[39mnp\u001b[38;5;241m.\u001b[39mfloat32)\n\u001b[0;32m--> 187\u001b[0m \u001b[38;5;28;01mfor\u001b[39;00m prior \u001b[38;5;129;01min\u001b[39;00m \u001b[38;5;28mself\u001b[39m\u001b[38;5;241m.\u001b[39mconfig\u001b[38;5;241m.\u001b[39mGENE_PRIOR:\n\u001b[1;32m    188\u001b[0m     expr \u001b[38;5;241m=\u001b[39m np\u001b[38;5;241m.\u001b[39marray(\u001b[38;5;28mself\u001b[39m\u001b[38;5;241m.\u001b[39madata[:, prior[\u001b[38;5;241m0\u001b[39m]]\u001b[38;5;241m.\u001b[39mlayers[\u001b[38;5;124m'\u001b[39m\u001b[38;5;124mMs\u001b[39m\u001b[38;5;124m'\u001b[39m])\n\u001b[1;32m    189\u001b[0m     perc\u001b[38;5;241m.\u001b[39mappend(np\u001b[38;5;241m.\u001b[39mmax(expr) \u001b[38;5;241m*\u001b[39m \u001b[38;5;241m0.75\u001b[39m) \u001b[38;5;66;03m# modify 0.75 for parameter tuning\u001b[39;00m\n",
      "\u001b[0;31mTypeError\u001b[0m: 'NoneType' object is not iterable"
     ]
    }
   ],
   "source": [
    "for dataset in datasets:\n",
    "    print(dataset)\n",
    "    # Load and setup data:\n",
    "    adata = sc.read_h5ad(data_dir + dataset + '/' + dataset + '_anndata.h5ad')\n",
    "    adata.var['highly_variable'] = True\n",
    "    scv.pp.filter_and_normalize(adata, min_shared_counts=20, n_top_genes=3000)\n",
    "    scv.pp.moments(adata, n_pcs=30, n_neighbors=30)\n",
    "    velo = utv.config.Configuration()\n",
    "    velo.N_TOP_GENES = 3000\n",
    "    velo.R2_ADJUST = True\n",
    "    velo.IROOT = None\n",
    "    velo.FIT_OPTION = '2'\n",
    "    velo.GPU = 0\n",
    "    scv.pp.neighbors(adata)\n",
    "    adata = utv.run_model(adata, 'clusters', config_file=velo)\n",
    "    scv.tl.velocity_graph(adata, vkey='velocity')\n",
    "    scv.tl.velocity_embedding(adata, vkey='velocity')\n",
    "    fix, ax = plt.subplots(1, 1, figsize = (8, 6))\n",
    "    scv.pl.velocity_embedding_stream(adata, basis='umap', save = False, vkey='velocity',\n",
    "                                     show = False, ax = ax, legend_fontsize = 13)\n",
    "    plt.savefig(save_dir + 'UMAPs/' + dataset + '_UMAP_UniTVelo_independent.png')\n",
    "    # Calculate performance metrics:\n",
    "    adata.layers['velocity'][pd.isna(adata.layers['velocity'])] = 0\n",
    "    file = open(data_dir + dataset + '/' + dataset + '_groundTruth.pickle' ,'rb')\n",
    "    ground_truth = pickle.load(file)\n",
    "    metrics = utv.evaluate(adata, ground_truth, 'clusters', 'velocity')\n",
    "    if exists(save_dir + dataset + '_CBDC_scores.csv'):\n",
    "        tab = pd.read_csv(save_dir + dataset + '_CBDC_scores.csv', index_col = 0)\n",
    "    else:\n",
    "        tab = pd.DataFrame(columns = list(metrics['Cross-Boundary Direction Correctness (A->B)'].keys()) + ['Mean'],\n",
    "                 index = [method])\n",
    "    cb_score = [np.mean(metrics['Cross-Boundary Direction Correctness (A->B)'][x])\n",
    "                for x in metrics['Cross-Boundary Direction Correctness (A->B)'].keys()]\n",
    "    tab.loc[method,:] = cb_score + [np.mean(cb_score)]\n",
    "    tab.to_csv(save_dir + dataset + '_CBDC_scores.csv')\n",
    "    metrics = utv.evaluate(adata, ground_truth, 'clusters', 'velocity')\n",
    "    if exists(save_dir + dataset + '_ICC_scores.csv'):\n",
    "        tab = pd.read_csv(save_dir + dataset + '_ICC_scores.csv', index_col = 0)\n",
    "    else:\n",
    "        tab = pd.DataFrame(columns = list(np.unique(np.concatenate(ground_truth))) + ['Mean'],\n",
    "                 index = [method])\n",
    "    icc_score = [np.mean(metrics['In-cluster Coherence'][x]) for x in np.unique(np.concatenate(ground_truth))]\n",
    "    tab.loc[method,:] = icc_score + [np.mean(icc_score)]\n",
    "    tab.to_csv(save_dir + dataset + '_ICC_scores.csv')\n",
    "    fix, ax = plt.subplots(1, 1, figsize = (8, 6))\n",
    "    scv.pl.velocity_embedding_stream(adata, basis='umap', save = False, vkey='velocity',\n",
    "                                     show = False, ax = ax)\n",
    "    plt.savefig(save_dir + 'UMAPs/' + dataset + '_UMAP_' + method + '.png')"
   ]
  },
  {
   "cell_type": "code",
   "execution_count": null,
   "id": "1bbe303c",
   "metadata": {},
   "outputs": [],
   "source": []
  }
 ],
 "metadata": {
  "kernelspec": {
   "display_name": "Python [conda env:cell2fate_env]",
   "language": "python",
   "name": "conda-env-cell2fate_env-py"
  },
  "language_info": {
   "codemirror_mode": {
    "name": "ipython",
    "version": 3
   },
   "file_extension": ".py",
   "mimetype": "text/x-python",
   "name": "python",
   "nbconvert_exporter": "python",
   "pygments_lexer": "ipython3",
   "version": "3.9.12"
  }
 },
 "nbformat": 4,
 "nbformat_minor": 5
}
