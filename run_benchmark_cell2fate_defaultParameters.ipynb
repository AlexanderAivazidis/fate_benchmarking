{
 "cells": [
  {
   "cell_type": "code",
   "execution_count": 1,
   "id": "003eb8dd",
   "metadata": {},
   "outputs": [
    {
     "name": "stderr",
     "output_type": "stream",
     "text": [
      "Global seed set to 0\n"
     ]
    }
   ],
   "source": [
    "import scvelo as scv\n",
    "import scanpy as sc\n",
    "import cell2fate as c2f\n",
    "import pickle as pickle\n",
    "from eval_utils import cross_boundary_correctness\n",
    "from datetime import datetime\n",
    "import pandas as pd\n",
    "import numpy as np\n",
    "from os.path import exists\n",
    "import matplotlib.pyplot as plt\n",
    "import torch"
   ]
  },
  {
   "cell_type": "code",
   "execution_count": 2,
   "id": "59c35c07",
   "metadata": {},
   "outputs": [],
   "source": [
    "datasets = ['Pancreas_with_cc', 'DentateGyrus', 'MouseErythroid', 'MouseBoneMarrow', 'HumanBoneMarrow']\n",
    "data_dir = '/nfs/team283/aa16/data/fate_benchmarking/benchmarking_datasets/'\n",
    "save_dir = '/nfs/team283/aa16/data/fate_benchmarking/benchmarking_results/'\n",
    "modules_per_dataset = [15, 15, 5, 5, 10]"
   ]
  },
  {
   "cell_type": "code",
   "execution_count": null,
   "id": "fd5023c1",
   "metadata": {},
   "outputs": [
    {
     "name": "stdout",
     "output_type": "stream",
     "text": [
      "Filtered out 20801 genes that are detected 20 counts (shared).\n",
      "Normalized count data: X, spliced, unspliced.\n",
      "Extracted 3000 highly variable genes.\n",
      "Logarithmized X.\n"
     ]
    },
    {
     "name": "stderr",
     "output_type": "stream",
     "text": [
      "GPU available: True, used: True\n",
      "TPU available: False, using: 0 TPU cores\n",
      "IPU available: False, using: 0 IPUs\n",
      "LOCAL_RANK: 0 - CUDA_VISIBLE_DEVICES: [0]\n"
     ]
    },
    {
     "name": "stdout",
     "output_type": "stream",
     "text": [
      "Epoch 250/500:  50%|████████████████████████████████████████████████████████████████████████████▋                                                                             | 249/500 [04:44<04:45,  1.14s/it, v_num=1, elbo_train=1.15e+7]"
     ]
    }
   ],
   "source": [
    "for i in range(len(datasets)):\n",
    "    dataset = datasets[i]\n",
    "    adata = sc.read_h5ad(data_dir + dataset + '/' + dataset + '_anndata.h5ad')\n",
    "    adata.layers['unspliced_raw'] = adata.layers['unspliced']\n",
    "    adata.layers['spliced_raw'] = adata.layers['spliced']\n",
    "    scv.pp.filter_and_normalize(adata, min_shared_counts=20, n_top_genes=3000)\n",
    "    c2f.Cell2fate_DynamicalModel.setup_anndata(adata, spliced_label='spliced_raw', unspliced_label='unspliced_raw')\n",
    "    n_modules = int(np.round(2.0*len(np.unique(adata.obs['clusters']))))\n",
    "    mod = c2f.Cell2fate_DynamicalModel(adata, n_modules = modules_per_dataset[i], stochastic_v_ag_hyp_prior={\"alpha\": 6.0, \"beta\": 3.0})\n",
    "    mod.train()\n",
    "    adata = mod.export_posterior(adata)\n",
    "    fig, ax = plt.subplots(1,2, figsize = (15, 5))\n",
    "    sc.pl.umap(adata, color = ['Time (hours)'], legend_loc = 'right margin',\n",
    "                    size = 200, color_map = 'inferno', ncols = 2, show = False, ax = ax[0])\n",
    "    sc.pl.umap(adata, color = ['Time Uncertainty (sd)'], legend_loc = 'right margin',\n",
    "                    size = 200, color_map = 'inferno', ncols = 2, show = False, ax = ax[1])\n",
    "    plt.savefig(save_dir + 'c2f_plots/' + dataset + '_UMAP_Time2.png')\n",
    "    scv.pp.neighbors(adata)\n",
    "    scv.tl.velocity_graph(adata, vkey='velocity', xkey = 'spliced mean')\n",
    "    scv.tl.velocity_embedding(adata, vkey='velocity')\n",
    "    fix, ax = plt.subplots(1, 1, figsize = (8, 6))\n",
    "    scv.pl.velocity_embedding_stream(adata, basis='umap', save = False, vkey='velocity',\n",
    "                                     show = False, ax = ax)\n",
    "    plt.savefig(save_dir + 'UMAPs/' + dataset + '_UMAP_cell2fate2.png')\n",
    "    # Calculate performance:\n",
    "    file = open(data_dir + dataset + '/' + dataset + '_groundTruth.pickle' ,'rb')\n",
    "    ground_truth = pickle.load(file)\n",
    "    score = cross_boundary_correctness(adata = adata, k_cluster = 'clusters',\n",
    "                               k_velocity = 'velocity', cluster_edges = ground_truth)\n",
    "    tab = pd.read_csv(save_dir + dataset + '_scores.csv', index_col = 0)\n",
    "    tab.loc['cell2fate2',:] = np.array(list(score[0].values()) + [score[1]])\n",
    "    tab.to_csv(save_dir + dataset + '_scores.csv')  "
   ]
  },
  {
   "cell_type": "code",
   "execution_count": null,
   "id": "9c07d0d4",
   "metadata": {},
   "outputs": [],
   "source": []
  }
 ],
 "metadata": {
  "kernelspec": {
   "display_name": "Python [conda env:cell2fate_env]",
   "language": "python",
   "name": "conda-env-cell2fate_env-py"
  },
  "language_info": {
   "codemirror_mode": {
    "name": "ipython",
    "version": 3
   },
   "file_extension": ".py",
   "mimetype": "text/x-python",
   "name": "python",
   "nbconvert_exporter": "python",
   "pygments_lexer": "ipython3",
   "version": "3.9.12"
  }
 },
 "nbformat": 4,
 "nbformat_minor": 5
}
