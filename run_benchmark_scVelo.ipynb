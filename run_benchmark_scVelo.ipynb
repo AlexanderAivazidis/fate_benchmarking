{
 "cells": [
  {
   "cell_type": "code",
   "execution_count": 1,
   "id": "003eb8dd",
   "metadata": {},
   "outputs": [
    {
     "name": "stdout",
     "output_type": "stream",
     "text": [
      "(Running UniTVelo 0.2.5)\n",
      "2022-12-20 10:12:15\n"
     ]
    }
   ],
   "source": [
    "import scvelo as scv\n",
    "import scanpy as sc\n",
    "import pickle as pickle\n",
    "from eval_utils import cross_boundary_correctness, inner_cluster_coh\n",
    "import pandas as pd\n",
    "import numpy as np\n",
    "from os.path import exists\n",
    "import matplotlib.pyplot as plt\n",
    "import unitvelo as utv\n",
    "method = 'scVelo'"
   ]
  },
  {
   "cell_type": "code",
   "execution_count": 2,
   "id": "59c35c07",
   "metadata": {},
   "outputs": [],
   "source": [
    "datasets = ['HumanBoneMarrow', 'HumanDevelopingBrain', 'MouseBoneMarrow',  'DentateGyrus', 'Pancreas_with_cc', 'MouseErythroid']\n",
    "data_dir = '/nfs/team283/aa16/data/fate_benchmarking/benchmarking_datasets/'\n",
    "save_dir = '/nfs/team283/aa16/data/fate_benchmarking/benchmarking_results/'"
   ]
  },
  {
   "cell_type": "code",
   "execution_count": null,
   "id": "fd5023c1",
   "metadata": {},
   "outputs": [
    {
     "name": "stdout",
     "output_type": "stream",
     "text": [
      "HumanBoneMarrow\n",
      "Filtered out 7837 genes that are detected 20 counts (shared).\n",
      "Normalized count data: X, spliced, unspliced.\n",
      "Extracted 3000 highly variable genes.\n",
      "Logarithmized X.\n",
      "computing neighbors\n",
      "    finished (0:00:08) --> added \n",
      "    'distances' and 'connectivities', weighted adjacency matrices (adata.obsp)\n",
      "computing moments based on connectivities\n",
      "    finished (0:00:01) --> added \n",
      "    'Ms' and 'Mu', moments of un/spliced abundances (adata.layers)\n",
      "recovering dynamics (using 8/64 cores)\n"
     ]
    },
    {
     "data": {
      "application/vnd.jupyter.widget-view+json": {
       "model_id": "00c2fdf62756484b811846f5f5d200fb",
       "version_major": 2,
       "version_minor": 0
      },
      "text/plain": [
       "  0%|          | 0/689 [00:00<?, ?gene/s]"
      ]
     },
     "metadata": {},
     "output_type": "display_data"
    },
    {
     "name": "stdout",
     "output_type": "stream",
     "text": [
      "    finished (0:08:40) --> added \n",
      "    'fit_pars', fitted parameters for splicing dynamics (adata.var)\n",
      "computing velocities\n",
      "    finished (0:00:02) --> added \n",
      "    'velocity', velocity vectors for each individual cell (adata.layers)\n",
      "computing neighbors\n",
      "    finished (0:00:00) --> added \n",
      "    'distances' and 'connectivities', weighted adjacency matrices (adata.obsp)\n",
      "computing velocity graph (using 1/64 cores)\n"
     ]
    },
    {
     "data": {
      "application/vnd.jupyter.widget-view+json": {
       "model_id": "908ac2a488c1490881140c364cb6f78a",
       "version_major": 2,
       "version_minor": 0
      },
      "text/plain": [
       "  0%|          | 0/5780 [00:00<?, ?cells/s]"
      ]
     },
     "metadata": {},
     "output_type": "display_data"
    },
    {
     "name": "stdout",
     "output_type": "stream",
     "text": [
      "    finished (0:00:08) --> added \n",
      "    'velocity_graph', sparse matrix with cosine correlations (adata.uns)\n",
      "computing velocity embedding\n",
      "    finished (0:00:01) --> added\n",
      "    'velocity_umap', embedded velocity vectors (adata.obsm)\n",
      "# Cross-Boundary Direction Correctness (A->B)\n",
      "{('HSC_1', 'Ery_1'): -0.8751958679414978, ('HSC_1', 'HSC_2'): -0.7411599941927424, ('Ery_1', 'Ery_2'): -0.885711571812025}\n",
      "Total Mean: -0.8340224779820883\n",
      "# In-cluster Coherence\n",
      "{'CLP': 0.8937037454988097, 'DCs': 0.8724201420386882, 'Ery_1': 0.9227598944661479, 'Ery_2': 0.9535620922130518, 'HSC_1': 0.8537735293886789, 'HSC_2': 0.8790453178742389, 'Mega': 0.9362858364990909, 'Mono_1': 0.8529431684206084, 'Mono_2': 0.8651142321287467, 'Precursors': 0.8533701155880556}\n",
      "Total Mean: 0.8882978074116117\n",
      "# Cross-Boundary Direction Correctness (A->B)\n",
      "{('HSC_1', 'Ery_1'): -0.8751958679414978, ('HSC_1', 'HSC_2'): -0.7411599941927424, ('Ery_1', 'Ery_2'): -0.885711571812025}\n",
      "Total Mean: -0.8340224779820883\n",
      "# In-cluster Coherence\n",
      "{'CLP': 0.8937037454988097, 'DCs': 0.8724201420386882, 'Ery_1': 0.9227598944661479, 'Ery_2': 0.9535620922130518, 'HSC_1': 0.8537735293886789, 'HSC_2': 0.8790453178742389, 'Mega': 0.9362858364990909, 'Mono_1': 0.8529431684206084, 'Mono_2': 0.8651142321287467, 'Precursors': 0.8533701155880556}\n",
      "Total Mean: 0.8882978074116117\n",
      "HumanDevelopingBrain\n",
      "Filtered out 17336 genes that are detected 20 counts (shared).\n",
      "Normalized count data: X, spliced, unspliced.\n",
      "Extracted 3000 highly variable genes.\n",
      "WARNING: Did not modify X as it looks preprocessed already.\n",
      "computing neighbors\n",
      "    finished (0:00:29) --> added \n",
      "    'distances' and 'connectivities', weighted adjacency matrices (adata.obsp)\n",
      "computing moments based on connectivities\n",
      "    finished (0:00:03) --> added \n",
      "    'Ms' and 'Mu', moments of un/spliced abundances (adata.layers)\n",
      "recovering dynamics (using 8/64 cores)\n"
     ]
    },
    {
     "data": {
      "application/vnd.jupyter.widget-view+json": {
       "model_id": "0a6f518a97814ab89cc54dd4d51cf0dd",
       "version_major": 2,
       "version_minor": 0
      },
      "text/plain": [
       "  0%|          | 0/545 [00:00<?, ?gene/s]"
      ]
     },
     "metadata": {},
     "output_type": "display_data"
    },
    {
     "name": "stdout",
     "output_type": "stream",
     "text": [
      "    finished (0:07:36) --> added \n",
      "    'fit_pars', fitted parameters for splicing dynamics (adata.var)\n",
      "computing velocities\n",
      "    finished (0:00:04) --> added \n",
      "    'velocity', velocity vectors for each individual cell (adata.layers)\n",
      "computing neighbors\n",
      "    finished (0:00:02) --> added \n",
      "    'distances' and 'connectivities', weighted adjacency matrices (adata.obsp)\n",
      "computing velocity graph (using 1/64 cores)\n"
     ]
    },
    {
     "data": {
      "application/vnd.jupyter.widget-view+json": {
       "model_id": "4e69122533ad423496064b62afca2288",
       "version_major": 2,
       "version_minor": 0
      },
      "text/plain": [
       "  0%|          | 0/9443 [00:00<?, ?cells/s]"
      ]
     },
     "metadata": {},
     "output_type": "display_data"
    },
    {
     "name": "stdout",
     "output_type": "stream",
     "text": [
      "    finished (0:00:10) --> added \n",
      "    'velocity_graph', sparse matrix with cosine correlations (adata.uns)\n",
      "computing velocity embedding\n",
      "    finished (0:00:01) --> added\n",
      "    'velocity_umap', embedded velocity vectors (adata.obsm)\n",
      "# Cross-Boundary Direction Correctness (A->B)\n",
      "{('Radial Glia', 'Intermediate \\n Progenitor'): 0.19251303685084956, ('Intermediate \\n Progenitor', 'Newborn \\n Excitatory Neuron'): 0.5765963319218501, ('Newborn \\n Excitatory Neuron', 'Immature \\n Excitatory Neuron'): 0.832132568747882, ('Immature \\n Excitatory Neuron', 'Mature \\n Excitatory Neuron'): 0.049926096599451485}\n",
      "Total Mean: 0.41279200853000825\n",
      "# In-cluster Coherence\n",
      "{'Immature \\n Excitatory Neuron': 0.8797160085532596, 'Intermediate \\n Progenitor': 0.9271104351136634, 'Mature \\n Excitatory Neuron': 0.9263650604510077, 'Newborn \\n Excitatory Neuron': 0.9174079725151282, 'Radial Glia': 0.9185275225499457}\n",
      "Total Mean: 0.9138253998366009\n",
      "# Cross-Boundary Direction Correctness (A->B)\n",
      "{('Radial Glia', 'Intermediate \\n Progenitor'): 0.19251303685084956, ('Intermediate \\n Progenitor', 'Newborn \\n Excitatory Neuron'): 0.5765963319218501, ('Newborn \\n Excitatory Neuron', 'Immature \\n Excitatory Neuron'): 0.832132568747882, ('Immature \\n Excitatory Neuron', 'Mature \\n Excitatory Neuron'): 0.049926096599451485}\n",
      "Total Mean: 0.41279200853000825\n",
      "# In-cluster Coherence\n",
      "{'Immature \\n Excitatory Neuron': 0.8797160085532596, 'Intermediate \\n Progenitor': 0.9271104351136634, 'Mature \\n Excitatory Neuron': 0.9263650604510077, 'Newborn \\n Excitatory Neuron': 0.9174079725151282, 'Radial Glia': 0.9185275225499457}\n",
      "Total Mean: 0.9138253998366009\n",
      "MouseBoneMarrow\n",
      "Filtered out 20300 genes that are detected 20 counts (shared).\n",
      "Normalized count data: X, spliced, unspliced.\n",
      "Skip filtering by dispersion since number of variables are less than `n_top_genes`.\n",
      "WARNING: Did not modify X as it looks preprocessed already.\n",
      "computing neighbors\n",
      "    finished (0:00:00) --> added \n",
      "    'distances' and 'connectivities', weighted adjacency matrices (adata.obsp)\n",
      "computing moments based on connectivities\n",
      "    finished (0:00:00) --> added \n",
      "    'Ms' and 'Mu', moments of un/spliced abundances (adata.layers)\n",
      "recovering dynamics (using 8/64 cores)\n"
     ]
    },
    {
     "data": {
      "application/vnd.jupyter.widget-view+json": {
       "model_id": "6b3162478aa14065820f496c85e8ddd9",
       "version_major": 2,
       "version_minor": 0
      },
      "text/plain": [
       "  0%|          | 0/579 [00:00<?, ?gene/s]"
      ]
     },
     "metadata": {},
     "output_type": "display_data"
    },
    {
     "name": "stdout",
     "output_type": "stream",
     "text": [
      "    finished (0:02:44) --> added \n",
      "    'fit_pars', fitted parameters for splicing dynamics (adata.var)\n",
      "computing velocities\n",
      "    finished (0:00:00) --> added \n",
      "    'velocity', velocity vectors for each individual cell (adata.layers)\n",
      "computing neighbors\n",
      "    finished (0:00:00) --> added \n",
      "    'distances' and 'connectivities', weighted adjacency matrices (adata.obsp)\n",
      "computing velocity graph (using 1/64 cores)\n"
     ]
    },
    {
     "data": {
      "application/vnd.jupyter.widget-view+json": {
       "model_id": "d962a1c5e4314f359adb62fe7b7c57fb",
       "version_major": 2,
       "version_minor": 0
      },
      "text/plain": [
       "  0%|          | 0/2600 [00:00<?, ?cells/s]"
      ]
     },
     "metadata": {},
     "output_type": "display_data"
    },
    {
     "name": "stdout",
     "output_type": "stream",
     "text": [
      "    finished (0:00:03) --> added \n",
      "    'velocity_graph', sparse matrix with cosine correlations (adata.uns)\n",
      "computing velocity embedding\n",
      "    finished (0:00:00) --> added\n",
      "    'velocity_umap', embedded velocity vectors (adata.obsm)\n",
      "# Cross-Boundary Direction Correctness (A->B)\n",
      "{('dividing', 'progenitors'): -0.7456032091942102, ('progenitors', 'activating'): 0.785340522869815}\n",
      "Total Mean: 0.019868656837802423\n",
      "# In-cluster Coherence\n",
      "{'B cell lineage': 0.8340632754959739, 'activating': 0.9616277320906188, 'dividing': 0.6358621585760666, 'macrophages': 0.6676127087481234, 'progenitors': 0.97809771602687}\n",
      "Total Mean: 0.8154527181875306\n",
      "# Cross-Boundary Direction Correctness (A->B)\n",
      "{('dividing', 'progenitors'): -0.7456032091942102, ('progenitors', 'activating'): 0.785340522869815}\n",
      "Total Mean: 0.019868656837802423\n",
      "# In-cluster Coherence\n",
      "{'B cell lineage': 0.8340632754959739, 'activating': 0.9616277320906188, 'dividing': 0.6358621585760666, 'macrophages': 0.6676127087481234, 'progenitors': 0.97809771602687}\n",
      "Total Mean: 0.8154527181875306\n",
      "DentateGyrus\n",
      "Filtered out 10340 genes that are detected 20 counts (shared).\n",
      "Normalized count data: X, spliced, unspliced.\n",
      "Extracted 3000 highly variable genes.\n",
      "Logarithmized X.\n",
      "computing neighbors\n",
      "    finished (0:00:00) --> added \n",
      "    'distances' and 'connectivities', weighted adjacency matrices (adata.obsp)\n",
      "computing moments based on connectivities\n",
      "    finished (0:00:00) --> added \n",
      "    'Ms' and 'Mu', moments of un/spliced abundances (adata.layers)\n",
      "recovering dynamics (using 8/64 cores)\n"
     ]
    },
    {
     "data": {
      "application/vnd.jupyter.widget-view+json": {
       "model_id": "18bc5593702c4bf9b3833578662bf73e",
       "version_major": 2,
       "version_minor": 0
      },
      "text/plain": [
       "  0%|          | 0/1373 [00:00<?, ?gene/s]"
      ]
     },
     "metadata": {},
     "output_type": "display_data"
    },
    {
     "name": "stdout",
     "output_type": "stream",
     "text": [
      "    finished (0:07:02) --> added \n",
      "    'fit_pars', fitted parameters for splicing dynamics (adata.var)\n",
      "computing velocities\n",
      "    finished (0:00:02) --> added \n",
      "    'velocity', velocity vectors for each individual cell (adata.layers)\n",
      "computing neighbors\n",
      "    finished (0:00:00) --> added \n",
      "    'distances' and 'connectivities', weighted adjacency matrices (adata.obsp)\n",
      "computing velocity graph (using 1/64 cores)\n"
     ]
    },
    {
     "data": {
      "application/vnd.jupyter.widget-view+json": {
       "model_id": "995e30b06d1d44c0bb3c8a35bb9c83a5",
       "version_major": 2,
       "version_minor": 0
      },
      "text/plain": [
       "  0%|          | 0/2930 [00:00<?, ?cells/s]"
      ]
     },
     "metadata": {},
     "output_type": "display_data"
    },
    {
     "name": "stdout",
     "output_type": "stream",
     "text": [
      "    finished (0:00:06) --> added \n",
      "    'velocity_graph', sparse matrix with cosine correlations (adata.uns)\n",
      "computing velocity embedding\n",
      "    finished (0:00:00) --> added\n",
      "    'velocity_umap', embedded velocity vectors (adata.obsm)\n",
      "# Cross-Boundary Direction Correctness (A->B)\n",
      "{('nIPC', 'Neuroblast'): 0.899305866434532, ('Neuroblast', 'Granule immature'): -0.0517410160190748, ('Granule immature', 'Granule mature'): -0.18994923444148826, ('Radial Glia-like', 'Astrocytes'): 0.8284434221510706, ('OPC', 'OL'): 0.15730058472339833}\n",
      "Total Mean: 0.3286719245696876\n",
      "# In-cluster Coherence\n",
      "{'Astrocytes': 0.7666572700091702, 'Cajal Retzius': 0.9664141942960172, 'Cck-Tox': 0.8861504343487054, 'Endothelial': 0.7953062844588192, 'GABA': 0.8719111292154469, 'Granule immature': 0.7955929996286395, 'Granule mature': 0.6691454923172107, 'Microglia': 0.7028827594949212, 'Mossy': 0.8561147760283752, 'Neuroblast': 0.7417055924655673, 'OL': 0.9266347498836938, 'OPC': 0.6620200696861417, 'Radial Glia-like': 0.8791005604366482, 'nIPC': 0.7300516854613965}\n",
      "Total Mean: 0.8035491426950537\n",
      "# Cross-Boundary Direction Correctness (A->B)\n",
      "{('nIPC', 'Neuroblast'): 0.899305866434532, ('Neuroblast', 'Granule immature'): -0.0517410160190748, ('Granule immature', 'Granule mature'): -0.18994923444148826, ('Radial Glia-like', 'Astrocytes'): 0.8284434221510706, ('OPC', 'OL'): 0.15730058472339833}\n",
      "Total Mean: 0.3286719245696876\n",
      "# In-cluster Coherence\n",
      "{'Astrocytes': 0.7666572700091702, 'Cajal Retzius': 0.9664141942960172, 'Cck-Tox': 0.8861504343487054, 'Endothelial': 0.7953062844588192, 'GABA': 0.8719111292154469, 'Granule immature': 0.7955929996286395, 'Granule mature': 0.6691454923172107, 'Microglia': 0.7028827594949212, 'Mossy': 0.8561147760283752, 'Neuroblast': 0.7417055924655673, 'OL': 0.9266347498836938, 'OPC': 0.6620200696861417, 'Radial Glia-like': 0.8791005604366482, 'nIPC': 0.7300516854613965}\n",
      "Total Mean: 0.8035491426950537\n",
      "Pancreas_with_cc\n",
      "Filtered out 20801 genes that are detected 20 counts (shared).\n",
      "Normalized count data: X, spliced, unspliced.\n",
      "Extracted 3000 highly variable genes.\n",
      "Logarithmized X.\n",
      "computing neighbors\n",
      "    finished (0:00:00) --> added \n",
      "    'distances' and 'connectivities', weighted adjacency matrices (adata.obsp)\n",
      "computing moments based on connectivities\n",
      "    finished (0:00:00) --> added \n",
      "    'Ms' and 'Mu', moments of un/spliced abundances (adata.layers)\n",
      "recovering dynamics (using 8/64 cores)\n"
     ]
    },
    {
     "data": {
      "application/vnd.jupyter.widget-view+json": {
       "model_id": "36ab7123d92142329de33fe8d307bef6",
       "version_major": 2,
       "version_minor": 0
      },
      "text/plain": [
       "  0%|          | 0/1591 [00:00<?, ?gene/s]"
      ]
     },
     "metadata": {},
     "output_type": "display_data"
    },
    {
     "name": "stderr",
     "output_type": "stream",
     "text": [
      "Numba: Attempted to fork from a non-main thread, the TBB library may be in an invalid state in the child process.\n"
     ]
    },
    {
     "name": "stdout",
     "output_type": "stream",
     "text": [
      "    finished (0:11:43) --> added \n",
      "    'fit_pars', fitted parameters for splicing dynamics (adata.var)\n",
      "computing velocities\n",
      "    finished (0:00:04) --> added \n",
      "    'velocity', velocity vectors for each individual cell (adata.layers)\n",
      "computing neighbors\n",
      "    finished (0:00:00) --> added \n",
      "    'distances' and 'connectivities', weighted adjacency matrices (adata.obsp)\n",
      "computing velocity graph (using 1/64 cores)\n"
     ]
    },
    {
     "data": {
      "application/vnd.jupyter.widget-view+json": {
       "model_id": "d5e7047bbaab4a728900ffbc2a4769ac",
       "version_major": 2,
       "version_minor": 0
      },
      "text/plain": [
       "  0%|          | 0/3696 [00:00<?, ?cells/s]"
      ]
     },
     "metadata": {},
     "output_type": "display_data"
    },
    {
     "name": "stdout",
     "output_type": "stream",
     "text": [
      "    finished (0:00:08) --> added \n",
      "    'velocity_graph', sparse matrix with cosine correlations (adata.uns)\n",
      "computing velocity embedding\n",
      "    finished (0:00:00) --> added\n",
      "    'velocity_umap', embedded velocity vectors (adata.obsm)\n"
     ]
    },
    {
     "name": "stderr",
     "output_type": "stream",
     "text": [
      "Process LokyProcess-14:\n",
      "\n",
      "KeyboardInterrupt\n",
      "\n",
      "Traceback (most recent call last):\n",
      "  File \"/nfs/team283/aa16/software/miniconda3/envs/cell2fate_env/lib/python3.9/site-packages/joblib/externals/loky/process_executor.py\", line 407, in _process_worker\n",
      "    call_item = call_queue.get(block=True, timeout=timeout)\n",
      "  File \"/nfs/team283/aa16/software/miniconda3/envs/cell2fate_env/lib/python3.9/multiprocessing/queues.py\", line 113, in get\n",
      "    if not self._poll(timeout):\n",
      "  File \"/nfs/team283/aa16/software/miniconda3/envs/cell2fate_env/lib/python3.9/multiprocessing/connection.py\", line 262, in poll\n",
      "    return self._poll(timeout)\n",
      "  File \"/nfs/team283/aa16/software/miniconda3/envs/cell2fate_env/lib/python3.9/multiprocessing/connection.py\", line 429, in _poll\n",
      "    r = wait([self], timeout)\n",
      "  File \"/nfs/team283/aa16/software/miniconda3/envs/cell2fate_env/lib/python3.9/multiprocessing/connection.py\", line 936, in wait\n",
      "    ready = selector.select(timeout)\n",
      "  File \"/nfs/team283/aa16/software/miniconda3/envs/cell2fate_env/lib/python3.9/selectors.py\", line 416, in select\n",
      "    fd_event_list = self._selector.poll(timeout)\n",
      "KeyboardInterrupt\n",
      "\n",
      "During handling of the above exception, another exception occurred:\n",
      "\n",
      "Traceback (most recent call last):\n",
      "  File \"/nfs/team283/aa16/software/miniconda3/envs/cell2fate_env/lib/python3.9/multiprocessing/process.py\", line 315, in _bootstrap\n",
      "    self.run()\n",
      "  File \"/nfs/team283/aa16/software/miniconda3/envs/cell2fate_env/lib/python3.9/multiprocessing/process.py\", line 108, in run\n",
      "    self._target(*self._args, **self._kwargs)\n",
      "  File \"/nfs/team283/aa16/software/miniconda3/envs/cell2fate_env/lib/python3.9/site-packages/joblib/externals/loky/process_executor.py\", line 420, in _process_worker\n",
      "    previous_tb = traceback.format_exc()\n",
      "  File \"/nfs/team283/aa16/software/miniconda3/envs/cell2fate_env/lib/python3.9/traceback.py\", line 167, in format_exc\n",
      "    return \"\".join(format_exception(*sys.exc_info(), limit=limit, chain=chain))\n",
      "  File \"/nfs/team283/aa16/software/miniconda3/envs/cell2fate_env/lib/python3.9/traceback.py\", line 120, in format_exception\n",
      "    return list(TracebackException(\n",
      "  File \"/nfs/team283/aa16/software/miniconda3/envs/cell2fate_env/lib/python3.9/traceback.py\", line 517, in __init__\n",
      "    self.stack = StackSummary.extract(\n",
      "  File \"/nfs/team283/aa16/software/miniconda3/envs/cell2fate_env/lib/python3.9/traceback.py\", line 366, in extract\n",
      "    f.line\n",
      "  File \"/nfs/team283/aa16/software/miniconda3/envs/cell2fate_env/lib/python3.9/traceback.py\", line 288, in line\n",
      "    self._line = linecache.getline(self.filename, self.lineno).strip()\n",
      "  File \"/nfs/team283/aa16/software/miniconda3/envs/cell2fate_env/lib/python3.9/linecache.py\", line 30, in getline\n",
      "    lines = getlines(filename, module_globals)\n",
      "  File \"/nfs/team283/aa16/software/miniconda3/envs/cell2fate_env/lib/python3.9/linecache.py\", line 46, in getlines\n",
      "    return updatecache(filename, module_globals)\n",
      "  File \"/nfs/team283/aa16/software/miniconda3/envs/cell2fate_env/lib/python3.9/linecache.py\", line 136, in updatecache\n",
      "    with tokenize.open(fullname) as fp:\n",
      "  File \"/nfs/team283/aa16/software/miniconda3/envs/cell2fate_env/lib/python3.9/tokenize.py\", line 394, in open\n",
      "    encoding, lines = detect_encoding(buffer.readline)\n",
      "  File \"/nfs/team283/aa16/software/miniconda3/envs/cell2fate_env/lib/python3.9/tokenize.py\", line 363, in detect_encoding\n",
      "    first = read_or_stop()\n",
      "  File \"/nfs/team283/aa16/software/miniconda3/envs/cell2fate_env/lib/python3.9/tokenize.py\", line 321, in read_or_stop\n",
      "    return readline()\n",
      "KeyboardInterrupt\n"
     ]
    },
    {
     "name": "stdout",
     "output_type": "stream",
     "text": [
      "Error in callback <function flush_figures at 0x14b459e50280> (for post_execute):\n"
     ]
    }
   ],
   "source": [
    "for dataset in datasets:\n",
    "    print(dataset)\n",
    "    # Load and setup data:\n",
    "    adata = sc.read_h5ad(data_dir + dataset + '/' + dataset + '_anndata.h5ad')\n",
    "    scv.pp.filter_and_normalize(adata, min_shared_counts=20, n_top_genes=3000)\n",
    "    scv.pp.moments(adata, n_pcs=30, n_neighbors=30)\n",
    "    scv.tl.recover_dynamics(adata, n_jobs = 8)\n",
    "    scv.tl.velocity(adata, vkey='velocity', mode='dynamical')\n",
    "    scv.pp.neighbors(adata)\n",
    "    scv.tl.velocity_graph(adata, vkey='velocity')\n",
    "    scv.tl.velocity_embedding(adata, vkey='velocity')\n",
    "    fix, ax = plt.subplots(1, 1, figsize = (8, 6))\n",
    "    scv.pl.velocity_embedding_stream(adata, basis='umap', save = False, vkey='velocity',\n",
    "                                     show = False, ax = ax, legend_fontsize = 13)\n",
    "    plt.savefig(save_dir + 'UMAPs/' + dataset + '_UMAP_scvelo.png')\n",
    "    # Calculate performance metrics:\n",
    "    adata.layers['velocity'][pd.isna(adata.layers['velocity'])] = 0\n",
    "    file = open(data_dir + dataset + '/' + dataset + '_groundTruth.pickle' ,'rb')\n",
    "    ground_truth = pickle.load(file)\n",
    "    metrics = utv.evaluate(adata, ground_truth, 'clusters', 'velocity')\n",
    "    if exists(save_dir + dataset + '_CBDC_scores.csv'):\n",
    "        tab = pd.read_csv(save_dir + dataset + '_CBDC_scores.csv', index_col = 0)\n",
    "    else:\n",
    "        tab = pd.DataFrame(columns = list(metrics['Cross-Boundary Direction Correctness (A->B)'].keys()) + ['Mean'],\n",
    "                 index = [method])\n",
    "    cb_score = [np.mean(metrics['Cross-Boundary Direction Correctness (A->B)'][x])\n",
    "                for x in metrics['Cross-Boundary Direction Correctness (A->B)'].keys()]\n",
    "    tab.loc[method,:] = cb_score + [np.mean(cb_score)]\n",
    "    tab.to_csv(save_dir + dataset + '_CBDC_scores.csv')\n",
    "    metrics = utv.evaluate(adata, ground_truth, 'clusters', 'velocity')\n",
    "    if exists(save_dir + dataset + '_ICC_scores.csv'):\n",
    "        tab = pd.read_csv(save_dir + dataset + '_ICC_scores.csv', index_col = 0)\n",
    "    else:\n",
    "        tab = pd.DataFrame(columns = list(np.unique(np.concatenate(ground_truth))) + ['Mean'],\n",
    "                 index = [method])\n",
    "    icc_score = [np.mean(metrics['In-cluster Coherence'][x]) for x in np.unique(np.concatenate(ground_truth))]\n",
    "    tab.loc[method,:] = icc_score + [np.mean(icc_score)]\n",
    "    tab.to_csv(save_dir + dataset + '_ICC_scores.csv')\n",
    "    fix, ax = plt.subplots(1, 1, figsize = (8, 6))\n",
    "    scv.pl.velocity_embedding_stream(adata, basis='umap', save = False, vkey='velocity',\n",
    "                                     show = False, ax = ax)\n",
    "    plt.savefig(save_dir + 'UMAPs/' + dataset + '_UMAP_' + method + '.png')"
   ]
  },
  {
   "cell_type": "code",
   "execution_count": null,
   "id": "a024a6a3",
   "metadata": {},
   "outputs": [],
   "source": []
  }
 ],
 "metadata": {
  "kernelspec": {
   "display_name": "Python [conda env:cell2fate_env]",
   "language": "python",
   "name": "conda-env-cell2fate_env-py"
  },
  "language_info": {
   "codemirror_mode": {
    "name": "ipython",
    "version": 3
   },
   "file_extension": ".py",
   "mimetype": "text/x-python",
   "name": "python",
   "nbconvert_exporter": "python",
   "pygments_lexer": "ipython3",
   "version": "3.9.12"
  }
 },
 "nbformat": 4,
 "nbformat_minor": 5
}
